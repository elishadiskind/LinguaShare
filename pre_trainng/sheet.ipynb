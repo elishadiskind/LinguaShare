{
 "cells": [
  {
   "cell_type": "code",
   "id": "initial_id",
   "metadata": {
    "collapsed": true,
    "ExecuteTime": {
     "end_time": "2024-12-23T23:04:50.163698Z",
     "start_time": "2024-12-23T23:04:48.479136Z"
    }
   },
   "source": [
    "from encodings.utf_16_be import encode\n",
    "\n",
    "import pandas as pd\n",
    "\n",
    "from pre_trainng.DatasetBuilder import MultilingualBatchOrganizer\n",
    "\n",
    "dataset_name = \"ahelk/ccaligned_multilingual\"\n",
    "config_name = \"documents-zz_TR\"\n",
    "organizer = MultilingualBatchOrganizer(dataset_name, config_name)\n",
    "\n",
    "for batch in organizer.create_batches(batch_size=8):\n",
    "    print(batch)\n",
    "    break"
   ],
   "outputs": [
    {
     "ename": "ValueError",
     "evalue": "Config name is missing.\nPlease pick one among the available configs: ['documents-zz_TR', 'sentences-zz_TR', 'documents-tz_MA', 'sentences-tz_MA', 'documents-ak_GH', 'sentences-ak_GH']\nExample of usage:\n\t`load_dataset('ahelk/ccaligned_multilingual', 'documents-zz_TR')`",
     "output_type": "error",
     "traceback": [
      "\u001B[0;31m---------------------------------------------------------------------------\u001B[0m",
      "\u001B[0;31mValueError\u001B[0m                                Traceback (most recent call last)",
      "Cell \u001B[0;32mIn[3], line 5\u001B[0m\n\u001B[1;32m      3\u001B[0m dataset_name \u001B[38;5;241m=\u001B[39m \u001B[38;5;124m\"\u001B[39m\u001B[38;5;124mahelk/ccaligned_multilingual\u001B[39m\u001B[38;5;124m\"\u001B[39m\n\u001B[1;32m      4\u001B[0m config_name \u001B[38;5;241m=\u001B[39m \u001B[38;5;124m\"\u001B[39m\u001B[38;5;124mdocuments-zz_TR\u001B[39m\u001B[38;5;124m\"\u001B[39m\n\u001B[0;32m----> 5\u001B[0m organizer \u001B[38;5;241m=\u001B[39m \u001B[43mMultilingualBatchOrganizer\u001B[49m\u001B[43m(\u001B[49m\u001B[43mdataset_name\u001B[49m\u001B[43m,\u001B[49m\u001B[43m \u001B[49m\u001B[43mconfig_name\u001B[49m\u001B[43m)\u001B[49m\n\u001B[1;32m      7\u001B[0m \u001B[38;5;28;01mfor\u001B[39;00m batch \u001B[38;5;129;01min\u001B[39;00m organizer\u001B[38;5;241m.\u001B[39mcreate_batches(batch_size\u001B[38;5;241m=\u001B[39m\u001B[38;5;241m8\u001B[39m):\n\u001B[1;32m      8\u001B[0m     \u001B[38;5;28mprint\u001B[39m(batch)\n",
      "File \u001B[0;32m~/PycharmProjects/LinguaShare/pre_trainng/DatasetBuilder.py:16\u001B[0m, in \u001B[0;36mMultilingualBatchOrganizer.__init__\u001B[0;34m(self, dataset_name, english_code)\u001B[0m\n\u001B[1;32m     14\u001B[0m \u001B[38;5;28mself\u001B[39m\u001B[38;5;241m.\u001B[39mdataset_name \u001B[38;5;241m=\u001B[39m dataset_name\n\u001B[1;32m     15\u001B[0m \u001B[38;5;28mself\u001B[39m\u001B[38;5;241m.\u001B[39menglish_code \u001B[38;5;241m=\u001B[39m english_code\n\u001B[0;32m---> 16\u001B[0m \u001B[38;5;28mself\u001B[39m\u001B[38;5;241m.\u001B[39mdataset \u001B[38;5;241m=\u001B[39m \u001B[43mload_dataset\u001B[49m\u001B[43m(\u001B[49m\u001B[43mdataset_name\u001B[49m\u001B[43m)\u001B[49m\n",
      "File \u001B[0;32m~/Library/Python/3.9/lib/python/site-packages/datasets/load.py:2606\u001B[0m, in \u001B[0;36mload_dataset\u001B[0;34m(path, name, data_dir, data_files, split, cache_dir, features, download_config, download_mode, verification_mode, ignore_verifications, keep_in_memory, save_infos, revision, token, use_auth_token, task, streaming, num_proc, storage_options, trust_remote_code, **config_kwargs)\u001B[0m\n\u001B[1;32m   2601\u001B[0m verification_mode \u001B[38;5;241m=\u001B[39m VerificationMode(\n\u001B[1;32m   2602\u001B[0m     (verification_mode \u001B[38;5;129;01mor\u001B[39;00m VerificationMode\u001B[38;5;241m.\u001B[39mBASIC_CHECKS) \u001B[38;5;28;01mif\u001B[39;00m \u001B[38;5;129;01mnot\u001B[39;00m save_infos \u001B[38;5;28;01melse\u001B[39;00m VerificationMode\u001B[38;5;241m.\u001B[39mALL_CHECKS\n\u001B[1;32m   2603\u001B[0m )\n\u001B[1;32m   2605\u001B[0m \u001B[38;5;66;03m# Create a dataset builder\u001B[39;00m\n\u001B[0;32m-> 2606\u001B[0m builder_instance \u001B[38;5;241m=\u001B[39m \u001B[43mload_dataset_builder\u001B[49m\u001B[43m(\u001B[49m\n\u001B[1;32m   2607\u001B[0m \u001B[43m    \u001B[49m\u001B[43mpath\u001B[49m\u001B[38;5;241;43m=\u001B[39;49m\u001B[43mpath\u001B[49m\u001B[43m,\u001B[49m\n\u001B[1;32m   2608\u001B[0m \u001B[43m    \u001B[49m\u001B[43mname\u001B[49m\u001B[38;5;241;43m=\u001B[39;49m\u001B[43mname\u001B[49m\u001B[43m,\u001B[49m\n\u001B[1;32m   2609\u001B[0m \u001B[43m    \u001B[49m\u001B[43mdata_dir\u001B[49m\u001B[38;5;241;43m=\u001B[39;49m\u001B[43mdata_dir\u001B[49m\u001B[43m,\u001B[49m\n\u001B[1;32m   2610\u001B[0m \u001B[43m    \u001B[49m\u001B[43mdata_files\u001B[49m\u001B[38;5;241;43m=\u001B[39;49m\u001B[43mdata_files\u001B[49m\u001B[43m,\u001B[49m\n\u001B[1;32m   2611\u001B[0m \u001B[43m    \u001B[49m\u001B[43mcache_dir\u001B[49m\u001B[38;5;241;43m=\u001B[39;49m\u001B[43mcache_dir\u001B[49m\u001B[43m,\u001B[49m\n\u001B[1;32m   2612\u001B[0m \u001B[43m    \u001B[49m\u001B[43mfeatures\u001B[49m\u001B[38;5;241;43m=\u001B[39;49m\u001B[43mfeatures\u001B[49m\u001B[43m,\u001B[49m\n\u001B[1;32m   2613\u001B[0m \u001B[43m    \u001B[49m\u001B[43mdownload_config\u001B[49m\u001B[38;5;241;43m=\u001B[39;49m\u001B[43mdownload_config\u001B[49m\u001B[43m,\u001B[49m\n\u001B[1;32m   2614\u001B[0m \u001B[43m    \u001B[49m\u001B[43mdownload_mode\u001B[49m\u001B[38;5;241;43m=\u001B[39;49m\u001B[43mdownload_mode\u001B[49m\u001B[43m,\u001B[49m\n\u001B[1;32m   2615\u001B[0m \u001B[43m    \u001B[49m\u001B[43mrevision\u001B[49m\u001B[38;5;241;43m=\u001B[39;49m\u001B[43mrevision\u001B[49m\u001B[43m,\u001B[49m\n\u001B[1;32m   2616\u001B[0m \u001B[43m    \u001B[49m\u001B[43mtoken\u001B[49m\u001B[38;5;241;43m=\u001B[39;49m\u001B[43mtoken\u001B[49m\u001B[43m,\u001B[49m\n\u001B[1;32m   2617\u001B[0m \u001B[43m    \u001B[49m\u001B[43mstorage_options\u001B[49m\u001B[38;5;241;43m=\u001B[39;49m\u001B[43mstorage_options\u001B[49m\u001B[43m,\u001B[49m\n\u001B[1;32m   2618\u001B[0m \u001B[43m    \u001B[49m\u001B[43mtrust_remote_code\u001B[49m\u001B[38;5;241;43m=\u001B[39;49m\u001B[43mtrust_remote_code\u001B[49m\u001B[43m,\u001B[49m\n\u001B[1;32m   2619\u001B[0m \u001B[43m    \u001B[49m\u001B[43m_require_default_config_name\u001B[49m\u001B[38;5;241;43m=\u001B[39;49m\u001B[43mname\u001B[49m\u001B[43m \u001B[49m\u001B[38;5;129;43;01mis\u001B[39;49;00m\u001B[43m \u001B[49m\u001B[38;5;28;43;01mNone\u001B[39;49;00m\u001B[43m,\u001B[49m\n\u001B[1;32m   2620\u001B[0m \u001B[43m    \u001B[49m\u001B[38;5;241;43m*\u001B[39;49m\u001B[38;5;241;43m*\u001B[39;49m\u001B[43mconfig_kwargs\u001B[49m\u001B[43m,\u001B[49m\n\u001B[1;32m   2621\u001B[0m \u001B[43m\u001B[49m\u001B[43m)\u001B[49m\n\u001B[1;32m   2623\u001B[0m \u001B[38;5;66;03m# Return iterable dataset in case of streaming\u001B[39;00m\n\u001B[1;32m   2624\u001B[0m \u001B[38;5;28;01mif\u001B[39;00m streaming:\n",
      "File \u001B[0;32m~/Library/Python/3.9/lib/python/site-packages/datasets/load.py:2314\u001B[0m, in \u001B[0;36mload_dataset_builder\u001B[0;34m(path, name, data_dir, data_files, cache_dir, features, download_config, download_mode, revision, token, use_auth_token, storage_options, trust_remote_code, _require_default_config_name, **config_kwargs)\u001B[0m\n\u001B[1;32m   2312\u001B[0m builder_cls \u001B[38;5;241m=\u001B[39m get_dataset_builder_class(dataset_module, dataset_name\u001B[38;5;241m=\u001B[39mdataset_name)\n\u001B[1;32m   2313\u001B[0m \u001B[38;5;66;03m# Instantiate the dataset builder\u001B[39;00m\n\u001B[0;32m-> 2314\u001B[0m builder_instance: DatasetBuilder \u001B[38;5;241m=\u001B[39m \u001B[43mbuilder_cls\u001B[49m\u001B[43m(\u001B[49m\n\u001B[1;32m   2315\u001B[0m \u001B[43m    \u001B[49m\u001B[43mcache_dir\u001B[49m\u001B[38;5;241;43m=\u001B[39;49m\u001B[43mcache_dir\u001B[49m\u001B[43m,\u001B[49m\n\u001B[1;32m   2316\u001B[0m \u001B[43m    \u001B[49m\u001B[43mdataset_name\u001B[49m\u001B[38;5;241;43m=\u001B[39;49m\u001B[43mdataset_name\u001B[49m\u001B[43m,\u001B[49m\n\u001B[1;32m   2317\u001B[0m \u001B[43m    \u001B[49m\u001B[43mconfig_name\u001B[49m\u001B[38;5;241;43m=\u001B[39;49m\u001B[43mconfig_name\u001B[49m\u001B[43m,\u001B[49m\n\u001B[1;32m   2318\u001B[0m \u001B[43m    \u001B[49m\u001B[43mdata_dir\u001B[49m\u001B[38;5;241;43m=\u001B[39;49m\u001B[43mdata_dir\u001B[49m\u001B[43m,\u001B[49m\n\u001B[1;32m   2319\u001B[0m \u001B[43m    \u001B[49m\u001B[43mdata_files\u001B[49m\u001B[38;5;241;43m=\u001B[39;49m\u001B[43mdata_files\u001B[49m\u001B[43m,\u001B[49m\n\u001B[1;32m   2320\u001B[0m \u001B[43m    \u001B[49m\u001B[38;5;28;43mhash\u001B[39;49m\u001B[38;5;241;43m=\u001B[39;49m\u001B[43mdataset_module\u001B[49m\u001B[38;5;241;43m.\u001B[39;49m\u001B[43mhash\u001B[49m\u001B[43m,\u001B[49m\n\u001B[1;32m   2321\u001B[0m \u001B[43m    \u001B[49m\u001B[43minfo\u001B[49m\u001B[38;5;241;43m=\u001B[39;49m\u001B[43minfo\u001B[49m\u001B[43m,\u001B[49m\n\u001B[1;32m   2322\u001B[0m \u001B[43m    \u001B[49m\u001B[43mfeatures\u001B[49m\u001B[38;5;241;43m=\u001B[39;49m\u001B[43mfeatures\u001B[49m\u001B[43m,\u001B[49m\n\u001B[1;32m   2323\u001B[0m \u001B[43m    \u001B[49m\u001B[43mtoken\u001B[49m\u001B[38;5;241;43m=\u001B[39;49m\u001B[43mtoken\u001B[49m\u001B[43m,\u001B[49m\n\u001B[1;32m   2324\u001B[0m \u001B[43m    \u001B[49m\u001B[43mstorage_options\u001B[49m\u001B[38;5;241;43m=\u001B[39;49m\u001B[43mstorage_options\u001B[49m\u001B[43m,\u001B[49m\n\u001B[1;32m   2325\u001B[0m \u001B[43m    \u001B[49m\u001B[38;5;241;43m*\u001B[39;49m\u001B[38;5;241;43m*\u001B[39;49m\u001B[43mbuilder_kwargs\u001B[49m\u001B[43m,\u001B[49m\n\u001B[1;32m   2326\u001B[0m \u001B[43m    \u001B[49m\u001B[38;5;241;43m*\u001B[39;49m\u001B[38;5;241;43m*\u001B[39;49m\u001B[43mconfig_kwargs\u001B[49m\u001B[43m,\u001B[49m\n\u001B[1;32m   2327\u001B[0m \u001B[43m\u001B[49m\u001B[43m)\u001B[49m\n\u001B[1;32m   2328\u001B[0m builder_instance\u001B[38;5;241m.\u001B[39m_use_legacy_cache_dir_if_possible(dataset_module)\n\u001B[1;32m   2330\u001B[0m \u001B[38;5;28;01mreturn\u001B[39;00m builder_instance\n",
      "File \u001B[0;32m~/Library/Python/3.9/lib/python/site-packages/datasets/builder.py:374\u001B[0m, in \u001B[0;36mDatasetBuilder.__init__\u001B[0;34m(self, cache_dir, dataset_name, config_name, hash, base_path, info, features, token, use_auth_token, repo_id, data_files, data_dir, storage_options, writer_batch_size, name, **config_kwargs)\u001B[0m\n\u001B[1;32m    372\u001B[0m     config_kwargs[\u001B[38;5;124m\"\u001B[39m\u001B[38;5;124mdata_dir\u001B[39m\u001B[38;5;124m\"\u001B[39m] \u001B[38;5;241m=\u001B[39m data_dir\n\u001B[1;32m    373\u001B[0m \u001B[38;5;28mself\u001B[39m\u001B[38;5;241m.\u001B[39mconfig_kwargs \u001B[38;5;241m=\u001B[39m config_kwargs\n\u001B[0;32m--> 374\u001B[0m \u001B[38;5;28mself\u001B[39m\u001B[38;5;241m.\u001B[39mconfig, \u001B[38;5;28mself\u001B[39m\u001B[38;5;241m.\u001B[39mconfig_id \u001B[38;5;241m=\u001B[39m \u001B[38;5;28;43mself\u001B[39;49m\u001B[38;5;241;43m.\u001B[39;49m\u001B[43m_create_builder_config\u001B[49m\u001B[43m(\u001B[49m\n\u001B[1;32m    375\u001B[0m \u001B[43m    \u001B[49m\u001B[43mconfig_name\u001B[49m\u001B[38;5;241;43m=\u001B[39;49m\u001B[43mconfig_name\u001B[49m\u001B[43m,\u001B[49m\n\u001B[1;32m    376\u001B[0m \u001B[43m    \u001B[49m\u001B[43mcustom_features\u001B[49m\u001B[38;5;241;43m=\u001B[39;49m\u001B[43mfeatures\u001B[49m\u001B[43m,\u001B[49m\n\u001B[1;32m    377\u001B[0m \u001B[43m    \u001B[49m\u001B[38;5;241;43m*\u001B[39;49m\u001B[38;5;241;43m*\u001B[39;49m\u001B[43mconfig_kwargs\u001B[49m\u001B[43m,\u001B[49m\n\u001B[1;32m    378\u001B[0m \u001B[43m\u001B[49m\u001B[43m)\u001B[49m\n\u001B[1;32m    380\u001B[0m \u001B[38;5;66;03m# prepare info: DatasetInfo are a standardized dataclass across all datasets\u001B[39;00m\n\u001B[1;32m    381\u001B[0m \u001B[38;5;66;03m# Prefill datasetinfo\u001B[39;00m\n\u001B[1;32m    382\u001B[0m \u001B[38;5;28;01mif\u001B[39;00m info \u001B[38;5;129;01mis\u001B[39;00m \u001B[38;5;28;01mNone\u001B[39;00m:\n\u001B[1;32m    383\u001B[0m     \u001B[38;5;66;03m# TODO FOR PACKAGED MODULES IT IMPORTS DATA FROM src/packaged_modules which doesn't make sense\u001B[39;00m\n",
      "File \u001B[0;32m~/Library/Python/3.9/lib/python/site-packages/datasets/builder.py:586\u001B[0m, in \u001B[0;36mDatasetBuilder._create_builder_config\u001B[0;34m(self, config_name, custom_features, **config_kwargs)\u001B[0m\n\u001B[1;32m    582\u001B[0m     \u001B[38;5;28;01mif\u001B[39;00m \u001B[38;5;129;01mnot\u001B[39;00m config_kwargs:\n\u001B[1;32m    583\u001B[0m         example_of_usage \u001B[38;5;241m=\u001B[39m (\n\u001B[1;32m    584\u001B[0m             \u001B[38;5;124mf\u001B[39m\u001B[38;5;124m\"\u001B[39m\u001B[38;5;124mload_dataset(\u001B[39m\u001B[38;5;124m'\u001B[39m\u001B[38;5;132;01m{\u001B[39;00m\u001B[38;5;28mself\u001B[39m\u001B[38;5;241m.\u001B[39mrepo_id\u001B[38;5;250m \u001B[39m\u001B[38;5;129;01mor\u001B[39;00m\u001B[38;5;250m \u001B[39m\u001B[38;5;28mself\u001B[39m\u001B[38;5;241m.\u001B[39mdataset_name\u001B[38;5;132;01m}\u001B[39;00m\u001B[38;5;124m'\u001B[39m\u001B[38;5;124m, \u001B[39m\u001B[38;5;124m'\u001B[39m\u001B[38;5;132;01m{\u001B[39;00m\u001B[38;5;28mself\u001B[39m\u001B[38;5;241m.\u001B[39mBUILDER_CONFIGS[\u001B[38;5;241m0\u001B[39m]\u001B[38;5;241m.\u001B[39mname\u001B[38;5;132;01m}\u001B[39;00m\u001B[38;5;124m'\u001B[39m\u001B[38;5;124m)\u001B[39m\u001B[38;5;124m\"\u001B[39m\n\u001B[1;32m    585\u001B[0m         )\n\u001B[0;32m--> 586\u001B[0m         \u001B[38;5;28;01mraise\u001B[39;00m \u001B[38;5;167;01mValueError\u001B[39;00m(\n\u001B[1;32m    587\u001B[0m             \u001B[38;5;124m\"\u001B[39m\u001B[38;5;124mConfig name is missing.\u001B[39m\u001B[38;5;124m\"\u001B[39m\n\u001B[1;32m    588\u001B[0m             \u001B[38;5;124mf\u001B[39m\u001B[38;5;124m\"\u001B[39m\u001B[38;5;130;01m\\n\u001B[39;00m\u001B[38;5;124mPlease pick one among the available configs: \u001B[39m\u001B[38;5;132;01m{\u001B[39;00m\u001B[38;5;28mlist\u001B[39m(\u001B[38;5;28mself\u001B[39m\u001B[38;5;241m.\u001B[39mbuilder_configs\u001B[38;5;241m.\u001B[39mkeys())\u001B[38;5;132;01m}\u001B[39;00m\u001B[38;5;124m\"\u001B[39m\n\u001B[1;32m    589\u001B[0m             \u001B[38;5;241m+\u001B[39m \u001B[38;5;124mf\u001B[39m\u001B[38;5;124m\"\u001B[39m\u001B[38;5;130;01m\\n\u001B[39;00m\u001B[38;5;124mExample of usage:\u001B[39m\u001B[38;5;130;01m\\n\u001B[39;00m\u001B[38;5;130;01m\\t\u001B[39;00m\u001B[38;5;124m`\u001B[39m\u001B[38;5;132;01m{\u001B[39;00mexample_of_usage\u001B[38;5;132;01m}\u001B[39;00m\u001B[38;5;124m`\u001B[39m\u001B[38;5;124m\"\u001B[39m\n\u001B[1;32m    590\u001B[0m         )\n\u001B[1;32m    591\u001B[0m \u001B[38;5;28;01melse\u001B[39;00m:\n\u001B[1;32m    592\u001B[0m     builder_config \u001B[38;5;241m=\u001B[39m \u001B[38;5;28mself\u001B[39m\u001B[38;5;241m.\u001B[39mBUILDER_CONFIGS[\u001B[38;5;241m0\u001B[39m]\n",
      "\u001B[0;31mValueError\u001B[0m: Config name is missing.\nPlease pick one among the available configs: ['documents-zz_TR', 'sentences-zz_TR', 'documents-tz_MA', 'sentences-tz_MA', 'documents-ak_GH', 'sentences-ak_GH']\nExample of usage:\n\t`load_dataset('ahelk/ccaligned_multilingual', 'documents-zz_TR')`"
     ]
    }
   ],
   "execution_count": 3
  },
  {
   "metadata": {
    "ExecuteTime": {
     "end_time": "2024-12-24T09:06:02.774650Z",
     "start_time": "2024-12-24T09:05:59.304401Z"
    }
   },
   "cell_type": "code",
   "source": [
    "from datasets import load_dataset\n",
    "\n",
    "# dataset = load_dataset(\"ccaligned_multilingual\", language_code=\"fr_XX\", type=\"sentences\")\n",
    "# config_name = \"documents-zz_TR\"\n",
    "config_name = 'sentences-zz_TR'\t\n",
    "dataset = load_dataset(\"ccaligned_multilingual\", config_name)\n",
    "\n",
    "for batch in dataset:\n",
    "    print(batch)\n",
    "    break"
   ],
   "id": "48fdbdc21b212889",
   "outputs": [
    {
     "data": {
      "text/plain": [
       "Downloading data:   0%|          | 0.00/1.43k [00:00<?, ?B/s]"
      ],
      "application/vnd.jupyter.widget-view+json": {
       "version_major": 2,
       "version_minor": 0,
       "model_id": "5f3ae2c84eef44fdb15a704de0702527"
      }
     },
     "metadata": {},
     "output_type": "display_data"
    },
    {
     "data": {
      "text/plain": [
       "Generating train split:   0%|          | 0/34 [00:00<?, ? examples/s]"
      ],
      "application/vnd.jupyter.widget-view+json": {
       "version_major": 2,
       "version_minor": 0,
       "model_id": "15deb6891c674d88b0caf717b50c0a81"
      }
     },
     "metadata": {},
     "output_type": "display_data"
    },
    {
     "name": "stdout",
     "output_type": "stream",
     "text": [
      "train\n"
     ]
    }
   ],
   "execution_count": 24
  },
  {
   "metadata": {
    "ExecuteTime": {
     "end_time": "2024-12-23T23:37:15.023454Z",
     "start_time": "2024-12-23T23:37:15.010278Z"
    }
   },
   "cell_type": "code",
   "source": [
    "\n",
    "for batch in dataset[\"train\"]:\n",
    "    # print(batch.keys())  # Print the first example from the batch\n",
    "    # dict_keys(['Domain', 'Source_URL', 'Target_URL', 'translation'])\n",
    "    print(f\"Domain: {batch['Domain']}\")\n",
    "    print(f\"Source_URL: {batch['Source_URL']}\")\n",
    "    print(f\"Target_URL: {batch['Target_URL']}\")\n",
    "    print(f\"Translation: {batch['translation'].keys()}\")"
   ],
   "id": "8a79c6012bf17dd7",
   "outputs": [
    {
     "name": "stdout",
     "output_type": "stream",
     "text": [
      "Domain: wext.it\n",
      "Source_URL: http://wext.it/en/\n",
      "Target_URL: https://wext.it/\n",
      "Translation: dict_keys(['en_XX', 'zz_TR'])\n",
      "Domain: pussyspot.net\n",
      "Source_URL: http://www.pussyspot.net/terapatrick/\n",
      "Target_URL: http://www.pussyspot.net/tera-patrick/\n",
      "Translation: dict_keys(['en_XX', 'zz_TR'])\n",
      "Domain: mp3stream.cz\n",
      "Source_URL: http://mp3stream.cz/index.php?search=mister-jheck-(mexa-lomba-lomba)-mr-loba-loba-\n",
      "Target_URL: http://mp3stream.cz//index.php?search=mister-jheck-(mexa-lomba-lomba)-mr-loba-loba-\n",
      "Translation: dict_keys(['en_XX', 'zz_TR'])\n",
      "Domain: wifi-display.com\n",
      "Source_URL: http://wifi-display.com/en/\n",
      "Target_URL: http://wifi-display.com/\n",
      "Translation: dict_keys(['en_XX', 'zz_TR'])\n",
      "Domain: taiwanwikipedia.com\n",
      "Source_URL: http://www.taiwanwikipedia.com/EN/\n",
      "Target_URL: http://taiwanwikipedia.com/\n",
      "Translation: dict_keys(['en_XX', 'zz_TR'])\n",
      "Domain: anna-blume.eu\n",
      "Source_URL: http://anna-blume.eu/en\n",
      "Target_URL: http://www.anna-blume.eu/\n",
      "Translation: dict_keys(['en_XX', 'zz_TR'])\n",
      "Domain: orthodoxwiki.org\n",
      "Source_URL: https://en.orthodoxwiki.org/Category:Language_user_templates\n",
      "Target_URL: http://orthodoxwiki.org/Category:Language_user_templates\n",
      "Translation: dict_keys(['en_XX', 'zz_TR'])\n",
      "Domain: uqam.ca\n",
      "Source_URL: http://www.nanoqam.uqam.ca/rss.php?lang=en\n",
      "Target_URL: http://www.nanoqam.uqam.ca/rss.php?lang=\n",
      "Translation: dict_keys(['en_XX', 'zz_TR'])\n",
      "Domain: flt-water.com\n",
      "Source_URL: http://flt-water.com/en/\n",
      "Target_URL: http://flt-water.com/\n",
      "Translation: dict_keys(['en_XX', 'zz_TR'])\n",
      "Domain: nebras.com\n",
      "Source_URL: http://nebras.com/Englishcontactus.aspx\n",
      "Target_URL: http://nebras.com/contactus.aspx\n",
      "Translation: dict_keys(['en_XX', 'zz_TR'])\n",
      "Domain: imageweb.ws\n",
      "Source_URL: https://www.imageweb.ws/kayteecarter/\n",
      "Target_URL: http://www.imageweb.ws/kaytee-carter/\n",
      "Translation: dict_keys(['en_XX', 'zz_TR'])\n",
      "Domain: pigspaperclip.com\n",
      "Source_URL: http://pigspaperclip.com/index.html\n",
      "Target_URL: http://pigspaperclip.com/?index.html\n",
      "Translation: dict_keys(['en_XX', 'zz_TR'])\n",
      "Domain: sustech.edu\n",
      "Source_URL: http://cc.sustech.edu/index.php/Computer_Center/en/dean_message\n",
      "Target_URL: http://cc.sustech.edu/index.php/Computer_Center/dean_message\n",
      "Translation: dict_keys(['en_XX', 'zz_TR'])\n",
      "Domain: peeepls.com\n",
      "Source_URL: http://peeepls.com/part/Ra/\n",
      "Target_URL: http://peeepls.com/part/Ra-/\n",
      "Translation: dict_keys(['en_XX', 'zz_TR'])\n",
      "Domain: sustech.edu\n",
      "Source_URL: http://cc.sustech.edu/index.php/Computer_Center/en/coll_about\n",
      "Target_URL: http://cc.sustech.edu/index.php/Computer_Center/coll_about\n",
      "Translation: dict_keys(['en_XX', 'zz_TR'])\n",
      "Domain: e-yamaki.co.jp\n",
      "Source_URL: http://www.e-yamaki.co.jp/english/\n",
      "Target_URL: http://www.e-yamaki.co.jp/\n",
      "Translation: dict_keys(['en_XX', 'zz_TR'])\n",
      "Domain: usa-people-search.com\n",
      "Source_URL: http://www.usa-people-search.com/names/Sereno-0\n",
      "Target_URL: http://www.usa-people-search.com/names/Sero-0\n",
      "Translation: dict_keys(['en_XX', 'zz_TR'])\n",
      "Domain: templates4mambo.de\n",
      "Source_URL: http://www.templates4mambo.de/en/\n",
      "Target_URL: http://www.templates4mambo.de/\n",
      "Translation: dict_keys(['en_XX', 'zz_TR'])\n",
      "Domain: datingspy.co.uk\n",
      "Source_URL: http://datingspy.co.uk/surname.php?s=Adeney\n",
      "Target_URL: http://datingspy.co.uk/surname.php?s=Adey\n",
      "Translation: dict_keys(['en_XX', 'zz_TR'])\n",
      "Domain: sustech.edu\n",
      "Source_URL: http://laser.sustech.edu/index.php/Institute_of_Laser/en/news/Visiting-Professor-/?nid=1022\n",
      "Target_URL: http://laser.sustech.edu/index.php/Institute_of_Laser/news/Visiting-Professor-/?nid=1022\n",
      "Translation: dict_keys(['en_XX', 'zz_TR'])\n",
      "Domain: pussyspot.net\n",
      "Source_URL: http://www.pussyspot.net/elainaraye/\n",
      "Target_URL: http://www.pussyspot.net/elaina-raye/\n",
      "Translation: dict_keys(['en_XX', 'zz_TR'])\n",
      "Domain: cjb.net\n",
      "Source_URL: http://www.cjb.net/b/benally.html\n",
      "Target_URL: http://www.cjb.net/b/bally.html\n",
      "Translation: dict_keys(['en_XX', 'zz_TR'])\n",
      "Domain: dogus.edu.tr\n",
      "Source_URL: http://www.dogus.edu.tr/en/\n",
      "Target_URL: http://www.dogus.edu.tr/\n",
      "Translation: dict_keys(['en_XX', 'zz_TR'])\n",
      "Domain: dogus.edu.tr\n",
      "Source_URL: https://www.dogus.edu.tr/en\n",
      "Target_URL: http://www.dogus.edu.tr/\n",
      "Translation: dict_keys(['en_XX', 'zz_TR'])\n",
      "Domain: avc.sa\n",
      "Source_URL: http://www.avc.sa/en/brands\n",
      "Target_URL: http://www.avc.sa/brands\n",
      "Translation: dict_keys(['en_XX', 'zz_TR'])\n",
      "Domain: accordmb.com\n",
      "Source_URL: http://en.accordmb.com/\n",
      "Target_URL: http://www.accordmb.com/\n",
      "Translation: dict_keys(['en_XX', 'zz_TR'])\n",
      "Domain: findsimilarsites.com\n",
      "Source_URL: http://www.findsimilarsites.com/sitemap/ee.html\n",
      "Target_URL: http://www.findsimilarsites.com/sitemap/ez.html\n",
      "Translation: dict_keys(['en_XX', 'zz_TR'])\n",
      "Domain: salkahazisara.com\n",
      "Source_URL: http://www.salkahazisara.com/en/\n",
      "Target_URL: http://www.salkahazisara.com/\n",
      "Translation: dict_keys(['en_XX', 'zz_TR'])\n",
      "Domain: webkursovik.ru\n",
      "Source_URL: http://www.webkursovik.ru/kartgotrab.asp?id=39599\n",
      "Target_URL: http://www.webkursovik.ru/kartgotrab.asp?id=-39599\n",
      "Translation: dict_keys(['en_XX', 'zz_TR'])\n",
      "Domain: pussyspot.net\n",
      "Source_URL: http://www.pussyspot.net/evelawrence/\n",
      "Target_URL: http://www.pussyspot.net/eve-lawrence/\n",
      "Translation: dict_keys(['en_XX', 'zz_TR'])\n",
      "Domain: ardo.com\n",
      "Source_URL: https://ardo.com/en\n",
      "Target_URL: http://www.ardo.com/\n",
      "Translation: dict_keys(['en_XX', 'zz_TR'])\n",
      "Domain: imageweb.ws\n",
      "Source_URL: http://www.imageweb.ws/terapatrick/\n",
      "Target_URL: https://www.imageweb.ws/tera-patrick/\n",
      "Translation: dict_keys(['en_XX', 'zz_TR'])\n",
      "Domain: lockerdome.com\n",
      "Source_URL: https://lockerdome.com/laura\n",
      "Target_URL: https://lockerdome.com/la-u-ra\n",
      "Translation: dict_keys(['en_XX', 'zz_TR'])\n",
      "Domain: sustech.edu\n",
      "Source_URL: http://college.sustech.edu/index.php/Computer_Center/en/dean_message\n",
      "Target_URL: http://college.sustech.edu/index.php/Computer_Center/dean_message\n",
      "Translation: dict_keys(['en_XX', 'zz_TR'])\n",
      "Domain: cremedelacreme.be\n",
      "Source_URL: https://www.cremedelacreme.be/?lang=en\n",
      "Target_URL: http://cremedelacreme.be/\n",
      "Translation: dict_keys(['en_XX', 'zz_TR'])\n",
      "Domain: datingspy.co.uk\n",
      "Source_URL: http://datingspy.co.uk/surname.php?s=Ekene\n",
      "Target_URL: http://datingspy.co.uk/surname.php?s=Eke\n",
      "Translation: dict_keys(['en_XX', 'zz_TR'])\n",
      "Domain: imageweb.ws\n",
      "Source_URL: https://www.imageweb.ws/elainaraye/\n",
      "Target_URL: https://www.imageweb.ws/elaina-raye/\n",
      "Translation: dict_keys(['en_XX', 'zz_TR'])\n",
      "Domain: ipdatainfo.com\n",
      "Source_URL: http://jp.ipdatainfo.com/www/koyoestate.jp\n",
      "Target_URL: http://jp.ipdatainfo.com/www/koyo-estate.jp\n",
      "Translation: dict_keys(['en_XX', 'zz_TR'])\n",
      "Domain: solarehotels.com\n",
      "Source_URL: http://www.solarehotels.com/english/sitemap.html\n",
      "Target_URL: http://www.solarehotels.com/sitemap.html\n",
      "Translation: dict_keys(['en_XX', 'zz_TR'])\n",
      "Domain: solarehotels.com\n",
      "Source_URL: http://www.solarehotels.com/en/sitemap.html\n",
      "Target_URL: http://www.solarehotels.com/sitemap.html\n",
      "Translation: dict_keys(['en_XX', 'zz_TR'])\n",
      "Domain: ourvoice.gr\n",
      "Source_URL: https://ourvoice.gr/index.php/en/photos/dogs\n",
      "Target_URL: http://ourvoice.gr/index.php/photos/dogs\n",
      "Translation: dict_keys(['en_XX', 'zz_TR'])\n"
     ]
    }
   ],
   "execution_count": 20
  },
  {
   "metadata": {
    "ExecuteTime": {
     "end_time": "2024-12-23T23:26:29.763096Z",
     "start_time": "2024-12-23T23:26:29.757020Z"
    }
   },
   "cell_type": "code",
   "source": "dataset[.shape",
   "id": "c556e725d0c879b8",
   "outputs": [
    {
     "data": {
      "text/plain": [
       "{'train': (41, 4)}"
      ]
     },
     "execution_count": 13,
     "metadata": {},
     "output_type": "execute_result"
    }
   ],
   "execution_count": 13
  },
  {
   "metadata": {
    "ExecuteTime": {
     "end_time": "2024-12-24T09:12:16.769873Z",
     "start_time": "2024-12-24T09:12:16.708624Z"
    }
   },
   "cell_type": "code",
   "source": "dataset[\"train\"].to_csv(\"ccaligned_multilingual.csv\")",
   "id": "68be5973800cc8c2",
   "outputs": [
    {
     "data": {
      "text/plain": [
       "Creating CSV from Arrow format:   0%|          | 0/1 [00:00<?, ?ba/s]"
      ],
      "application/vnd.jupyter.widget-view+json": {
       "version_major": 2,
       "version_minor": 0,
       "model_id": "59476f790b594dcca60b83a2a6217303"
      }
     },
     "metadata": {},
     "output_type": "display_data"
    },
    {
     "data": {
      "text/plain": [
       "5009"
      ]
     },
     "execution_count": 26,
     "metadata": {},
     "output_type": "execute_result"
    }
   ],
   "execution_count": 26
  },
  {
   "metadata": {
    "ExecuteTime": {
     "end_time": "2024-12-24T09:53:01.316817Z",
     "start_time": "2024-12-24T09:52:54.400834Z"
    }
   },
   "cell_type": "code",
   "source": "dataset_en_so = load_dataset(\"opus_paracrawl\", 'en-so')",
   "id": "355099859c4876e0",
   "outputs": [
    {
     "data": {
      "text/plain": [
       "Downloading data:   0%|          | 0.00/3.72M [00:00<?, ?B/s]"
      ],
      "application/vnd.jupyter.widget-view+json": {
       "version_major": 2,
       "version_minor": 0,
       "model_id": "199d57848ddb4bcbbd03535f13650ab5"
      }
     },
     "metadata": {},
     "output_type": "display_data"
    },
    {
     "data": {
      "text/plain": [
       "Generating train split:   0%|          | 0/14880 [00:00<?, ? examples/s]"
      ],
      "application/vnd.jupyter.widget-view+json": {
       "version_major": 2,
       "version_minor": 0,
       "model_id": "da676864346d4f99b6e63cbafbb18294"
      }
     },
     "metadata": {},
     "output_type": "display_data"
    }
   ],
   "execution_count": 29
  },
  {
   "metadata": {
    "ExecuteTime": {
     "end_time": "2024-12-24T09:54:00.088666Z",
     "start_time": "2024-12-24T09:53:54.052820Z"
    }
   },
   "cell_type": "code",
   "source": "dataset_en_sw = load_dataset(\"opus_paracrawl\", 'en-sw')",
   "id": "891b9b427832b10d",
   "outputs": [
    {
     "data": {
      "text/plain": [
       "Downloading data:   0%|          | 0.00/30.6M [00:00<?, ?B/s]"
      ],
      "application/vnd.jupyter.widget-view+json": {
       "version_major": 2,
       "version_minor": 0,
       "model_id": "2b20c51bb69e44ce845f23e841d36bc1"
      }
     },
     "metadata": {},
     "output_type": "display_data"
    },
    {
     "data": {
      "text/plain": [
       "Generating train split:   0%|          | 0/132520 [00:00<?, ? examples/s]"
      ],
      "application/vnd.jupyter.widget-view+json": {
       "version_major": 2,
       "version_minor": 0,
       "model_id": "12d6def5539a4a9b8ae92a2722b02cd7"
      }
     },
     "metadata": {},
     "output_type": "display_data"
    }
   ],
   "execution_count": 31
  },
  {
   "metadata": {
    "ExecuteTime": {
     "end_time": "2024-12-24T09:54:22.711798Z",
     "start_time": "2024-12-24T09:54:22.561538Z"
    }
   },
   "cell_type": "code",
   "source": "dataset_en_so['train'].to_csv(\"opus_paracrawl_en_so.csv\")",
   "id": "7fb44e716c2accfe",
   "outputs": [
    {
     "data": {
      "text/plain": [
       "Creating CSV from Arrow format:   0%|          | 0/15 [00:00<?, ?ba/s]"
      ],
      "application/vnd.jupyter.widget-view+json": {
       "version_major": 2,
       "version_minor": 0,
       "model_id": "7b7777907e634ab28b58c5633eb1a9e0"
      }
     },
     "metadata": {},
     "output_type": "display_data"
    },
    {
     "data": {
      "text/plain": [
       "5985208"
      ]
     },
     "execution_count": 32,
     "metadata": {},
     "output_type": "execute_result"
    }
   ],
   "execution_count": 32
  },
  {
   "metadata": {
    "ExecuteTime": {
     "end_time": "2024-12-24T09:54:37.451134Z",
     "start_time": "2024-12-24T09:54:36.490219Z"
    }
   },
   "cell_type": "code",
   "source": "dataset_en_sw['train'].to_csv(\"opus_paracrawl_en_sw.csv\")",
   "id": "986448c0cfbc3658",
   "outputs": [
    {
     "data": {
      "text/plain": [
       "Creating CSV from Arrow format:   0%|          | 0/133 [00:00<?, ?ba/s]"
      ],
      "application/vnd.jupyter.widget-view+json": {
       "version_major": 2,
       "version_minor": 0,
       "model_id": "d83948e235974e73b8d8f3b5b297b809"
      }
     },
     "metadata": {},
     "output_type": "display_data"
    },
    {
     "data": {
      "text/plain": [
       "45925662"
      ]
     },
     "execution_count": 33,
     "metadata": {},
     "output_type": "execute_result"
    }
   ],
   "execution_count": 33
  },
  {
   "metadata": {
    "ExecuteTime": {
     "end_time": "2024-12-24T12:49:56.120657Z",
     "start_time": "2024-12-24T12:49:53.054544Z"
    }
   },
   "cell_type": "code",
   "source": "dset = load_dataset(\"SEACrowd/id_wiki_parallel\", trust_remote_code=True)",
   "id": "17442699e85bc889",
   "outputs": [
    {
     "data": {
      "text/plain": [
       "Downloading data:   0%|          | 0.00/112k [00:00<?, ?B/s]"
      ],
      "application/vnd.jupyter.widget-view+json": {
       "version_major": 2,
       "version_minor": 0,
       "model_id": "70333533d7814afb88d0c8afd75a04e5"
      }
     },
     "metadata": {},
     "output_type": "display_data"
    },
    {
     "data": {
      "text/plain": [
       "Generating train split: 0 examples [00:00, ? examples/s]"
      ],
      "application/vnd.jupyter.widget-view+json": {
       "version_major": 2,
       "version_minor": 0,
       "model_id": "ee4f238f09b74908bae992d53e0298ec"
      }
     },
     "metadata": {},
     "output_type": "display_data"
    },
    {
     "name": "stderr",
     "output_type": "stream",
     "text": [
      "/Users/elishadiskind-personal/.cache/huggingface/modules/datasets_modules/datasets/SEACrowd--id_wiki_parallel/fc4ed190a856e983dddf585acc84c239777d234c0c71be59c976604b6913dc96/id_wiki_parallel.py:142: FutureWarning: Series.__getitem__ treating keys as positions is deprecated. In a future version, integer keys will always be treated as labels (consistent with DataFrame behavior). To access a value by position, use `ser.iloc[pos]`\n",
      "  src_txt = row[1]\n",
      "/Users/elishadiskind-personal/.cache/huggingface/modules/datasets_modules/datasets/SEACrowd--id_wiki_parallel/fc4ed190a856e983dddf585acc84c239777d234c0c71be59c976604b6913dc96/id_wiki_parallel.py:143: FutureWarning: Series.__getitem__ treating keys as positions is deprecated. In a future version, integer keys will always be treated as labels (consistent with DataFrame behavior). To access a value by position, use `ser.iloc[pos]`\n",
      "  tgt_txt = row[2]\n"
     ]
    }
   ],
   "execution_count": 38
  },
  {
   "metadata": {
    "ExecuteTime": {
     "end_time": "2024-12-24T12:49:07.479603Z",
     "start_time": "2024-12-24T12:48:23.992757Z"
    }
   },
   "cell_type": "code",
   "source": "pip install seacrowd",
   "id": "f958cdac4c8f4e08",
   "outputs": [
    {
     "name": "stdout",
     "output_type": "stream",
     "text": [
      "Defaulting to user installation because normal site-packages is not writeable\r\n",
      "Collecting seacrowd\r\n",
      "  Downloading seacrowd-0.2.2-py3-none-any.whl (1.2 MB)\r\n",
      "\u001B[K     |████████████████████████████████| 1.2 MB 353 kB/s eta 0:00:01\r\n",
      "\u001B[?25hRequirement already satisfied: aiohttp>=3.8.1 in /Users/elishadiskind-personal/Library/Python/3.9/lib/python/site-packages (from seacrowd) (3.10.5)\r\n",
      "Collecting ffmpeg\r\n",
      "  Downloading ffmpeg-1.4.tar.gz (5.1 kB)\r\n",
      "Collecting conllu\r\n",
      "  Downloading conllu-6.0.0-py3-none-any.whl (16 kB)\r\n",
      "Requirement already satisfied: numpy>=1.20 in /Users/elishadiskind-personal/Library/Python/3.9/lib/python/site-packages (from seacrowd) (2.0.1)\r\n",
      "Collecting openpyxl\r\n",
      "  Downloading openpyxl-3.1.5-py2.py3-none-any.whl (250 kB)\r\n",
      "\u001B[K     |████████████████████████████████| 250 kB 11.6 MB/s eta 0:00:01\r\n",
      "\u001B[?25hCollecting librosa\r\n",
      "  Downloading librosa-0.10.2.post1-py3-none-any.whl (260 kB)\r\n",
      "\u001B[K     |████████████████████████████████| 260 kB 46.0 MB/s eta 0:00:01\r\n",
      "\u001B[?25hCollecting translate-toolkit>=3.7.3\r\n",
      "  Downloading translate_toolkit-3.14.4-py3-none-any.whl (744 kB)\r\n",
      "\u001B[K     |████████████████████████████████| 744 kB 14.6 MB/s eta 0:00:01\r\n",
      "\u001B[?25hCollecting soundfile\r\n",
      "  Downloading soundfile-0.12.1-py2.py3-none-macosx_11_0_arm64.whl (1.1 MB)\r\n",
      "\u001B[K     |████████████████████████████████| 1.1 MB 16.6 MB/s eta 0:00:01\r\n",
      "\u001B[?25hRequirement already satisfied: pandas>=1.3.3 in /Users/elishadiskind-personal/Library/Python/3.9/lib/python/site-packages (from seacrowd) (2.2.2)\r\n",
      "Requirement already satisfied: typing-extensions in /Users/elishadiskind-personal/Library/Python/3.9/lib/python/site-packages (from seacrowd) (4.12.2)\r\n",
      "Collecting bioc>=1.3.7\r\n",
      "  Downloading bioc-2.1-py3-none-any.whl (33 kB)\r\n",
      "Collecting pre-commit>=2.19.0\r\n",
      "  Downloading pre_commit-4.0.1-py2.py3-none-any.whl (218 kB)\r\n",
      "\u001B[K     |████████████████████████████████| 218 kB 73.8 MB/s eta 0:00:01\r\n",
      "\u001B[?25hCollecting loguru>=0.5.3\r\n",
      "  Downloading loguru-0.7.3-py3-none-any.whl (61 kB)\r\n",
      "\u001B[K     |████████████████████████████████| 61 kB 973 kB/s  eta 0:00:01\r\n",
      "\u001B[?25hCollecting flake8>=3.8.3\r\n",
      "  Downloading flake8-7.1.1-py2.py3-none-any.whl (57 kB)\r\n",
      "\u001B[K     |████████████████████████████████| 57 kB 26.2 MB/s eta 0:00:01\r\n",
      "\u001B[?25hCollecting isort>=5.0.0\r\n",
      "  Downloading isort-5.13.2-py3-none-any.whl (92 kB)\r\n",
      "\u001B[K     |████████████████████████████████| 92 kB 1.4 MB/s  eta 0:00:01\r\n",
      "\u001B[?25hCollecting black~=22.0\r\n",
      "  Downloading black-22.12.0-py3-none-any.whl (167 kB)\r\n",
      "\u001B[K     |████████████████████████████████| 167 kB 29.8 MB/s eta 0:00:01\r\n",
      "\u001B[?25hRequirement already satisfied: datasets>=2.2.0 in /Users/elishadiskind-personal/Library/Python/3.9/lib/python/site-packages (from seacrowd) (2.21.0)\r\n",
      "Collecting torchaudio>=0.11\r\n",
      "  Downloading torchaudio-2.5.1-cp39-cp39-macosx_11_0_arm64.whl (1.8 MB)\r\n",
      "\u001B[K     |████████████████████████████████| 1.8 MB 21.9 MB/s eta 0:00:01\r\n",
      "\u001B[?25hRequirement already satisfied: nltk in /Users/elishadiskind-personal/Library/Python/3.9/lib/python/site-packages (from seacrowd) (3.9.1)\r\n",
      "Collecting zstandard\r\n",
      "  Downloading zstandard-0.23.0-cp39-cp39-macosx_11_0_arm64.whl (633 kB)\r\n",
      "\u001B[K     |████████████████████████████████| 633 kB 29.5 MB/s eta 0:00:01\r\n",
      "\u001B[?25hCollecting jsonlines>=3.1.0\r\n",
      "  Downloading jsonlines-4.0.0-py3-none-any.whl (8.7 kB)\r\n",
      "Requirement already satisfied: aiosignal>=1.1.2 in /Users/elishadiskind-personal/Library/Python/3.9/lib/python/site-packages (from aiohttp>=3.8.1->seacrowd) (1.3.1)\r\n",
      "Requirement already satisfied: yarl<2.0,>=1.0 in /Users/elishadiskind-personal/Library/Python/3.9/lib/python/site-packages (from aiohttp>=3.8.1->seacrowd) (1.9.4)\r\n",
      "Requirement already satisfied: aiohappyeyeballs>=2.3.0 in /Users/elishadiskind-personal/Library/Python/3.9/lib/python/site-packages (from aiohttp>=3.8.1->seacrowd) (2.4.0)\r\n",
      "Requirement already satisfied: async-timeout<5.0,>=4.0 in /Users/elishadiskind-personal/Library/Python/3.9/lib/python/site-packages (from aiohttp>=3.8.1->seacrowd) (4.0.3)\r\n",
      "Requirement already satisfied: multidict<7.0,>=4.5 in /Users/elishadiskind-personal/Library/Python/3.9/lib/python/site-packages (from aiohttp>=3.8.1->seacrowd) (6.0.5)\r\n",
      "Requirement already satisfied: attrs>=17.3.0 in /Users/elishadiskind-personal/Library/Python/3.9/lib/python/site-packages (from aiohttp>=3.8.1->seacrowd) (24.2.0)\r\n",
      "Requirement already satisfied: frozenlist>=1.1.1 in /Users/elishadiskind-personal/Library/Python/3.9/lib/python/site-packages (from aiohttp>=3.8.1->seacrowd) (1.4.1)\r\n",
      "Collecting docopt\r\n",
      "  Downloading docopt-0.6.2.tar.gz (25 kB)\r\n",
      "Requirement already satisfied: lxml>=4.6.3 in /Users/elishadiskind-personal/Library/Python/3.9/lib/python/site-packages (from bioc>=1.3.7->seacrowd) (5.3.0)\r\n",
      "Collecting intervaltree\r\n",
      "  Downloading intervaltree-3.1.0.tar.gz (32 kB)\r\n",
      "Requirement already satisfied: tqdm in /Users/elishadiskind-personal/Library/Python/3.9/lib/python/site-packages (from bioc>=1.3.7->seacrowd) (4.66.5)\r\n",
      "Requirement already satisfied: tomli>=1.1.0 in /Users/elishadiskind-personal/Library/Python/3.9/lib/python/site-packages (from black~=22.0->seacrowd) (2.0.1)\r\n",
      "Collecting mypy-extensions>=0.4.3\r\n",
      "  Downloading mypy_extensions-1.0.0-py3-none-any.whl (4.7 kB)\r\n",
      "Collecting pathspec>=0.9.0\r\n",
      "  Downloading pathspec-0.12.1-py3-none-any.whl (31 kB)\r\n",
      "Requirement already satisfied: click>=8.0.0 in /Users/elishadiskind-personal/Library/Python/3.9/lib/python/site-packages (from black~=22.0->seacrowd) (8.1.7)\r\n",
      "Requirement already satisfied: platformdirs>=2 in /Users/elishadiskind-personal/Library/Python/3.9/lib/python/site-packages (from black~=22.0->seacrowd) (4.2.2)\r\n",
      "Requirement already satisfied: multiprocess in /Users/elishadiskind-personal/Library/Python/3.9/lib/python/site-packages (from datasets>=2.2.0->seacrowd) (0.70.16)\r\n",
      "Requirement already satisfied: huggingface-hub>=0.21.2 in /Users/elishadiskind-personal/Library/Python/3.9/lib/python/site-packages (from datasets>=2.2.0->seacrowd) (0.24.6)\r\n",
      "Requirement already satisfied: requests>=2.32.2 in /Users/elishadiskind-personal/Library/Python/3.9/lib/python/site-packages (from datasets>=2.2.0->seacrowd) (2.32.3)\r\n",
      "Requirement already satisfied: pyyaml>=5.1 in /Users/elishadiskind-personal/Library/Python/3.9/lib/python/site-packages (from datasets>=2.2.0->seacrowd) (6.0.2)\r\n",
      "Requirement already satisfied: packaging in /Users/elishadiskind-personal/Library/Python/3.9/lib/python/site-packages (from datasets>=2.2.0->seacrowd) (24.1)\r\n",
      "Requirement already satisfied: xxhash in /Users/elishadiskind-personal/Library/Python/3.9/lib/python/site-packages (from datasets>=2.2.0->seacrowd) (3.5.0)\r\n",
      "Requirement already satisfied: dill<0.3.9,>=0.3.0 in /Users/elishadiskind-personal/Library/Python/3.9/lib/python/site-packages (from datasets>=2.2.0->seacrowd) (0.3.8)\r\n",
      "Requirement already satisfied: filelock in /Users/elishadiskind-personal/Library/Python/3.9/lib/python/site-packages (from datasets>=2.2.0->seacrowd) (3.15.4)\r\n",
      "Requirement already satisfied: pyarrow>=15.0.0 in /Users/elishadiskind-personal/Library/Python/3.9/lib/python/site-packages (from datasets>=2.2.0->seacrowd) (17.0.0)\r\n",
      "Requirement already satisfied: fsspec[http]<=2024.6.1,>=2023.1.0 in /Users/elishadiskind-personal/Library/Python/3.9/lib/python/site-packages (from datasets>=2.2.0->seacrowd) (2024.6.1)\r\n",
      "Collecting pycodestyle<2.13.0,>=2.12.0\r\n",
      "  Downloading pycodestyle-2.12.1-py2.py3-none-any.whl (31 kB)\r\n",
      "Collecting mccabe<0.8.0,>=0.7.0\r\n",
      "  Downloading mccabe-0.7.0-py2.py3-none-any.whl (7.3 kB)\r\n",
      "Collecting pyflakes<3.3.0,>=3.2.0\r\n",
      "  Downloading pyflakes-3.2.0-py2.py3-none-any.whl (62 kB)\r\n",
      "\u001B[K     |████████████████████████████████| 62 kB 4.8 MB/s  eta 0:00:01\r\n",
      "\u001B[?25hRequirement already satisfied: pytz>=2020.1 in /Users/elishadiskind-personal/Library/Python/3.9/lib/python/site-packages (from pandas>=1.3.3->seacrowd) (2024.1)\r\n",
      "Requirement already satisfied: python-dateutil>=2.8.2 in /Users/elishadiskind-personal/Library/Python/3.9/lib/python/site-packages (from pandas>=1.3.3->seacrowd) (2.9.0.post0)\r\n",
      "Requirement already satisfied: tzdata>=2022.7 in /Users/elishadiskind-personal/Library/Python/3.9/lib/python/site-packages (from pandas>=1.3.3->seacrowd) (2024.1)\r\n",
      "Collecting identify>=1.0.0\r\n",
      "  Downloading identify-2.6.3-py2.py3-none-any.whl (99 kB)\r\n",
      "\u001B[K     |████████████████████████████████| 99 kB 28.3 MB/s eta 0:00:01\r\n",
      "\u001B[?25hCollecting cfgv>=2.0.0\r\n",
      "  Downloading cfgv-3.4.0-py2.py3-none-any.whl (7.2 kB)\r\n",
      "Collecting nodeenv>=0.11.1\r\n",
      "  Downloading nodeenv-1.9.1-py2.py3-none-any.whl (22 kB)\r\n",
      "Collecting virtualenv>=20.10.0\r\n",
      "  Downloading virtualenv-20.28.0-py3-none-any.whl (4.3 MB)\r\n",
      "\u001B[K     |████████████████████████████████| 4.3 MB 56.8 MB/s eta 0:00:01\r\n",
      "\u001B[?25hRequirement already satisfied: six>=1.5 in /Library/Developer/CommandLineTools/Library/Frameworks/Python3.framework/Versions/3.9/lib/python3.9/site-packages (from python-dateutil>=2.8.2->pandas>=1.3.3->seacrowd) (1.15.0)\r\n",
      "Requirement already satisfied: charset-normalizer<4,>=2 in /Users/elishadiskind-personal/Library/Python/3.9/lib/python/site-packages (from requests>=2.32.2->datasets>=2.2.0->seacrowd) (3.3.2)\r\n",
      "Requirement already satisfied: urllib3<3,>=1.21.1 in /Users/elishadiskind-personal/Library/Python/3.9/lib/python/site-packages (from requests>=2.32.2->datasets>=2.2.0->seacrowd) (1.26.20)\r\n",
      "Requirement already satisfied: idna<4,>=2.5 in /Users/elishadiskind-personal/Library/Python/3.9/lib/python/site-packages (from requests>=2.32.2->datasets>=2.2.0->seacrowd) (3.8)\r\n",
      "Requirement already satisfied: certifi>=2017.4.17 in /Users/elishadiskind-personal/Library/Python/3.9/lib/python/site-packages (from requests>=2.32.2->datasets>=2.2.0->seacrowd) (2024.7.4)\r\n",
      "Collecting torch==2.5.1\r\n",
      "  Downloading torch-2.5.1-cp39-none-macosx_11_0_arm64.whl (63.9 MB)\r\n",
      "\u001B[K     |████████████████████████████████| 63.9 MB 124.0 MB/s eta 0:00:01\r\n",
      "\u001B[?25hRequirement already satisfied: jinja2 in /Users/elishadiskind-personal/Library/Python/3.9/lib/python/site-packages (from torch==2.5.1->torchaudio>=0.11->seacrowd) (3.1.4)\r\n",
      "Collecting sympy==1.13.1\r\n",
      "  Downloading sympy-1.13.1-py3-none-any.whl (6.2 MB)\r\n",
      "\u001B[K     |████████████████████████████████| 6.2 MB 70.0 MB/s eta 0:00:01\r\n",
      "\u001B[?25hRequirement already satisfied: networkx in /Users/elishadiskind-personal/Library/Python/3.9/lib/python/site-packages (from torch==2.5.1->torchaudio>=0.11->seacrowd) (3.2.1)\r\n",
      "Requirement already satisfied: mpmath<1.4,>=1.1.0 in /Users/elishadiskind-personal/Library/Python/3.9/lib/python/site-packages (from sympy==1.13.1->torch==2.5.1->torchaudio>=0.11->seacrowd) (1.3.0)\r\n",
      "Collecting cwcwidth>=0.1.9\r\n",
      "  Downloading cwcwidth-0.1.9.tar.gz (57 kB)\r\n",
      "\u001B[K     |████████████████████████████████| 57 kB 17.5 MB/s eta 0:00:01\r\n",
      "\u001B[33m  WARNING: Value for prefixed-purelib does not match. Please report this to <https://github.com/pypa/pip/issues/10151>\r\n",
      "  distutils: /private/var/folders/lj/rwbcddv51n7_07whc7k3208w0000gt/T/pip-build-env-9ogi4uku/normal/lib/python3.9/site-packages\r\n",
      "  sysconfig: /Library/Python/3.9/site-packages\u001B[0m\r\n",
      "\u001B[33m  WARNING: Value for prefixed-platlib does not match. Please report this to <https://github.com/pypa/pip/issues/10151>\r\n",
      "  distutils: /private/var/folders/lj/rwbcddv51n7_07whc7k3208w0000gt/T/pip-build-env-9ogi4uku/normal/lib/python3.9/site-packages\r\n",
      "  sysconfig: /Library/Python/3.9/site-packages\u001B[0m\r\n",
      "\u001B[33m  WARNING: Additional context:\r\n",
      "  user = False\r\n",
      "  home = None\r\n",
      "  root = None\r\n",
      "  prefix = '/private/var/folders/lj/rwbcddv51n7_07whc7k3208w0000gt/T/pip-build-env-9ogi4uku/normal'\u001B[0m\r\n",
      "\u001B[33m  WARNING: Value for prefixed-purelib does not match. Please report this to <https://github.com/pypa/pip/issues/10151>\r\n",
      "  distutils: /private/var/folders/lj/rwbcddv51n7_07whc7k3208w0000gt/T/pip-build-env-9ogi4uku/overlay/lib/python3.9/site-packages\r\n",
      "  sysconfig: /Library/Python/3.9/site-packages\u001B[0m\r\n",
      "\u001B[33m  WARNING: Value for prefixed-platlib does not match. Please report this to <https://github.com/pypa/pip/issues/10151>\r\n",
      "  distutils: /private/var/folders/lj/rwbcddv51n7_07whc7k3208w0000gt/T/pip-build-env-9ogi4uku/overlay/lib/python3.9/site-packages\r\n",
      "  sysconfig: /Library/Python/3.9/site-packages\u001B[0m\r\n",
      "\u001B[33m  WARNING: Additional context:\r\n",
      "  user = False\r\n",
      "  home = None\r\n",
      "  root = None\r\n",
      "  prefix = '/private/var/folders/lj/rwbcddv51n7_07whc7k3208w0000gt/T/pip-build-env-9ogi4uku/overlay'\u001B[0m\r\n",
      "\u001B[?25h  Installing build dependencies ... \u001B[?25ldone\r\n",
      "\u001B[?25h  Getting requirements to build wheel ... \u001B[?25ldone\r\n",
      "\u001B[?25h  Installing backend dependencies ... \u001B[?25ldone\r\n",
      "\u001B[?25h    Preparing wheel metadata ... \u001B[?25ldone\r\n",
      "\u001B[?25hCollecting distlib<1,>=0.3.7\r\n",
      "  Downloading distlib-0.3.9-py2.py3-none-any.whl (468 kB)\r\n",
      "\u001B[K     |████████████████████████████████| 468 kB 37.8 MB/s eta 0:00:01\r\n",
      "\u001B[?25hCollecting sortedcontainers<3.0,>=2.0\r\n",
      "  Downloading sortedcontainers-2.4.0-py2.py3-none-any.whl (29 kB)\r\n",
      "Requirement already satisfied: MarkupSafe>=2.0 in /Users/elishadiskind-personal/Library/Python/3.9/lib/python/site-packages (from jinja2->torch==2.5.1->torchaudio>=0.11->seacrowd) (2.1.5)\r\n",
      "Collecting pooch>=1.1\r\n",
      "  Downloading pooch-1.8.2-py3-none-any.whl (64 kB)\r\n",
      "\u001B[K     |████████████████████████████████| 64 kB 10.9 MB/s eta 0:00:01\r\n",
      "\u001B[?25hCollecting lazy-loader>=0.1\r\n",
      "  Downloading lazy_loader-0.4-py3-none-any.whl (12 kB)\r\n",
      "Collecting soxr>=0.3.2\r\n",
      "  Downloading soxr-0.5.0.post1-cp39-cp39-macosx_11_0_arm64.whl (160 kB)\r\n",
      "\u001B[K     |████████████████████████████████| 160 kB 38.6 MB/s eta 0:00:01\r\n",
      "\u001B[?25hCollecting numba>=0.51.0\r\n",
      "  Downloading numba-0.60.0-cp39-cp39-macosx_11_0_arm64.whl (2.7 MB)\r\n",
      "\u001B[K     |████████████████████████████████| 2.7 MB 21.3 MB/s eta 0:00:01\r\n",
      "\u001B[?25hRequirement already satisfied: decorator>=4.3.0 in /Users/elishadiskind-personal/Library/Python/3.9/lib/python/site-packages (from librosa->seacrowd) (5.1.1)\r\n",
      "Requirement already satisfied: joblib>=0.14 in /Users/elishadiskind-personal/Library/Python/3.9/lib/python/site-packages (from librosa->seacrowd) (1.4.2)\r\n",
      "Collecting msgpack>=1.0\r\n",
      "  Downloading msgpack-1.1.0-cp39-cp39-macosx_11_0_arm64.whl (81 kB)\r\n",
      "\u001B[K     |████████████████████████████████| 81 kB 18.3 MB/s eta 0:00:01\r\n",
      "\u001B[?25hCollecting audioread>=2.1.9\r\n",
      "  Downloading audioread-3.0.1-py3-none-any.whl (23 kB)\r\n",
      "Requirement already satisfied: scikit-learn>=0.20.0 in /Users/elishadiskind-personal/Library/Python/3.9/lib/python/site-packages (from librosa->seacrowd) (1.5.1)\r\n",
      "Requirement already satisfied: scipy>=1.2.0 in /Users/elishadiskind-personal/Library/Python/3.9/lib/python/site-packages (from librosa->seacrowd) (1.13.1)\r\n",
      "Collecting llvmlite<0.44,>=0.43.0dev0\r\n",
      "  Downloading llvmlite-0.43.0-cp39-cp39-macosx_11_0_arm64.whl (28.8 MB)\r\n",
      "\u001B[K     |████████████████████████████████| 28.8 MB 14.5 MB/s eta 0:00:01\r\n",
      "\u001B[?25hRequirement already satisfied: threadpoolctl>=3.1.0 in /Users/elishadiskind-personal/Library/Python/3.9/lib/python/site-packages (from scikit-learn>=0.20.0->librosa->seacrowd) (3.5.0)\r\n",
      "Requirement already satisfied: cffi>=1.0 in /Users/elishadiskind-personal/Library/Python/3.9/lib/python/site-packages (from soundfile->seacrowd) (1.17.0)\r\n",
      "Requirement already satisfied: pycparser in /Users/elishadiskind-personal/Library/Python/3.9/lib/python/site-packages (from cffi>=1.0->soundfile->seacrowd) (2.22)\r\n",
      "Requirement already satisfied: regex>=2021.8.3 in /Users/elishadiskind-personal/Library/Python/3.9/lib/python/site-packages (from nltk->seacrowd) (2024.7.24)\r\n",
      "Collecting et-xmlfile\r\n",
      "  Downloading et_xmlfile-2.0.0-py3-none-any.whl (18 kB)\r\n",
      "Building wheels for collected packages: cwcwidth, docopt, ffmpeg, intervaltree\r\n",
      "  Building wheel for cwcwidth (PEP 517) ... \u001B[?25ldone\r\n",
      "\u001B[?25h  Created wheel for cwcwidth: filename=cwcwidth-0.1.9-cp39-cp39-macosx_10_9_universal2.whl size=40084 sha256=d6ac97d2b133b134b4f3656f3c740b43d5a40c261ffea5390e16d1203ef209cf\r\n",
      "  Stored in directory: /Users/elishadiskind-personal/Library/Caches/pip/wheels/79/54/2a/3b7af428089b2dd8ab08e8ad8ccfc39d884ed56ab9e4c5a1cc\r\n",
      "  Building wheel for docopt (setup.py) ... \u001B[?25ldone\r\n",
      "\u001B[?25h  Created wheel for docopt: filename=docopt-0.6.2-py2.py3-none-any.whl size=13724 sha256=8bf8248f04e108bd66cf0a7c2d7109dcf16524973b38ae3d62cc6ad78e3efd0b\r\n",
      "  Stored in directory: /Users/elishadiskind-personal/Library/Caches/pip/wheels/70/4a/46/1309fc853b8d395e60bafaf1b6df7845bdd82c95fd59dd8d2b\r\n",
      "  Building wheel for ffmpeg (setup.py) ... \u001B[?25ldone\r\n",
      "\u001B[?25h  Created wheel for ffmpeg: filename=ffmpeg-1.4-py3-none-any.whl size=6083 sha256=cb09d00635a80fcc4b25a7b2fdc49eb8342525476e9e7326f236fd3fd87dbb57\r\n",
      "  Stored in directory: /Users/elishadiskind-personal/Library/Caches/pip/wheels/1d/57/24/4eff6a03a9ea0e647568e8a5a0546cdf957e3cf005372c0245\r\n",
      "  Building wheel for intervaltree (setup.py) ... \u001B[?25ldone\r\n",
      "\u001B[?25h  Created wheel for intervaltree: filename=intervaltree-3.1.0-py2.py3-none-any.whl size=26119 sha256=fa1baff6d96004cbd49215ae23026a3a9023de25daad69703393f73922c281a7\r\n",
      "  Stored in directory: /Users/elishadiskind-personal/Library/Caches/pip/wheels/ab/fa/1b/75d9a713279796785711bd0bad8334aaace560c0bd28830c8c\r\n",
      "Successfully built cwcwidth docopt ffmpeg intervaltree\r\n",
      "Installing collected packages: sympy, sortedcontainers, llvmlite, distlib, virtualenv, torch, soxr, soundfile, pyflakes, pycodestyle, pooch, pathspec, numba, nodeenv, mypy-extensions, msgpack, mccabe, lazy-loader, jsonlines, intervaltree, identify, et-xmlfile, docopt, cwcwidth, cfgv, audioread, zstandard, translate-toolkit, torchaudio, pre-commit, openpyxl, loguru, librosa, isort, flake8, ffmpeg, conllu, black, bioc, seacrowd\r\n",
      "  Attempting uninstall: sympy\r\n",
      "    Found existing installation: sympy 1.13.2\r\n",
      "    Uninstalling sympy-1.13.2:\r\n",
      "      Successfully uninstalled sympy-1.13.2\r\n",
      "\u001B[33m  WARNING: The script isympy is installed in '/Users/elishadiskind-personal/Library/Python/3.9/bin' which is not on PATH.\r\n",
      "  Consider adding this directory to PATH or, if you prefer to suppress this warning, use --no-warn-script-location.\u001B[0m\r\n",
      "\u001B[33m  WARNING: The script virtualenv is installed in '/Users/elishadiskind-personal/Library/Python/3.9/bin' which is not on PATH.\r\n",
      "  Consider adding this directory to PATH or, if you prefer to suppress this warning, use --no-warn-script-location.\u001B[0m\r\n",
      "  Attempting uninstall: torch\r\n",
      "    Found existing installation: torch 2.4.0\r\n",
      "    Uninstalling torch-2.4.0:\r\n",
      "      Successfully uninstalled torch-2.4.0\r\n",
      "\u001B[33m  WARNING: The scripts convert-caffe2-to-onnx, convert-onnx-to-caffe2, torchfrtrace and torchrun are installed in '/Users/elishadiskind-personal/Library/Python/3.9/bin' which is not on PATH.\r\n",
      "  Consider adding this directory to PATH or, if you prefer to suppress this warning, use --no-warn-script-location.\u001B[0m\r\n",
      "\u001B[33m  WARNING: The script pyflakes is installed in '/Users/elishadiskind-personal/Library/Python/3.9/bin' which is not on PATH.\r\n",
      "  Consider adding this directory to PATH or, if you prefer to suppress this warning, use --no-warn-script-location.\u001B[0m\r\n",
      "\u001B[33m  WARNING: The script pycodestyle is installed in '/Users/elishadiskind-personal/Library/Python/3.9/bin' which is not on PATH.\r\n",
      "  Consider adding this directory to PATH or, if you prefer to suppress this warning, use --no-warn-script-location.\u001B[0m\r\n",
      "\u001B[33m  WARNING: The script nodeenv is installed in '/Users/elishadiskind-personal/Library/Python/3.9/bin' which is not on PATH.\r\n",
      "  Consider adding this directory to PATH or, if you prefer to suppress this warning, use --no-warn-script-location.\u001B[0m\r\n",
      "\u001B[33m  WARNING: The script identify-cli is installed in '/Users/elishadiskind-personal/Library/Python/3.9/bin' which is not on PATH.\r\n",
      "  Consider adding this directory to PATH or, if you prefer to suppress this warning, use --no-warn-script-location.\u001B[0m\r\n",
      "\u001B[33m  WARNING: The scripts android2po, build_tmdb, csv2po, csv2tbx, dtd2po, flatxml2po, html2po, ical2po, idml2po, ini2po, json2po, junitmsgfmt, md2po, moz2po, mozfunny2prop, mozlang2po, odf2xliff, oo2po, oo2xliff, php2po, phppo2pypo, po2csv, po2dtd, po2flatxml, po2html, po2ical, po2idml, po2ini, po2json, po2md, po2moz, po2mozlang, po2oo, po2php, po2prop, po2rc, po2resx, po2sub, po2symb, po2tiki, po2tmx, po2ts, po2txt, po2web2py, po2wordfast, po2xliff, po2yaml, poclean, pocompile, poconflicts, pocount, podebug, pofilter, pogrep, pomerge, porestructure, posegment, poswap, pot2po, poterminology, pretranslate, prop2mozfunny, prop2po, pydiff, pypo2phppo, rc2po, resx2po, sub2po, symb2po, tbx2po, tiki2po, tmserver, ts2po, txt2po, web2py2po, xliff2odf, xliff2oo, xliff2po and yaml2po are installed in '/Users/elishadiskind-personal/Library/Python/3.9/bin' which is not on PATH.\r\n",
      "  Consider adding this directory to PATH or, if you prefer to suppress this warning, use --no-warn-script-location.\u001B[0m\r\n",
      "\u001B[33m  WARNING: The script pre-commit is installed in '/Users/elishadiskind-personal/Library/Python/3.9/bin' which is not on PATH.\r\n",
      "  Consider adding this directory to PATH or, if you prefer to suppress this warning, use --no-warn-script-location.\u001B[0m\r\n",
      "\u001B[33m  WARNING: The scripts isort and isort-identify-imports are installed in '/Users/elishadiskind-personal/Library/Python/3.9/bin' which is not on PATH.\r\n",
      "  Consider adding this directory to PATH or, if you prefer to suppress this warning, use --no-warn-script-location.\u001B[0m\r\n",
      "\u001B[33m  WARNING: The script flake8 is installed in '/Users/elishadiskind-personal/Library/Python/3.9/bin' which is not on PATH.\r\n",
      "  Consider adding this directory to PATH or, if you prefer to suppress this warning, use --no-warn-script-location.\u001B[0m\r\n",
      "\u001B[33m  WARNING: The scripts black and blackd are installed in '/Users/elishadiskind-personal/Library/Python/3.9/bin' which is not on PATH.\r\n",
      "  Consider adding this directory to PATH or, if you prefer to suppress this warning, use --no-warn-script-location.\u001B[0m\r\n",
      "\u001B[33m  WARNING: The scripts bioc-split and brat2bioc are installed in '/Users/elishadiskind-personal/Library/Python/3.9/bin' which is not on PATH.\r\n",
      "  Consider adding this directory to PATH or, if you prefer to suppress this warning, use --no-warn-script-location.\u001B[0m\r\n",
      "\u001B[31mERROR: pip's dependency resolver does not currently take into account all the packages that are installed. This behaviour is the source of the following dependency conflicts.\r\n",
      "torchvision 0.19.0 requires torch==2.4.0, but you have torch 2.5.1 which is incompatible.\u001B[0m\r\n",
      "Successfully installed audioread-3.0.1 bioc-2.1 black-22.12.0 cfgv-3.4.0 conllu-6.0.0 cwcwidth-0.1.9 distlib-0.3.9 docopt-0.6.2 et-xmlfile-2.0.0 ffmpeg-1.4 flake8-7.1.1 identify-2.6.3 intervaltree-3.1.0 isort-5.13.2 jsonlines-4.0.0 lazy-loader-0.4 librosa-0.10.2.post1 llvmlite-0.43.0 loguru-0.7.3 mccabe-0.7.0 msgpack-1.1.0 mypy-extensions-1.0.0 nodeenv-1.9.1 numba-0.60.0 openpyxl-3.1.5 pathspec-0.12.1 pooch-1.8.2 pre-commit-4.0.1 pycodestyle-2.12.1 pyflakes-3.2.0 seacrowd-0.2.2 sortedcontainers-2.4.0 soundfile-0.12.1 soxr-0.5.0.post1 sympy-1.13.1 torch-2.5.1 torchaudio-2.5.1 translate-toolkit-3.14.4 virtualenv-20.28.0 zstandard-0.23.0\r\n",
      "\u001B[33mWARNING: You are using pip version 21.2.4; however, version 24.3.1 is available.\r\n",
      "You should consider upgrading via the '/Library/Developer/CommandLineTools/usr/bin/python3 -m pip install --upgrade pip' command.\u001B[0m\r\n",
      "Note: you may need to restart the kernel to use updated packages.\n"
     ]
    }
   ],
   "execution_count": 37
  },
  {
   "metadata": {
    "ExecuteTime": {
     "end_time": "2024-12-24T14:23:04.671659Z",
     "start_time": "2024-12-24T14:23:00.433058Z"
    }
   },
   "cell_type": "code",
   "source": [
    "import requests\n",
    "import json\n",
    "\n",
    "def fetch_article_titles(language, category=None, limit=10):\n",
    "    \"\"\"\n",
    "    Fetch article titles from Wikipedia in the specified language.\n",
    "    \"\"\"\n",
    "    url = f\"https://{language}.wikipedia.org/w/api.php\"\n",
    "    params = {\n",
    "        \"action\": \"query\",\n",
    "        \"list\": \"categorymembers\" if category else \"random\",\n",
    "        \"cmtitle\": f\"Category:{category}\" if category else None,\n",
    "        \"cmtype\": \"page\",\n",
    "        \"cmlimit\": limit,\n",
    "        \"rnnamespace\": 0,\n",
    "        \"rnlimit\": limit,\n",
    "        \"format\": \"json\",\n",
    "    }\n",
    "    response = requests.get(url, params=params)\n",
    "    data = response.json()\n",
    "    if category:\n",
    "        return [item[\"title\"] for item in data[\"query\"][\"categorymembers\"]]\n",
    "    return [item[\"title\"] for item in data[\"query\"][\"random\"]]\n",
    "\n",
    "def fetch_article_content(language, title):\n",
    "    \"\"\"\n",
    "    Fetch the content of a Wikipedia article in the specified language.\n",
    "    \"\"\"\n",
    "    url = f\"https://{language}.wikipedia.org/w/api.php\"\n",
    "    params = {\n",
    "        \"action\": \"query\",\n",
    "        \"prop\": \"extracts\",\n",
    "        \"explaintext\": True,\n",
    "        \"titles\": title,\n",
    "        \"format\": \"json\",\n",
    "    }\n",
    "    response = requests.get(url, params=params)\n",
    "    pages = response.json()[\"query\"][\"pages\"]\n",
    "    for page_id, page in pages.items():\n",
    "        if \"extract\" in page:\n",
    "            return page[\"extract\"]\n",
    "    return None\n",
    "\n",
    "def fetch_interlanguage_links(language, title):\n",
    "    \"\"\"\n",
    "    Fetch interlanguage links for a given article title.\n",
    "    \"\"\"\n",
    "    url = f\"https://{language}.wikipedia.org/w/api.php\"\n",
    "    params = {\n",
    "        \"action\": \"query\",\n",
    "        \"prop\": \"langlinks\",\n",
    "        \"titles\": title,\n",
    "        \"lllimit\": \"max\",\n",
    "        \"format\": \"json\",\n",
    "    }\n",
    "    response = requests.get(url, params=params)\n",
    "    pages = response.json()[\"query\"][\"pages\"]\n",
    "    for page_id, page in pages.items():\n",
    "        if \"langlinks\" in page:\n",
    "            return {link[\"lang\"]: link[\"*\"] for link in page[\"langlinks\"]}\n",
    "    return {}\n",
    "\n",
    "def build_parallel_dataset(lang1, lang2, titles):\n",
    "    \"\"\"\n",
    "    Build a parallel dataset for two languages.\n",
    "    \"\"\"\n",
    "    dataset = []\n",
    "    for title in titles:\n",
    "        interlanguage_links = fetch_interlanguage_links(lang1, title)\n",
    "        if lang2 in interlanguage_links:\n",
    "            content_lang1 = fetch_article_content(lang1, title)\n",
    "            content_lang2 = fetch_article_content(lang2, interlanguage_links[lang2])\n",
    "            if content_lang1 and content_lang2:\n",
    "                dataset.append({\n",
    "                    lang1: content_lang1,\n",
    "                    lang2: content_lang2,\n",
    "                })\n",
    "    return dataset\n",
    "\n",
    "# Example usage\n",
    "if __name__ == \"__main__\":\n",
    "    lang1 = \"en\"  # English\n",
    "    lang2 = \"fr\"  # Spanish\n",
    "    article_titles = fetch_article_titles(lang1, limit=5)  # Fetch random article titles\n",
    "    parallel_data = build_parallel_dataset(lang1, lang2, article_titles)\n",
    "    \n",
    "    # Save to JSON file\n",
    "    with open(\"parallel_dataset.json\", \"w\", encoding=\"utf-8\") as f:\n",
    "        json.dump(parallel_data, f, ensure_ascii=False, indent=4)\n",
    "    \n",
    "    print(\"Parallel dataset created!\")\n"
   ],
   "id": "227189ef2c7a494e",
   "outputs": [
    {
     "name": "stdout",
     "output_type": "stream",
     "text": [
      "Parallel dataset created!\n"
     ]
    }
   ],
   "execution_count": 4
  },
  {
   "metadata": {
    "ExecuteTime": {
     "end_time": "2024-12-24T14:24:05.596122Z",
     "start_time": "2024-12-24T14:24:05.169565Z"
    }
   },
   "cell_type": "code",
   "source": "len(fetch_interlanguage_links('en', 'Elon Musk').keys())",
   "id": "ce5402efe78c8efc",
   "outputs": [
    {
     "data": {
      "text/plain": [
       "145"
      ]
     },
     "execution_count": 7,
     "metadata": {},
     "output_type": "execute_result"
    }
   ],
   "execution_count": 7
  },
  {
   "metadata": {
    "ExecuteTime": {
     "end_time": "2024-12-24T13:00:31.685898Z",
     "start_time": "2024-12-24T12:59:16.013632Z"
    }
   },
   "cell_type": "code",
   "source": [
    "import requests\n",
    "import json\n",
    "\n",
    "def fetch_article_titles(language, limit=10):\n",
    "    \"\"\"\n",
    "    Fetch article titles from Wikipedia in the specified language.\n",
    "    \"\"\"\n",
    "    url = f\"https://{language}.wikipedia.org/w/api.php\"\n",
    "    params = {\n",
    "        \"action\": \"query\",\n",
    "        \"list\": \"random\",\n",
    "        \"rnnamespace\": 0,\n",
    "        \"rnlimit\": limit,\n",
    "        \"format\": \"json\",\n",
    "    }\n",
    "    response = requests.get(url, params=params)\n",
    "    data = response.json()\n",
    "    return [item[\"title\"] for item in data[\"query\"][\"random\"]]\n",
    "\n",
    "def fetch_article_content(language, title):\n",
    "    \"\"\"\n",
    "    Fetch the content of a Wikipedia article in the specified language.\n",
    "    \"\"\"\n",
    "    url = f\"https://{language}.wikipedia.org/w/api.php\"\n",
    "    params = {\n",
    "        \"action\": \"query\",\n",
    "        \"prop\": \"extracts\",\n",
    "        \"explaintext\": True,\n",
    "        \"titles\": title,\n",
    "        \"format\": \"json\",\n",
    "    }\n",
    "    response = requests.get(url, params=params)\n",
    "    pages = response.json()[\"query\"][\"pages\"]\n",
    "    for page_id, page in pages.items():\n",
    "        if \"extract\" in page:\n",
    "            return page[\"extract\"]\n",
    "    return None\n",
    "\n",
    "def fetch_interlanguage_links(language, title):\n",
    "    \"\"\"\n",
    "    Fetch interlanguage links for a given article title.\n",
    "    \"\"\"\n",
    "    url = f\"https://{language}.wikipedia.org/w/api.php\"\n",
    "    params = {\n",
    "        \"action\": \"query\",\n",
    "        \"prop\": \"langlinks\",\n",
    "        \"titles\": title,\n",
    "        \"lllimit\": \"max\",\n",
    "        \"format\": \"json\",\n",
    "    }\n",
    "    response = requests.get(url, params=params)\n",
    "    pages = response.json()[\"query\"][\"pages\"]\n",
    "    for page_id, page in pages.items():\n",
    "        if \"langlinks\" in page:\n",
    "            return {link[\"lang\"]: link[\"*\"] for link in page[\"langlinks\"]}\n",
    "    return {}\n",
    "\n",
    "def build_parallel_dataset(languages_dict):\n",
    "    \"\"\"\n",
    "    Build a parallel dataset for multiple languages based on interlanguage links.\n",
    "    \"\"\"\n",
    "    parallel_data = {}\n",
    "    \n",
    "    for script, info in languages_dict.items():\n",
    "        langs = info['langs']\n",
    "        dataset = []\n",
    "        \n",
    "        for lang1 in langs:\n",
    "            article_titles = fetch_article_titles(lang1, limit=5)\n",
    "            \n",
    "            for title in article_titles:\n",
    "                interlanguage_links = fetch_interlanguage_links(lang1, title)\n",
    "                \n",
    "                for lang2 in langs:\n",
    "                    if lang2 != lang1 and lang2 in interlanguage_links:\n",
    "                        content_lang1 = fetch_article_content(lang1, title)\n",
    "                        content_lang2 = fetch_article_content(lang2, interlanguage_links[lang2])\n",
    "                        \n",
    "                        if content_lang1 and content_lang2:\n",
    "                            dataset.append({\n",
    "                                lang1: content_lang1,\n",
    "                                lang2: content_lang2,\n",
    "                            })\n",
    "        \n",
    "        parallel_data[script] = dataset\n",
    "    \n",
    "    return parallel_data\n",
    "\n",
    "# Language groups for parallel dataset\n",
    "languages_dict = {\n",
    "    'Latin': {'langs': [\"en\", \"fr\", \"it\", \"es\"], 'color': 'black'},\n",
    "    'Cyrillic': {'langs': [\"ru\", \"uk\", \"bg\"], 'color': 'red'},\n",
    "    'Devanagari': {'langs': [\"hi\", \"bn\"], 'color': 'blue'},\n",
    "    'Chinese': {'langs': [\"zh\"], 'color': 'orange'},\n",
    "    'Japanese': {'langs': [\"ja\"], 'color': 'purple'},\n",
    "    'Hebrew': {'langs': [\"he\"], 'color': 'brown'},\n",
    "    'Arabic': {'langs': [\"ar\"], 'color': 'green'}\n",
    "}\n",
    "\n",
    "# Fetch parallel data\n",
    "parallel_data = build_parallel_dataset(languages_dict)\n",
    "\n",
    "# Save to JSON file\n",
    "with open(\"parallel_dataset_all.json\", \"w\", encoding=\"utf-8\") as f:\n",
    "    json.dump(parallel_data, f, ensure_ascii=False, indent=4)\n",
    "\n",
    "print(\"Parallel dataset created!\")\n"
   ],
   "id": "1d4fdf50382590b0",
   "outputs": [
    {
     "name": "stdout",
     "output_type": "stream",
     "text": [
      "Parallel dataset created!\n"
     ]
    }
   ],
   "execution_count": 42
  },
  {
   "metadata": {
    "ExecuteTime": {
     "end_time": "2024-12-24T13:08:17.324064Z",
     "start_time": "2024-12-24T13:07:38.848864Z"
    }
   },
   "cell_type": "code",
   "source": [
    "import requests\n",
    "import json\n",
    "\n",
    "def fetch_article_titles(language, limit=10):\n",
    "    \"\"\"\n",
    "    Fetch article titles from Wikipedia in the specified language.\n",
    "    \"\"\"\n",
    "    url = f\"https://{language}.wikipedia.org/w/api.php\"\n",
    "    params = {\n",
    "        \"action\": \"query\",\n",
    "        \"list\": \"random\",\n",
    "        \"rnnamespace\": 0,\n",
    "        \"rnlimit\": limit,\n",
    "        \"format\": \"json\",\n",
    "    }\n",
    "    response = requests.get(url, params=params)\n",
    "    data = response.json()\n",
    "    return [item[\"title\"] for item in data[\"query\"][\"random\"]]\n",
    "\n",
    "def fetch_article_content(language, title):\n",
    "    \"\"\"\n",
    "    Fetch the content of a Wikipedia article in the specified language.\n",
    "    \"\"\"\n",
    "    url = f\"https://{language}.wikipedia.org/w/api.php\"\n",
    "    params = {\n",
    "        \"action\": \"query\",\n",
    "        \"prop\": \"extracts\",\n",
    "        \"explaintext\": True,\n",
    "        \"titles\": title,\n",
    "        \"format\": \"json\",\n",
    "    }\n",
    "    response = requests.get(url, params=params)\n",
    "    pages = response.json()[\"query\"][\"pages\"]\n",
    "    for page_id, page in pages.items():\n",
    "        if \"extract\" in page:\n",
    "            return page[\"extract\"]\n",
    "    return None\n",
    "\n",
    "def fetch_interlanguage_links(language, title):\n",
    "    \"\"\"\n",
    "    Fetch interlanguage links for a given article title.\n",
    "    \"\"\"\n",
    "    url = f\"https://{language}.wikipedia.org/w/api.php\"\n",
    "    params = {\n",
    "        \"action\": \"query\",\n",
    "        \"prop\": \"langlinks\",\n",
    "        \"titles\": title,\n",
    "        \"lllimit\": \"max\",\n",
    "        \"format\": \"json\",\n",
    "    }\n",
    "    response = requests.get(url, params=params)\n",
    "    pages = response.json()[\"query\"][\"pages\"]\n",
    "    for page_id, page in pages.items():\n",
    "        if \"langlinks\" in page:\n",
    "            return {link[\"lang\"]: link[\"*\"] for link in page[\"langlinks\"]}\n",
    "    return {}\n",
    "\n",
    "def build_parallel_dataset(languages, titles_limit=10, articles_limit=5):\n",
    "    \"\"\"\n",
    "    Build a parallel dataset by fetching articles in as many languages as possible.\n",
    "    \"\"\"\n",
    "    parallel_data = []\n",
    "    \n",
    "    for lang in languages:\n",
    "        article_titles = fetch_article_titles(lang, limit=titles_limit)\n",
    "        \n",
    "        for title in article_titles:\n",
    "            interlanguage_links = fetch_interlanguage_links(lang, title)\n",
    "            content_dict = {lang: fetch_article_content(lang, title)}  # Content in the original language\n",
    "\n",
    "            # Fetch content in all other available languages\n",
    "            for other_lang, other_title in interlanguage_links.items():\n",
    "                if other_lang != lang:  # Avoid fetching the same language\n",
    "                    content_dict[other_lang] = fetch_article_content(other_lang, other_title)\n",
    "\n",
    "            # Only keep the title if we have content in at least two languages\n",
    "            if len(content_dict) > 1:\n",
    "                parallel_data.append(content_dict)\n",
    "                \n",
    "                # Limit the number of articles in the dataset\n",
    "                if len(parallel_data) >= articles_limit:\n",
    "                    break\n",
    "        if len(parallel_data) >= articles_limit:\n",
    "            break\n",
    "    \n",
    "    return parallel_data\n",
    "\n",
    "# List of languages you want to collect data from\n",
    "languages = [\"en\", \"fr\", \"it\", \"es\", \"ru\", \"uk\", \"bg\", \"hi\", \"bn\", \"zh\", \"ja\", \"he\", \"ar\"]\n",
    "\n",
    "# Fetch parallel data\n",
    "parallel_data = build_parallel_dataset(languages)\n",
    "\n",
    "# Save to JSON file\n",
    "with open(\"parallel_dataset_all_languages.json\", \"w\", encoding=\"utf-8\") as f:\n",
    "    json.dump(parallel_data, f, ensure_ascii=False, indent=4)\n",
    "\n",
    "print(\"Parallel dataset created!\")\n"
   ],
   "id": "fb5ae9fe882a7214",
   "outputs": [
    {
     "name": "stdout",
     "output_type": "stream",
     "text": [
      "Parallel dataset created!\n"
     ]
    }
   ],
   "execution_count": 43
  },
  {
   "metadata": {
    "ExecuteTime": {
     "end_time": "2024-12-24T13:14:26.260945Z",
     "start_time": "2024-12-24T13:13:54.580620Z"
    }
   },
   "cell_type": "code",
   "source": [
    "import requests\n",
    "import json\n",
    "\n",
    "def fetch_article_titles(language, limit=10):\n",
    "    \"\"\"\n",
    "    Fetch article titles from Wikipedia in the specified language.\n",
    "    \"\"\"\n",
    "    url = f\"https://{language}.wikipedia.org/w/api.php\"\n",
    "    params = {\n",
    "        \"action\": \"query\",\n",
    "        \"list\": \"random\",\n",
    "        \"rnnamespace\": 0,\n",
    "        \"rnlimit\": limit,\n",
    "        \"format\": \"json\",\n",
    "    }\n",
    "    response = requests.get(url, params=params)\n",
    "    data = response.json()\n",
    "    return [item[\"title\"] for item in data[\"query\"][\"random\"]]\n",
    "\n",
    "def fetch_article_content(language, title):\n",
    "    \"\"\"\n",
    "    Fetch the content of a Wikipedia article in the specified language.\n",
    "    \"\"\"\n",
    "    url = f\"https://{language}.wikipedia.org/w/api.php\"\n",
    "    params = {\n",
    "        \"action\": \"query\",\n",
    "        \"prop\": \"extracts\",\n",
    "        \"explaintext\": True,\n",
    "        \"titles\": title,\n",
    "        \"format\": \"json\",\n",
    "    }\n",
    "    response = requests.get(url, params=params)\n",
    "    pages = response.json()[\"query\"][\"pages\"]\n",
    "    for page_id, page in pages.items():\n",
    "        if \"extract\" in page:\n",
    "            return page[\"extract\"]\n",
    "    return None\n",
    "\n",
    "def fetch_interlanguage_links(language, title):\n",
    "    \"\"\"\n",
    "    Fetch interlanguage links for a given article title.\n",
    "    \"\"\"\n",
    "    url = f\"https://{language}.wikipedia.org/w/api.php\"\n",
    "    params = {\n",
    "        \"action\": \"query\",\n",
    "        \"prop\": \"langlinks\",\n",
    "        \"titles\": title,\n",
    "        \"lllimit\": \"max\",\n",
    "        \"format\": \"json\",\n",
    "    }\n",
    "    response = requests.get(url, params=params)\n",
    "    pages = response.json()[\"query\"][\"pages\"]\n",
    "    for page_id, page in pages.items():\n",
    "        if \"langlinks\" in page:\n",
    "            return {link[\"lang\"]: link[\"*\"] for link in page[\"langlinks\"]}\n",
    "    return {}\n",
    "\n",
    "def build_parallel_dataset(languages, titles_limit=10, articles_limit=5):\n",
    "    \"\"\"\n",
    "    Build a parallel dataset by fetching articles in as many languages as possible.\n",
    "    \"\"\"\n",
    "    parallel_data = []\n",
    "    \n",
    "    for lang in languages:\n",
    "        article_titles = fetch_article_titles(lang, limit=titles_limit)\n",
    "        \n",
    "        for title in article_titles:\n",
    "            interlanguage_links = fetch_interlanguage_links(lang, title)\n",
    "            content_dict = {\"title\": title, lang: fetch_article_content(lang, title)}  # Content in the original language\n",
    "\n",
    "            # Fetch content in all other available languages\n",
    "            for other_lang, other_title in interlanguage_links.items():\n",
    "                if other_lang != lang:  # Avoid fetching the same language\n",
    "                    content_dict[other_lang] = fetch_article_content(other_lang, other_title)\n",
    "\n",
    "            # Only keep the title if we have content in at least two languages\n",
    "            if len(content_dict) > 2:  # Include the title and at least one other language\n",
    "                parallel_data.append(content_dict)\n",
    "                \n",
    "                # Limit the number of articles in the dataset\n",
    "                if len(parallel_data) >= articles_limit:\n",
    "                    break\n",
    "        if len(parallel_data) >= articles_limit:\n",
    "            break\n",
    "    \n",
    "    return parallel_data\n",
    "\n",
    "# List of languages you want to collect data from\n",
    "languages = [\"en\", \"fr\", \"it\", \"es\", \"ru\", \"uk\", \"bg\", \"hi\", \"bn\", \"zh\", \"ja\", \"he\", \"ar\"]\n",
    "\n",
    "# Fetch parallel data\n",
    "parallel_data = build_parallel_dataset(languages)\n",
    "\n",
    "# Save to JSON file\n",
    "with open(\"parallel_dataset_with_titles.json\", \"w\", encoding=\"utf-8\") as f:\n",
    "    json.dump(parallel_data, f, ensure_ascii=False, indent=4)\n",
    "\n",
    "print(\"Parallel dataset with titles created!\")\n"
   ],
   "id": "1a0509abf809372a",
   "outputs": [
    {
     "name": "stdout",
     "output_type": "stream",
     "text": [
      "Parallel dataset with titles created!\n"
     ]
    }
   ],
   "execution_count": 44
  },
  {
   "metadata": {
    "ExecuteTime": {
     "end_time": "2024-12-24T15:07:19.781271Z",
     "start_time": "2024-12-24T14:41:46.320720Z"
    }
   },
   "cell_type": "code",
   "source": [
    "import requests\n",
    "import json\n",
    "\n",
    "def fetch_category_articles(language, category, limit=10):\n",
    "    \"\"\"\n",
    "    Fetch article titles from a specified category in Wikipedia.\n",
    "    \"\"\"\n",
    "    url = f\"https://{language}.wikipedia.org/w/api.php\"\n",
    "    params = {\n",
    "        \"action\": \"query\",\n",
    "        \"list\": \"categorymembers\",\n",
    "        \"cmtitle\": f\"Category:{category}\",\n",
    "        \"cmlimit\": limit,\n",
    "        \"format\": \"json\",\n",
    "    }\n",
    "    response = requests.get(url, params=params)\n",
    "    data = response.json()\n",
    "    if \"query\" in data:\n",
    "        return [item[\"title\"] for item in data[\"query\"][\"categorymembers\"]]\n",
    "    return []\n",
    "\n",
    "def fetch_article_content(language, title):\n",
    "    \"\"\"\n",
    "    Fetch the content of a Wikipedia article in the specified language.\n",
    "    \"\"\"\n",
    "    url = f\"https://{language}.wikipedia.org/w/api.php\"\n",
    "    params = {\n",
    "        \"action\": \"query\",\n",
    "        \"prop\": \"extracts\",\n",
    "        \"explaintext\": True,\n",
    "        \"titles\": title,\n",
    "        \"format\": \"json\",\n",
    "    }\n",
    "    response = requests.get(url, params=params)\n",
    "    pages = response.json()[\"query\"][\"pages\"]\n",
    "    for page_id, page in pages.items():\n",
    "        if \"extract\" in page:\n",
    "            return page[\"extract\"]\n",
    "    return None\n",
    "\n",
    "def fetch_interlanguage_links(language, title):\n",
    "    \"\"\"\n",
    "    Fetch interlanguage links for a given article title.\n",
    "    \"\"\"\n",
    "    url = f\"https://{language}.wikipedia.org/w/api.php\"\n",
    "    params = {\n",
    "        \"action\": \"query\",\n",
    "        \"prop\": \"langlinks\",\n",
    "        \"titles\": title,\n",
    "        \"lllimit\": \"max\",\n",
    "        \"format\": \"json\",\n",
    "    }\n",
    "    response = requests.get(url, params=params)\n",
    "    pages = response.json()[\"query\"][\"pages\"]\n",
    "    for page_id, page in pages.items():\n",
    "        if \"langlinks\" in page:\n",
    "            return {link[\"lang\"]: link[\"*\"] for link in page[\"langlinks\"]}\n",
    "    return {}\n",
    "\n",
    "def build_subject_dataset(subjects, languages, titles_limit=10, articles_limit_per_subject=5):\n",
    "    \"\"\"\n",
    "    Build a parallel dataset grouped by subjects.\n",
    "    \"\"\"\n",
    "    subject_data = {}\n",
    "    \n",
    "    for subject in subjects:\n",
    "        print(f\"Fetching data for subject: {subject}\")\n",
    "        subject_data[subject] = []\n",
    "\n",
    "        # Fetch articles in each language for the current subject\n",
    "        for lang in languages:\n",
    "            article_titles = fetch_category_articles(lang, subject, limit=titles_limit)\n",
    "            \n",
    "            for title in article_titles:\n",
    "                interlanguage_links = fetch_interlanguage_links(lang, title)\n",
    "                content_dict = {\"title\": title, lang: fetch_article_content(lang, title)}\n",
    "\n",
    "                # Fetch content in all other available languages\n",
    "                for other_lang, other_title in interlanguage_links.items():\n",
    "                    if other_lang != lang:  # Avoid fetching the same language\n",
    "                        content_dict[other_lang] = fetch_article_content(other_lang, other_title)\n",
    "\n",
    "                # Only keep the title if we have content in at least two languages\n",
    "                if len(content_dict) > 2:  # Include the title and at least one other language\n",
    "                    subject_data[subject].append(content_dict)\n",
    "\n",
    "                    # Limit the number of articles for the subject\n",
    "                    if len(subject_data[subject]) >= articles_limit_per_subject:\n",
    "                        break\n",
    "            if len(subject_data[subject]) >= articles_limit_per_subject:\n",
    "                break\n",
    "\n",
    "    return subject_data\n",
    "\n",
    "# Define subjects and languages\n",
    "subjects = [\"Science\", \"History\", \"Art\", \"Technology\", \"Sports\"]\n",
    "languages = [\"en\", \"fr\", \"it\", \"es\", \"ru\", \"uk\", \"bg\", \"hi\", \"bn\", \"zh\", \"ja\", \"he\", \"ar\"]\n",
    "\n",
    "# Fetch subject-based parallel data\n",
    "subject_parallel_data = build_subject_dataset(subjects, languages)\n",
    "\n",
    "# Save to JSON file\n",
    "with open(\"subject_parallel_dataset.json\", \"w\", encoding=\"utf-8\") as f:\n",
    "    json.dump(subject_parallel_data, f, ensure_ascii=False, indent=4)\n",
    "\n",
    "print(\"Subject-based parallel dataset created!\")\n"
   ],
   "id": "f27902695e041a73",
   "outputs": [
    {
     "name": "stdout",
     "output_type": "stream",
     "text": [
      "Fetching data for subject: Science\n",
      "Fetching data for subject: History\n",
      "Fetching data for subject: Art\n",
      "Fetching data for subject: Technology\n",
      "Fetching data for subject: Sports\n",
      "Subject-based parallel dataset created!\n"
     ]
    }
   ],
   "execution_count": 8
  },
  {
   "metadata": {
    "ExecuteTime": {
     "end_time": "2024-12-24T15:09:55.657951Z",
     "start_time": "2024-12-24T15:09:55.602489Z"
    }
   },
   "cell_type": "code",
   "source": "data = json.loads(open(\"subject_parallel_dataset.json\", \"r\").read())",
   "id": "52a6af5a54d50586",
   "outputs": [],
   "execution_count": 10
  },
  {
   "metadata": {
    "ExecuteTime": {
     "end_time": "2024-12-24T15:10:11.687762Z",
     "start_time": "2024-12-24T15:10:11.682970Z"
    }
   },
   "cell_type": "code",
   "source": "data.keys()",
   "id": "f494937dfcb86e71",
   "outputs": [
    {
     "data": {
      "text/plain": [
       "dict_keys(['Science', 'History', 'Art', 'Technology', 'Sports'])"
      ]
     },
     "execution_count": 12,
     "metadata": {},
     "output_type": "execute_result"
    }
   ],
   "execution_count": 12
  },
  {
   "metadata": {
    "ExecuteTime": {
     "end_time": "2024-12-24T15:10:36.879552Z",
     "start_time": "2024-12-24T15:10:36.875682Z"
    }
   },
   "cell_type": "code",
   "source": "len(data['Science'])",
   "id": "d342f54c54b439e3",
   "outputs": [
    {
     "data": {
      "text/plain": [
       "5"
      ]
     },
     "execution_count": 14,
     "metadata": {},
     "output_type": "execute_result"
    }
   ],
   "execution_count": 14
  },
  {
   "metadata": {
    "ExecuteTime": {
     "end_time": "2024-12-24T15:11:09.543867Z",
     "start_time": "2024-12-24T15:11:09.540015Z"
    }
   },
   "cell_type": "code",
   "source": "data['Science'][1]['title']",
   "id": "201efc25db8d8893",
   "outputs": [
    {
     "data": {
      "text/plain": [
       "'Outline of science'"
      ]
     },
     "execution_count": 16,
     "metadata": {},
     "output_type": "execute_result"
    }
   ],
   "execution_count": 16
  },
  {
   "metadata": {
    "ExecuteTime": {
     "end_time": "2024-12-24T15:13:17.123553Z",
     "start_time": "2024-12-24T15:11:59.132840Z"
    }
   },
   "cell_type": "code",
   "source": [
    "import requests\n",
    "import json\n",
    "\n",
    "def fetch_article_categories(language, title):\n",
    "    \"\"\"\n",
    "    Fetch the categories (subjects) for a given article title.\n",
    "    \"\"\"\n",
    "    url = f\"https://{language}.wikipedia.org/w/api.php\"\n",
    "    params = {\n",
    "        \"action\": \"query\",\n",
    "        \"prop\": \"categories\",\n",
    "        \"titles\": title,\n",
    "        \"cllimit\": \"max\",\n",
    "        \"format\": \"json\",\n",
    "    }\n",
    "    response = requests.get(url, params=params)\n",
    "    data = response.json()\n",
    "    pages = data[\"query\"][\"pages\"]\n",
    "    for page_id, page in pages.items():\n",
    "        if \"categories\" in page:\n",
    "            return [cat[\"title\"].replace(\"Category:\", \"\") for cat in page[\"categories\"]]\n",
    "    return []\n",
    "\n",
    "def fetch_article_titles(language, limit=10):\n",
    "    \"\"\"\n",
    "    Fetch article titles from Wikipedia in the specified language.\n",
    "    \"\"\"\n",
    "    url = f\"https://{language}.wikipedia.org/w/api.php\"\n",
    "    params = {\n",
    "        \"action\": \"query\",\n",
    "        \"list\": \"random\",\n",
    "        \"rnnamespace\": 0,\n",
    "        \"rnlimit\": limit,\n",
    "        \"format\": \"json\",\n",
    "    }\n",
    "    response = requests.get(url, params=params)\n",
    "    data = response.json()\n",
    "    return [item[\"title\"] for item in data[\"query\"][\"random\"]]\n",
    "\n",
    "def fetch_article_content(language, title):\n",
    "    \"\"\"\n",
    "    Fetch the content of a Wikipedia article in the specified language.\n",
    "    \"\"\"\n",
    "    url = f\"https://{language}.wikipedia.org/w/api.php\"\n",
    "    params = {\n",
    "        \"action\": \"query\",\n",
    "        \"prop\": \"extracts\",\n",
    "        \"explaintext\": True,\n",
    "        \"titles\": title,\n",
    "        \"format\": \"json\",\n",
    "    }\n",
    "    response = requests.get(url, params=params)\n",
    "    pages = response.json()[\"query\"][\"pages\"]\n",
    "    for page_id, page in pages.items():\n",
    "        if \"extract\" in page:\n",
    "            return page[\"extract\"]\n",
    "    return None\n",
    "\n",
    "def fetch_interlanguage_links(language, title):\n",
    "    \"\"\"\n",
    "    Fetch interlanguage links for a given article title.\n",
    "    \"\"\"\n",
    "    url = f\"https://{language}.wikipedia.org/w/api.php\"\n",
    "    params = {\n",
    "        \"action\": \"query\",\n",
    "        \"prop\": \"langlinks\",\n",
    "        \"titles\": title,\n",
    "        \"lllimit\": \"max\",\n",
    "        \"format\": \"json\",\n",
    "    }\n",
    "    response = requests.get(url, params=params)\n",
    "    pages = response.json()[\"query\"][\"pages\"]\n",
    "    for page_id, page in pages.items():\n",
    "        if \"langlinks\" in page:\n",
    "            return {link[\"lang\"]: link[\"*\"] for link in page[\"langlinks\"]}\n",
    "    return {}\n",
    "\n",
    "def build_dataset_with_subjects(languages, titles_limit=10, articles_limit=10):\n",
    "    \"\"\"\n",
    "    Build a dataset by fetching articles in various languages and associating subjects (categories).\n",
    "    \"\"\"\n",
    "    dataset = []\n",
    "\n",
    "    for lang in languages:\n",
    "        print(f\"Fetching articles for language: {lang}\")\n",
    "        article_titles = fetch_article_titles(lang, limit=titles_limit)\n",
    "\n",
    "        for title in article_titles:\n",
    "            interlanguage_links = fetch_interlanguage_links(lang, title)\n",
    "            content_dict = {\n",
    "                \"title\": title,\n",
    "                \"categories\": fetch_article_categories(lang, title),\n",
    "                lang: fetch_article_content(lang, title),\n",
    "            }\n",
    "\n",
    "            # Fetch content in all other available languages\n",
    "            for other_lang, other_title in interlanguage_links.items():\n",
    "                if other_lang != lang:  # Avoid fetching the same language\n",
    "                    content_dict[other_lang] = fetch_article_content(other_lang, other_title)\n",
    "\n",
    "            # Only keep the title if we have content in at least two languages\n",
    "            if len(content_dict) > 3:  # Include title, categories, and at least one language\n",
    "                dataset.append(content_dict)\n",
    "\n",
    "                # Limit the number of articles in the dataset\n",
    "                if len(dataset) >= articles_limit:\n",
    "                    break\n",
    "        if len(dataset) >= articles_limit:\n",
    "            break\n",
    "\n",
    "    return dataset\n",
    "\n",
    "# Define target languages\n",
    "languages = [\"en\", \"fr\", \"it\", \"es\", \"ru\", \"uk\", \"bg\", \"hi\", \"bn\", \"zh\", \"ja\", \"he\", \"ar\"]\n",
    "\n",
    "# Fetch dataset with subjects\n",
    "dataset_with_subjects = build_dataset_with_subjects(languages)\n",
    "\n",
    "# Save to JSON file\n",
    "with open(\"dataset_with_subjects.json\", \"w\", encoding=\"utf-8\") as f:\n",
    "    json.dump(dataset_with_subjects, f, ensure_ascii=False, indent=4)\n",
    "\n",
    "print(\"Dataset with subjects created!\")\n"
   ],
   "id": "a9921c82e806fe6",
   "outputs": [
    {
     "name": "stdout",
     "output_type": "stream",
     "text": [
      "Fetching articles for language: en\n",
      "Fetching articles for language: fr\n",
      "Dataset with subjects created!\n"
     ]
    }
   ],
   "execution_count": 17
  },
  {
   "metadata": {
    "ExecuteTime": {
     "end_time": "2024-12-24T16:20:41.185067Z",
     "start_time": "2024-12-24T16:20:40.748931Z"
    }
   },
   "cell_type": "code",
   "source": [
    "import pandas as pd\n",
    "df = pd.read_parquet('test-00000-of-00001.parquet', engine='fastparquet')\n",
    "df"
   ],
   "id": "cab545db26f9fb93",
   "outputs": [
    {
     "data": {
      "text/plain": [
       "      wikidata_id                                               text  \\\n",
       "0       b'Q33405'  b'\\n_START_ARTICLE_\\n\\xd7\\x9c\\xd7\\x99\\xd7\\x98\\...   \n",
       "1      b'Q818077'  b'\\n_START_ARTICLE_\\n\\xd7\\x91\\xd7\\xa0\\xd7\\x99 ...   \n",
       "2     b'Q1673289'  b'\\n_START_ARTICLE_\\n\\xd7\\x90\\xd7\\x99\\xd7\\xa8\\...   \n",
       "3      b'Q171927'  b'\\n_START_ARTICLE_\\n\\xd7\\xa4\\xd7\\x99\\xd7\\x92\\...   \n",
       "4      b'Q316565'  b'\\n_START_ARTICLE_\\n\\xd7\\x92\\'\\xd7\\x95\\xd7\\xa...   \n",
       "...           ...                                                ...   \n",
       "9339   b'Q870692'  b'\\n_START_ARTICLE_\\n\\xd7\\x9e\\xd7\\x90\\xd7\\x99\\...   \n",
       "9340   b'Q838974'  b'\\n_START_ARTICLE_\\n\\xd7\\x92\\xd7\\x90\\xd7\\x95\\...   \n",
       "9341   b'Q443199'  b'\\n_START_ARTICLE_\\n\\xd7\\x99\\xd7\\xa6\\xd7\\x97\\...   \n",
       "9342   b'Q409389'  b'\\n_START_ARTICLE_\\n\\xd7\\x96\\xd7\\x90\\xd7\\x91 ...   \n",
       "9343  b'Q3720656'  b'\\n_START_ARTICLE_\\n\\xd7\\x90\\xd7\\x9e\\xd7\\x99\\...   \n",
       "\n",
       "                   version_id  \n",
       "0      b'8382329801737054180'  \n",
       "1     b'14287428344613410403'  \n",
       "2     b'17253359673549679771'  \n",
       "3      b'5134747139194392376'  \n",
       "4      b'3144855968866628806'  \n",
       "...                       ...  \n",
       "9339   b'6300506119141258891'  \n",
       "9340   b'1797171239589369409'  \n",
       "9341   b'7929431704374002496'  \n",
       "9342  b'17302922204255524163'  \n",
       "9343    b'860738412643233676'  \n",
       "\n",
       "[9344 rows x 3 columns]"
      ],
      "text/html": [
       "<div>\n",
       "<style scoped>\n",
       "    .dataframe tbody tr th:only-of-type {\n",
       "        vertical-align: middle;\n",
       "    }\n",
       "\n",
       "    .dataframe tbody tr th {\n",
       "        vertical-align: top;\n",
       "    }\n",
       "\n",
       "    .dataframe thead th {\n",
       "        text-align: right;\n",
       "    }\n",
       "</style>\n",
       "<table border=\"1\" class=\"dataframe\">\n",
       "  <thead>\n",
       "    <tr style=\"text-align: right;\">\n",
       "      <th></th>\n",
       "      <th>wikidata_id</th>\n",
       "      <th>text</th>\n",
       "      <th>version_id</th>\n",
       "    </tr>\n",
       "  </thead>\n",
       "  <tbody>\n",
       "    <tr>\n",
       "      <th>0</th>\n",
       "      <td>b'Q33405'</td>\n",
       "      <td>b'\\n_START_ARTICLE_\\n\\xd7\\x9c\\xd7\\x99\\xd7\\x98\\...</td>\n",
       "      <td>b'8382329801737054180'</td>\n",
       "    </tr>\n",
       "    <tr>\n",
       "      <th>1</th>\n",
       "      <td>b'Q818077'</td>\n",
       "      <td>b'\\n_START_ARTICLE_\\n\\xd7\\x91\\xd7\\xa0\\xd7\\x99 ...</td>\n",
       "      <td>b'14287428344613410403'</td>\n",
       "    </tr>\n",
       "    <tr>\n",
       "      <th>2</th>\n",
       "      <td>b'Q1673289'</td>\n",
       "      <td>b'\\n_START_ARTICLE_\\n\\xd7\\x90\\xd7\\x99\\xd7\\xa8\\...</td>\n",
       "      <td>b'17253359673549679771'</td>\n",
       "    </tr>\n",
       "    <tr>\n",
       "      <th>3</th>\n",
       "      <td>b'Q171927'</td>\n",
       "      <td>b'\\n_START_ARTICLE_\\n\\xd7\\xa4\\xd7\\x99\\xd7\\x92\\...</td>\n",
       "      <td>b'5134747139194392376'</td>\n",
       "    </tr>\n",
       "    <tr>\n",
       "      <th>4</th>\n",
       "      <td>b'Q316565'</td>\n",
       "      <td>b'\\n_START_ARTICLE_\\n\\xd7\\x92\\'\\xd7\\x95\\xd7\\xa...</td>\n",
       "      <td>b'3144855968866628806'</td>\n",
       "    </tr>\n",
       "    <tr>\n",
       "      <th>...</th>\n",
       "      <td>...</td>\n",
       "      <td>...</td>\n",
       "      <td>...</td>\n",
       "    </tr>\n",
       "    <tr>\n",
       "      <th>9339</th>\n",
       "      <td>b'Q870692'</td>\n",
       "      <td>b'\\n_START_ARTICLE_\\n\\xd7\\x9e\\xd7\\x90\\xd7\\x99\\...</td>\n",
       "      <td>b'6300506119141258891'</td>\n",
       "    </tr>\n",
       "    <tr>\n",
       "      <th>9340</th>\n",
       "      <td>b'Q838974'</td>\n",
       "      <td>b'\\n_START_ARTICLE_\\n\\xd7\\x92\\xd7\\x90\\xd7\\x95\\...</td>\n",
       "      <td>b'1797171239589369409'</td>\n",
       "    </tr>\n",
       "    <tr>\n",
       "      <th>9341</th>\n",
       "      <td>b'Q443199'</td>\n",
       "      <td>b'\\n_START_ARTICLE_\\n\\xd7\\x99\\xd7\\xa6\\xd7\\x97\\...</td>\n",
       "      <td>b'7929431704374002496'</td>\n",
       "    </tr>\n",
       "    <tr>\n",
       "      <th>9342</th>\n",
       "      <td>b'Q409389'</td>\n",
       "      <td>b'\\n_START_ARTICLE_\\n\\xd7\\x96\\xd7\\x90\\xd7\\x91 ...</td>\n",
       "      <td>b'17302922204255524163'</td>\n",
       "    </tr>\n",
       "    <tr>\n",
       "      <th>9343</th>\n",
       "      <td>b'Q3720656'</td>\n",
       "      <td>b'\\n_START_ARTICLE_\\n\\xd7\\x90\\xd7\\x9e\\xd7\\x99\\...</td>\n",
       "      <td>b'860738412643233676'</td>\n",
       "    </tr>\n",
       "  </tbody>\n",
       "</table>\n",
       "<p>9344 rows × 3 columns</p>\n",
       "</div>"
      ]
     },
     "execution_count": 24,
     "metadata": {},
     "output_type": "execute_result"
    }
   ],
   "execution_count": 24
  },
  {
   "metadata": {
    "ExecuteTime": {
     "end_time": "2024-12-24T16:40:45.236959Z",
     "start_time": "2024-12-24T16:26:44.155105Z"
    }
   },
   "cell_type": "code",
   "source": [
    "from datasets import load_dataset\n",
    "import pandas as pd\n",
    "\n",
    "# Load the dataset for both Hebrew and English\n",
    "dataset_en = load_dataset(\"google/wiki40b\", \"en\", split=\"train\")\n",
    "dataset_he = load_dataset(\"google/wiki40b\", \"he\", split=\"train\")\n",
    "\n",
    "# Convert datasets to pandas DataFrames\n",
    "df_en = pd.DataFrame(dataset_en)\n",
    "df_he = pd.DataFrame(dataset_he)\n",
    "\n",
    "# Merge datasets on 'wikidata_id'\n",
    "# merged_df = pd.merge(df_en, df_he, on=\"wikidata_id\", suffixes=(\"_en\", \"_he\"))\n",
    "# \n",
    "# # Group by 'wikidata_id' if needed\n",
    "# grouped = merged_df.groupby(\"wikidata_id\").apply(lambda x: x.to_dict(orient=\"records\"))\n",
    "# \n",
    "# # Optionally, save or display the grouped data\n",
    "# print(grouped.head())\n",
    "\n"
   ],
   "id": "88633752f92397e4",
   "outputs": [
    {
     "data": {
      "text/plain": [
       "Downloading readme:   0%|          | 0.00/28.4k [00:00<?, ?B/s]"
      ],
      "application/vnd.jupyter.widget-view+json": {
       "version_major": 2,
       "version_minor": 0,
       "model_id": "96f6c48a0d90415aa2c6d351a1b16c5a"
      }
     },
     "metadata": {},
     "output_type": "display_data"
    },
    {
     "data": {
      "text/plain": [
       "Resolving data files:   0%|          | 0/19 [00:00<?, ?it/s]"
      ],
      "application/vnd.jupyter.widget-view+json": {
       "version_major": 2,
       "version_minor": 0,
       "model_id": "8111b5c4bba74e84b8c0d4d00b195e49"
      }
     },
     "metadata": {},
     "output_type": "display_data"
    },
    {
     "data": {
      "text/plain": [
       "Downloading data:   0%|          | 0/19 [00:00<?, ?files/s]"
      ],
      "application/vnd.jupyter.widget-view+json": {
       "version_major": 2,
       "version_minor": 0,
       "model_id": "3b4d928a6191459d9b1325665abcddbf"
      }
     },
     "metadata": {},
     "output_type": "display_data"
    },
    {
     "name": "stderr",
     "output_type": "stream",
     "text": [
      "Error while downloading from https://huggingface.co/datasets/google/wiki40b/resolve/06bfe584d8193cf58f79c6354ecc2a2b94a7deea/en/train-00016-of-00019.parquet: HTTPSConnectionPool(host='cdn-lfs.hf.co', port=443): Read timed out.\n",
      "Trying to resume download...\n"
     ]
    },
    {
     "data": {
      "text/plain": [
       "Downloading data:   0%|          | 0.00/156M [00:00<?, ?B/s]"
      ],
      "application/vnd.jupyter.widget-view+json": {
       "version_major": 2,
       "version_minor": 0,
       "model_id": "47656dc4f7fb41f8bb64141f6fb03448"
      }
     },
     "metadata": {},
     "output_type": "display_data"
    },
    {
     "data": {
      "text/plain": [
       "Downloading data:   0%|          | 0.00/157M [00:00<?, ?B/s]"
      ],
      "application/vnd.jupyter.widget-view+json": {
       "version_major": 2,
       "version_minor": 0,
       "model_id": "e32a833a3c9540268161d69ecde43dcf"
      }
     },
     "metadata": {},
     "output_type": "display_data"
    },
    {
     "data": {
      "text/plain": [
       "Downloading data:   0%|          | 0.00/154M [00:00<?, ?B/s]"
      ],
      "application/vnd.jupyter.widget-view+json": {
       "version_major": 2,
       "version_minor": 0,
       "model_id": "3afec56f9faf4abeb9fd4be76ba4e9df"
      }
     },
     "metadata": {},
     "output_type": "display_data"
    },
    {
     "data": {
      "text/plain": [
       "Downloading data:   0%|          | 0.00/155M [00:00<?, ?B/s]"
      ],
      "application/vnd.jupyter.widget-view+json": {
       "version_major": 2,
       "version_minor": 0,
       "model_id": "7b6e1f1ca78b421ab795bd5f2f67b3cf"
      }
     },
     "metadata": {},
     "output_type": "display_data"
    },
    {
     "data": {
      "text/plain": [
       "Generating train split:   0%|          | 0/2926536 [00:00<?, ? examples/s]"
      ],
      "application/vnd.jupyter.widget-view+json": {
       "version_major": 2,
       "version_minor": 0,
       "model_id": "fa541bdcbca14c0c982fce4bd75a0f9d"
      }
     },
     "metadata": {},
     "output_type": "display_data"
    },
    {
     "data": {
      "text/plain": [
       "Generating validation split:   0%|          | 0/163597 [00:00<?, ? examples/s]"
      ],
      "application/vnd.jupyter.widget-view+json": {
       "version_major": 2,
       "version_minor": 0,
       "model_id": "6d9ded7141a441a88023c10a933fe3e5"
      }
     },
     "metadata": {},
     "output_type": "display_data"
    },
    {
     "data": {
      "text/plain": [
       "Generating test split:   0%|          | 0/162274 [00:00<?, ? examples/s]"
      ],
      "application/vnd.jupyter.widget-view+json": {
       "version_major": 2,
       "version_minor": 0,
       "model_id": "2b0def0d39ad4152960974af39eb1e27"
      }
     },
     "metadata": {},
     "output_type": "display_data"
    },
    {
     "data": {
      "text/plain": [
       "Loading dataset shards:   0%|          | 0/19 [00:00<?, ?it/s]"
      ],
      "application/vnd.jupyter.widget-view+json": {
       "version_major": 2,
       "version_minor": 0,
       "model_id": "cb2b864d44f64e7ab815f481c3d08a4d"
      }
     },
     "metadata": {},
     "output_type": "display_data"
    },
    {
     "data": {
      "text/plain": [
       "Downloading data:   0%|          | 0.00/113M [00:00<?, ?B/s]"
      ],
      "application/vnd.jupyter.widget-view+json": {
       "version_major": 2,
       "version_minor": 0,
       "model_id": "23507c3394984a4b925f755df8c3067d"
      }
     },
     "metadata": {},
     "output_type": "display_data"
    },
    {
     "data": {
      "text/plain": [
       "Downloading data:   0%|          | 0.00/114M [00:00<?, ?B/s]"
      ],
      "application/vnd.jupyter.widget-view+json": {
       "version_major": 2,
       "version_minor": 0,
       "model_id": "bd22d2768ada4678b38c7685e49ac886"
      }
     },
     "metadata": {},
     "output_type": "display_data"
    },
    {
     "data": {
      "text/plain": [
       "Downloading data:   0%|          | 0.00/113M [00:00<?, ?B/s]"
      ],
      "application/vnd.jupyter.widget-view+json": {
       "version_major": 2,
       "version_minor": 0,
       "model_id": "2b814e180a1f4c14b8d1d426c6d4cb0a"
      }
     },
     "metadata": {},
     "output_type": "display_data"
    },
    {
     "data": {
      "text/plain": [
       "Downloading data:   0%|          | 0.00/114M [00:00<?, ?B/s]"
      ],
      "application/vnd.jupyter.widget-view+json": {
       "version_major": 2,
       "version_minor": 0,
       "model_id": "c0c3449d19c543189ba45915cdc0ab21"
      }
     },
     "metadata": {},
     "output_type": "display_data"
    },
    {
     "data": {
      "text/plain": [
       "Downloading data:   0%|          | 0.00/112M [00:00<?, ?B/s]"
      ],
      "application/vnd.jupyter.widget-view+json": {
       "version_major": 2,
       "version_minor": 0,
       "model_id": "8d2b90121c204931a622c774a6ddb7f5"
      }
     },
     "metadata": {},
     "output_type": "display_data"
    },
    {
     "data": {
      "text/plain": [
       "Downloading data:   0%|          | 0.00/112M [00:00<?, ?B/s]"
      ],
      "application/vnd.jupyter.widget-view+json": {
       "version_major": 2,
       "version_minor": 0,
       "model_id": "06c24320048f4aacad65389174a6f4c7"
      }
     },
     "metadata": {},
     "output_type": "display_data"
    },
    {
     "data": {
      "text/plain": [
       "Downloading data:   0%|          | 0.00/38.3M [00:00<?, ?B/s]"
      ],
      "application/vnd.jupyter.widget-view+json": {
       "version_major": 2,
       "version_minor": 0,
       "model_id": "9444323579e741faa1584ee00c7b4fe8"
      }
     },
     "metadata": {},
     "output_type": "display_data"
    },
    {
     "data": {
      "text/plain": [
       "Downloading data:   0%|          | 0.00/38.7M [00:00<?, ?B/s]"
      ],
      "application/vnd.jupyter.widget-view+json": {
       "version_major": 2,
       "version_minor": 0,
       "model_id": "a208889ee64a457c9f13fecef30cd657"
      }
     },
     "metadata": {},
     "output_type": "display_data"
    },
    {
     "data": {
      "text/plain": [
       "Generating train split:   0%|          | 0/165359 [00:00<?, ? examples/s]"
      ],
      "application/vnd.jupyter.widget-view+json": {
       "version_major": 2,
       "version_minor": 0,
       "model_id": "6b8f9560e3e34281b27b9cc8415cb789"
      }
     },
     "metadata": {},
     "output_type": "display_data"
    },
    {
     "data": {
      "text/plain": [
       "Generating validation split:   0%|          | 0/9231 [00:00<?, ? examples/s]"
      ],
      "application/vnd.jupyter.widget-view+json": {
       "version_major": 2,
       "version_minor": 0,
       "model_id": "6961f46403ed47ebb1174312e9da9850"
      }
     },
     "metadata": {},
     "output_type": "display_data"
    },
    {
     "data": {
      "text/plain": [
       "Generating test split:   0%|          | 0/9344 [00:00<?, ? examples/s]"
      ],
      "application/vnd.jupyter.widget-view+json": {
       "version_major": 2,
       "version_minor": 0,
       "model_id": "55872e020d104a10ac2ff7ae9f6b985b"
      }
     },
     "metadata": {},
     "output_type": "display_data"
    }
   ],
   "execution_count": 26
  },
  {
   "metadata": {
    "ExecuteTime": {
     "end_time": "2024-12-24T17:49:20.088354Z",
     "start_time": "2024-12-24T17:49:11.287125Z"
    }
   },
   "cell_type": "code",
   "source": "df_he = pd.DataFrame(dataset_he)",
   "id": "cbb1b37f63a889fd",
   "outputs": [],
   "execution_count": 48
  },
  {
   "metadata": {
    "ExecuteTime": {
     "end_time": "2024-12-24T16:40:52.380657Z",
     "start_time": "2024-12-24T16:40:52.375156Z"
    }
   },
   "cell_type": "code",
   "source": "df_en.head()",
   "id": "a0d5a85501f43057",
   "outputs": [
    {
     "data": {
      "text/plain": [
       "  wikidata_id                                               text  \\\n",
       "0    Q1294448  \\n_START_ARTICLE_\\nÁgi Szalóki\\n_START_SECTION...   \n",
       "1    Q3588472  \\n_START_ARTICLE_\\nÉmile Dubonnet\\n_START_PARA...   \n",
       "2   Q15446670  \\n_START_ARTICLE_\\nÉmile Gilliéron\\n_START_PAR...   \n",
       "3     Q206961  \\n_START_ARTICLE_\\nÉpinay-sur-Seine\\n_START_SE...   \n",
       "4     Q281625  \\n_START_ARTICLE_\\nÓcsa\\n_START_SECTION_\\nThe ...   \n",
       "\n",
       "             version_id  \n",
       "0   3294382012979529334  \n",
       "1   1342534654625266913  \n",
       "2   9787665229468908181  \n",
       "3  16757089349915748185  \n",
       "4  15277971696239644846  "
      ],
      "text/html": [
       "<div>\n",
       "<style scoped>\n",
       "    .dataframe tbody tr th:only-of-type {\n",
       "        vertical-align: middle;\n",
       "    }\n",
       "\n",
       "    .dataframe tbody tr th {\n",
       "        vertical-align: top;\n",
       "    }\n",
       "\n",
       "    .dataframe thead th {\n",
       "        text-align: right;\n",
       "    }\n",
       "</style>\n",
       "<table border=\"1\" class=\"dataframe\">\n",
       "  <thead>\n",
       "    <tr style=\"text-align: right;\">\n",
       "      <th></th>\n",
       "      <th>wikidata_id</th>\n",
       "      <th>text</th>\n",
       "      <th>version_id</th>\n",
       "    </tr>\n",
       "  </thead>\n",
       "  <tbody>\n",
       "    <tr>\n",
       "      <th>0</th>\n",
       "      <td>Q1294448</td>\n",
       "      <td>\\n_START_ARTICLE_\\nÁgi Szalóki\\n_START_SECTION...</td>\n",
       "      <td>3294382012979529334</td>\n",
       "    </tr>\n",
       "    <tr>\n",
       "      <th>1</th>\n",
       "      <td>Q3588472</td>\n",
       "      <td>\\n_START_ARTICLE_\\nÉmile Dubonnet\\n_START_PARA...</td>\n",
       "      <td>1342534654625266913</td>\n",
       "    </tr>\n",
       "    <tr>\n",
       "      <th>2</th>\n",
       "      <td>Q15446670</td>\n",
       "      <td>\\n_START_ARTICLE_\\nÉmile Gilliéron\\n_START_PAR...</td>\n",
       "      <td>9787665229468908181</td>\n",
       "    </tr>\n",
       "    <tr>\n",
       "      <th>3</th>\n",
       "      <td>Q206961</td>\n",
       "      <td>\\n_START_ARTICLE_\\nÉpinay-sur-Seine\\n_START_SE...</td>\n",
       "      <td>16757089349915748185</td>\n",
       "    </tr>\n",
       "    <tr>\n",
       "      <th>4</th>\n",
       "      <td>Q281625</td>\n",
       "      <td>\\n_START_ARTICLE_\\nÓcsa\\n_START_SECTION_\\nThe ...</td>\n",
       "      <td>15277971696239644846</td>\n",
       "    </tr>\n",
       "  </tbody>\n",
       "</table>\n",
       "</div>"
      ]
     },
     "execution_count": 29,
     "metadata": {},
     "output_type": "execute_result"
    }
   ],
   "execution_count": 29
  },
  {
   "metadata": {
    "ExecuteTime": {
     "end_time": "2024-12-24T17:49:24.978613Z",
     "start_time": "2024-12-24T17:49:24.970340Z"
    }
   },
   "cell_type": "code",
   "source": "df_he.head()",
   "id": "2a85203612d0a5cb",
   "outputs": [
    {
     "data": {
      "text/plain": [
       "   wikidata_id                                               text  \\\n",
       "0  b'Q2336243'  b'\\n_START_ARTICLE_\\n\\xd7\\x94\\xd7\\xa7\\xd7\\xa8\\...   \n",
       "1  b'Q3458201'  b'\\n_START_ARTICLE_\\n\\xd7\\xa4\\xd7\\x92\\xd7\\x99\\...   \n",
       "2   b'Q189965'  b\"\\n_START_ARTICLE_\\n\\xd7\\x95\\xd7\\x99\\xd7\\x99\\...   \n",
       "3   b'Q336306'  b'\\n_START_ARTICLE_\\n\\xd7\\x94\\xd7\\x9e\\xd7\\xa0\\...   \n",
       "4  b'Q1916296'  b'\\n_START_ARTICLE_\\n\\xd7\\x91\\xd7\\xa0\\xd7\\x93\\...   \n",
       "\n",
       "               version_id  \n",
       "0  b'7275818517328639782'  \n",
       "1  b'2583274677161515790'  \n",
       "2  b'7384779690269597116'  \n",
       "3  b'3992538760138590557'  \n",
       "4  b'9445431584174637877'  "
      ],
      "text/html": [
       "<div>\n",
       "<style scoped>\n",
       "    .dataframe tbody tr th:only-of-type {\n",
       "        vertical-align: middle;\n",
       "    }\n",
       "\n",
       "    .dataframe tbody tr th {\n",
       "        vertical-align: top;\n",
       "    }\n",
       "\n",
       "    .dataframe thead th {\n",
       "        text-align: right;\n",
       "    }\n",
       "</style>\n",
       "<table border=\"1\" class=\"dataframe\">\n",
       "  <thead>\n",
       "    <tr style=\"text-align: right;\">\n",
       "      <th></th>\n",
       "      <th>wikidata_id</th>\n",
       "      <th>text</th>\n",
       "      <th>version_id</th>\n",
       "    </tr>\n",
       "  </thead>\n",
       "  <tbody>\n",
       "    <tr>\n",
       "      <th>0</th>\n",
       "      <td>b'Q2336243'</td>\n",
       "      <td>b'\\n_START_ARTICLE_\\n\\xd7\\x94\\xd7\\xa7\\xd7\\xa8\\...</td>\n",
       "      <td>b'7275818517328639782'</td>\n",
       "    </tr>\n",
       "    <tr>\n",
       "      <th>1</th>\n",
       "      <td>b'Q3458201'</td>\n",
       "      <td>b'\\n_START_ARTICLE_\\n\\xd7\\xa4\\xd7\\x92\\xd7\\x99\\...</td>\n",
       "      <td>b'2583274677161515790'</td>\n",
       "    </tr>\n",
       "    <tr>\n",
       "      <th>2</th>\n",
       "      <td>b'Q189965'</td>\n",
       "      <td>b\"\\n_START_ARTICLE_\\n\\xd7\\x95\\xd7\\x99\\xd7\\x99\\...</td>\n",
       "      <td>b'7384779690269597116'</td>\n",
       "    </tr>\n",
       "    <tr>\n",
       "      <th>3</th>\n",
       "      <td>b'Q336306'</td>\n",
       "      <td>b'\\n_START_ARTICLE_\\n\\xd7\\x94\\xd7\\x9e\\xd7\\xa0\\...</td>\n",
       "      <td>b'3992538760138590557'</td>\n",
       "    </tr>\n",
       "    <tr>\n",
       "      <th>4</th>\n",
       "      <td>b'Q1916296'</td>\n",
       "      <td>b'\\n_START_ARTICLE_\\n\\xd7\\x91\\xd7\\xa0\\xd7\\x93\\...</td>\n",
       "      <td>b'9445431584174637877'</td>\n",
       "    </tr>\n",
       "  </tbody>\n",
       "</table>\n",
       "</div>"
      ]
     },
     "execution_count": 49,
     "metadata": {},
     "output_type": "execute_result"
    }
   ],
   "execution_count": 49
  },
  {
   "metadata": {
    "ExecuteTime": {
     "end_time": "2024-12-24T16:50:28.763795Z",
     "start_time": "2024-12-24T16:50:28.683617Z"
    }
   },
   "cell_type": "code",
   "source": "df_he.shape[0], df_he['wikidata_id'].nunique()",
   "id": "f863193ddf9f0e47",
   "outputs": [
    {
     "data": {
      "text/plain": [
       "(165359, 165359)"
      ]
     },
     "execution_count": 32,
     "metadata": {},
     "output_type": "execute_result"
    }
   ],
   "execution_count": 32
  },
  {
   "metadata": {
    "ExecuteTime": {
     "end_time": "2024-12-24T16:50:59.107704Z",
     "start_time": "2024-12-24T16:50:44.794100Z"
    }
   },
   "cell_type": "code",
   "source": "df_en.shape[0], df_en['wikidata_id'].nunique()",
   "id": "c4da5ca1bfac470c",
   "outputs": [
    {
     "data": {
      "text/plain": [
       "(2926536, 2926536)"
      ]
     },
     "execution_count": 33,
     "metadata": {},
     "output_type": "execute_result"
    }
   ],
   "execution_count": 33
  },
  {
   "metadata": {
    "ExecuteTime": {
     "end_time": "2024-12-24T17:56:38.297405Z",
     "start_time": "2024-12-24T17:56:37.884206Z"
    }
   },
   "cell_type": "code",
   "source": [
    "df_he['wikidata_id'] = df_he['wikidata_id'].apply(lambda x: x.replace('b', '').replace(\"'\", \"\"))\n",
    "df_he['text']= df_he['text'].apply(lambda x: eval(x).decode('utf-8'))"
   ],
   "id": "94c8582bd1bae0a9",
   "outputs": [],
   "execution_count": 59
  },
  {
   "metadata": {},
   "cell_type": "code",
   "outputs": [],
   "execution_count": null,
   "source": "2,926,536",
   "id": "a0bf3bd1d8aee0e4"
  },
  {
   "metadata": {
    "ExecuteTime": {
     "end_time": "2024-12-24T18:11:59.835151Z",
     "start_time": "2024-12-24T17:57:41.498228Z"
    }
   },
   "cell_type": "code",
   "source": "both = df_he.merge(df_en, on='wikidata_id')",
   "id": "77d0b420a2a44bcc",
   "outputs": [],
   "execution_count": 60
  },
  {
   "metadata": {
    "ExecuteTime": {
     "end_time": "2024-12-24T18:12:00.042603Z",
     "start_time": "2024-12-24T18:11:59.948636Z"
    }
   },
   "cell_type": "code",
   "source": "both.head()",
   "id": "8da85f5766981f3c",
   "outputs": [
    {
     "data": {
      "text/plain": [
       "  wikidata_id                                             text_x  \\\n",
       "0    Q2336243  \\n_START_ARTICLE_\\nהקרב על גבעת התחמושת\\n_STAR...   \n",
       "1    Q3458201  \\n_START_ARTICLE_\\nפגישות ראשי ממשלות חבר העמי...   \n",
       "2     Q189965  \\n_START_ARTICLE_\\nוייטסנייק\\n_START_PARAGRAPH...   \n",
       "3     Q336306  \\n_START_ARTICLE_\\nהמנון אורוגוואי\\n_START_SEC...   \n",
       "4    Q1916296  \\n_START_ARTICLE_\\nבנדיקטוס (תפילה)\\n_START_PA...   \n",
       "\n",
       "             version_id_x                                             text_y  \\\n",
       "0  b'7275818517328639782'  \\n_START_ARTICLE_\\nBattle of Ammunition Hill\\n...   \n",
       "1  b'2583274677161515790'  \\n_START_ARTICLE_\\nCommonwealth Heads of Gover...   \n",
       "2  b'7384779690269597116'  \\n_START_ARTICLE_\\nWhitesnake\\n_START_SECTION_...   \n",
       "3  b'3992538760138590557'  \\n_START_ARTICLE_\\nNational Anthem of Uruguay\\...   \n",
       "4  b'9445431584174637877'  \\n_START_ARTICLE_\\nBenedictus (Song of Zechari...   \n",
       "\n",
       "           version_id_y  \n",
       "0  15054540566900379776  \n",
       "1  11666266150695421152  \n",
       "2   7892816742781435711  \n",
       "3  10989201409566716599  \n",
       "4   8307212797278812531  "
      ],
      "text/html": [
       "<div>\n",
       "<style scoped>\n",
       "    .dataframe tbody tr th:only-of-type {\n",
       "        vertical-align: middle;\n",
       "    }\n",
       "\n",
       "    .dataframe tbody tr th {\n",
       "        vertical-align: top;\n",
       "    }\n",
       "\n",
       "    .dataframe thead th {\n",
       "        text-align: right;\n",
       "    }\n",
       "</style>\n",
       "<table border=\"1\" class=\"dataframe\">\n",
       "  <thead>\n",
       "    <tr style=\"text-align: right;\">\n",
       "      <th></th>\n",
       "      <th>wikidata_id</th>\n",
       "      <th>text_x</th>\n",
       "      <th>version_id_x</th>\n",
       "      <th>text_y</th>\n",
       "      <th>version_id_y</th>\n",
       "    </tr>\n",
       "  </thead>\n",
       "  <tbody>\n",
       "    <tr>\n",
       "      <th>0</th>\n",
       "      <td>Q2336243</td>\n",
       "      <td>\\n_START_ARTICLE_\\nהקרב על גבעת התחמושת\\n_STAR...</td>\n",
       "      <td>b'7275818517328639782'</td>\n",
       "      <td>\\n_START_ARTICLE_\\nBattle of Ammunition Hill\\n...</td>\n",
       "      <td>15054540566900379776</td>\n",
       "    </tr>\n",
       "    <tr>\n",
       "      <th>1</th>\n",
       "      <td>Q3458201</td>\n",
       "      <td>\\n_START_ARTICLE_\\nפגישות ראשי ממשלות חבר העמי...</td>\n",
       "      <td>b'2583274677161515790'</td>\n",
       "      <td>\\n_START_ARTICLE_\\nCommonwealth Heads of Gover...</td>\n",
       "      <td>11666266150695421152</td>\n",
       "    </tr>\n",
       "    <tr>\n",
       "      <th>2</th>\n",
       "      <td>Q189965</td>\n",
       "      <td>\\n_START_ARTICLE_\\nוייטסנייק\\n_START_PARAGRAPH...</td>\n",
       "      <td>b'7384779690269597116'</td>\n",
       "      <td>\\n_START_ARTICLE_\\nWhitesnake\\n_START_SECTION_...</td>\n",
       "      <td>7892816742781435711</td>\n",
       "    </tr>\n",
       "    <tr>\n",
       "      <th>3</th>\n",
       "      <td>Q336306</td>\n",
       "      <td>\\n_START_ARTICLE_\\nהמנון אורוגוואי\\n_START_SEC...</td>\n",
       "      <td>b'3992538760138590557'</td>\n",
       "      <td>\\n_START_ARTICLE_\\nNational Anthem of Uruguay\\...</td>\n",
       "      <td>10989201409566716599</td>\n",
       "    </tr>\n",
       "    <tr>\n",
       "      <th>4</th>\n",
       "      <td>Q1916296</td>\n",
       "      <td>\\n_START_ARTICLE_\\nבנדיקטוס (תפילה)\\n_START_PA...</td>\n",
       "      <td>b'9445431584174637877'</td>\n",
       "      <td>\\n_START_ARTICLE_\\nBenedictus (Song of Zechari...</td>\n",
       "      <td>8307212797278812531</td>\n",
       "    </tr>\n",
       "  </tbody>\n",
       "</table>\n",
       "</div>"
      ]
     },
     "execution_count": 61,
     "metadata": {},
     "output_type": "execute_result"
    }
   ],
   "execution_count": 61
  },
  {
   "metadata": {
    "ExecuteTime": {
     "end_time": "2024-12-24T17:42:31.986480Z",
     "start_time": "2024-12-24T17:42:31.927054Z"
    }
   },
   "cell_type": "code",
   "source": "both.head(10).to_csv(\"both.csv\")",
   "id": "17e4133cbe382b90",
   "outputs": [],
   "execution_count": 42
  },
  {
   "metadata": {
    "ExecuteTime": {
     "end_time": "2024-12-24T17:29:10.228286Z",
     "start_time": "2024-12-24T17:29:01.192116Z"
    }
   },
   "cell_type": "code",
   "source": "wikidata_index = {example[\"wikidata_id\"]: example for example in dataset_he}",
   "id": "7aa9482ad0b574c7",
   "outputs": [],
   "execution_count": 40
  },
  {
   "metadata": {
    "ExecuteTime": {
     "end_time": "2024-12-24T17:29:48.049798Z",
     "start_time": "2024-12-24T17:29:48.038567Z"
    }
   },
   "cell_type": "code",
   "source": "wikidata_index[\"b'Q2336243'\"]",
   "id": "1f3597ee98c4bd8f",
   "outputs": [
    {
     "data": {
      "text/plain": [
       "{'wikidata_id': \"b'Q2336243'\",\n",
       " 'text': 'b\\'\\\\n_START_ARTICLE_\\\\n\\\\xd7\\\\x94\\\\xd7\\\\xa7\\\\xd7\\\\xa8\\\\xd7\\\\x91 \\\\xd7\\\\xa2\\\\xd7\\\\x9c \\\\xd7\\\\x92\\\\xd7\\\\x91\\\\xd7\\\\xa2\\\\xd7\\\\xaa \\\\xd7\\\\x94\\\\xd7\\\\xaa\\\\xd7\\\\x97\\\\xd7\\\\x9e\\\\xd7\\\\x95\\\\xd7\\\\xa9\\\\xd7\\\\xaa\\\\n_START_SECTION_\\\\n\\\\xd7\\\\xaa\\\\xd7\\\\x97\\\\xd7\\\\x99\\\\xd7\\\\x9c\\\\xd7\\\\xaa \\\\xd7\\\\x94\\\\xd7\\\\x9e\\\\xd7\\\\x9c\\\\xd7\\\\x97\\\\xd7\\\\x9e\\\\xd7\\\\x94 \\\\xd7\\\\x91\\\\xd7\\\\x99\\\\xd7\\\\xa8\\\\xd7\\\\x95\\\\xd7\\\\xa9\\\\xd7\\\\x9c\\\\xd7\\\\x99\\\\xd7\\\\x9d\\\\n_START_PARAGRAPH_\\\\n\\\\xd7\\\\x91\\\\xd7\\\\x91\\\\xd7\\\\x95\\\\xd7\\\\xa7\\\\xd7\\\\xa8 \\\\xd7\\\\x99\\\\xd7\\\\x95\\\\xd7\\\\x9d 5 \\\\xd7\\\\x91\\\\xd7\\\\x99\\\\xd7\\\\x95\\\\xd7\\\\xa0\\\\xd7\\\\x99 1967 \\\\xd7\\\\xa4\\\\xd7\\\\xaa\\\\xd7\\\\x97\\\\xd7\\\\x95 \\\\xd7\\\\x9b\\\\xd7\\\\x95\\\\xd7\\\\x97\\\\xd7\\\\x95\\\\xd7\\\\xaa \\\\xd7\\\\x94\\\\xd7\\\\x9c\\\\xd7\\\\x92\\\\xd7\\\\x99\\\\xd7\\\\x95\\\\xd7\\\\x9f \\\\xd7\\\\x94\\\\xd7\\\\x99\\\\xd7\\\\xa8\\\\xd7\\\\x93\\\\xd7\\\\xa0\\\\xd7\\\\x99 \\\\xd7\\\\x91\\\\xd7\\\\x94\\\\xd7\\\\xa8\\\\xd7\\\\xa2\\\\xd7\\\\xa9\\\\xd7\\\\x94 \\\\xd7\\\\x90\\\\xd7\\\\xa8\\\\xd7\\\\x98\\\\xd7\\\\x99\\\\xd7\\\\x9c\\\\xd7\\\\xa8\\\\xd7\\\\x99\\\\xd7\\\\xaa \\\\xd7\\\\xa2\\\\xd7\\\\x9c \\\\xd7\\\\x99\\\\xd7\\\\xa8\\\\xd7\\\\x95\\\\xd7\\\\xa9\\\\xd7\\\\x9c\\\\xd7\\\\x99\\\\xd7\\\\x9d \\\\xd7\\\\x94\\\\xd7\\\\x9e\\\\xd7\\\\xa2\\\\xd7\\\\xa8\\\\xd7\\\\x91\\\\xd7\\\\x99\\\\xd7\\\\xaa, \\\\xd7\\\\x95\\\\xd7\\\\x97\\\\xd7\\\\x99\\\\xd7\\\\x99\\\\xd7\\\\x9c\\\\xd7\\\\x99 \\\\xd7\\\\x94\\\\xd7\\\\x9c\\\\xd7\\\\x92\\\\xd7\\\\x99\\\\xd7\\\\x95\\\\xd7\\\\x9f \\\\xd7\\\\x94\\\\xd7\\\\x99\\\\xd7\\\\xa8\\\\xd7\\\\x93\\\\xd7\\\\xa0\\\\xd7\\\\x99 \\\\xd7\\\\x94\\\\xd7\\\\xa9\\\\xd7\\\\xaa\\\\xd7\\\\x9c\\\\xd7\\\\x98\\\\xd7\\\\x95 \\\\xd7\\\\xa2\\\\xd7\\\\x9c \\\\xd7\\\\x9e\\\\xd7\\\\x98\\\\xd7\\\\x94 \\\\xd7\\\\x9e\\\\xd7\\\\xa9\\\\xd7\\\\xa7\\\\xd7\\\\x99\\\\xd7\\\\xa4\\\\xd7\\\\x99 \\\\xd7\\\\x94\\\\xd7\\\\x90\\\\xd7\\\\x95\"\\\\xd7\\\\x9d \\\\xd7\\\\xa9\\\\xd7\\\\xa9\\\\xd7\\\\x9b\\\\xd7\\\\x9f \\\\xd7\\\\x91\\\\xd7\\\\x90\\\\xd7\\\\xa8\\\\xd7\\\\x9e\\\\xd7\\\\x95\\\\xd7\\\\x9f \\\\xd7\\\\x94\\\\xd7\\\\xa0\\\\xd7\\\\xa6\\\\xd7\\\\x99\\\\xd7\\\\x91. \\\\xd7\\\\x9e\\\\xd7\\\\x9c\\\\xd7\\\\x9a \\\\xd7\\\\x99\\\\xd7\\\\xa8\\\\xd7\\\\x93\\\\xd7\\\\x9f, \\\\xd7\\\\x97\\\\xd7\\\\x95\\\\xd7\\\\xa1\\\\xd7\\\\x99\\\\xd7\\\\x99\\\\xd7\\\\x9f, \\\\xd7\\\\xa9\\\\xd7\\\\xa2\\\\xd7\\\\x93 \\\\xd7\\\\x90\\\\xd7\\\\x95\\\\xd7\\\\xaa\\\\xd7\\\\x95 \\\\xd7\\\\x91\\\\xd7\\\\x95\\\\xd7\\\\xa7\\\\xd7\\\\xa8 \\\\xd7\\\\x94\\\\xd7\\\\x99\\\\xd7\\\\xa1\\\\xd7\\\\xa1 \\\\xd7\\\\x91\\\\xd7\\\\xa9\\\\xd7\\\\x90\\\\xd7\\\\x9c\\\\xd7\\\\x94 \\\\xd7\\\\x94\\\\xd7\\\\x90\\\\xd7\\\\x9d \\\\xd7\\\\x9c\\\\xd7\\\\x94\\\\xd7\\\\xa6\\\\xd7\\\\x98\\\\xd7\\\\xa8\\\\xd7\\\\xa3 \\\\xd7\\\\x9c\\\\xd7\\\\x9e\\\\xd7\\\\x9c\\\\xd7\\\\x97\\\\xd7\\\\x9e\\\\xd7\\\\x94 \\\\xd7\\\\xa0\\\\xd7\\\\x92\\\\xd7\\\\x93 \\\\xd7\\\\x99\\\\xd7\\\\xa9\\\\xd7\\\\xa8\\\\xd7\\\\x90\\\\xd7\\\\x9c, \\\\xd7\\\\x94\\\\xd7\\\\x9b\\\\xd7\\\\xa8\\\\xd7\\\\x99\\\\xd7\\\\xa2 \\\\xd7\\\\x91\\\\xd7\\\\xa2\\\\xd7\\\\x93 \\\\xd7\\\\xa9\\\\xd7\\\\x99\\\\xd7\\\\xaa\\\\xd7\\\\x95\\\\xd7\\\\xa3 \\\\xd7\\\\x94\\\\xd7\\\\xa4\\\\xd7\\\\xa2\\\\xd7\\\\x95\\\\xd7\\\\x9c\\\\xd7\\\\x94 \\\\xd7\\\\xa2\\\\xd7\\\\x9d \\\\xd7\\\\x9e\\\\xd7\\\\xa6\\\\xd7\\\\xa8\\\\xd7\\\\x99\\\\xd7\\\\x9d \\\\xd7\\\\x95\\\\xd7\\\\xa1\\\\xd7\\\\x95\\\\xd7\\\\xa8\\\\xd7\\\\x99\\\\xd7\\\\x94, \\\\xd7\\\\x95\\\\xd7\\\\x94\\\\xd7\\\\x97\\\\xd7\\\\x9c\\\\xd7\\\\x99\\\\xd7\\\\x98 \\\\xd7\\\\x9c\\\\xd7\\\\x94\\\\xd7\\\\xa2\\\\xd7\\\\x91\\\\xd7\\\\x99\\\\xd7\\\\xa8 \\\\xd7\\\\x90\\\\xd7\\\\xaa \\\\xd7\\\\xa6\\\\xd7\\\\x91\\\\xd7\\\\x90\\\\xd7\\\\x95 \\\\xd7\\\\x9c\\\\xd7\\\\xa4\\\\xd7\\\\x99\\\\xd7\\\\xa7\\\\xd7\\\\x95\\\\xd7\\\\x93 \\\\xd7\\\\x9e\\\\xd7\\\\xa6\\\\xd7\\\\xa8\\\\xd7\\\\x99. \\\\xd7\\\\x94\\\\xd7\\\\x9e\\\\xd7\\\\x9c\\\\xd7\\\\x9a \\\\xd7\\\\x94\\\\xd7\\\\xa1\\\\xd7\\\\xaa\\\\xd7\\\\x9e\\\\xd7\\\\x9a \\\\xd7\\\\xa2\\\\xd7\\\\x9c \\\\xd7\\\\x99\\\\xd7\\\\x93\\\\xd7\\\\x99\\\\xd7\\\\xa2\\\\xd7\\\\x95\\\\xd7\\\\xaa \\\\xd7\\\\x9e\\\\xd7\\\\xa6\\\\xd7\\\\xa8\\\\xd7\\\\x99\\\\xd7\\\\x95\\\\xd7\\\\xaa \\\\xd7\\\\x9e\\\\xd7\\\\x95\\\\xd7\\\\x98\\\\xd7\\\\xa2\\\\xd7\\\\x95\\\\xd7\\\\xaa, \\\\xd7\\\\x95\\\\xd7\\\\x94\\\\xd7\\\\xa9\\\\xd7\\\\xaa\\\\xd7\\\\x9b\\\\xd7\\\\xa0\\\\xd7\\\\xa2 \\\\xd7\\\\x9b\\\\xd7\\\\x99 \\\\xd7\\\\x94\\\\xd7\\\\xa7\\\\xd7\\\\xa8\\\\xd7\\\\x91 \\\\xd7\\\\x91\\\\xd7\\\\xa1\\\\xd7\\\\x99\\\\xd7\\\\xa0\\\\xd7\\\\x99 \\\\xd7\\\\x94\\\\xd7\\\\x95\\\\xd7\\\\x9b\\\\xd7\\\\xa8\\\\xd7\\\\xa2 \\\\xd7\\\\x9c\\\\xd7\\\\x98\\\\xd7\\\\x95\\\\xd7\\\\x91\\\\xd7\\\\xaa \\\\xd7\\\\x94\\\\xd7\\\\x9b\\\\xd7\\\\x95\\\\xd7\\\\x97\\\\xd7\\\\x95\\\\xd7\\\\xaa \\\\xd7\\\\x94\\\\xd7\\\\x9e\\\\xd7\\\\xa6\\\\xd7\\\\xa8\\\\xd7\\\\x99\\\\xd7\\\\x99\\\\xd7\\\\x9d, \\\\xd7\\\\x95\\\\xd7\\\\x9e\\\\xd7\\\\x9b\\\\xd7\\\\x90\\\\xd7\\\\x9f \\\\xd7\\\\xa9\\\\xd7\\\\x99\\\\xd7\\\\x94\\\\xd7\\\\x99\\\\xd7\\\\x94 \\\\xd7\\\\x96\\\\xd7\\\\x94 \\\\xd7\\\\x9c\\\\xd7\\\\x98\\\\xd7\\\\x95\\\\xd7\\\\x91\\\\xd7\\\\xaa \\\\xd7\\\\x94\\\\xd7\\\\x90\\\\xd7\\\\x99\\\\xd7\\\\xa0\\\\xd7\\\\x98\\\\xd7\\\\xa8\\\\xd7\\\\xa1\\\\xd7\\\\x99\\\\xd7\\\\x9d \\\\xd7\\\\x94\\\\xd7\\\\x99\\\\xd7\\\\xa8\\\\xd7\\\\x93\\\\xd7\\\\xa0\\\\xd7\\\\x99\\\\xd7\\\\x99\\\\xd7\\\\x9d \\\\xd7\\\\x9c\\\\xd7\\\\x94\\\\xd7\\\\x99\\\\xd7\\\\x9b\\\\xd7\\\\xa0\\\\xd7\\\\xa1 \\\\xd7\\\\x9c\\\\xd7\\\\x9e\\\\xd7\\\\x9c\\\\xd7\\\\x97\\\\xd7\\\\x9e\\\\xd7\\\\x94. \\\\xd7\\\\x99\\\\xd7\\\\x97\\\\xd7\\\\x93 \\\\xd7\\\\xa2\\\\xd7\\\\x9d \\\\xd7\\\\x96\\\\xd7\\\\x90\\\\xd7\\\\xaa, \\\\xd7\\\\x94\\\\xd7\\\\x95\\\\xd7\\\\xa6\\\\xd7\\\\x91\\\\xd7\\\\x95 \\\\xd7\\\\x9c\\\\xd7\\\\xa6\\\\xd7\\\\x91\\\\xd7\\\\x90 \\\\xd7\\\\x94\\\\xd7\\\\x99\\\\xd7\\\\xa8\\\\xd7\\\\x93\\\\xd7\\\\xa0\\\\xd7\\\\x99 \\\\xd7\\\\x9e\\\\xd7\\\\x98\\\\xd7\\\\xa8\\\\xd7\\\\x95\\\\xd7\\\\xaa \\\\xd7\\\\x9e\\\\xd7\\\\x95\\\\xd7\\\\x92\\\\xd7\\\\x91\\\\xd7\\\\x9c\\\\xd7\\\\x95\\\\xd7\\\\xaa \\\\xd7\\\\x91\\\\xd7\\\\x9c\\\\xd7\\\\x91\\\\xd7\\\\x93, \\\\xd7\\\\x9e\\\\xd7\\\\xaa\\\\xd7\\\\x95\\\\xd7\\\\x9a \\\\xd7\\\\x9b\\\\xd7\\\\x95\\\\xd7\\\\x95\\\\xd7\\\\xa0\\\\xd7\\\\x94 \\\\xd7\\\\x9c\\\\xd7\\\\x91\\\\xd7\\\\xa6\\\\xd7\\\\xa2 \\\\xd7\\\\x9e\\\\xd7\\\\x97\\\\xd7\\\\x98\\\\xd7\\\\xa4\\\\xd7\\\\x99\\\\xd7\\\\x9d \\\\xd7\\\\x9e\\\\xd7\\\\x95\\\\xd7\\\\xa6\\\\xd7\\\\x9c\\\\xd7\\\\x97\\\\xd7\\\\x99\\\\xd7\\\\x9d \\\\xd7\\\\x91\\\\xd7\\\\xa0\\\\xd7\\\\xa7\\\\xd7\\\\x95\\\\xd7\\\\x93\\\\xd7\\\\x95\\\\xd7\\\\xaa \\\\xd7\\\\x91\\\\xd7\\\\xa2\\\\xd7\\\\x9c\\\\xd7\\\\x95\\\\xd7\\\\xaa \\\\xd7\\\\x97\\\\xd7\\\\xa9\\\\xd7\\\\x99\\\\xd7\\\\x91\\\\xd7\\\\x95\\\\xd7\\\\xaa \\\\xd7\\\\x90\\\\xd7\\\\xa1\\\\xd7\\\\x98\\\\xd7\\\\xa8\\\\xd7\\\\x98\\\\xd7\\\\x92\\\\xd7\\\\x99\\\\xd7\\\\xaa \\\\xd7\\\\x9c\\\\xd7\\\\x90\\\\xd7\\\\x95\\\\xd7\\\\xa8\\\\xd7\\\\x9a \\\\xd7\\\\x94\\\\xd7\\\\xa7\\\\xd7\\\\x95 \\\\xd7\\\\x94\\\\xd7\\\\xa2\\\\xd7\\\\x99\\\\xd7\\\\xa8\\\\xd7\\\\x95\\\\xd7\\\\xa0\\\\xd7\\\\x99._NEWLINE_\\\\xd7\\\\x94\\\\xd7\\\\xa6\\\\xd7\\\\x93 \\\\xd7\\\\x94\\\\xd7\\\\x99\\\\xd7\\\\xa9\\\\xd7\\\\xa8\\\\xd7\\\\x90\\\\xd7\\\\x9c\\\\xd7\\\\x99 \\\\xd7\\\\x94\\\\xd7\\\\x95\\\\xd7\\\\xa4\\\\xd7\\\\xaa\\\\xd7\\\\xa2 \\\\xd7\\\\x9e\\\\xd7\\\\x9b\\\\xd7\\\\xa0\\\\xd7\\\\x99\\\\xd7\\\\xa1\\\\xd7\\\\xaa\\\\xd7\\\\x94 \\\\xd7\\\\xa9\\\\xd7\\\\x9c \\\\xd7\\\\x99\\\\xd7\\\\xa8\\\\xd7\\\\x93\\\\xd7\\\\x9f \\\\xd7\\\\x9c\\\\xd7\\\\x9e\\\\xd7\\\\x9c\\\\xd7\\\\x97\\\\xd7\\\\x9e\\\\xd7\\\\x94. \\\\xd7\\\\x99\\\\xd7\\\\xa9\\\\xd7\\\\xa8\\\\xd7\\\\x90\\\\xd7\\\\x9c \\\\xd7\\\\x94\\\\xd7\\\\xa2\\\\xd7\\\\x91\\\\xd7\\\\x99\\\\xd7\\\\xa8\\\\xd7\\\\x94 \\\\xd7\\\\x9e\\\\xd7\\\\xa1\\\\xd7\\\\xa8\\\\xd7\\\\x99\\\\xd7\\\\x9d \\\\xd7\\\\x9c\\\\xd7\\\\x99\\\\xd7\\\\xa8\\\\xd7\\\\x93\\\\xd7\\\\x9f \\\\xd7\\\\x9c\\\\xd7\\\\xa4\\\\xd7\\\\xa0\\\\xd7\\\\x99 \\\\xd7\\\\x94\\\\xd7\\\\x9e\\\\xd7\\\\x9c\\\\xd7\\\\x97\\\\xd7\\\\x9e\\\\xd7\\\\x94, \\\\xd7\\\\x91\\\\xd7\\\\xaa\\\\xd7\\\\xa7\\\\xd7\\\\x95\\\\xd7\\\\x95\\\\xd7\\\\x94 \\\\xd7\\\\x9c\\\\xd7\\\\xa9\\\\xd7\\\\x9b\\\\xd7\\\\xa0\\\\xd7\\\\xa2\\\\xd7\\\\x94 \\\\xd7\\\\xa9\\\\xd7\\\\x9c\\\\xd7\\\\x90 \\\\xd7\\\\x9c\\\\xd7\\\\x94\\\\xd7\\\\xaa\\\\xd7\\\\xa2\\\\xd7\\\\xa8\\\\xd7\\\\x91 \\\\xd7\\\\x91\\\\xd7\\\\xa2\\\\xd7\\\\x99\\\\xd7\\\\x9e\\\\xd7\\\\x95\\\\xd7\\\\xaa, \\\\xd7\\\\x95\\\\xd7\\\\x9c\\\\xd7\\\\xa4\\\\xd7\\\\x99 \\\\xd7\\\\x94\\\\xd7\\\\xa2\\\\xd7\\\\xa8\\\\xd7\\\\x9b\\\\xd7\\\\xaa \\\\xd7\\\\x9e\\\\xd7\\\\x98\\\\xd7\\\\x9b\"\\\\xd7\\\\x9c \\\\xd7\\\\xa6\\\\xd7\\\\x94\"\\\\xd7\\\\x9c, \\\\xd7\\\\xa4\\\\xd7\\\\x99\\\\xd7\\\\xa7\\\\xd7\\\\x95\\\\xd7\\\\x93 \\\\xd7\\\\x94\\\\xd7\\\\x9e\\\\xd7\\\\xa8\\\\xd7\\\\x9b\\\\xd7\\\\x96 \\\\xd7\\\\x9c\\\\xd7\\\\x90 \\\\xd7\\\\x94\\\\xd7\\\\x99\\\\xd7\\\\x94 \\\\xd7\\\\x90\\\\xd7\\\\x9e\\\\xd7\\\\x95\\\\xd7\\\\xa8 \\\\xd7\\\\x9b\\\\xd7\\\\x9c\\\\xd7\\\\x9c \\\\xd7\\\\x9c\\\\xd7\\\\x94\\\\xd7\\\\xa9\\\\xd7\\\\xaa\\\\xd7\\\\xaa\\\\xd7\\\\xa3 \\\\xd7\\\\x91\\\\xd7\\\\x9c\\\\xd7\\\\x97\\\\xd7\\\\x99\\\\xd7\\\\x9e\\\\xd7\\\\x94. \\\\xd7\\\\xa2\\\\xd7\\\\x9d \\\\xd7\\\\xaa\\\\xd7\\\\x97\\\\xd7\\\\x99\\\\xd7\\\\x9c\\\\xd7\\\\xaa \\\\xd7\\\\x94\\\\xd7\\\\xa7\\\\xd7\\\\xa8\\\\xd7\\\\x91\\\\xd7\\\\x95\\\\xd7\\\\xaa \\\\xd7\\\\x94\\\\xd7\\\\xa1\\\\xd7\\\\xaa\\\\xd7\\\\x91\\\\xd7\\\\xa8 \\\\xd7\\\\xa9\\\\xd7\\\\x9c\\\\xd7\\\\xa4\\\\xd7\\\\x99\\\\xd7\\\\xa7\\\\xd7\\\\x95\\\\xd7\\\\x93 \\\\xd7\\\\x9c\\\\xd7\\\\x90 \\\\xd7\\\\x94\\\\xd7\\\\x99\\\\xd7\\\\x95 \\\\xd7\\\\x9b\\\\xd7\\\\x95\\\\xd7\\\\x97\\\\xd7\\\\x95\\\\xd7\\\\xaa \\\\xd7\\\\x9c\\\\xd7\\\\x91\\\\xd7\\\\x99\\\\xd7\\\\xa6\\\\xd7\\\\x95\\\\xd7\\\\xa2 \\\\xd7\\\\x9e\\\\xd7\\\\x94\\\\xd7\\\\x9c\\\\xd7\\\\x9a \\\\xd7\\\\x94\\\\xd7\\\\xaa\\\\xd7\\\\xa7\\\\xd7\\\\xa4\\\\xd7\\\\x99. \\\\xd7\\\\x9c\\\\xd7\\\\xa8\\\\xd7\\\\xa9\\\\xd7\\\\x95\\\\xd7\\\\xaa \\\\xd7\\\\x94\\\\xd7\\\\xa4\\\\xd7\\\\x99\\\\xd7\\\\xa7\\\\xd7\\\\x95\\\\xd7\\\\x93 \\\\xd7\\\\xa2\\\\xd7\\\\x9e\\\\xd7\\\\x93\\\\xd7\\\\x95 \\\\xd7\\\\x91\\\\xd7\\\\x9e\\\\xd7\\\\xa8\\\\xd7\\\\x97\\\\xd7\\\\x91 \\\\xd7\\\\x99\\\\xd7\\\\xa8\\\\xd7\\\\x95\\\\xd7\\\\xa9\\\\xd7\\\\x9c\\\\xd7\\\\x99\\\\xd7\\\\x9d \\\\xd7\\\\xa9\\\\xd7\\\\xaa\\\\xd7\\\\x99 \\\\xd7\\\\x97\\\\xd7\\\\x98\\\\xd7\\\\x99\\\\xd7\\\\x91\\\\xd7\\\\x95\\\\xd7\\\\xaa \\\\xd7\\\\x9e\\\\xd7\\\\x99\\\\xd7\\\\x9c\\\\xd7\\\\x95\\\\xd7\\\\x90\\\\xd7\\\\x99\\\\xd7\\\\x9d \\\\xd7\\\\x9c\\\\xd7\\\\x95\\\\xd7\\\\x97\\\\xd7\\\\x9e\\\\xd7\\\\x95\\\\xd7\\\\xaa \\\\xd7\\\\x91\\\\xd7\\\\x9c\\\\xd7\\\\x91\\\\xd7\\\\x93, \\\\xd7\\\\x9e\\\\xd7\\\\xa2\\\\xd7\\\\x91\\\\xd7\\\\xa8 \\\\xd7\\\\x9c\\\\xd7\\\\x9b\\\\xd7\\\\x95\\\\xd7\\\\x97\\\\xd7\\\\x95\\\\xd7\\\\xaa \\\\xd7\\\\x9e\\\\xd7\\\\x93\\\\xd7\\\\xa8\\\\xd7\\\\x92 \\\\xd7\\\\xa9\\\\xd7\\\\xa0\\\\xd7\\\\x99 \\\\xd7\\\\x95\\\\xd7\\\\xa9\\\\xd7\\\\x9c\\\\xd7\\\\x99\\\\xd7\\\\xa9\\\\xd7\\\\x99: \\\\xd7\\\\x97\\\\xd7\\\\x98\\\\xd7\\\\x99\\\\xd7\\\\x91\\\\xd7\\\\xaa \\\\xd7\\\\x99\\\\xd7\\\\xa8\\\\xd7\\\\x95\\\\xd7\\\\xa9\\\\xd7\\\\x9c\\\\xd7\\\\x99\\\\xd7\\\\x9d (\\\\xd7\\\\x97\\\\xd7\\\\x98\\\\xd7\\\\x99\\\\xd7\\\\x91\\\\xd7\\\\x94 16), \\\\xd7\\\\x91\\\\xd7\\\\xa4\\\\xd7\\\\x99\\\\xd7\\\\xa7\\\\xd7\\\\x95\\\\xd7\\\\x93 \\\\xd7\\\\x90\\\\xd7\\\\x9c\\\\xd7\\\\x99\\\\xd7\\\\xa2\\\\xd7\\\\x96\\\\xd7\\\\xa8 \\\\xd7\\\\x90\\\\xd7\\\\x9e\\\\xd7\\\\x99\\\\xd7\\\\xaa\\\\xd7\\\\x99, \\\\xd7\\\\x95\\\\xd7\\\\x97\\\\xd7\\\\x98\\\\xd7\\\\x99\\\\xd7\\\\x91\\\\xd7\\\\xaa \\\\xd7\\\\x94\\\\xd7\\\\xa9\\\\xd7\\\\xa8\\\\xd7\\\\x99\\\\xd7\\\\x95\\\\xd7\\\\x9f \\\\xd7\\\\x94\\\\xd7\\\\xa8\\\\xd7\\\\x90\\\\xd7\\\\x9c (\\\\xd7\\\\x97\\\\xd7\\\\x98\\\\xd7\\\\x99\\\\xd7\\\\x91\\\\xd7\\\\x94 10), \\\\xd7\\\\x91\\\\xd7\\\\xa4\\\\xd7\\\\x99\\\\xd7\\\\xa7\\\\xd7\\\\x95\\\\xd7\\\\x93 \\\\xd7\\\\x90\\\\xd7\\\\x95\\\\xd7\\\\xa8\\\\xd7\\\\x99 \\\\xd7\\\\x91\\\\xd7\\\\x9f \\\\xd7\\\\x90\\\\xd7\\\\xa8\\\\xd7\\\\x99. \\\\xd7\\\\x9b\\\\xd7\\\\xa9\\\\xd7\\\\x94\\\\xd7\\\\xa1\\\\xd7\\\\xaa\\\\xd7\\\\x91\\\\xd7\\\\xa8 \\\\xd7\\\\x9c\\\\xd7\\\\xa4\\\\xd7\\\\x99\\\\xd7\\\\xa7\\\\xd7\\\\x95\\\\xd7\\\\x93 \\\\xd7\\\\xa6\\\\xd7\\\\x94\"\\\\xd7\\\\x9c \\\\xd7\\\\xa9\\\\xd7\\\\x92\\\\xd7\\\\x9d \\\\xd7\\\\x91\\\\xd7\\\\x92\\\\xd7\\\\x96\\\\xd7\\\\xa8\\\\xd7\\\\x94 \\\\xd7\\\\x96\\\\xd7\\\\x95 \\\\xd7\\\\x9e\\\\xd7\\\\xaa\\\\xd7\\\\xa4\\\\xd7\\\\xaa\\\\xd7\\\\x97\\\\xd7\\\\xaa \\\\xd7\\\\x9c\\\\xd7\\\\x97\\\\xd7\\\\x99\\\\xd7\\\\x9e\\\\xd7\\\\x94, \\\\xd7\\\\xa1\\\\xd7\\\\x95\\\\xd7\\\\xa4\\\\xd7\\\\x97\\\\xd7\\\\x94 \\\\xd7\\\\x9c\\\\xd7\\\\xa1\\\\xd7\\\\x93\\\\xd7\\\\xa8 \\\\xd7\\\\x94\\\\xd7\\\\x9b\\\\xd7\\\\x95\\\\xd7\\\\x97\\\\xd7\\\\x95\\\\xd7\\\\xaa \\\\xd7\\\\xa9\\\\xd7\\\\x9c \\\\xd7\\\\x94\\\\xd7\\\\xa4\\\\xd7\\\\x99\\\\xd7\\\\xa7\\\\xd7\\\\x95\\\\xd7\\\\x93 \\\\xd7\\\\x92\\\\xd7\\\\x9d \\\\xd7\\\\x97\\\\xd7\\\\x98\\\\xd7\\\\x99\\\\xd7\\\\x91\\\\xd7\\\\x94 55, \\\\xd7\\\\x97\\\\xd7\\\\x98\\\\xd7\\\\x99\\\\xd7\\\\x91\\\\xd7\\\\xaa \\\\xd7\\\\xa6\\\\xd7\\\\xa0\\\\xd7\\\\x97\\\\xd7\\\\xa0\\\\xd7\\\\x99\\\\xd7\\\\x9d \\\\xd7\\\\x91\\\\xd7\\\\xa4\\\\xd7\\\\x99\\\\xd7\\\\xa7\\\\xd7\\\\x95\\\\xd7\\\\x93 \\\\xd7\\\\x9e\\\\xd7\\\\xa8\\\\xd7\\\\x93\\\\xd7\\\\x9b\\\\xd7\\\\x99 \\\\xd7\\\\x92\\\\xd7\\\\x95\\\\xd7\\\\xa8.\\\\n_START_SECTION_\\\\n\\\\xd7\\\\x97\\\\xd7\\\\x98\\\\xd7\\\\x99\\\\xd7\\\\x91\\\\xd7\\\\xaa \\\\xd7\\\\x94\\\\xd7\\\\xa6\\\\xd7\\\\xa0\\\\xd7\\\\x97\\\\xd7\\\\xa0\\\\xd7\\\\x99\\\\xd7\\\\x9d\\\\n_START_PARAGRAPH_\\\\n\\\\xd7\\\\x91\\\\xd7\\\\xaa\\\\xd7\\\\xa7\\\\xd7\\\\x95\\\\xd7\\\\xa4\\\\xd7\\\\xaa \\\\xd7\\\\x94\\\\xd7\\\\x94\\\\xd7\\\\x9e\\\\xd7\\\\xaa\\\\xd7\\\\xa0\\\\xd7\\\\x94, \\\\xd7\\\\x9c\\\\xd7\\\\xa4\\\\xd7\\\\xa0\\\\xd7\\\\x99 \\\\xd7\\\\xa4\\\\xd7\\\\xa8\\\\xd7\\\\x95\\\\xd7\\\\xa5 \\\\xd7\\\\x9e\\\\xd7\\\\x9c\\\\xd7\\\\x97\\\\xd7\\\\x9e\\\\xd7\\\\xaa \\\\xd7\\\\xa9\\\\xd7\\\\xa9\\\\xd7\\\\xaa \\\\xd7\\\\x94\\\\xd7\\\\x99\\\\xd7\\\\x9e\\\\xd7\\\\x99\\\\xd7\\\\x9d, \\\\xd7\\\\xaa\\\\xd7\\\\x95\\\\xd7\\\\x9b\\\\xd7\\\\xa0\\\\xd7\\\\x9f \\\\xd7\\\\xa9\\\\xd7\\\\x97\\\\xd7\\\\x98\\\\xd7\\\\x99\\\\xd7\\\\x91\\\\xd7\\\\xaa \\\\xd7\\\\x94\\\\xd7\\\\xa6\\\\xd7\\\\xa0\\\\xd7\\\\x97\\\\xd7\\\\xa0\\\\xd7\\\\x99\\\\xd7\\\\x9d 55 \\\\xd7\\\\xaa\\\\xd7\\\\x95\\\\xd7\\\\xa6\\\\xd7\\\\xa0\\\\xd7\\\\x97 \\\\xd7\\\\x91\\\\xd7\\\\xa2\\\\xd7\\\\x95\\\\xd7\\\\xa8\\\\xd7\\\\xa3 \\\\xd7\\\\x94\\\\xd7\\\\xa6\\\\xd7\\\\x91\\\\xd7\\\\x90 \\\\xd7\\\\x94\\\\xd7\\\\x9e\\\\xd7\\\\xa6\\\\xd7\\\\xa8\\\\xd7\\\\x99, \\\\xd7\\\\x91\\\\xd7\\\\x90\\\\xd7\\\\x96\\\\xd7\\\\x95\\\\xd7\\\\xa8 \\\\xd7\\\\x90\\\\xd7\\\\x9c-\\\\xd7\\\\xa2\\\\xd7\\\\xa8\\\\xd7\\\\x99\\\\xd7\\\\xa9. \\\\xd7\\\\x90\\\\xd7\\\\x95\\\\xd7\\\\x9c\\\\xd7\\\\x9d \\\\xd7\\\\x94\\\\xd7\\\\xaa\\\\xd7\\\\xa7\\\\xd7\\\\x93\\\\xd7\\\\x9e\\\\xd7\\\\x95\\\\xd7\\\\xaa\\\\xd7\\\\x9d \\\\xd7\\\\x94\\\\xd7\\\\x9e\\\\xd7\\\\x94\\\\xd7\\\\x99\\\\xd7\\\\xa8\\\\xd7\\\\x94 \\\\xd7\\\\xa9\\\\xd7\\\\x9c \\\\xd7\\\\x9b\\\\xd7\\\\x95\\\\xd7\\\\x97\\\\xd7\\\\x95\\\\xd7\\\\xaa \\\\xd7\\\\xa6\\\\xd7\\\\x94\"\\\\xd7\\\\x9c \\\\xd7\\\\x91\\\\xd7\\\\xa4\\\\xd7\\\\xaa\\\\xd7\\\\x97\\\\xd7\\\\xaa \\\\xd7\\\\xa8\\\\xd7\\\\xa4\\\\xd7\\\\x99\\\\xd7\\\\x97 \\\\xd7\\\\x95\\\\xd7\\\\x94\\\\xd7\\\\xa6\\\\xd7\\\\x9c\\\\xd7\\\\x97\\\\xd7\\\\xaa \\\\xd7\\\\x94\\\\xd7\\\\x9e\\\\xd7\\\\x94\\\\xd7\\\\x9c\\\\xd7\\\\x95\\\\xd7\\\\x9e\\\\xd7\\\\x94 \\\\xd7\\\\x94\\\\xd7\\\\x90\\\\xd7\\\\x95\\\\xd7\\\\x95\\\\xd7\\\\x99\\\\xd7\\\\xa8\\\\xd7\\\\x99\\\\xd7\\\\xaa \\\\xd7\\\\xa9\\\\xd7\\\\x94\\\\xd7\\\\x95\\\\xd7\\\\xa0\\\\xd7\\\\x97\\\\xd7\\\\xaa\\\\xd7\\\\x94 \\\\xd7\\\\xa2\\\\xd7\\\\x9c \\\\xd7\\\\x97\\\\xd7\\\\x99\\\\xd7\\\\x9c \\\\xd7\\\\x94\\\\xd7\\\\x90\\\\xd7\\\\x95\\\\xd7\\\\x95\\\\xd7\\\\x99\\\\xd7\\\\xa8 \\\\xd7\\\\x94\\\\xd7\\\\x9e\\\\xd7\\\\xa6\\\\xd7\\\\xa8\\\\xd7\\\\x99 \\\\xd7\\\\x94\\\\xd7\\\\xa4\\\\xd7\\\\x9b\\\\xd7\\\\x95 \\\\xd7\\\\x90\\\\xd7\\\\xaa \\\\xd7\\\\x9e\\\\xd7\\\\xa9\\\\xd7\\\\x99\\\\xd7\\\\x9e\\\\xd7\\\\xaa \\\\xd7\\\\x94\\\\xd7\\\\x97\\\\xd7\\\\x98\\\\xd7\\\\x99\\\\xd7\\\\x91\\\\xd7\\\\x94 \\\\xd7\\\\x9c\\\\xd7\\\\x9e\\\\xd7\\\\x99\\\\xd7\\\\x95\\\\xd7\\\\xaa\\\\xd7\\\\xa8\\\\xd7\\\\xaa. \\\\xd7\\\\x9c\\\\xd7\\\\x90\\\\xd7\\\\x95\\\\xd7\\\\xa8 \\\\xd7\\\\x94\\\\xd7\\\\x9e\\\\xd7\\\\xa6\\\\xd7\\\\x91, \\\\xd7\\\\x94\\\\xd7\\\\x95\\\\xd7\\\\x97\\\\xd7\\\\x9c\\\\xd7\\\\x98 \\\\xd7\\\\xa2\\\\xd7\\\\x9c \\\\xd7\\\\xa1\\\\xd7\\\\x99\\\\xd7\\\\xa4\\\\xd7\\\\x95\\\\xd7\\\\x97 \\\\xd7\\\\x94\\\\xd7\\\\x97\\\\xd7\\\\x98\\\\xd7\\\\x99\\\\xd7\\\\x91\\\\xd7\\\\x94 \\\\xd7\\\\x9c\\\\xd7\\\\xa4\\\\xd7\\\\x99\\\\xd7\\\\xa7\\\\xd7\\\\x95\\\\xd7\\\\x93 \\\\xd7\\\\x9e\\\\xd7\\\\xa8\\\\xd7\\\\x9b\\\\xd7\\\\x96. \\\\xd7\\\\x90\\\\xd7\\\\x9c\\\\xd7\\\\x95\\\\xd7\\\\xa3 \\\\xd7\\\\xa4\\\\xd7\\\\x99\\\\xd7\\\\xa7\\\\xd7\\\\x95\\\\xd7\\\\x93 \\\\xd7\\\\x94\\\\xd7\\\\x9e\\\\xd7\\\\xa8\\\\xd7\\\\x9b\\\\xd7\\\\x96, \\\\xd7\\\\xa2\\\\xd7\\\\x95\\\\xd7\\\\x96\\\\xd7\\\\x99 \\\\xd7\\\\xa0\\\\xd7\\\\xa8\\\\xd7\\\\xa7\\\\xd7\\\\x99\\\\xd7\\\\xa1 \\\\xd7\\\\x94\\\\xd7\\\\xa6\\\\xd7\\\\x99\\\\xd7\\\\x92 \\\\xd7\\\\x91\\\\xd7\\\\xa4\\\\xd7\\\\xa0\\\\xd7\\\\x99 \\\\xd7\\\\x9e\\\\xd7\\\\xa4\\\\xd7\\\\xa7\\\\xd7\\\\x93 \\\\xd7\\\\x94\\\\xd7\\\\x97\\\\xd7\\\\x98\\\\xd7\\\\x99\\\\xd7\\\\x91\\\\xd7\\\\x94 \\\\xd7\\\\x95\\\\xd7\\\\xa7\\\\xd7\\\\xa6\\\\xd7\\\\x99\\\\xd7\\\\xa0\\\\xd7\\\\x99\\\\xd7\\\\x94 \\\\xd7\\\\x90\\\\xd7\\\\xaa \\\\xd7\\\\x9e\\\\xd7\\\\xa9\\\\xd7\\\\x99\\\\xd7\\\\x9e\\\\xd7\\\\xaa\\\\xd7\\\\x9d \\\\xd7\\\\x94\\\\xd7\\\\x97\\\\xd7\\\\x93\\\\xd7\\\\xa9\\\\xd7\\\\x94: \\\\xd7\\\\xa4\\\\xd7\\\\xa8\\\\xd7\\\\x99\\\\xd7\\\\xa6\\\\xd7\\\\xaa \\\\xd7\\\\x94\\\\xd7\\\\xa7\\\\xd7\\\\x95 \\\\xd7\\\\x94\\\\xd7\\\\xa2\\\\xd7\\\\x99\\\\xd7\\\\xa8\\\\xd7\\\\x95\\\\xd7\\\\xa0\\\\xd7\\\\x99 \\\\xd7\\\\x95\\\\xd7\\\\x99\\\\xd7\\\\xa6\\\\xd7\\\\x99\\\\xd7\\\\xa8\\\\xd7\\\\xaa \\\\xd7\\\\x9e\\\\xd7\\\\xa2\\\\xd7\\\\x91\\\\xd7\\\\xa8 \\\\xd7\\\\xa7\\\\xd7\\\\xa8\\\\xd7\\\\xa7\\\\xd7\\\\xa2\\\\xd7\\\\x99 \\\\xd7\\\\x9e\\\\xd7\\\\x90\\\\xd7\\\\x95\\\\xd7\\\\x91\\\\xd7\\\\x98\\\\xd7\\\\x97 \\\\xd7\\\\x91\\\\xd7\\\\x99\\\\xd7\\\\x9f \\\\xd7\\\\x94\\\\xd7\\\\xa2\\\\xd7\\\\x99\\\\xd7\\\\xa8 \\\\xd7\\\\x94\\\\xd7\\\\xa2\\\\xd7\\\\x91\\\\xd7\\\\xa8\\\\xd7\\\\x99\\\\xd7\\\\xaa \\\\xd7\\\\x9c\\\\xd7\\\\x9e\\\\xd7\\\\x95\\\\xd7\\\\x91\\\\xd7\\\\x9c\\\\xd7\\\\xa2\\\\xd7\\\\xaa \\\\xd7\\\\x94\\\\xd7\\\\xa8 \\\\xd7\\\\x94\\\\xd7\\\\xa6\\\\xd7\\\\x95\\\\xd7\\\\xa4\\\\xd7\\\\x99\\\\xd7\\\\x9d. \\\\xd7\\\\x9e\\\\xd7\\\\x95\\\\xd7\\\\x91\\\\xd7\\\\x9c\\\\xd7\\\\xa2\\\\xd7\\\\xaa \\\\xd7\\\\x96\\\\xd7\\\\x95 \\\\xd7\\\\x94\\\\xd7\\\\x99\\\\xd7\\\\x99\\\\xd7\\\\xaa\\\\xd7\\\\x94 \\\\xd7\\\\x90\\\\xd7\\\\x97\\\\xd7\\\\xaa \\\\xd7\\\\x9e\\\\xd7\\\\xa0\\\\xd7\\\\xa7\\\\xd7\\\\x95\\\\xd7\\\\x93\\\\xd7\\\\x95\\\\xd7\\\\xaa \\\\xd7\\\\x94\\\\xd7\\\\xaa\\\\xd7\\\\x95\\\\xd7\\\\xa8\\\\xd7\\\\xa4\\\\xd7\\\\x94 \\\\xd7\\\\x94\\\\xd7\\\\x9e\\\\xd7\\\\xa8\\\\xd7\\\\x9b\\\\xd7\\\\x96\\\\xd7\\\\x99\\\\xd7\\\\x95\\\\xd7\\\\xaa \\\\xd7\\\\xa9\\\\xd7\\\\x9c \\\\xd7\\\\x94\\\\xd7\\\\x92\\\\xd7\\\\x96\\\\xd7\\\\xa8\\\\xd7\\\\x94, \\\\xd7\\\\x95\\\\xd7\\\\x94\\\\xd7\\\\xa4\\\\xd7\\\\x99\\\\xd7\\\\xa7\\\\xd7\\\\x95\\\\xd7\\\\x93 \\\\xd7\\\\x97\\\\xd7\\\\xa9\\\\xd7\\\\xa9 \\\\xd7\\\\x9e\\\\xd7\\\\x90\\\\xd7\\\\x93 \\\\xd7\\\\x9e\\\\xd7\\\\x9b\\\\xd7\\\\x99\\\\xd7\\\\x91\\\\xd7\\\\x95\\\\xd7\\\\xa9\\\\xd7\\\\x94 \\\\xd7\\\\xa9\\\\xd7\\\\x9c \\\\xd7\\\\x94\\\\xd7\\\\x9e\\\\xd7\\\\x95\\\\xd7\\\\x91\\\\xd7\\\\x9c\\\\xd7\\\\xa2\\\\xd7\\\\xaa \\\\xd7\\\\x94\\\\xd7\\\\x9e\\\\xd7\\\\xa0\\\\xd7\\\\x95\\\\xd7\\\\xaa\\\\xd7\\\\xa7\\\\xd7\\\\xaa \\\\xd7\\\\x9c\\\\xd7\\\\xa4\\\\xd7\\\\xa0\\\\xd7\\\\x99 \\\\xd7\\\\xa9\\\\xd7\\\\x99\\\\xd7\\\\x95\\\\xd7\\\\x9b\\\\xd7\\\\x9c\\\\xd7\\\\x95 \\\\xd7\\\\x9b\\\\xd7\\\\x95\\\\xd7\\\\x97\\\\xd7\\\\x95\\\\xd7\\\\xaa \\\\xd7\\\\xa6\\\\xd7\\\\x94\"\\\\xd7\\\\x9c \\\\xd7\\\\x9c\\\\xd7\\\\x97\\\\xd7\\\\x91\\\\xd7\\\\x95\\\\xd7\\\\xa8 \\\\xd7\\\\x90\\\\xd7\\\\x9c\\\\xd7\\\\x99\\\\xd7\\\\x94._NEWLINE_\\\\xd7\\\\x97\\\\xd7\\\\x98\\\\xd7\\\\x99\\\\xd7\\\\x91\\\\xd7\\\\xaa \\\\xd7\\\\x94\\\\xd7\\\\xa6\\\\xd7\\\\xa0\\\\xd7\\\\x97\\\\xd7\\\\xa0\\\\xd7\\\\x99\\\\xd7\\\\x9d \\\\xd7\\\\x9e\\\\xd7\\\\xa0\\\\xd7\\\\xaa\\\\xd7\\\\x94 \\\\xd7\\\\xa9\\\\xd7\\\\x9c\\\\xd7\\\\x95\\\\xd7\\\\xa9\\\\xd7\\\\x94 \\\\xd7\\\\x92\\\\xd7\\\\x93\\\\xd7\\\\x95\\\\xd7\\\\x93\\\\xd7\\\\x99 \\\\xd7\\\\xa6\\\\xd7\\\\xa0\\\\xd7\\\\x97\\\\xd7\\\\xa0\\\\xd7\\\\x99\\\\xd7\\\\x9d, \\\\xd7\\\\xa4\\\\xd7\\\\x9c\\\\xd7\\\\x95\\\\xd7\\\\x92\\\\xd7\\\\xaa \\\\xd7\\\\xa1\\\\xd7\\\\x99\\\\xd7\\\\x95\\\\xd7\\\\xa8, \\\\xd7\\\\xa4\\\\xd7\\\\x9c\\\\xd7\\\\x95\\\\xd7\\\\x92\\\\xd7\\\\xaa \\\\xd7\\\\x94\\\\xd7\\\\xa0\\\\xd7\\\\x93\\\\xd7\\\\xa1\\\\xd7\\\\x94, \\\\xd7\\\\x95\\\\xd7\\\\x99\\\\xd7\\\\x97\\\\xd7\\\\x99\\\\xd7\\\\x93\\\\xd7\\\\xaa \\\\xd7\\\\xa1\\\\xd7\\\\x99\\\\xd7\\\\x95\\\\xd7\\\\xa2 \\\\xd7\\\\x97\\\\xd7\\\\x98\\\\xd7\\\\x99\\\\xd7\\\\x91\\\\xd7\\\\xaa\\\\xd7\\\\x99\\\\xd7\\\\xaa, \\\\xd7\\\\xa9\\\\xd7\\\\x91\\\\xd7\\\\x94 4 \\\\xd7\\\\xa1\\\\xd7\\\\x95\\\\xd7\\\\x9c\\\\xd7\\\\x9c\\\\xd7\\\\x95\\\\xd7\\\\xaa \\\\xd7\\\\xaa\\\\xd7\\\\x95\\\\xd7\\\\xaa\\\\xd7\\\\x97\\\\xd7\\\\x99\\\\xd7\\\\x9d \\\\xd7\\\\x95\\\\xd7\\\\x9e\\\\xd7\\\\xa8\\\\xd7\\\\x92\\\\xd7\\\\x9e\\\\xd7\\\\x95\\\\xd7\\\\xaa. \\\\xd7\\\\x94\\\\xd7\\\\xa4\\\\xd7\\\\x99\\\\xd7\\\\xa7\\\\xd7\\\\x95\\\\xd7\\\\x93 \\\\xd7\\\\xa1\\\\xd7\\\\x99\\\\xd7\\\\xa4\\\\xd7\\\\x97 \\\\xd7\\\\x9c\\\\xd7\\\\x97\\\\xd7\\\\x98\\\\xd7\\\\x99\\\\xd7\\\\x91\\\\xd7\\\\x94 \\\\xd7\\\\xa2\\\\xd7\\\\xa9\\\\xd7\\\\xa8\\\\xd7\\\\x94 \\\\xd7\\\\x98\\\\xd7\\\\xa0\\\\xd7\\\\xa7\\\\xd7\\\\x99 \\\\xd7\\\\xa1\\\\xd7\\\\x95\\\\xd7\\\\xa4\\\\xd7\\\\xa8 \\\\xd7\\\\xa9\\\\xd7\\\\xa8\\\\xd7\\\\x9e\\\\xd7\\\\x9f \\\\xd7\\\\x9e\\\\xd7\\\\xa4\\\\xd7\\\\x9c\\\\xd7\\\\x95\\\\xd7\\\\x92\\\\xd7\\\\xaa \\\\xd7\\\\x94\\\\xd7\\\\x98\\\\xd7\\\\xa0\\\\xd7\\\\xa7\\\\xd7\\\\x99\\\\xd7\\\\x9d \\\\xd7\\\\x94\\\\xd7\\\\x99\\\\xd7\\\\xa8\\\\xd7\\\\x95\\\\xd7\\\\xa9\\\\xd7\\\\x9c\\\\xd7\\\\x9e\\\\xd7\\\\x99\\\\xd7\\\\xaa.\\\\n_START_SECTION_\\\\n\\\\xd7\\\\x94\\\\xd7\\\\x9b\\\\xd7\\\\x95\\\\xd7\\\\x97 \\\\xd7\\\\x94\\\\xd7\\\\x99\\\\xd7\\\\xa8\\\\xd7\\\\x93\\\\xd7\\\\xa0\\\\xd7\\\\x99 \\\\xd7\\\\x95\\\\xd7\\\\x94\\\\xd7\\\\x9e\\\\xd7\\\\x95\\\\xd7\\\\xa6\\\\xd7\\\\x91\\\\n_START_PARAGRAPH_\\\\n\\\\xd7\\\\x9e\\\\xd7\\\\xaa\\\\xd7\\\\x97\\\\xd7\\\\x9d \\\\xd7\\\\x92\\\\xd7\\\\x91\\\\xd7\\\\xa2\\\\xd7\\\\xaa \\\\xd7\\\\x94\\\\xd7\\\\xaa\\\\xd7\\\\x97\\\\xd7\\\\x9e\\\\xd7\\\\x95\\\\xd7\\\\xa9\\\\xd7\\\\xaa \\\\xd7\\\\x9b\\\\xd7\\\\x9c\\\\xd7\\\\x9c \\\\xd7\\\\x90\\\\xd7\\\\xaa \\\\xd7\\\\x91\\\\xd7\\\\x99\\\\xd7\\\\xaa \\\\xd7\\\\x94\\\\xd7\\\\xa1\\\\xd7\\\\xa4\\\\xd7\\\\xa8 \\\\xd7\\\\x9c\\\\xd7\\\\xa9\\\\xd7\\\\x95\\\\xd7\\\\x98\\\\xd7\\\\xa8\\\\xd7\\\\x99\\\\xd7\\\\x9d \\\\xd7\\\\x95\\\\xd7\\\\x90\\\\xd7\\\\xaa \\\\xd7\\\\x94\\\\xd7\\\\x9e\\\\xd7\\\\x95\\\\xd7\\\\xa6\\\\xd7\\\\x91 \\\\xd7\\\\x94\\\\xd7\\\\x92\\\\xd7\\\\x93\\\\xd7\\\\x95\\\\xd7\\\\x9c \\\\xd7\\\\x91\\\\xd7\\\\x92\\\\xd7\\\\x91\\\\xd7\\\\xa2\\\\xd7\\\\xaa \\\\xd7\\\\x94\\\\xd7\\\\xaa\\\\xd7\\\\x97\\\\xd7\\\\x9e\\\\xd7\\\\x95\\\\xd7\\\\xa9\\\\xd7\\\\xaa. \\\\xd7\\\\x91\\\\xd7\\\\x9e\\\\xd7\\\\xaa\\\\xd7\\\\x97\\\\xd7\\\\x9d \\\\xd7\\\\x94\\\\xd7\\\\x97\\\\xd7\\\\x96\\\\xd7\\\\x99\\\\xd7\\\\xa7\\\\xd7\\\\x94 \\\\xd7\\\\xa4\\\\xd7\\\\x9c\\\\xd7\\\\x95\\\\xd7\\\\x92\\\\xd7\\\\xaa \\\\xd7\\\\x97\\\\xd7\\\\x99\"\\\\xd7\\\\xa8 \\\\xd7\\\\x9e\\\\xd7\\\\xa1\\\\\\' 2 \\\\xd7\\\\x9e\\\\xd7\\\\x92\\\\xd7\\\\x93\\\\xd7\\\\x95\\\\xd7\\\\x93 2 \\\\xd7\\\\xa9\\\\xd7\\\\x9c \\\\xd7\\\\x94\\\\xd7\\\\x9c\\\\xd7\\\\x92\\\\xd7\\\\x99\\\\xd7\\\\x95\\\\xd7\\\\x9f \\\\xd7\\\\x94\\\\xd7\\\\x99\\\\xd7\\\\xa8\\\\xd7\\\\x93\\\\xd7\\\\xa0\\\\xd7\\\\x99, \\\\xd7\\\\x91\\\\xd7\\\\xa4\\\\xd7\\\\x99\\\\xd7\\\\xa7\\\\xd7\\\\x95\\\\xd7\\\\x93 \\\\xd7\\\\xa8\\\\xd7\\\\x90\\\\xd7\\\\x99\\\\xd7\\\\x93 (\\\\xd7\\\\xa8\\\\xd7\\\\x91-\\\\xd7\\\\xa1\\\\xd7\\\\xa8\\\\xd7\\\\x9f) \\\\xd7\\\\xa1\\\\xd7\\\\x9c\\\\xd7\\\\x99\\\\xd7\\\\x9e\\\\xd7\\\\x90\\\\xd7\\\\x9f \\\\xd7\\\\xa1\\\\xd7\\\\x90\\\\xd7\\\\x9c\\\\xd7\\\\x9d \\\\xd7\\\\x90\\\\xd7\\\\x9c-\\\\xd7\\\\xa1\\\\xd7\\\\x9c\\\\xd7\\\\x90\\\\xd7\\\\x99\\\\xd7\\\\x98\\\\xd7\\\\x94. \\\\xd7\\\\xa9\\\\xd7\\\\xaa\\\\xd7\\\\x99 \\\\xd7\\\\x9e\\\\xd7\\\\x97\\\\xd7\\\\x9c\\\\xd7\\\\xa7\\\\xd7\\\\x95\\\\xd7\\\\xaa \\\\xd7\\\\x94\\\\xd7\\\\x99\\\\xd7\\\\x95 \\\\xd7\\\\x91\\\\xd7\\\\x92\\\\xd7\\\\x91\\\\xd7\\\\xa2\\\\xd7\\\\xaa \\\\xd7\\\\x94\\\\xd7\\\\xaa\\\\xd7\\\\x97\\\\xd7\\\\x9e\\\\xd7\\\\x95\\\\xd7\\\\xa9\\\\xd7\\\\xaa, \\\\xd7\\\\x9e\\\\xd7\\\\x97\\\\xd7\\\\x9c\\\\xd7\\\\xa7\\\\xd7\\\\x94 \\\\xd7\\\\x90\\\\xd7\\\\x97\\\\xd7\\\\xaa \\\\xd7\\\\x91\\\\xd7\\\\x91\\\\xd7\\\\x99\\\\xd7\\\\xaa \\\\xd7\\\\x94\\\\xd7\\\\xa1\\\\xd7\\\\xa4\\\\xd7\\\\xa8 \\\\xd7\\\\x9c\\\\xd7\\\\xa9\\\\xd7\\\\x95\\\\xd7\\\\x98\\\\xd7\\\\xa8\\\\xd7\\\\x99\\\\xd7\\\\x9d \\\\xd7\\\\x95\\\\xd7\\\\x9e\\\\xd7\\\\x97\\\\xd7\\\\x9c\\\\xd7\\\\xa7\\\\xd7\\\\x94 \\\\xd7\\\\xa8\\\\xd7\\\\x91\\\\xd7\\\\x99\\\\xd7\\\\xa2\\\\xd7\\\\x99\\\\xd7\\\\xaa \\\\xd7\\\\x91\\\\xd7\\\\x9e\\\\xd7\\\\x95\\\\xd7\\\\xa6\\\\xd7\\\\x91 \\\\xd7\\\\xa1\\\\xd7\\\\x9e\\\\xd7\\\\x95\\\\xd7\\\\x9a \\\\xd7\\\\xa9\\\\xd7\\\\xa0\\\\xd7\\\\xa7\\\\xd7\\\\xa8\\\\xd7\\\\x90 \\\\xd7\\\\x9e\\\\xd7\\\\x95\\\\xd7\\\\xa6\\\\xd7\\\\x91 \\\\xd7\\\\x94\\\\xd7\\\\x9e\\\\xd7\\\\x98\\\\xd7\\\\x9c\\\\xd7\\\\x99\\\\xd7\\\\xaa \\\\xd7\\\\x94\\\\xd7\\\\xa6\\\\xd7\\\\x94\\\\xd7\\\\x95\\\\xd7\\\\x91\\\\xd7\\\\x94, \\\\xd7\\\\x9e\\\\xd7\\\\x93\\\\xd7\\\\xa8\\\\xd7\\\\x95\\\\xd7\\\\x9d \\\\xd7\\\\x9c\\\\xd7\\\\x91\\\\xd7\\\\x99\\\\xd7\\\\xaa \\\\xd7\\\\x94\\\\xd7\\\\xa1\\\\xd7\\\\xa4\\\\xd7\\\\xa8 \\\\xd7\\\\x9c\\\\xd7\\\\xa9\\\\xd7\\\\x95\\\\xd7\\\\x98\\\\xd7\\\\xa8\\\\xd7\\\\x99\\\\xd7\\\\x9d. \\\\xd7\\\\x91\\\\xd7\\\\xa1\\\\xd7\\\\x9a \\\\xd7\\\\x94\\\\xd7\\\\x9b\\\\xd7\\\\x9c \\\\xd7\\\\x94\\\\xd7\\\\x99\\\\xd7\\\\x95 \\\\xd7\\\\x91\\\\xd7\\\\x9e\\\\xd7\\\\xaa\\\\xd7\\\\x97\\\\xd7\\\\x9d \\\\xd7\\\\x91\\\\xd7\\\\xa2\\\\xd7\\\\xaa \\\\xd7\\\\xa4\\\\xd7\\\\xa8\\\\xd7\\\\x95\\\\xd7\\\\xa5 \\\\xd7\\\\x94\\\\xd7\\\\x9e\\\\xd7\\\\x9c\\\\xd7\\\\x97\\\\xd7\\\\x9e\\\\xd7\\\\x94 120 \\\\xd7\\\\x9c\\\\xd7\\\\x95\\\\xd7\\\\x97\\\\xd7\\\\x9e\\\\xd7\\\\x99\\\\xd7\\\\x9d \\\\xd7\\\\x99\\\\xd7\\\\xa8\\\\xd7\\\\x93\\\\xd7\\\\xa0\\\\xd7\\\\x99\\\\xd7\\\\x99\\\\xd7\\\\x9d._NEWLINE_\\\\xd7\\\\x9e\\\\xd7\\\\x95\\\\xd7\\\\xa6\\\\xd7\\\\x91 \\\\xd7\\\\x92\\\\xd7\\\\x91\\\\xd7\\\\xa2\\\\xd7\\\\xaa \\\\xd7\\\\x94\\\\xd7\\\\xaa\\\\xd7\\\\x97\\\\xd7\\\\x9e\\\\xd7\\\\x95\\\\xd7\\\\xa9\\\\xd7\\\\xaa \\\\xd7\\\\x94\\\\xd7\\\\x95\\\\xd7\\\\xa7\\\\xd7\\\\x9d \\\\xd7\\\\xa2\\\\xd7\\\\x9c \\\\xd7\\\\x99\\\\xd7\\\\x93\\\\xd7\\\\x99 \\\\xd7\\\\x94\\\\xd7\\\\x99\\\\xd7\\\\xa8\\\\xd7\\\\x93\\\\xd7\\\\xa0\\\\xd7\\\\x99\\\\xd7\\\\x9d \\\\xd7\\\\x9b\\\\xd7\\\\x93\\\\xd7\\\\x99 \\\\xd7\\\\x9c\\\\xd7\\\\xa9\\\\xd7\\\\x9c\\\\xd7\\\\x95\\\\xd7\\\\x98 \\\\xd7\\\\xa2\\\\xd7\\\\x9c \\\\xd7\\\\x94\\\\xd7\\\\x9b\\\\xd7\\\\x91\\\\xd7\\\\x99\\\\xd7\\\\xa9 \\\\xd7\\\\x9c\\\\xd7\\\\x94\\\\xd7\\\\xa8 \\\\xd7\\\\x94\\\\xd7\\\\xa6\\\\xd7\\\\x95\\\\xd7\\\\xa4\\\\xd7\\\\x99\\\\xd7\\\\x9d. \\\\xd7\\\\x9e\\\\xd7\\\\xa6\\\\xd7\\\\xa4\\\\xd7\\\\x95\\\\xd7\\\\x9f-\\\\xd7\\\\x9e\\\\xd7\\\\x96\\\\xd7\\\\xa8\\\\xd7\\\\x97 \\\\xd7\\\\x9c\\\\xd7\\\\x9e\\\\xd7\\\\x95\\\\xd7\\\\xa6\\\\xd7\\\\x91 \\\\xd7\\\\x92\\\\xd7\\\\x91\\\\xd7\\\\xa2\\\\xd7\\\\xaa \\\\xd7\\\\x94\\\\xd7\\\\xaa\\\\xd7\\\\x97\\\\xd7\\\\x9e\\\\xd7\\\\x95\\\\xd7\\\\xa9\\\\xd7\\\\xaa \\\\xd7\\\\x94\\\\xd7\\\\x95\\\\xd7\\\\xa7\\\\xd7\\\\x9e\\\\xd7\\\\x94 \\\\xd7\\\\xa2\\\\xd7\\\\x9e\\\\xd7\\\\x93\\\\xd7\\\\x94 \\\\xd7\\\\xa9\\\\xd7\\\\x9c\\\\xd7\\\\x98\\\\xd7\\\\xaa \\\\xd7\\\\xa2\\\\xd7\\\\x9c \\\\xd7\\\\x92\\\\xd7\\\\x91\\\\xd7\\\\xa2\\\\xd7\\\\xaa \\\\xd7\\\\x94\\\\xd7\\\\x9e\\\\xd7\\\\x91\\\\xd7\\\\xaa\\\\xd7\\\\xa8. \\\\xd7\\\\x9b\\\\xd7\\\\x9c\\\\xd7\\\\x95\\\\xd7\\\\x9e\\\\xd7\\\\xa8, \\\\xd7\\\\x9e\\\\xd7\\\\xa2\\\\xd7\\\\x9e\\\\xd7\\\\x93\\\\xd7\\\\xaa \\\\xd7\\\\x92\\\\xd7\\\\x91\\\\xd7\\\\xa2\\\\xd7\\\\xaa \\\\xd7\\\\x94\\\\xd7\\\\x9e\\\\xd7\\\\x91\\\\xd7\\\\xaa\\\\xd7\\\\xa8 \\\\xd7\\\\x99\\\\xd7\\\\x9b\\\\xd7\\\\x9c\\\\xd7\\\\x95 \\\\xd7\\\\xa6\\\\xd7\\\\x9c\\\\xd7\\\\xa4\\\\xd7\\\\x99\\\\xd7\\\\x9d \\\\xd7\\\\x99\\\\xd7\\\\xa8\\\\xd7\\\\x93\\\\xd7\\\\xa0\\\\xd7\\\\x99\\\\xd7\\\\x9d \\\\xd7\\\\x9c\\\\xd7\\\\x99\\\\xd7\\\\xa8\\\\xd7\\\\x95\\\\xd7\\\\xaa \\\\xd7\\\\x91\\\\xd7\\\\x9b\\\\xd7\\\\x95\\\\xd7\\\\x97\\\\xd7\\\\x95\\\\xd7\\\\xaa \\\\xd7\\\\x99\\\\xd7\\\\xa9\\\\xd7\\\\xa8\\\\xd7\\\\x90\\\\xd7\\\\x9c\\\\xd7\\\\x99\\\\xd7\\\\x9d \\\\xd7\\\\xa9\\\\xd7\\\\x94\\\\xd7\\\\x97\\\\xd7\\\\x9c\\\\xd7\\\\x95 \\\\xd7\\\\x9c\\\\xd7\\\\x97\\\\xd7\\\\x93\\\\xd7\\\\x95\\\\xd7\\\\xa8 \\\\xd7\\\\x90\\\\xd7\\\\x9c \\\\xd7\\\\x9e\\\\xd7\\\\x95\\\\xd7\\\\xa6\\\\xd7\\\\x91 \\\\xd7\\\\x92\\\\xd7\\\\x91\\\\xd7\\\\xa2\\\\xd7\\\\xaa \\\\xd7\\\\x94\\\\xd7\\\\xaa\\\\xd7\\\\x97\\\\xd7\\\\x9e\\\\xd7\\\\x95\\\\xd7\\\\xa9\\\\xd7\\\\xaa. \\\\xd7\\\\xa9\\\\xd7\\\\x9e\\\\xd7\\\\x94 \\\\xd7\\\\xa9\\\\xd7\\\\x9c \\\\xd7\\\\x92\\\\xd7\\\\x91\\\\xd7\\\\xa2\\\\xd7\\\\xaa \\\\xd7\\\\x94\\\\xd7\\\\x9e\\\\xd7\\\\x91\\\\xd7\\\\xaa\\\\xd7\\\\xa8 \\\\xd7\\\\x91\\\\xd7\\\\xa4\\\\xd7\\\\x99 \\\\xd7\\\\x94\\\\xd7\\\\x99\\\\xd7\\\\xa8\\\\xd7\\\\x93\\\\xd7\\\\xa0\\\\xd7\\\\x99\\\\xd7\\\\x9d \\\\xd7\\\\x94\\\\xd7\\\\x99\\\\xd7\\\\x94 \\\\xd7\\\\xaa\\\\xd7\\\\x9c \\\\xd7\\\\x90\\\\xd7\\\\x9c \\\\xd7\\\\x9e\\\\xd7\\\\x95\\\\xd7\\\\x93\\\\xd7\\\\x95\\\\xd7\\\\xa8\\\\xd7\\\\x94, \\\\xd7\\\\x9b\\\\xd7\\\\x9c\\\\xd7\\\\x95\\\\xd7\\\\x9e\\\\xd7\\\\xa8 \\\\xd7\\\\x94\\\\xd7\\\\x92\\\\xd7\\\\x91\\\\xd7\\\\xa2\\\\xd7\\\\x94 \\\\xd7\\\\x94\\\\xd7\\\\xa2\\\\xd7\\\\x92\\\\xd7\\\\x95\\\\xd7\\\\x9c\\\\xd7\\\\x94._NEWLINE_\\\\xd7\\\\x9e\\\\xd7\\\\x95\\\\xd7\\\\xa6\\\\xd7\\\\x91 \\\\xd7\\\\x92\\\\xd7\\\\x91\\\\xd7\\\\xa2\\\\xd7\\\\xaa \\\\xd7\\\\x94\\\\xd7\\\\xaa\\\\xd7\\\\x97\\\\xd7\\\\x9e\\\\xd7\\\\x95\\\\xd7\\\\xa9\\\\xd7\\\\xaa \\\\xd7\\\\x94\\\\xd7\\\\x99\\\\xd7\\\\x94 \\\\xd7\\\\x9e\\\\xd7\\\\x95\\\\xd7\\\\xa7\\\\xd7\\\\xa3 \\\\xd7\\\\x92\\\\xd7\\\\x93\\\\xd7\\\\xa8\\\\xd7\\\\x95\\\\xd7\\\\xaa \\\\xd7\\\\xaa\\\\xd7\\\\x99\\\\xd7\\\\x9c \\\\xd7\\\\x95\\\\xd7\\\\xa9\\\\xd7\\\\x93\\\\xd7\\\\x95\\\\xd7\\\\xaa \\\\xd7\\\\x9e\\\\xd7\\\\x95\\\\xd7\\\\xa7\\\\xd7\\\\xa9\\\\xd7\\\\x99\\\\xd7\\\\x9d. \\\\xd7\\\\x9e\\\\xd7\\\\xa2\\\\xd7\\\\x91\\\\xd7\\\\xa8 \\\\xd7\\\\x9c\\\\xd7\\\\x90\\\\xd7\\\\x9c\\\\xd7\\\\x94, \\\\xd7\\\\x94\\\\xd7\\\\x99\\\\xd7\\\\x99\\\\xd7\\\\xaa\\\\xd7\\\\x94 \\\\xd7\\\\x92\\\\xd7\\\\x91\\\\xd7\\\\xa2\\\\xd7\\\\xaa \\\\xd7\\\\x94\\\\xd7\\\\xaa\\\\xd7\\\\x97\\\\xd7\\\\x9e\\\\xd7\\\\x95\\\\xd7\\\\xa9\\\\xd7\\\\xaa \\\\xd7\\\\x9e\\\\xd7\\\\x95\\\\xd7\\\\xa7\\\\xd7\\\\xa4\\\\xd7\\\\xaa \\\\xd7\\\\x9e\\\\xd7\\\\xa9\\\\xd7\\\\x9c\\\\xd7\\\\x95\\\\xd7\\\\xa9\\\\xd7\\\\x94 \\\\xd7\\\\xa6\\\\xd7\\\\x93\\\\xd7\\\\x93\\\\xd7\\\\x99\\\\xd7\\\\x9d \\\\xd7\\\\x91\\\\xd7\\\\xaa\\\\xd7\\\\xa2\\\\xd7\\\\x9c\\\\xd7\\\\x95\\\\xd7\\\\xaa \\\\xd7\\\\xa7\\\\xd7\\\\xa9\\\\xd7\\\\xa8 \\\\xd7\\\\xa2\\\\xd7\\\\x9e\\\\xd7\\\\x95\\\\xd7\\\\xa7\\\\xd7\\\\x95\\\\xd7\\\\xaa, \\\\xd7\\\\x9e\\\\xd7\\\\x91\\\\xd7\\\\x95\\\\xd7\\\\x98\\\\xd7\\\\xa0\\\\xd7\\\\x95\\\\xd7\\\\xaa \\\\xd7\\\\x95\\\\xd7\\\\x9e\\\\xd7\\\\x93\\\\xd7\\\\x95\\\\xd7\\\\xa4\\\\xd7\\\\xa0\\\\xd7\\\\x95\\\\xd7\\\\xaa \\\\xd7\\\\x91\\\\xd7\\\\x90\\\\xd7\\\\x91\\\\xd7\\\\x9f \\\\xd7\\\\x99\\\\xd7\\\\xa8\\\\xd7\\\\x95\\\\xd7\\\\xa9\\\\xd7\\\\x9c\\\\xd7\\\\x9e\\\\xd7\\\\x99\\\\xd7\\\\xaa, \\\\xd7\\\\xa9\\\\xd7\\\\x9c\\\\xd7\\\\x90\\\\xd7\\\\x95\\\\xd7\\\\xa8\\\\xd7\\\\x9b\\\\xd7\\\\x9f \\\\xd7\\\\x91\\\\xd7\\\\x95\\\\xd7\\\\xa0\\\\xd7\\\\xa7\\\\xd7\\\\xa8\\\\xd7\\\\x99\\\\xd7\\\\x9d \\\\xd7\\\\xa8\\\\xd7\\\\x91\\\\xd7\\\\x99\\\\xd7\\\\x9d \\\\xd7\\\\x95\\\\xd7\\\\xa2\\\\xd7\\\\x9e\\\\xd7\\\\x93\\\\xd7\\\\x95\\\\xd7\\\\xaa \\\\xd7\\\\x9e\\\\xd7\\\\x95\\\\xd7\\\\x92\\\\xd7\\\\xa0\\\\xd7\\\\x95\\\\xd7\\\\xaa \\\\xd7\\\\x94\\\\xd7\\\\x99\\\\xd7\\\\x98\\\\xd7\\\\x91 \\\\xd7\\\\x9e\\\\xd7\\\\x91\\\\xd7\\\\x98\\\\xd7\\\\x95\\\\xd7\\\\x9f. \\\\xd7\\\\x94\\\\xd7\\\\xaa\\\\xd7\\\\xa2\\\\xd7\\\\x9c\\\\xd7\\\\x94 \\\\xd7\\\\x94\\\\xd7\\\\x9e\\\\xd7\\\\xa2\\\\xd7\\\\xa8\\\\xd7\\\\x91\\\\xd7\\\\x99\\\\xd7\\\\xaa, \\\\xd7\\\\xa9\\\\xd7\\\\xa4\\\\xd7\\\\xa0\\\\xd7\\\\xaa\\\\xd7\\\\x94 \\\\xd7\\\\x9c\\\\xd7\\\\xa2\\\\xd7\\\\x91\\\\xd7\\\\xa8 \\\\xd7\\\\x99\\\\xd7\\\\xa8\\\\xd7\\\\x95\\\\xd7\\\\xa9\\\\xd7\\\\x9c\\\\xd7\\\\x99\\\\xd7\\\\x9d \\\\xd7\\\\x94\\\\xd7\\\\x99\\\\xd7\\\\x94\\\\xd7\\\\x95\\\\xd7\\\\x93\\\\xd7\\\\x99\\\\xd7\\\\xaa \\\\xd7\\\\x94\\\\xd7\\\\x99\\\\xd7\\\\x99\\\\xd7\\\\xaa\\\\xd7\\\\x94 \\\\xd7\\\\x9e\\\\xd7\\\\x91\\\\xd7\\\\x95\\\\xd7\\\\xa6\\\\xd7\\\\xa8\\\\xd7\\\\xaa \\\\xd7\\\\x91\\\\xd7\\\\x9e\\\\xd7\\\\x99\\\\xd7\\\\x95\\\\xd7\\\\x97\\\\xd7\\\\x93. \\\\xd7\\\\x91\\\\xd7\\\\xa7\\\\xd7\\\\xa6\\\\xd7\\\\x94 \\\\xd7\\\\x94\\\\xd7\\\\xa6\\\\xd7\\\\xa4\\\\xd7\\\\x95\\\\xd7\\\\xa0\\\\xd7\\\\x99 \\\\xd7\\\\xa9\\\\xd7\\\\x9c \\\\xd7\\\\x94\\\\xd7\\\\xaa\\\\xd7\\\\xa2\\\\xd7\\\\x9c\\\\xd7\\\\x94 \\\\xd7\\\\x94\\\\xd7\\\\x9e\\\\xd7\\\\xa2\\\\xd7\\\\xa8\\\\xd7\\\\x91\\\\xd7\\\\x99\\\\xd7\\\\xaa \\\\xd7\\\\x94\\\\xd7\\\\xaa\\\\xd7\\\\xa2\\\\xd7\\\\xa7\\\\xd7\\\\x9c\\\\xd7\\\\x94 \\\\xd7\\\\x96\\\\xd7\\\\x95 \\\\xd7\\\\x9e\\\\xd7\\\\x96\\\\xd7\\\\xa8\\\\xd7\\\\x97\\\\xd7\\\\x94 \\\\xd7\\\\x95\\\\xd7\\\\x93\\\\xd7\\\\xa8\\\\xd7\\\\x95\\\\xd7\\\\x9e\\\\xd7\\\\x94, \\\\xd7\\\\x95\\\\xd7\\\\x94\\\\xd7\\\\x9e\\\\xd7\\\\xa9\\\\xd7\\\\x99\\\\xd7\\\\x9b\\\\xd7\\\\x94 \\\\xd7\\\\x9c\\\\xd7\\\\xaa\\\\xd7\\\\xa2\\\\xd7\\\\x9c\\\\xd7\\\\x94 \\\\xd7\\\\x94\\\\xd7\\\\x99\\\\xd7\\\\xa7\\\\xd7\\\\xa4\\\\xd7\\\\x99\\\\xd7\\\\xaa \\\\xd7\\\\x9e\\\\xd7\\\\x96\\\\xd7\\\\xa8\\\\xd7\\\\x97\\\\xd7\\\\x99\\\\xd7\\\\xaa. \\\\xd7\\\\xa9\\\\xd7\\\\xaa\\\\xd7\\\\x99 \\\\xd7\\\\x94\\\\xd7\\\\xaa\\\\xd7\\\\xa2\\\\xd7\\\\x9c\\\\xd7\\\\x95\\\\xd7\\\\xaa \\\\xd7\\\\x99\\\\xd7\\\\xa6\\\\xd7\\\\xa8\\\\xd7\\\\x95 \\\\xd7\\\\x9e\\\\xd7\\\\xa2\\\\xd7\\\\x99\\\\xd7\\\\x9f \\\\xd7\\\\xa6\\\\xd7\\\\x95\\\\xd7\\\\xa8\\\\xd7\\\\xaa \\\\xd7\\\\xa4\\\\xd7\\\\xa2\\\\xd7\\\\x9e\\\\xd7\\\\x95\\\\xd7\\\\x9f \\\\xd7\\\\xa9\\\\xd7\\\\x94\\\\xd7\\\\xa7\\\\xd7\\\\x99\\\\xd7\\\\xa3 \\\\xd7\\\\x90\\\\xd7\\\\xaa \\\\xd7\\\\x94\\\\xd7\\\\x9e\\\\xd7\\\\x95\\\\xd7\\\\xa6\\\\xd7\\\\x91 \\\\xd7\\\\x9e\\\\xd7\\\\x93\\\\xd7\\\\xa8\\\\xd7\\\\x95\\\\xd7\\\\x9d \\\\xd7\\\\x9e\\\\xd7\\\\xa2\\\\xd7\\\\xa8\\\\xd7\\\\x91 \\\\xd7\\\\x9c\\\\xd7\\\\x93\\\\xd7\\\\xa8\\\\xd7\\\\x95\\\\xd7\\\\x9d \\\\xd7\\\\x9e\\\\xd7\\\\x96\\\\xd7\\\\xa8\\\\xd7\\\\x97. \\\\xd7\\\\x91\\\\xd7\\\\x90\\\\xd7\\\\x9e\\\\xd7\\\\xa6\\\\xd7\\\\xa2 \\\\xd7\\\\x94\\\\xd7\\\\x9e\\\\xd7\\\\x95\\\\xd7\\\\xa6\\\\xd7\\\\x91 \\\\xd7\\\\x94\\\\xd7\\\\x99\\\\xd7\\\\x99\\\\xd7\\\\xaa\\\\xd7\\\\x94 \\\\xd7\\\\xaa\\\\xd7\\\\xa2\\\\xd7\\\\x9c\\\\xd7\\\\x94 \\\\xd7\\\\x9e\\\\xd7\\\\xa8\\\\xd7\\\\x9b\\\\xd7\\\\x96\\\\xd7\\\\x99\\\\xd7\\\\xaa, \\\\xd7\\\\xa9\\\\xd7\\\\x94\\\\xd7\\\\x95\\\\xd7\\\\x91\\\\xd7\\\\x99\\\\xd7\\\\x9c\\\\xd7\\\\x94 \\\\xd7\\\\x90\\\\xd7\\\\x9c \\\\xd7\\\\x9e\\\\xd7\\\\x91\\\\xd7\\\\xa0\\\\xd7\\\\x99\\\\xd7\\\\x9d \\\\xd7\\\\xa9\\\\xd7\\\\x95\\\\xd7\\\\xa0\\\\xd7\\\\x99\\\\xd7\\\\x9d \\\\xd7\\\\xa9\\\\xd7\\\\x94\\\\xd7\\\\x99\\\\xd7\\\\x95 \\\\xd7\\\\x91\\\\xd7\\\\x9e\\\\xd7\\\\xa8\\\\xd7\\\\x9b\\\\xd7\\\\x96 \\\\xd7\\\\x94\\\\xd7\\\\x92\\\\xd7\\\\x91\\\\xd7\\\\xa2\\\\xd7\\\\x94 - \\\\xd7\\\\xa9\\\\xd7\\\\xa0\\\\xd7\\\\x99 \\\\xd7\\\\x9e\\\\xd7\\\\x91\\\\xd7\\\\xa0\\\\xd7\\\\x99 \\\\xd7\\\\x9e\\\\xd7\\\\x92\\\\xd7\\\\x95\\\\xd7\\\\xa8\\\\xd7\\\\x99\\\\xd7\\\\x9d \\\\xd7\\\\x91\\\\xd7\\\\xa2\\\\xd7\\\\x9c\\\\xd7\\\\x99 \\\\xd7\\\\x92\\\\xd7\\\\x92 \\\\xd7\\\\x9e\\\\xd7\\\\xa2\\\\xd7\\\\x95\\\\xd7\\\\x92\\\\xd7\\\\x9c \\\\xd7\\\\x9e\\\\xd7\\\\xa4\\\\xd7\\\\x97, \\\\xd7\\\\x9e\\\\xd7\\\\x92\\\\xd7\\\\x93\\\\xd7\\\\x9c \\\\xd7\\\\x9e\\\\xd7\\\\x99\\\\xd7\\\\x9d, \\\\xd7\\\\xa4\\\\xd7\\\\x99\\\\xd7\\\\x9c\\\\xd7\\\\x91\\\\xd7\\\\x95\\\\xd7\\\\xa7\\\\xd7\\\\xa1, \\\\xd7\\\\x95\\\\xd7\\\\xa2\\\\xd7\\\\x95\\\\xd7\\\\x93. \\\\xd7\\\\x91\\\\xd7\\\\xa1\\\\xd7\\\\x9e\\\\xd7\\\\x95\\\\xd7\\\\x9a \\\\xd7\\\\x9c\\\\xd7\\\\xa7\\\\xd7\\\\xa6\\\\xd7\\\\x94 \\\\xd7\\\\x94\\\\xd7\\\\xa6\\\\xd7\\\\xa4\\\\xd7\\\\x95\\\\xd7\\\\xa0\\\\xd7\\\\x99 \\\\xd7\\\\xa9\\\\xd7\\\\x9c \\\\xd7\\\\x94\\\\xd7\\\\xaa\\\\xd7\\\\xa2\\\\xd7\\\\x9c\\\\xd7\\\\x94 \\\\xd7\\\\x94\\\\xd7\\\\x9e\\\\xd7\\\\xa8\\\\xd7\\\\x9b\\\\xd7\\\\x96\\\\xd7\\\\x99\\\\xd7\\\\xaa \\\\xd7\\\\xa0\\\\xd7\\\\x9e\\\\xd7\\\\xa6\\\\xd7\\\\x90 \\\\xd7\\\\x91\\\\xd7\\\\x95\\\\xd7\\\\xa0\\\\xd7\\\\xa7\\\\xd7\\\\xa8 \\\\xd7\\\\x94\\\\xd7\\\\xa4\\\\xd7\\\\x99\\\\xd7\\\\xa7\\\\xd7\\\\x95\\\\xd7\\\\x93 \\\\xd7\\\\x94\\\\xd7\\\\xaa\\\\xd7\\\\xaa-\\\\xd7\\\\xa7\\\\xd7\\\\xa8\\\\xd7\\\\xa7\\\\xd7\\\\xa2\\\\xd7\\\\x99 \\\\xd7\\\\xa9\\\\xd7\\\\x9c \\\\xd7\\\\x94\\\\xd7\\\\x9e\\\\xd7\\\\x95\\\\xd7\\\\xa6\\\\xd7\\\\x91. \\\\xd7\\\\x91\\\\xd7\\\\xa1\\\\xd7\\\\x9e\\\\xd7\\\\x95\\\\xd7\\\\x9a \\\\xd7\\\\x9c\\\\xd7\\\\x91\\\\xd7\\\\x95\\\\xd7\\\\xa0\\\\xd7\\\\xa7\\\\xd7\\\\xa8 \\\\xd7\\\\x94\\\\xd7\\\\xa4\\\\xd7\\\\x99\\\\xd7\\\\xa7\\\\xd7\\\\x95\\\\xd7\\\\x93, \\\\xd7\\\\x9e\\\\xd7\\\\x9e\\\\xd7\\\\x96\\\\xd7\\\\xa8\\\\xd7\\\\x97 \\\\xd7\\\\x9c\\\\xd7\\\\x92\\\\xd7\\\\x91\\\\xd7\\\\xa2\\\\xd7\\\\x94 \\\\xd7\\\\x95\\\\xd7\\\\x9e\\\\xd7\\\\x97\\\\xd7\\\\x95\\\\xd7\\\\xa5 \\\\xd7\\\\x9c\\\\xd7\\\\x92\\\\xd7\\\\x93\\\\xd7\\\\xa8\\\\xd7\\\\x95\\\\xd7\\\\xaa \\\\xd7\\\\xa9\\\\xd7\\\\xa1\\\\xd7\\\\x91\\\\xd7\\\\x99\\\\xd7\\\\x91\\\\xd7\\\\x94, \\\\xd7\\\\xa2\\\\xd7\\\\x9e\\\\xd7\\\\x93 \\\\xd7\\\\x9e\\\\xd7\\\\x91\\\\xd7\\\\xa0\\\\xd7\\\\x94 \\\\xd7\\\\xa0\\\\xd7\\\\x95\\\\xd7\\\\xa1\\\\xd7\\\\xa3 (\\\\xd7\\\\x9b\\\\xd7\\\\xa0\\\\xd7\\\\xa8\\\\xd7\\\\x90\\\\xd7\\\\x94 \\\\xd7\\\\x91\\\\xd7\\\\x99\\\\xd7\\\\xaa \\\\xd7\\\\x9e\\\\xd7\\\\x92\\\\xd7\\\\x95\\\\xd7\\\\xa8\\\\xd7\\\\x99\\\\xd7\\\\x9d) \\\\xd7\\\\xa9\\\\xd7\\\\x9b\\\\xd7\\\\x95\\\\xd7\\\\xa0\\\\xd7\\\\x94 \\\\xd7\\\\xa2\\\\xd7\\\\x9c \\\\xd7\\\\x99\\\\xd7\\\\x93\\\\xd7\\\\x99 \\\\xd7\\\\x94\\\\xd7\\\\xa6\\\\xd7\\\\xa0\\\\xd7\\\\x97\\\\xd7\\\\xa0\\\\xd7\\\\x99\\\\xd7\\\\x9d \"\\\\xd7\\\\x91\\\\xd7\\\\x99\\\\xd7\\\\xaa \\\\xd7\\\\x94\\\\xd7\\\\x98\\\\xd7\\\\x9c\\\\xd7\\\\x95\\\\xd7\\\\x95\\\\xd7\\\\x99\\\\xd7\\\\x96\\\\xd7\\\\x99\\\\xd7\\\\x94\"._NEWLINE_\\\\xd7\\\\x91\\\\xd7\\\\xa6\\\\xd7\\\\x99\\\\xd7\\\\x93\\\\xd7\\\\x95 \\\\xd7\\\\x94\\\\xd7\\\\x93\\\\xd7\\\\xa8\\\\xd7\\\\x95\\\\xd7\\\\x9e\\\\xd7\\\\x99 \\\\xd7\\\\xa9\\\\xd7\\\\x9c \\\\xd7\\\\x94\\\\xd7\\\\x9e\\\\xd7\\\\x95\\\\xd7\\\\xa6\\\\xd7\\\\x91 \\\\xd7\\\\x94\\\\xd7\\\\x99\\\\xd7\\\\x99\\\\xd7\\\\xaa\\\\xd7\\\\x94 \\\\xd7\\\\xaa\\\\xd7\\\\xa2\\\\xd7\\\\x9c\\\\xd7\\\\x94 \\\\xd7\\\\xa8\\\\xd7\\\\x93\\\\xd7\\\\x95\\\\xd7\\\\x93\\\\xd7\\\\x94, \\\\xd7\\\\xa9\\\\xd7\\\\x97\\\\xd7\\\\x99\\\\xd7\\\\x91\\\\xd7\\\\xa8\\\\xd7\\\\x94 \\\\xd7\\\\x91\\\\xd7\\\\x99\\\\xd7\\\\x9f \\\\xd7\\\\x94\\\\xd7\\\\xaa\\\\xd7\\\\xa2\\\\xd7\\\\x9c\\\\xd7\\\\x94 \\\\xd7\\\\x94\\\\xd7\\\\x9e\\\\xd7\\\\xa8\\\\xd7\\\\x9b\\\\xd7\\\\x96\\\\xd7\\\\x99\\\\xd7\\\\xaa \\\\xd7\\\\x9c\\\\xd7\\\\xaa\\\\xd7\\\\xa2\\\\xd7\\\\x9c\\\\xd7\\\\x94 \\\\xd7\\\\x94\\\\xd7\\\\x9e\\\\xd7\\\\xa2\\\\xd7\\\\xa8\\\\xd7\\\\x91\\\\xd7\\\\x99\\\\xd7\\\\xaa, \\\\xd7\\\\x95\\\\xd7\\\\x9b\\\\xd7\\\\x9f \\\\xd7\\\\x94\\\\xd7\\\\x99\\\\xd7\\\\x99\\\\xd7\\\\xaa\\\\xd7\\\\x94 \\\\xd7\\\\x9c\\\\xd7\\\\x94 \\\\xd7\\\\xa9\\\\xd7\\\\x9c\\\\xd7\\\\x95\\\\xd7\\\\x97\\\\xd7\\\\x94 \\\\xd7\\\\x9c\\\\xd7\\\\x9b\\\\xd7\\\\x99\\\\xd7\\\\x95\\\\xd7\\\\x95\\\\xd7\\\\x9f \\\\xd7\\\\x91\\\\xd7\\\\x99\\\\xd7\\\\xaa \\\\xd7\\\\x94\\\\xd7\\\\xa1\\\\xd7\\\\xa4\\\\xd7\\\\xa8 \\\\xd7\\\\x9c\\\\xd7\\\\xa9\\\\xd7\\\\x95\\\\xd7\\\\x98\\\\xd7\\\\xa8\\\\xd7\\\\x99\\\\xd7\\\\x9d. \\\\xd7\\\\xaa\\\\xd7\\\\xa2\\\\xd7\\\\x9c\\\\xd7\\\\x94 \\\\xd7\\\\x96\\\\xd7\\\\x95 \\\\xd7\\\\x94\\\\xd7\\\\x99\\\\xd7\\\\x99\\\\xd7\\\\xaa\\\\xd7\\\\x94 \\\\xd7\\\\x9e\\\\xd7\\\\x95\\\\xd7\\\\x92\\\\xd7\\\\xa0\\\\xd7\\\\xaa \\\\xd7\\\\xa4\\\\xd7\\\\x97\\\\xd7\\\\x95\\\\xd7\\\\xaa \\\\xd7\\\\x9e\\\\xd7\\\\xa9\\\\xd7\\\\x90\\\\xd7\\\\xa8 \\\\xd7\\\\x94\\\\xd7\\\\xaa\\\\xd7\\\\xa2\\\\xd7\\\\x9c\\\\xd7\\\\x95\\\\xd7\\\\xaa. \\\\xd7\\\\xa2\\\\xd7\\\\x9c \\\\xd7\\\\xa6\\\\xd7\\\\x93 \\\\xd7\\\\x96\\\\xd7\\\\x94 \\\\xd7\\\\x97\\\\xd7\\\\x9c\\\\xd7\\\\xa9\\\\xd7\\\\x95 \\\\xd7\\\\x9b\\\\xd7\\\\x9e\\\\xd7\\\\x94 \\\\xd7\\\\x91\\\\xd7\\\\x95\\\\xd7\\\\xa0\\\\xd7\\\\xa7\\\\xd7\\\\xa8\\\\xd7\\\\x99\\\\xd7\\\\x9d, \\\\xd7\\\\xa9\\\\xd7\\\\x99\\\\xd7\\\\xa6\\\\xd7\\\\xa8\\\\xd7\\\\x95 \"\\\\xd7\\\\xa9\\\\xd7\\\\x98\\\\xd7\\\\x97 \\\\xd7\\\\x94\\\\xd7\\\\xa8\\\\xd7\\\\x99\\\\xd7\\\\x92\\\\xd7\\\\x94\" \\\\xd7\\\\x9c\\\\xd7\\\\x9b\\\\xd7\\\\x95\\\\xd7\\\\x97\\\\xd7\\\\x95\\\\xd7\\\\xaa \\\\xd7\\\\xa9\\\\xd7\\\\x99\\\\xd7\\\\xa0\\\\xd7\\\\xa1\\\\xd7\\\\x95 \\\\xd7\\\\x9c\\\\xd7\\\\x94\\\\xd7\\\\xa1\\\\xd7\\\\xaa\\\\xd7\\\\xa2\\\\xd7\\\\xa8 \\\\xd7\\\\xa2\\\\xd7\\\\x9c \\\\xd7\\\\x94\\\\xd7\\\\x9e\\\\xd7\\\\x95\\\\xd7\\\\xa6\\\\xd7\\\\x91 \\\\xd7\\\\x9e\\\\xd7\\\\x9b\\\\xd7\\\\x99\\\\xd7\\\\x95\\\\xd7\\\\x95\\\\xd7\\\\x9f \\\\xd7\\\\x96\\\\xd7\\\\x94. \\\\xd7\\\\x91\\\\xd7\\\\xa6\\\\xd7\\\\x93 \\\\xd7\\\\x96\\\\xd7\\\\x94 \\\\xd7\\\\x94\\\\xd7\\\\x99\\\\xd7\\\\x95 \\\\xd7\\\\xa9\\\\xd7\\\\x9c\\\\xd7\\\\x95\\\\xd7\\\\xa9\\\\xd7\\\\x94 \\\\xd7\\\\x91\\\\xd7\\\\xaa\\\\xd7\\\\x99\\\\xd7\\\\x9d, \\\\xd7\\\\xa9\\\\xd7\\\\x94\\\\xd7\\\\x99\\\\xd7\\\\x95 \\\\xd7\\\\x97\\\\xd7\\\\x9c\\\\xd7\\\\xa7 \\\\xd7\\\\x9e\\\\xd7\\\\x9e\\\\xd7\\\\x97\\\\xd7\\\\xa1\\\\xd7\\\\xa0\\\\xd7\\\\x99 \\\\xd7\\\\x90\\\\xd7\\\\x95\\\\xd7\\\\xa0\\\\xd7\\\\xa8\"\\\\xd7\\\\x90, \\\\xd7\\\\x95\\\\xd7\\\\x9c\\\\xd7\\\\x90\\\\xd7\\\\x95\\\\xd7\\\\xa8\\\\xd7\\\\x9b\\\\xd7\\\\x9d, \\\\xd7\\\\x9e\\\\xd7\\\\x93\\\\xd7\\\\xa8\\\\xd7\\\\x95\\\\xd7\\\\x9d \\\\xd7\\\\x9c\\\\xd7\\\\x94\\\\xd7\\\\x9d, \\\\xd7\\\\xa2\\\\xd7\\\\x91\\\\xd7\\\\xa8\\\\xd7\\\\x94 \\\\xd7\\\\x92\\\\xd7\\\\x93\\\\xd7\\\\xa8 \\\\xd7\\\\x90\\\\xd7\\\\x91\\\\xd7\\\\x9f. \\\\xd7\\\\x91\\\\xd7\\\\x9e\\\\xd7\\\\xa7\\\\xd7\\\\x91\\\\xd7\\\\x99\\\\xd7\\\\x9c \\\\xd7\\\\x9c\\\\xd7\\\\x92\\\\xd7\\\\x93\\\\xd7\\\\xa8 \\\\xd7\\\\x94\\\\xd7\\\\x99\\\\xd7\\\\x94 \\\\xd7\\\\x91\\\\xd7\\\\x99\\\\xd7\\\\xaa \\\\xd7\\\\x90\\\\xd7\\\\x91\\\\xd7\\\\x9f \\\\xd7\\\\x9e\\\\xd7\\\\x95\\\\xd7\\\\x90\\\\xd7\\\\xa8\\\\xd7\\\\x9a.\\\\n_START_SECTION_\\\\n\\\\xd7\\\\xaa\\\\xd7\\\\x9b\\\\xd7\\\\xa0\\\\xd7\\\\x95\\\\xd7\\\\x9f\\\\n_START_PARAGRAPH_\\\\n\\\\xd7\\\\xa4\\\\xd7\\\\x99\\\\xd7\\\\xa7\\\\xd7\\\\x95\\\\xd7\\\\x93 \\\\xd7\\\\x94\\\\xd7\\\\x9e\\\\xd7\\\\xa8\\\\xd7\\\\x9b\\\\xd7\\\\x96 \\\\xd7\\\\x94\\\\xd7\\\\x95\\\\xd7\\\\xa2\\\\xd7\\\\x99\\\\xd7\\\\x93 \\\\xd7\\\\x90\\\\xd7\\\\xaa \\\\xd7\\\\x97\\\\xd7\\\\x98\\\\xd7\\\\x99\\\\xd7\\\\x91\\\\xd7\\\\x94 55 \\\\xd7\\\\x9c\\\\xd7\\\\x9e\\\\xd7\\\\x98\\\\xd7\\\\xa8\\\\xd7\\\\xaa \\\\xd7\\\\x99\\\\xd7\\\\xa6\\\\xd7\\\\x99\\\\xd7\\\\xa8\\\\xd7\\\\xaa \\\\xd7\\\\x94\\\\xd7\\\\xa7\\\\xd7\\\\xa9\\\\xd7\\\\xa8 \\\\xd7\\\\xa2\\\\xd7\\\\x9d \\\\xd7\\\\x94\\\\xd7\\\\xa8 \\\\xd7\\\\x94\\\\xd7\\\\xa6\\\\xd7\\\\x95\\\\xd7\\\\xa4\\\\xd7\\\\x99\\\\xd7\\\\x9d, \\\\xd7\\\\x93\\\\xd7\\\\xa8\\\\xd7\\\\x9a \\\\xd7\\\\xa9\\\\xd7\\\\x9b\\\\xd7\\\\x95\\\\xd7\\\\xa0\\\\xd7\\\\xaa \\\\xd7\\\\xa9\\\\xd7\\\\x99\\\\xd7\\\\x99\\\\xd7\\\\x97\\\\\\' \\\\xd7\\\\x92\\\\\\'\\\\xd7\\\\xa8\\\\xd7\\\\x90\\\\xd7\\\\x97, \\\\xd7\\\\x95\\\\xd7\\\\x9b\\\\xd7\\\\x99\\\\xd7\\\\x91\\\\xd7\\\\x95\\\\xd7\\\\xa9 \\\\xd7\\\\x94\\\\xd7\\\\xa9\\\\xd7\\\\x98\\\\xd7\\\\x97 \\\\xd7\\\\x9e\\\\xd7\\\\x93\\\\xd7\\\\xa8\\\\xd7\\\\x95\\\\xd7\\\\x9d \\\\xd7\\\\x9c\\\\xd7\\\\xa9\\\\xd7\\\\x9b\\\\xd7\\\\x95\\\\xd7\\\\xa0\\\\xd7\\\\x94, \\\\xd7\\\\xa2\\\\xd7\\\\x93 \\\\xd7\\\\x9e\\\\xd7\\\\x95\\\\xd7\\\\x96\\\\xd7\\\\x99\\\\xd7\\\\x90\\\\xd7\\\\x95\\\\xd7\\\\x9f \\\\xd7\\\\xa8\\\\xd7\\\\x95\\\\xd7\\\\xa7\\\\xd7\\\\xa4\\\\xd7\\\\x9c\\\\xd7\\\\xa8. \\\\xd7\\\\x9e\\\\xd7\\\\x97\"\\\\xd7\\\\x98 55, \\\\xd7\\\\x90\\\\xd7\\\\x9c\\\\xd7\\\\x95\\\\xd7\\\\xa3-\\\\xd7\\\\x9e\\\\xd7\\\\xa9\\\\xd7\\\\xa0\\\\xd7\\\\x94 \\\\xd7\\\\x9e\\\\xd7\\\\xa8\\\\xd7\\\\x93\\\\xd7\\\\x9b\\\\xd7\\\\x99 \\\\xd7\\\\x92\\\\xd7\\\\x95\\\\xd7\\\\xa8, \\\\xd7\\\\x97\\\\xd7\\\\x99\\\\xd7\\\\x9c\\\\xd7\\\\xa7 \\\\xd7\\\\x90\\\\xd7\\\\xaa \\\\xd7\\\\x94\\\\xd7\\\\x9e\\\\xd7\\\\xa9\\\\xd7\\\\x99\\\\xd7\\\\x9e\\\\xd7\\\\x94 \\\\xd7\\\\x91\\\\xd7\\\\x99\\\\xd7\\\\x9f \\\\xd7\\\\x92\\\\xd7\\\\x93\\\\xd7\\\\x95\\\\xd7\\\\x93\\\\xd7\\\\x99 \\\\xd7\\\\x94\\\\xd7\\\\x97\\\\xd7\\\\x98\\\\xd7\\\\x99\\\\xd7\\\\x91\\\\xd7\\\\x94. \\\\xd7\\\\xa2\\\\xd7\\\\x9c \\\\xd7\\\\x92\\\\xd7\\\\x93\\\\xd7\\\\x95\\\\xd7\\\\x93 66, \\\\xd7\\\\x91\\\\xd7\\\\xa4\\\\xd7\\\\x99\\\\xd7\\\\xa7\\\\xd7\\\\x95\\\\xd7\\\\x93\\\\xd7\\\\x95 \\\\xd7\\\\xa9\\\\xd7\\\\x9c \\\\xd7\\\\x99\\\\xd7\\\\x95\\\\xd7\\\\xa1\\\\xd7\\\\x99 \\\\xd7\\\\x99\\\\xd7\\\\xa4\\\\xd7\\\\x94, \\\\xd7\\\\x94\\\\xd7\\\\x95\\\\xd7\\\\x98\\\\xd7\\\\x9c \\\\xd7\\\\x9c\\\\xd7\\\\xa4\\\\xd7\\\\xa8\\\\xd7\\\\x95\\\\xd7\\\\xa5 \\\\xd7\\\\x90\\\\xd7\\\\xaa \\\\xd7\\\\x94\\\\xd7\\\\xa7\\\\xd7\\\\x95 \\\\xd7\\\\x94\\\\xd7\\\\xa2\\\\xd7\\\\x99\\\\xd7\\\\xa8\\\\xd7\\\\x95\\\\xd7\\\\xa0\\\\xd7\\\\x99 \\\\xd7\\\\x91\\\\xd7\\\\x90\\\\xd7\\\\x96\\\\xd7\\\\x95\\\\xd7\\\\xa8 \\\\xd7\\\\xa9\\\\xd7\\\\x9b\\\\xd7\\\\x95\\\\xd7\\\\xa0\\\\xd7\\\\xaa \\\\xd7\\\\xa1\\\\xd7\\\\xa0\\\\xd7\\\\x94\\\\xd7\\\\x93\\\\xd7\\\\xa8\\\\xd7\\\\x99\\\\xd7\\\\x94, \\\\xd7\\\\x9c\\\\xd7\\\\x9b\\\\xd7\\\\x91\\\\xd7\\\\x95\\\\xd7\\\\xa9 \\\\xd7\\\\x90\\\\xd7\\\\xaa \\\\xd7\\\\x91\\\\xd7\\\\x99\\\\xd7\\\\xaa-\\\\xd7\\\\x94\\\\xd7\\\\xa1\\\\xd7\\\\xa4\\\\xd7\\\\xa8 \\\\xd7\\\\x9c\\\\xd7\\\\xa9\\\\xd7\\\\x95\\\\xd7\\\\x98\\\\xd7\\\\xa8\\\\xd7\\\\x99\\\\xd7\\\\x9d \\\\xd7\\\\x95\\\\xd7\\\\x92\\\\xd7\\\\x91\\\\xd7\\\\xa2\\\\xd7\\\\xaa \\\\xd7\\\\x94\\\\xd7\\\\xaa\\\\xd7\\\\x97\\\\xd7\\\\x9e\\\\xd7\\\\x95\\\\xd7\\\\xa9\\\\xd7\\\\xaa, \\\\xd7\\\\x95\\\\xd7\\\\x9c\\\\xd7\\\\x94\\\\xd7\\\\x9e\\\\xd7\\\\xa9\\\\xd7\\\\x99\\\\xd7\\\\x9a \\\\xd7\\\\x9e\\\\xd7\\\\x94\\\\xd7\\\\x9d \\\\xd7\\\\x9c\\\\xd7\\\\xa9\\\\xd7\\\\x9b\\\\xd7\\\\x95\\\\xd7\\\\xa0\\\\xd7\\\\xaa \\\\xd7\\\\xa9\\\\xd7\\\\x99\\\\xd7\\\\x99\\\\xd7\\\\x97\\\\\\' \\\\xd7\\\\x92\\\\\\'\\\\xd7\\\\xa8\\\\xd7\\\\x90\\\\xd7\\\\x97, \\\\xd7\\\\xa9\\\\xd7\\\\x9d \\\\xd7\\\\x99\\\\xd7\\\\x95\\\\xd7\\\\xa2\\\\xd7\\\\x93 \\\\xd7\\\\x9c\\\\xd7\\\\x94\\\\xd7\\\\xaa\\\\xd7\\\\x9e\\\\xd7\\\\xa7\\\\xd7\\\\x9d \\\\xd7\\\\x91\\\\xd7\\\\x9e\\\\xd7\\\\x9c\\\\xd7\\\\x95\\\\xd7\\\\x9f \\\\xd7\\\\x90\\\\xd7\\\\x9e\\\\xd7\\\\x91\\\\xd7\\\\xa1\\\\xd7\\\\x93\\\\xd7\\\\x95\\\\xd7\\\\xa8 \\\\xd7\\\\xa9\\\\xd7\\\\x9e\\\\xd7\\\\xa8\\\\xd7\\\\x9b\\\\xd7\\\\x96\\\\xd7\\\\x94._NEWLINE_\\\\xd7\\\\x9e\\\\xd7\\\\xa4\\\\xd7\\\\xa7\\\\xd7\\\\x93 \\\\xd7\\\\x94\\\\xd7\\\\x92\\\\xd7\\\\x93\\\\xd7\\\\x95\\\\xd7\\\\x93 \\\\xd7\\\\x94\\\\xd7\\\\x97\\\\xd7\\\\x9c\\\\xd7\\\\x99\\\\xd7\\\\x98 \\\\xd7\\\\x9c\\\\xd7\\\\xa4\\\\xd7\\\\xa8\\\\xd7\\\\x95\\\\xd7\\\\xa5 \\\\xd7\\\\xa4\\\\xd7\\\\xa8\\\\xd7\\\\xa6\\\\xd7\\\\x94 \\\\xd7\\\\x90\\\\xd7\\\\x97\\\\xd7\\\\xaa \\\\xd7\\\\x91\\\\xd7\\\\x92\\\\xd7\\\\x93\\\\xd7\\\\xa8\\\\xd7\\\\x95\\\\xd7\\\\xaa \\\\xd7\\\\x91\\\\xd7\\\\x99\\\\xd7\\\\xaa-\\\\xd7\\\\x94\\\\xd7\\\\xa1\\\\xd7\\\\xa4\\\\xd7\\\\xa8 \\\\xd7\\\\x9c\\\\xd7\\\\xa9\\\\xd7\\\\x95\\\\xd7\\\\x98\\\\xd7\\\\xa8\\\\xd7\\\\x99\\\\xd7\\\\x9d, \\\\xd7\\\\xa9\\\\xd7\\\\x93\\\\xd7\\\\xa8\\\\xd7\\\\x9b\\\\xd7\\\\x94 \\\\xd7\\\\xaa\\\\xd7\\\\x95\\\\xd7\\\\x9b\\\\xd7\\\\xa0\\\\xd7\\\\x9f \\\\xd7\\\\x9c\\\\xd7\\\\xa2\\\\xd7\\\\x91\\\\xd7\\\\x95\\\\xd7\\\\xa8 \\\\xd7\\\\x94\\\\xd7\\\\x92\\\\xd7\\\\x93\\\\xd7\\\\x95\\\\xd7\\\\x93 \\\\xd7\\\\x9b\\\\xd7\\\\x95\\\\xd7\\\\x9c\\\\xd7\\\\x95. \\\\xd7\\\\xa2\\\\xd7\\\\x9c \\\\xd7\\\\xa4\\\\xd7\\\\x99 \\\\xd7\\\\x94\\\\xd7\\\\xaa\\\\xd7\\\\x95\\\\xd7\\\\x9b\\\\xd7\\\\xa0\\\\xd7\\\\x99\\\\xd7\\\\xaa \\\\xd7\\\\x94\\\\xd7\\\\x99\\\\xd7\\\\x99\\\\xd7\\\\xaa\\\\xd7\\\\x94 \\\\xd7\\\\x90\\\\xd7\\\\x9e\\\\xd7\\\\x95\\\\xd7\\\\xa8\\\\xd7\\\\x94 \\\\xd7\\\\xa4\\\\xd7\\\\x9c\\\\xd7\\\\x95\\\\xd7\\\\x92\\\\xd7\\\\x94 \\\\xd7\\\\x93\\\\\\' \\\\xd7\\\\xa9\\\\xd7\\\\x9c \\\\xd7\\\\x94\\\\xd7\\\\x92\\\\xd7\\\\x93\\\\xd7\\\\x95\\\\xd7\\\\x93, \\\\xd7\\\\x91\\\\xd7\\\\xa4\\\\xd7\\\\x99\\\\xd7\\\\xa7\\\\xd7\\\\x95\\\\xd7\\\\x93 \\\\xd7\\\\x92\\\\xd7\\\\x99\\\\xd7\\\\x95\\\\xd7\\\\xa8\\\\xd7\\\\x90 \\\\xd7\\\\x90\\\\xd7\\\\xa9\\\\xd7\\\\x9b\\\\xd7\\\\xa0\\\\xd7\\\\x96\\\\xd7\\\\x99, \\\\xd7\\\\x9c\\\\xd7\\\\xa4\\\\xd7\\\\xa8\\\\xd7\\\\x95\\\\xd7\\\\xa5 \\\\xd7\\\\x90\\\\xd7\\\\xaa \\\\xd7\\\\x94\\\\xd7\\\\x92\\\\xd7\\\\x93\\\\xd7\\\\xa8\\\\xd7\\\\x95\\\\xd7\\\\xaa \\\\xd7\\\\x9e\\\\xd7\\\\x95\\\\xd7\\\\x9c \\\\xd7\\\\x91\\\\xd7\\\\x99\\\\xd7\\\\xaa-\\\\xd7\\\\x94\\\\xd7\\\\xa1\\\\xd7\\\\xa4\\\\xd7\\\\xa8 \\\\xd7\\\\x9c\\\\xd7\\\\xa9\\\\xd7\\\\x95\\\\xd7\\\\x98\\\\xd7\\\\xa8\\\\xd7\\\\x99\\\\xd7\\\\x9d. \\\\xd7\\\\xa4\\\\xd7\\\\x9c\\\\xd7\\\\x95\\\\xd7\\\\x92\\\\xd7\\\\x94 \\\\xd7\\\\x91\\\\\\', \\\\xd7\\\\x91\\\\xd7\\\\xa4\\\\xd7\\\\x99\\\\xd7\\\\xa7\\\\xd7\\\\x95\\\\xd7\\\\x93 \\\\xd7\\\\x93\\\\xd7\\\\x95\\\\xd7\\\\x93 (\\\\xd7\\\\x93\\\\xd7\\\\x95\\\\xd7\\\\x93\\\\xd7\\\\x99\\\\xd7\\\\xa7) \\\\xd7\\\\xa8\\\\xd7\\\\x95\\\\xd7\\\\x98\\\\xd7\\\\xa0\\\\xd7\\\\x91\\\\xd7\\\\xa8\\\\xd7\\\\x92 \\\\xd7\\\\x94\\\\xd7\\\\x99\\\\xd7\\\\x99\\\\xd7\\\\xaa\\\\xd7\\\\x94 \\\\xd7\\\\x90\\\\xd7\\\\x9e\\\\xd7\\\\x95\\\\xd7\\\\xa8\\\\xd7\\\\x94 \\\\xd7\\\\x9c\\\\xd7\\\\x97\\\\xd7\\\\x93\\\\xd7\\\\x95\\\\xd7\\\\xa8 \\\\xd7\\\\xa8\\\\xd7\\\\x90\\\\xd7\\\\xa9\\\\xd7\\\\x95\\\\xd7\\\\xa0\\\\xd7\\\\x94 \\\\xd7\\\\x93\\\\xd7\\\\xa8\\\\xd7\\\\x9a \\\\xd7\\\\x94\\\\xd7\\\\xa4\\\\xd7\\\\xa8\\\\xd7\\\\xa6\\\\xd7\\\\x94, \\\\xd7\\\\x9c\\\\xd7\\\\x9b\\\\xd7\\\\x91\\\\xd7\\\\x95\\\\xd7\\\\xa9 \\\\xd7\\\\x90\\\\xd7\\\\xaa \\\\xd7\\\\xaa\\\\xd7\\\\xa2\\\\xd7\\\\x9c\\\\xd7\\\\xaa \\\\xd7\\\\x94\\\\xd7\\\\xa7\\\\xd7\\\\xa9\\\\xd7\\\\xa8 \\\\xd7\\\\x9c\\\\xd7\\\\x90\\\\xd7\\\\x95\\\\xd7\\\\xa8\\\\xd7\\\\x9a \\\\xd7\\\\x91\\\\xd7\\\\x99\\\\xd7\\\\xaa-\\\\xd7\\\\x94\\\\xd7\\\\xa1\\\\xd7\\\\xa4\\\\xd7\\\\xa8 \\\\xd7\\\\x9c\\\\xd7\\\\xa9\\\\xd7\\\\x95\\\\xd7\\\\x98\\\\xd7\\\\xa8\\\\xd7\\\\x99\\\\xd7\\\\x9d \\\\xd7\\\\x91\\\\xd7\\\\x95\\\\xd7\\\\x90\\\\xd7\\\\x9b\\\\xd7\\\\x94 \\\\xd7\\\\x92\\\\xd7\\\\x91\\\\xd7\\\\xa2\\\\xd7\\\\xaa \\\\xd7\\\\x94\\\\xd7\\\\xaa\\\\xd7\\\\x97\\\\xd7\\\\x9e\\\\xd7\\\\x95\\\\xd7\\\\xa9\\\\xd7\\\\xaa, \\\\xd7\\\\x95\\\\xd7\\\\x9c\\\\xd7\\\\x90\\\\xd7\\\\x97\\\\xd7\\\\xa8 \\\\xd7\\\\x9e\\\\xd7\\\\x9b\\\\xd7\\\\x9f \\\\xd7\\\\x9c\\\\xd7\\\\x94\\\\xd7\\\\x9e\\\\xd7\\\\xaa\\\\xd7\\\\x99\\\\xd7\\\\x9f \\\\xd7\\\\x91\\\\xd7\\\\xa4\\\\xd7\\\\x90\\\\xd7\\\\xaa\\\\xd7\\\\x99 \\\\xd7\\\\x94\\\\xd7\\\\x92\\\\xd7\\\\x91\\\\xd7\\\\xa2\\\\xd7\\\\x94 \\\\xd7\\\\x9b\\\\xd7\\\\xa2\\\\xd7\\\\xaa\\\\xd7\\\\x95\\\\xd7\\\\x93\\\\xd7\\\\x94, \\\\xd7\\\\x91\\\\xd7\\\\x9b\\\\xd7\\\\x95\\\\xd7\\\\xa0\\\\xd7\\\\xa0\\\\xd7\\\\x95\\\\xd7\\\\xaa \\\\xd7\\\\x9c\\\\xd7\\\\xa1\\\\xd7\\\\x99\\\\xd7\\\\x95\\\\xd7\\\\xa2 \\\\xd7\\\\x91\\\\xd7\\\\x9b\\\\xd7\\\\x99\\\\xd7\\\\x91\\\\xd7\\\\x95\\\\xd7\\\\xa9 \\\\xd7\\\\x94\\\\xd7\\\\x92\\\\xd7\\\\x91\\\\xd7\\\\xa2\\\\xd7\\\\x94. \\\\xd7\\\\xa4\\\\xd7\\\\x9c\\\\xd7\\\\x95\\\\xd7\\\\x92\\\\xd7\\\\x94 \\\\xd7\\\\x92\\\\\\', \\\\xd7\\\\x91\\\\xd7\\\\xa4\\\\xd7\\\\x99\\\\xd7\\\\xa7\\\\xd7\\\\x95\\\\xd7\\\\x93 \\\\xd7\\\\xa2\\\\xd7\\\\x95\\\\xd7\\\\x91\\\\xd7\\\\x93 (\\\\xd7\\\\x93\\\\xd7\\\\x93\\\\xd7\\\\x99) \\\\xd7\\\\x99\\\\xd7\\\\xa2\\\\xd7\\\\xa7\\\\xd7\\\\x95\\\\xd7\\\\x91\\\\xd7\\\\x99 \\\\xd7\\\\x94\\\\xd7\\\\x99\\\\xd7\\\\x99\\\\xd7\\\\xaa\\\\xd7\\\\x94 \\\\xd7\\\\x90\\\\xd7\\\\x9e\\\\xd7\\\\x95\\\\xd7\\\\xa8\\\\xd7\\\\x94 \\\\xd7\\\\x9c\\\\xd7\\\\xa0\\\\xd7\\\\x95\\\\xd7\\\\xa2 \\\\xd7\\\\x91\\\\xd7\\\\xa2\\\\xd7\\\\xa7\\\\xd7\\\\x91\\\\xd7\\\\x95\\\\xd7\\\\xaa \\\\xd7\\\\xa4\\\\xd7\\\\x9c\\\\xd7\\\\x95\\\\xd7\\\\x92\\\\xd7\\\\x94 \\\\xd7\\\\x91\\\\\\' \\\\xd7\\\\x93\\\\xd7\\\\xa8\\\\xd7\\\\x9a \\\\xd7\\\\x94\\\\xd7\\\\xa9\\\\xd7\\\\x98\\\\xd7\\\\x97 \\\\xd7\\\\x94\\\\xd7\\\\x9b\\\\xd7\\\\x91\\\\xd7\\\\x95\\\\xd7\\\\xa9, \\\\xd7\\\\x9c\\\\xd7\\\\xaa\\\\xd7\\\\xa7\\\\xd7\\\\x95\\\\xd7\\\\xa3 \\\\xd7\\\\x90\\\\xd7\\\\xaa \\\\xd7\\\\x92\\\\xd7\\\\x91\\\\xd7\\\\xa2\\\\xd7\\\\xaa \\\\xd7\\\\x94\\\\xd7\\\\xaa\\\\xd7\\\\x97\\\\xd7\\\\x9e\\\\xd7\\\\x95\\\\xd7\\\\xa9\\\\xd7\\\\xaa \\\\xd7\\\\x9e\\\\xd7\\\\xa2\\\\xd7\\\\x95\\\\xd7\\\\xa8\\\\xd7\\\\xa4\\\\xd7\\\\x94 - \\\\xd7\\\\x90\\\\xd7\\\\x92\\\\xd7\\\\xa4\\\\xd7\\\\x94 \\\\xd7\\\\x94\\\\xd7\\\\x93\\\\xd7\\\\xa8\\\\xd7\\\\x95\\\\xd7\\\\x9d \\\\xd7\\\\x9e\\\\xd7\\\\x96\\\\xd7\\\\xa8\\\\xd7\\\\x97\\\\xd7\\\\x99 - \\\\xd7\\\\x95\\\\xd7\\\\x9c\\\\xd7\\\\x9b\\\\xd7\\\\x91\\\\xd7\\\\x95\\\\xd7\\\\xa9 \\\\xd7\\\\x90\\\\xd7\\\\x95\\\\xd7\\\\xaa\\\\xd7\\\\x94. \\\\xd7\\\\xa4\\\\xd7\\\\x9c\\\\xd7\\\\x95\\\\xd7\\\\x92\\\\xd7\\\\x94 \\\\xd7\\\\x90\\\\\\', \\\\xd7\\\\x91\\\\xd7\\\\xa4\\\\xd7\\\\x99\\\\xd7\\\\xa7\\\\xd7\\\\x95\\\\xd7\\\\x93 \\\\xd7\\\\x92\\\\xd7\\\\x91\\\\xd7\\\\x99 \\\\xd7\\\\x9e\\\\xd7\\\\x92\\\\xd7\\\\x9c, \\\\xd7\\\\xaa\\\\xd7\\\\x95\\\\xd7\\\\x9b\\\\xd7\\\\xa0\\\\xd7\\\\xa0\\\\xd7\\\\x94 \\\\xd7\\\\x9c\\\\xd7\\\\xa0\\\\xd7\\\\x95\\\\xd7\\\\xa2 \\\\xd7\\\\x93\\\\xd7\\\\xa8\\\\xd7\\\\x9a \\\\xd7\\\\x94\\\\xd7\\\\xa9\\\\xd7\\\\x98\\\\xd7\\\\x97 \\\\xd7\\\\xa9\\\\xd7\\\\xa0\\\\xd7\\\\x9b\\\\xd7\\\\x91\\\\xd7\\\\xa9 \\\\xd7\\\\xa2\\\\xd7\\\\x9c \\\\xd7\\\\x99\\\\xd7\\\\x93\\\\xd7\\\\x99 \\\\xd7\\\\x94\\\\xd7\\\\xa4\\\\xd7\\\\x9c\\\\xd7\\\\x95\\\\xd7\\\\x92\\\\xd7\\\\x95\\\\xd7\\\\xaa \\\\xd7\\\\xa9\\\\xd7\\\\xa7\\\\xd7\\\\x93\\\\xd7\\\\x9e\\\\xd7\\\\x95 \\\\xd7\\\\x9c\\\\xd7\\\\x94, \\\\xd7\\\\x95\\\\xd7\\\\x9c\\\\xd7\\\\xa0\\\\xd7\\\\x95\\\\xd7\\\\xa2 \\\\xd7\\\\x90\\\\xd7\\\\x9c \\\\xd7\\\\xaa\\\\xd7\\\\x95\\\\xd7\\\\x9a \\\\xd7\\\\xa9\\\\xd7\\\\x9b\\\\xd7\\\\x95\\\\xd7\\\\xa0\\\\xd7\\\\xaa \\\\xd7\\\\xa9\\\\xd7\\\\x99\\\\xd7\\\\x99\\\\xd7\\\\x97\\\\\\' \\\\xd7\\\\x92\\\\\\'\\\\xd7\\\\xa8\\\\xd7\\\\x90\\\\xd7\\\\x97. \\\\xd7\\\\x9b\\\\xd7\\\\x95\\\\xd7\\\\x97 \\\\xd7\\\\xa0\\\\xd7\\\\x95\\\\xd7\\\\xa1\\\\xd7\\\\xa3 \\\\xd7\\\\xaa\\\\xd7\\\\x95\\\\xd7\\\\x9b\\\\xd7\\\\xa0\\\\xd7\\\\x9f \\\\xd7\\\\x9c\\\\xd7\\\\x9b\\\\xd7\\\\x91\\\\xd7\\\\x95\\\\xd7\\\\xa9 \\\\xd7\\\\x90\\\\xd7\\\\xaa \\\\xd7\\\\x9e\\\\xd7\\\\x95\\\\xd7\\\\xa6\\\\xd7\\\\x91 \\\\xd7\\\\x94\\\\xd7\\\\x9e\\\\xd7\\\\x98\\\\xd7\\\\x9c\\\\xd7\\\\x99\\\\xd7\\\\xaa \\\\xd7\\\\x94\\\\xd7\\\\xa6\\\\xd7\\\\x94\\\\xd7\\\\x95\\\\xd7\\\\x91\\\\xd7\\\\x94, \\\\xd7\\\\x9e\\\\xd7\\\\x93\\\\xd7\\\\xa8\\\\xd7\\\\x95\\\\xd7\\\\x9d. \\\\xd7\\\\xa9\\\\xd7\\\\xa9\\\\xd7\\\\xaa \\\\xd7\\\\x94\\\\xd7\\\\x98\\\\xd7\\\\xa0\\\\xd7\\\\xa7\\\\xd7\\\\x99\\\\xd7\\\\x9d \\\\xd7\\\\x9e\\\\xd7\\\\x92\\\\xd7\\\\x93\\\\xd7\\\\x95\\\\xd7\\\\x93 182 \\\\xd7\\\\xa9\\\\xd7\\\\xa6\\\\xd7\\\\x95\\\\xd7\\\\xa8\\\\xd7\\\\xa4\\\\xd7\\\\x95 \\\\xd7\\\\x9c\\\\xd7\\\\x9b\\\\xd7\\\\x95\\\\xd7\\\\x97 \\\\xd7\\\\xa0\\\\xd7\\\\x95\\\\xd7\\\\xa2\\\\xd7\\\\x93\\\\xd7\\\\x95 \\\\xd7\\\\x9c\\\\xd7\\\\xa9\\\\xd7\\\\x9e\\\\xd7\\\\xa9 \\\\xd7\\\\x9c\\\\xd7\\\\xa1\\\\xd7\\\\x99\\\\xd7\\\\x95\\\\xd7\\\\xa2 \\\\xd7\\\\x95\\\\xd7\\\\xa2\\\\xd7\\\\xaa\\\\xd7\\\\x95\\\\xd7\\\\x93\\\\xd7\\\\x94.\\\\n_START_SECTION_\\\\n\\\\xd7\\\\xaa\\\\xd7\\\\x97\\\\xd7\\\\x99\\\\xd7\\\\x9c\\\\xd7\\\\xaa \\\\xd7\\\\x94\\\\xd7\\\\xa7\\\\xd7\\\\xa8\\\\xd7\\\\x91 \\\\xd7\\\\x95\\\\xd7\\\\x9b\\\\xd7\\\\x99\\\\xd7\\\\x91\\\\xd7\\\\x95\\\\xd7\\\\xa9 \\\\xd7\\\\x91\\\\xd7\\\\x99\\\\xd7\\\\xaa \\\\xd7\\\\x94\\\\xd7\\\\xa1\\\\xd7\\\\xa4\\\\xd7\\\\xa8 \\\\xd7\\\\x9c\\\\xd7\\\\xa9\\\\xd7\\\\x95\\\\xd7\\\\x98\\\\xd7\\\\xa8\\\\xd7\\\\x99\\\\xd7\\\\x9d\\\\n_START_PARAGRAPH_\\\\n\\\\xd7\\\\x90\\\\xd7\\\\x95\\\\xd7\\\\xa8 \\\\xd7\\\\x9c\\\\xd7\\\\x99\\\\xd7\\\\x95\\\\xd7\\\\x9d \\\\xd7\\\\xa9\\\\xd7\\\\x9c\\\\xd7\\\\x99\\\\xd7\\\\xa9\\\\xd7\\\\x99, 6 \\\\xd7\\\\x91\\\\xd7\\\\x99\\\\xd7\\\\x95\\\\xd7\\\\xa0\\\\xd7\\\\x99 1967, \\\\xd7\\\\x91\\\\xd7\\\\xa9\\\\xd7\\\\xa2\\\\xd7\\\\x94 \\\\xd7\\\\xa9\\\\xd7\\\\xaa\\\\xd7\\\\x99\\\\xd7\\\\x99\\\\xd7\\\\x9d \\\\xd7\\\\x95\\\\xd7\\\\xa2\\\\xd7\\\\xa9\\\\xd7\\\\xa8\\\\xd7\\\\x99\\\\xd7\\\\x9d \\\\xd7\\\\x90\\\\xd7\\\\x97\\\\xd7\\\\xa8 \\\\xd7\\\\x97\\\\xd7\\\\xa6\\\\xd7\\\\x95\\\\xd7\\\\xaa, \\\\xd7\\\\x94\\\\xd7\\\\x97\\\\xd7\\\\x9c \\\\xd7\\\\xa8\\\\xd7\\\\x99\\\\xd7\\\\x9b\\\\xd7\\\\x95\\\\xd7\\\\x9a \\\\xd7\\\\x90\\\\xd7\\\\xa8\\\\xd7\\\\x98\\\\xd7\\\\x99\\\\xd7\\\\x9c\\\\xd7\\\\xa8\\\\xd7\\\\x99 \\\\xd7\\\\xa9\\\\xd7\\\\x9c \\\\xd7\\\\x9e\\\\xd7\\\\x98\\\\xd7\\\\xa8\\\\xd7\\\\x95\\\\xd7\\\\xaa \\\\xd7\\\\x94\\\\xd7\\\\x94\\\\xd7\\\\xaa\\\\xd7\\\\xa7\\\\xd7\\\\xa4\\\\xd7\\\\x94. \\\\xd7\\\\x99\\\\xd7\\\\x97\\\\xd7\\\\x99\\\\xd7\\\\x93\\\\xd7\\\\x95\\\\xd7\\\\xaa \\\\xd7\\\\x94\\\\xd7\\\\xa1\\\\xd7\\\\x99\\\\xd7\\\\x95\\\\xd7\\\\xa2 \\\\xd7\\\\xaa\\\\xd7\\\\xa7\\\\xd7\\\\xa4\\\\xd7\\\\x95 \\\\xd7\\\\x91\\\\xd7\\\\x90\\\\xd7\\\\xa9 \\\\xd7\\\\x9e\\\\xd7\\\\xa8\\\\xd7\\\\x92\\\\xd7\\\\x9e\\\\xd7\\\\x95\\\\xd7\\\\xaa \\\\xd7\\\\x95\\\\xd7\\\\xaa\\\\xd7\\\\x95\\\\xd7\\\\xaa\\\\xd7\\\\x97\\\\xd7\\\\x99\\\\xd7\\\\x9d \\\\xd7\\\\x90\\\\xd7\\\\xaa \\\\xd7\\\\x9e\\\\xd7\\\\xaa\\\\xd7\\\\x97\\\\xd7\\\\x9d \\\\xd7\\\\x92\\\\xd7\\\\x91\\\\xd7\\\\xa2\\\\xd7\\\\xaa \\\\xd7\\\\x94\\\\xd7\\\\xaa\\\\xd7\\\\x97\\\\xd7\\\\x9e\\\\xd7\\\\x95\\\\xd7\\\\xa9\\\\xd7\\\\xaa. \\\\xd7\\\\xaa\\\\xd7\\\\x95\\\\xd7\\\\x9a \\\\xd7\\\\x9b\\\\xd7\\\\x93\\\\xd7\\\\x99 \\\\xd7\\\\x97\\\\xd7\\\\x99\\\\xd7\\\\x9c\\\\xd7\\\\x95\\\\xd7\\\\xa4\\\\xd7\\\\x99 \\\\xd7\\\\x94\\\\xd7\\\\x90\\\\xd7\\\\xa9 \\\\xd7\\\\x94\\\\xd7\\\\x90\\\\xd7\\\\xa8\\\\xd7\\\\x98\\\\xd7\\\\x99\\\\xd7\\\\x9c\\\\xd7\\\\xa8\\\\xd7\\\\x99\\\\xd7\\\\xaa \\\\xd7\\\\x91\\\\xd7\\\\x99\\\\xd7\\\\x9f \\\\xd7\\\\xa9\\\\xd7\\\\xa0\\\\xd7\\\\x99 \\\\xd7\\\\x94\\\\xd7\\\\xa6\\\\xd7\\\\x93\\\\xd7\\\\x93\\\\xd7\\\\x99\\\\xd7\\\\x9d \\\\xd7\\\\x94\\\\xd7\\\\x97\\\\xd7\\\\x9c\\\\xd7\\\\x95 \\\\xd7\\\\x94\\\\xd7\\\\xa6\\\\xd7\\\\xa0\\\\xd7\\\\x97\\\\xd7\\\\xa0\\\\xd7\\\\x99\\\\xd7\\\\x9d \\\\xd7\\\\x9c\\\\xd7\\\\x94\\\\xd7\\\\x91\\\\xd7\\\\xa7\\\\xd7\\\\x99\\\\xd7\\\\xa2 \\\\xd7\\\\x90\\\\xd7\\\\xaa \\\\xd7\\\\x94\\\\xd7\\\\x9e\\\\xd7\\\\xa2\\\\xd7\\\\xa8\\\\xd7\\\\x9a \\\\xd7\\\\x94\\\\xd7\\\\x99\\\\xd7\\\\xa8\\\\xd7\\\\x93\\\\xd7\\\\xa0\\\\xd7\\\\x99 \\\\xd7\\\\x91\\\\xd7\\\\xa7\\\\xd7\\\\x95 \\\\xd7\\\\x94\\\\xd7\\\\xa2\\\\xd7\\\\x99\\\\xd7\\\\xa8\\\\xd7\\\\x95\\\\xd7\\\\xa0\\\\xd7\\\\x99 \\\\xd7\\\\xaa\\\\xd7\\\\x95\\\\xd7\\\\x9a \\\\xd7\\\\xa9\\\\xd7\\\\x94\\\\xd7\\\\x9d \\\\xd7\\\\xa0\\\\xd7\\\\xaa\\\\xd7\\\\xa7\\\\xd7\\\\x9c\\\\xd7\\\\x99\\\\xd7\\\\x9d \\\\xd7\\\\x91\\\\xd7\\\\x90\\\\xd7\\\\xa9 \\\\xd7\\\\x94\\\\xd7\\\\x9e\\\\xd7\\\\x92\\\\xd7\\\\x99\\\\xd7\\\\xa0\\\\xd7\\\\x99\\\\xd7\\\\x9d \\\\xd7\\\\x95\\\\xd7\\\\x91\\\\xd7\\\\x92\\\\xd7\\\\x93\\\\xd7\\\\xa8\\\\xd7\\\\x95\\\\xd7\\\\xaa \\\\xd7\\\\x94\\\\xd7\\\\xaa\\\\xd7\\\\x99\\\\xd7\\\\x9c. \\\\xd7\\\\x91\\\\xd7\\\\xa1\\\\xd7\\\\x95\\\\xd7\\\\xa4\\\\xd7\\\\x95 \\\\xd7\\\\xa9\\\\xd7\\\\x9c \\\\xd7\\\\x93\\\\xd7\\\\x91\\\\xd7\\\\xa8 \\\\xd7\\\\xa0\\\\xd7\\\\xa4\\\\xd7\\\\xa8\\\\xd7\\\\xa6\\\\xd7\\\\x95 \\\\xd7\\\\x90\\\\xd7\\\\xa8\\\\xd7\\\\x91\\\\xd7\\\\xa2 \\\\xd7\\\\x94\\\\xd7\\\\x92\\\\xd7\\\\x93\\\\xd7\\\\xa8\\\\xd7\\\\x95\\\\xd7\\\\xaa, \\\\xd7\\\\x95\\\\xd7\\\\x94\\\\xd7\\\\xa6\\\\xd7\\\\xa0\\\\xd7\\\\x97\\\\xd7\\\\xa0\\\\xd7\\\\x99\\\\xd7\\\\x9d \\\\xd7\\\\x94\\\\xd7\\\\x97\\\\xd7\\\\x9c\\\\xd7\\\\x95 \\\\xd7\\\\x9c\\\\xd7\\\\x94\\\\xd7\\\\x99\\\\xd7\\\\x9b\\\\xd7\\\\xa0\\\\xd7\\\\xa1 \\\\xd7\\\\x9c\\\\xd7\\\\xaa\\\\xd7\\\\xa2\\\\xd7\\\\x9c\\\\xd7\\\\xaa \\\\xd7\\\\x94\\\\xd7\\\\xa7\\\\xd7\\\\xa9\\\\xd7\\\\xa8 \\\\xd7\\\\x94\\\\xd7\\\\x9e\\\\xd7\\\\x95\\\\xd7\\\\x91\\\\xd7\\\\x99\\\\xd7\\\\x9c\\\\xd7\\\\x94 \\\\xd7\\\\x9c\\\\xd7\\\\x91\\\\xd7\\\\x99\\\\xd7\\\\xaa \\\\xd7\\\\x94\\\\xd7\\\\xa1\\\\xd7\\\\xa4\\\\xd7\\\\xa8 \\\\xd7\\\\x9c\\\\xd7\\\\xa9\\\\xd7\\\\x95\\\\xd7\\\\x98\\\\xd7\\\\xa8\\\\xd7\\\\x99\\\\xd7\\\\x9d. \\\\xd7\\\\x9b\\\\xd7\\\\x91\\\\xd7\\\\xa8 \\\\xd7\\\\x91\\\\xd7\\\\xa9\\\\xd7\\\\x9c\\\\xd7\\\\x91 \\\\xd7\\\\x96\\\\xd7\\\\x94 \\\\xd7\\\\x94\\\\xd7\\\\xaa\\\\xd7\\\\x91\\\\xd7\\\\xa8\\\\xd7\\\\xa8 \\\\xd7\\\\x9b\\\\xd7\\\\x99 \\\\xd7\\\\xaa\\\\xd7\\\\xa2\\\\xd7\\\\x9c\\\\xd7\\\\x95\\\\xd7\\\\xaa \\\\xd7\\\\x94\\\\xd7\\\\xa7\\\\xd7\\\\xa9\\\\xd7\\\\xa8 \\\\xd7\\\\xa6\\\\xd7\\\\xa8\\\\xd7\\\\x95\\\\xd7\\\\xaa \\\\xd7\\\\x9e\\\\xd7\\\\x90\\\\xd7\\\\x93: \\\\xd7\\\\x9c\\\\xd7\\\\x90 \\\\xd7\\\\xa8\\\\xd7\\\\xa7 \\\\xd7\\\\xa9\\\\xd7\\\\x9c\\\\xd7\\\\x90 \\\\xd7\\\\x94\\\\xd7\\\\x99\\\\xd7\\\\x94 \\\\xd7\\\\x91\\\\xd7\\\\x94\\\\xd7\\\\x9f \\\\xd7\\\\x9e\\\\xd7\\\\xa7\\\\xd7\\\\x95\\\\xd7\\\\x9d \\\\xd7\\\\x9c\\\\xd7\\\\xa9\\\\xd7\\\\xa0\\\\xd7\\\\x99 \\\\xd7\\\\x9c\\\\xd7\\\\x95\\\\xd7\\\\x97\\\\xd7\\\\x9e\\\\xd7\\\\x99\\\\xd7\\\\x9d \\\\xd7\\\\x96\\\\xd7\\\\x94 \\\\xd7\\\\x91\\\\xd7\\\\xa6\\\\xd7\\\\x93 \\\\xd7\\\\x96\\\\xd7\\\\x94, \\\\xd7\\\\xa2\\\\xd7\\\\x95\\\\xd7\\\\x91\\\\xd7\\\\x93\\\\xd7\\\\x94 \\\\xd7\\\\xa9\\\\xd7\\\\x94\\\\xd7\\\\xa7\\\\xd7\\\\xa9\\\\xd7\\\\xaa\\\\xd7\\\\x94 \\\\xd7\\\\x9e\\\\xd7\\\\x90\\\\xd7\\\\x93 \\\\xd7\\\\xa2\\\\xd7\\\\x9c \\\\xd7\\\\x94\\\\xd7\\\\x97\\\\xd7\\\\x99\\\\xd7\\\\x99\\\\xd7\\\\x9c \\\\xd7\\\\x94\\\\xd7\\\\x9e\\\\xd7\\\\x95\\\\xd7\\\\x91\\\\xd7\\\\x99\\\\xd7\\\\x9c \\\\xd7\\\\x9c\\\\xd7\\\\x94\\\\xd7\\\\xaa\\\\xd7\\\\x97\\\\xd7\\\\x9c\\\\xd7\\\\xa3 \\\\xd7\\\\x9c\\\\xd7\\\\x90\\\\xd7\\\\x97\\\\xd7\\\\xa8 \\\\xd7\\\\xa9\\\\xd7\\\\x90\\\\xd7\\\\x96\\\\xd7\\\\x9c\\\\xd7\\\\x94 \\\\xd7\\\\xaa\\\\xd7\\\\x97\\\\xd7\\\\x9e\\\\xd7\\\\x95\\\\xd7\\\\xa9\\\\xd7\\\\xaa\\\\xd7\\\\x95, \\\\xd7\\\\x90\\\\xd7\\\\x9c\\\\xd7\\\\x90 \\\\xd7\\\\xa9\\\\xd7\\\\x92\\\\xd7\\\\x9d \\\\xd7\\\\x9c\\\\xd7\\\\x95\\\\xd7\\\\x97\\\\xd7\\\\x9d \\\\xd7\\\\x91\\\\xd7\\\\x95\\\\xd7\\\\x93\\\\xd7\\\\x93 \\\\xd7\\\\xa2\\\\xd7\\\\x9d \\\\xd7\\\\x97\\\\xd7\\\\x92\\\\xd7\\\\x95\\\\xd7\\\\xa8 \\\\xd7\\\\x9e\\\\xd7\\\\x9c\\\\xd7\\\\x90 \\\\xd7\\\\xa6\\\\xd7\\\\x99\\\\xd7\\\\x95\\\\xd7\\\\x93 \\\\xd7\\\\x95\\\\xd7\\\\xaa\\\\xd7\\\\x97\\\\xd7\\\\x9e\\\\xd7\\\\x95\\\\xd7\\\\xa9\\\\xd7\\\\xaa \\\\xd7\\\\x94\\\\xd7\\\\xaa\\\\xd7\\\\xa7\\\\xd7\\\\xa9\\\\xd7\\\\x94 \\\\xd7\\\\x9c\\\\xd7\\\\x94\\\\xd7\\\\xaa\\\\xd7\\\\xa7\\\\xd7\\\\x93\\\\xd7\\\\x9d._NEWLINE_\\\\xd7\\\\x94\\\\xd7\\\\xa6\\\\xd7\\\\xa0\\\\xd7\\\\x97\\\\xd7\\\\xa0\\\\xd7\\\\x99\\\\xd7\\\\x9d \\\\xd7\\\\x94\\\\xd7\\\\xa6\\\\xd7\\\\x9c\\\\xd7\\\\x99\\\\xd7\\\\x97\\\\xd7\\\\x95 \\\\xd7\\\\x9c\\\\xd7\\\\x97\\\\xd7\\\\x93\\\\xd7\\\\x95\\\\xd7\\\\xa8 \\\\xd7\\\\x9c\\\\xd7\\\\xaa\\\\xd7\\\\x95\\\\xd7\\\\x9a \\\\xd7\\\\x9e\\\\xd7\\\\x91\\\\xd7\\\\xa0\\\\xd7\\\\x94 \\\\xd7\\\\x91\\\\xd7\\\\x99\\\\xd7\\\\xaa \\\\xd7\\\\x94\\\\xd7\\\\xa1\\\\xd7\\\\xa4\\\\xd7\\\\xa8 \\\\xd7\\\\x9c\\\\xd7\\\\xa9\\\\xd7\\\\x95\\\\xd7\\\\x98\\\\xd7\\\\xa8\\\\xd7\\\\x99\\\\xd7\\\\x9d \\\\xd7\\\\x9c\\\\xd7\\\\x9c\\\\xd7\\\\x90 \\\\xd7\\\\xa7\\\\xd7\\\\xa9\\\\xd7\\\\x99\\\\xd7\\\\x99\\\\xd7\\\\x9d \\\\xd7\\\\x9e\\\\xd7\\\\x99\\\\xd7\\\\x95\\\\xd7\\\\x97\\\\xd7\\\\x93\\\\xd7\\\\x99\\\\xd7\\\\x9d, \\\\xd7\\\\x9e\\\\xd7\\\\x90\\\\xd7\\\\x97\\\\xd7\\\\xa8 \\\\xd7\\\\xa9\\\\xd7\\\\x97\\\\xd7\\\\x99\\\\xd7\\\\x99\\\\xd7\\\\x9c\\\\xd7\\\\x99 \\\\xd7\\\\x94\\\\xd7\\\\x9c\\\\xd7\\\\x92\\\\xd7\\\\x99\\\\xd7\\\\x95\\\\xd7\\\\x9f \\\\xd7\\\\x94\\\\xd7\\\\xa2\\\\xd7\\\\xa8\\\\xd7\\\\x91\\\\xd7\\\\x99 \\\\xd7\\\\xa0\\\\xd7\\\\x98\\\\xd7\\\\xa9\\\\xd7\\\\x95 \\\\xd7\\\\x90\\\\xd7\\\\xaa \\\\xd7\\\\x94\\\\xd7\\\\x9e\\\\xd7\\\\x91\\\\xd7\\\\xa0\\\\xd7\\\\x94 \\\\xd7\\\\x9e\\\\xd7\\\\x99\\\\xd7\\\\x93 \\\\xd7\\\\xa2\\\\xd7\\\\x9d \\\\xd7\\\\xaa\\\\xd7\\\\x97\\\\xd7\\\\x99\\\\xd7\\\\x9c\\\\xd7\\\\xaa \\\\xd7\\\\x94\\\\xd7\\\\x94\\\\xd7\\\\xa8\\\\xd7\\\\xa2\\\\xd7\\\\xa9\\\\xd7\\\\x94 \\\\xd7\\\\x95\\\\xd7\\\\xa0\\\\xd7\\\\xa1\\\\xd7\\\\x95\\\\xd7\\\\x92\\\\xd7\\\\x95 \\\\xd7\\\\x90\\\\xd7\\\\x9c \\\\xd7\\\\xaa\\\\xd7\\\\x95\\\\xd7\\\\x9a \\\\xd7\\\\x9e\\\\xd7\\\\x95\\\\xd7\\\\xa6\\\\xd7\\\\x91 \\\\xd7\\\\x92\\\\xd7\\\\x91\\\\xd7\\\\xa2\\\\xd7\\\\xaa \\\\xd7\\\\x94\\\\xd7\\\\xaa\\\\xd7\\\\x97\\\\xd7\\\\x9e\\\\xd7\\\\x95\\\\xd7\\\\xa9\\\\xd7\\\\xaa. \\\\xd7\\\\x9e\\\\xd7\\\\x95\\\\xd7\\\\xa6\\\\xd7\\\\x91 \\\\xd7\\\\x94\\\\xd7\\\\x9e\\\\xd7\\\\x98\\\\xd7\\\\x9c\\\\xd7\\\\x99\\\\xd7\\\\xaa \\\\xd7\\\\x94\\\\xd7\\\\xa6\\\\xd7\\\\x94\\\\xd7\\\\x95\\\\xd7\\\\x91\\\\xd7\\\\x94 \\\\xd7\\\\xa0\\\\xd7\\\\x9b\\\\xd7\\\\x91\\\\xd7\\\\xa9 \\\\xd7\\\\x90\\\\xd7\\\\xa3 \\\\xd7\\\\x94\\\\xd7\\\\x95\\\\xd7\\\\x90 \\\\xd7\\\\x9c\\\\xd7\\\\x9c\\\\xd7\\\\x90 \\\\xd7\\\\x94\\\\xd7\\\\xaa\\\\xd7\\\\xa0\\\\xd7\\\\x92\\\\xd7\\\\x93\\\\xd7\\\\x95\\\\xd7\\\\xaa \\\\xd7\\\\x9e\\\\xd7\\\\x99\\\\xd7\\\\x93 \\\\xd7\\\\x9c\\\\xd7\\\\x90\\\\xd7\\\\x97\\\\xd7\\\\xa8 \\\\xd7\\\\x9e\\\\xd7\\\\x9b\\\\xd7\\\\x9f, \\\\xd7\\\\x9b\\\\xd7\\\\xa9\\\\xd7\\\\x9b\\\\xd7\\\\x9c \\\\xd7\\\\x94\\\\xd7\\\\x97\\\\xd7\\\\x99\\\\xd7\\\\x99\\\\xd7\\\\x9c\\\\xd7\\\\x99\\\\xd7\\\\x9d \\\\xd7\\\\x91\\\\xd7\\\\x95 \\\\xd7\\\\xa0\\\\xd7\\\\xa1\\\\xd7\\\\x95\\\\xd7\\\\x92\\\\xd7\\\\x99\\\\xd7\\\\x9d \\\\xd7\\\\x90\\\\xd7\\\\xa3 \\\\xd7\\\\x94\\\\xd7\\\\x9d \\\\xd7\\\\x9c\\\\xd7\\\\xaa\\\\xd7\\\\x95\\\\xd7\\\\x9a \\\\xd7\\\\x94\\\\xd7\\\\x92\\\\xd7\\\\x91\\\\xd7\\\\xa2\\\\xd7\\\\x94. \\\\xd7\\\\xa4\\\\xd7\\\\x9c\\\\xd7\\\\x95\\\\xd7\\\\x92\\\\xd7\\\\x94 \\\\xd7\\\\x91\\\\\\' \\\\xd7\\\\x94\\\\xd7\\\\x9e\\\\xd7\\\\xa9\\\\xd7\\\\x99\\\\xd7\\\\x9b\\\\xd7\\\\x94 \\\\xd7\\\\x91\\\\xd7\\\\x9b\\\\xd7\\\\x99\\\\xd7\\\\x91\\\\xd7\\\\x95\\\\xd7\\\\xa9 \\\\xd7\\\\x94\\\\xd7\\\\xaa\\\\xd7\\\\xa2\\\\xd7\\\\x9c\\\\xd7\\\\x95\\\\xd7\\\\xaa \\\\xd7\\\\x94\\\\xd7\\\\x9e\\\\xd7\\\\x95\\\\xd7\\\\x91\\\\xd7\\\\x99\\\\xd7\\\\x9c\\\\xd7\\\\x95\\\\xd7\\\\xaa \\\\xd7\\\\x9c\\\\xd7\\\\x9e\\\\xd7\\\\x95\\\\xd7\\\\xa6\\\\xd7\\\\x91 \\\\xd7\\\\x92\\\\xd7\\\\x91\\\\xd7\\\\xa2\\\\xd7\\\\xaa \\\\xd7\\\\x94\\\\xd7\\\\xaa\\\\xd7\\\\x97\\\\xd7\\\\x9e\\\\xd7\\\\x95\\\\xd7\\\\xa9\\\\xd7\\\\xaa, \\\\xd7\\\\xaa\\\\xd7\\\\x95\\\\xd7\\\\x9a \\\\xd7\\\\x94\\\\xd7\\\\xa9\\\\xd7\\\\xaa\\\\xd7\\\\x9c\\\\xd7\\\\x98\\\\xd7\\\\x95\\\\xd7\\\\xaa \\\\xd7\\\\xa2\\\\xd7\\\\x9c \\\\xd7\\\\x94\\\\xd7\\\\x91\\\\xd7\\\\x95\\\\xd7\\\\xa0\\\\xd7\\\\xa7\\\\xd7\\\\xa8\\\\xd7\\\\x99\\\\xd7\\\\x9d \\\\xd7\\\\xa9\\\\xd7\\\\x91\\\\xd7\\\\x93\\\\xd7\\\\xa8\\\\xd7\\\\x9b\\\\xd7\\\\x94. \\\\xd7\\\\x94\\\\xd7\\\\xa4\\\\xd7\\\\x9c\\\\xd7\\\\x95\\\\xd7\\\\x92\\\\xd7\\\\x94 \\\\xd7\\\\x9e\\\\xd7\\\\x99\\\\xd7\\\\x9c\\\\xd7\\\\x90\\\\xd7\\\\x94 \\\\xd7\\\\x90\\\\xd7\\\\xaa \\\\xd7\\\\x9e\\\\xd7\\\\xa9\\\\xd7\\\\x99\\\\xd7\\\\x9e\\\\xd7\\\\xaa\\\\xd7\\\\x94, \\\\xd7\\\\x95\\\\xd7\\\\x94\\\\xd7\\\\x9e\"\\\\xd7\\\\xa4 \\\\xd7\\\\x94\\\\xd7\\\\x95\\\\xd7\\\\x93\\\\xd7\\\\x99\\\\xd7\\\\xa2 \\\\xd7\\\\x9c\\\\xd7\\\\x9e\\\\xd7\\\\x92\"\\\\xd7\\\\x93 \\\\xd7\\\\xa9\\\\xd7\\\\x94\\\\xd7\\\\x95\\\\xd7\\\\x90 \\\\xd7\\\\xa9\\\\xd7\\\\x95\\\\xd7\\\\x9c\\\\xd7\\\\x98 \\\\xd7\\\\xa2\\\\xd7\\\\x9c \\\\xd7\\\\x94\\\\xd7\\\\x9b\\\\xd7\\\\xa0\\\\xd7\\\\x99\\\\xd7\\\\xa1\\\\xd7\\\\x94 \\\\xd7\\\\x94\\\\xd7\\\\x9e\\\\xd7\\\\xa2\\\\xd7\\\\xa8\\\\xd7\\\\x91\\\\xd7\\\\x99\\\\xd7\\\\xaa \\\\xd7\\\\x9c\\\\xd7\\\\x9e\\\\xd7\\\\x95\\\\xd7\\\\xa6\\\\xd7\\\\x91._NEWLINE_\\\\xd7\\\\x9b\\\\xd7\\\\x95\\\\xd7\\\\x97 \\\\xd7\\\\x94\\\\xd7\\\\x98\\\\xd7\\\\xa0\\\\xd7\\\\xa7\\\\xd7\\\\x99\\\\xd7\\\\x9d \\\\xd7\\\\x97\\\\xd7\\\\x93\\\\xd7\\\\xa8 \\\\xd7\\\\x90\\\\xd7\\\\x9c \\\\xd7\\\\x97\\\\xd7\\\\xa6\\\\xd7\\\\xa8 \\\\xd7\\\\x91\\\\xd7\\\\x99\\\\xd7\\\\xaa \\\\xd7\\\\x94\\\\xd7\\\\xa1\\\\xd7\\\\xa4\\\\xd7\\\\xa8 \\\\xd7\\\\x9c\\\\xd7\\\\xa9\\\\xd7\\\\x95\\\\xd7\\\\x98\\\\xd7\\\\xa8\\\\xd7\\\\x99\\\\xd7\\\\x9d, \\\\xd7\\\\x9e\\\\xd7\\\\xa9\\\\xd7\\\\x9d \\\\xd7\\\\xa4\\\\xd7\\\\xa0\\\\xd7\\\\x95 \\\\xd7\\\\xa9\\\\xd7\\\\xa0\\\\xd7\\\\x99 \\\\xd7\\\\x98\\\\xd7\\\\xa0\\\\xd7\\\\xa7\\\\xd7\\\\x99\\\\xd7\\\\x9d \\\\xd7\\\\x93\\\\xd7\\\\xa8\\\\xd7\\\\x95\\\\xd7\\\\x9e\\\\xd7\\\\x94, \\\\xd7\\\\x9c\\\\xd7\\\\xa2\\\\xd7\\\\x91\\\\xd7\\\\xa8 \\\\xd7\\\\x93\\\\xd7\\\\xa8\\\\xd7\\\\x9a \\\\xd7\\\\xa9\\\\xd7\\\\x9b\\\\xd7\\\\x9d, \\\\xd7\\\\x91\\\\xd7\\\\xa2\\\\xd7\\\\x95\\\\xd7\\\\x93 \\\\xd7\\\\xa9\\\\xd7\\\\xa9\\\\xd7\\\\x90\\\\xd7\\\\xa8 \\\\xd7\\\\x94\\\\xd7\\\\x98\\\\xd7\\\\xa0\\\\xd7\\\\xa7\\\\xd7\\\\x99\\\\xd7\\\\x9d \\\\xd7\\\\xa2\\\\xd7\\\\x95\\\\xd7\\\\x9b\\\\xd7\\\\x91\\\\xd7\\\\x95 \\\\xd7\\\\xa2\\\\xd7\\\\x9c \\\\xd7\\\\x9e\\\\xd7\\\\xa0\\\\xd7\\\\xaa \\\\xd7\\\\x9c\\\\xd7\\\\xa9\\\\xd7\\\\x9e\\\\xd7\\\\xa9 \\\\xd7\\\\x97\\\\xd7\\\\x99\\\\xd7\\\\xa4\\\\xd7\\\\x95\\\\xd7\\\\x99 \\\\xd7\\\\x9c\\\\xd7\\\\x9b\\\\xd7\\\\x95\\\\xd7\\\\x97 \\\\xd7\\\\x94\\\\xd7\\\\xa4\\\\xd7\\\\x95\\\\xd7\\\\xa8\\\\xd7\\\\xa5 \\\\xd7\\\\x9c\\\\xd7\\\\x92\\\\xd7\\\\x91\\\\xd7\\\\xa2\\\\xd7\\\\x94 \\\\xd7\\\\x9c\\\\xd7\\\\x9b\\\\xd7\\\\x99\\\\xd7\\\\x95\\\\xd7\\\\x95\\\\xd7\\\\x9f \\\\xd7\\\\x9e\\\\xd7\\\\x95\\\\xd7\\\\xa6\\\\xd7\\\\x91 \\\\xd7\\\\x92\\\\xd7\\\\x91\\\\xd7\\\\xa2\\\\xd7\\\\xaa \\\\xd7\\\\x94\\\\xd7\\\\x9e\\\\xd7\\\\x91\\\\xd7\\\\xaa\\\\xd7\\\\xa8.\\\\n_START_SECTION_\\\\n\\\\xd7\\\\x94\\\\xd7\\\\x9c\\\\xd7\\\\x97\\\\xd7\\\\x99\\\\xd7\\\\x9e\\\\xd7\\\\x94 \\\\xd7\\\\xa2\\\\xd7\\\\x9c \\\\xd7\\\\x92\\\\xd7\\\\x91\\\\xd7\\\\xa2\\\\xd7\\\\xaa \\\\xd7\\\\x94\\\\xd7\\\\xaa\\\\xd7\\\\x97\\\\xd7\\\\x9e\\\\xd7\\\\x95\\\\xd7\\\\xa9\\\\xd7\\\\xaa: \\\\xd7\\\\x94\\\\xd7\\\\xa9\\\\xd7\\\\x9c\\\\xd7\\\\x91 \\\\xd7\\\\x94\\\\xd7\\\\xa8\\\\xd7\\\\x90\\\\xd7\\\\xa9\\\\xd7\\\\x95\\\\xd7\\\\x9f\\\\n_START_PARAGRAPH_\\\\n\\\\xd7\\\\x9e\\\\xd7\\\\xa4\\\\xd7\\\\xa7\\\\xd7\\\\x93 \\\\xd7\\\\xa4\\\\xd7\\\\x9c\\\\xd7\\\\x95\\\\xd7\\\\x92\\\\xd7\\\\x94 \\\\xd7\\\\x92\\\\\\', \\\\xd7\\\\x93\\\\xd7\\\\x93\\\\xd7\\\\x99, \\\\xd7\\\\x97\\\\xd7\\\\x99\\\\xd7\\\\x9c\\\\xd7\\\\xa7 \\\\xd7\\\\x90\\\\xd7\\\\xaa \\\\xd7\\\\x97\\\\xd7\\\\x99\\\\xd7\\\\x99\\\\xd7\\\\x9c\\\\xd7\\\\x99\\\\xd7\\\\x95 \\\\xd7\\\\x9c\\\\xd7\\\\xa9\\\\xd7\\\\x9c\\\\xd7\\\\x95\\\\xd7\\\\xa9\\\\xd7\\\\x94 \\\\xd7\\\\x9b\\\\xd7\\\\x95\\\\xd7\\\\x97\\\\xd7\\\\x95\\\\xd7\\\\xaa. \\\\xd7\\\\x9b\\\\xd7\\\\x95\\\\xd7\\\\x97 \\\\xd7\\\\x90\\\\xd7\\\\x97\\\\xd7\\\\x93, \\\\xd7\\\\x91\\\\xd7\\\\xa4\\\\xd7\\\\x99\\\\xd7\\\\xa7\\\\xd7\\\\x95\\\\xd7\\\\x93 \\\\xd7\\\\x94\\\\xd7\\\\x9e\"\\\\xd7\\\\x9e \\\\xd7\\\\x93\\\\xd7\\\\xa0\\\\xd7\\\\x99 \\\\xd7\\\\x99\\\\xd7\\\\xa6\\\\xd7\\\\x97\\\\xd7\\\\xa7\\\\xd7\\\\x99 \\\\xd7\\\\x90\\\\xd7\\\\x9e\\\\xd7\\\\x95\\\\xd7\\\\xa8 \\\\xd7\\\\x94\\\\xd7\\\\x99\\\\xd7\\\\x94 \\\\xd7\\\\x9c\\\\xd7\\\\x94\\\\xd7\\\\x99\\\\xd7\\\\x9b\\\\xd7\\\\xa0\\\\xd7\\\\xa1 \\\\xd7\\\\x9c\\\\xd7\\\\xaa\\\\xd7\\\\xa2\\\\xd7\\\\x9c\\\\xd7\\\\x94 \\\\xd7\\\\x94\\\\xd7\\\\x9e\\\\xd7\\\\x96\\\\xd7\\\\xa8\\\\xd7\\\\x97\\\\xd7\\\\x99\\\\xd7\\\\xaa. \\\\xd7\\\\x9b\\\\xd7\\\\x95\\\\xd7\\\\x97 \\\\xd7\\\\xa9\\\\xd7\\\\xa0\\\\xd7\\\\x99, \\\\xd7\\\\x91\\\\xd7\\\\xa4\\\\xd7\\\\x99\\\\xd7\\\\xa7\\\\xd7\\\\x95\\\\xd7\\\\x93 \\\\xd7\\\\x94\\\\xd7\\\\x9e\"\\\\xd7\\\\x9e \\\\xd7\\\\x99\\\\xd7\\\\x95\\\\xd7\\\\xa8\\\\xd7\\\\x9d \\\\xd7\\\\x90\\\\xd7\\\\x9c\\\\xd7\\\\x99\\\\xd7\\\\xa9\\\\xd7\\\\x99\\\\xd7\\\\x91 \\\\xd7\\\\x90\\\\xd7\\\\x9e\\\\xd7\\\\x95\\\\xd7\\\\xa8 \\\\xd7\\\\x94\\\\xd7\\\\x99\\\\xd7\\\\x94 \\\\xd7\\\\x9c\\\\xd7\\\\x94\\\\xd7\\\\x99\\\\xd7\\\\x9b\\\\xd7\\\\xa0\\\\xd7\\\\xa1 \\\\xd7\\\\x90\\\\xd7\\\\x9c \\\\xd7\\\\x94\\\\xd7\\\\xaa\\\\xd7\\\\xa2\\\\xd7\\\\x9c\\\\xd7\\\\x94 \\\\xd7\\\\x94\\\\xd7\\\\x9e\\\\xd7\\\\xa2\\\\xd7\\\\xa8\\\\xd7\\\\x91\\\\xd7\\\\x99\\\\xd7\\\\xaa \\\\xd7\\\\x95\\\\xd7\\\\x9c\\\\xd7\\\\x9b\\\\xd7\\\\x91\\\\xd7\\\\x95\\\\xd7\\\\xa9 \\\\xd7\\\\x90\\\\xd7\\\\x95\\\\xd7\\\\xaa\\\\xd7\\\\x94. \\\\xd7\\\\x9b\\\\xd7\\\\x95\\\\xd7\\\\x97 \\\\xd7\\\\xa9\\\\xd7\\\\x9c\\\\xd7\\\\x99\\\\xd7\\\\xa9\\\\xd7\\\\x99, \\\\xd7\\\\x91\\\\xd7\\\\xa4\\\\xd7\\\\x99\\\\xd7\\\\xa7\\\\xd7\\\\x95\\\\xd7\\\\x93 \\\\xd7\\\\x93\\\\xd7\\\\x93\\\\xd7\\\\x99 \\\\xd7\\\\xa2\\\\xd7\\\\xa6\\\\xd7\\\\x9e\\\\xd7\\\\x95 \\\\xd7\\\\x95\\\\xd7\\\\x94\\\\xd7\\\\x9e\"\\\\xd7\\\\x9e \\\\xd7\\\\x9e\\\\xd7\\\\x99\\\\xd7\\\\x9c\\\\xd7\\\\xa8, \\\\xd7\\\\x99\\\\xd7\\\\x95\\\\xd7\\\\xa2\\\\xd7\\\\x93 \\\\xd7\\\\x9c\\\\xd7\\\\x94\\\\xd7\\\\x99\\\\xd7\\\\x9b\\\\xd7\\\\xa0\\\\xd7\\\\xa1 \\\\xd7\\\\x90\\\\xd7\\\\x9c \\\\xd7\\\\x94\\\\xd7\\\\xaa\\\\xd7\\\\xa2\\\\xd7\\\\x9c\\\\xd7\\\\x94 \\\\xd7\\\\x94\\\\xd7\\\\x9e\\\\xd7\\\\xa8\\\\xd7\\\\x9b\\\\xd7\\\\x96\\\\xd7\\\\x99\\\\xd7\\\\xaa. \\\\xd7\\\\x90\\\\xd7\\\\x95\\\\xd7\\\\x9c\\\\xd7\\\\x9d \\\\xd7\\\\x91\\\\xd7\\\\xa9\\\\xd7\\\\x9c \\\\xd7\\\\x94\\\\xd7\\\\x9e\\\\xd7\\\\x94\\\\xd7\\\\x95\\\\xd7\\\\x9e\\\\xd7\\\\x94 \\\\xd7\\\\x94\\\\xd7\\\\x92\\\\xd7\\\\x93\\\\xd7\\\\x95\\\\xd7\\\\x9c\\\\xd7\\\\x94 \\\\xd7\\\\x95\\\\xd7\\\\x94\\\\xd7\\\\x94\\\\xd7\\\\xa4\\\\xd7\\\\x92\\\\xd7\\\\x96\\\\xd7\\\\x94 \\\\xd7\\\\x94\\\\xd7\\\\x90\\\\xd7\\\\xa8\\\\xd7\\\\x98\\\\xd7\\\\x99\\\\xd7\\\\x9c\\\\xd7\\\\xa8\\\\xd7\\\\x99\\\\xd7\\\\xaa \\\\xd7\\\\xa9\\\\xd7\\\\xa0\\\\xd7\\\\x97\\\\xd7\\\\xaa\\\\xd7\\\\x94 \\\\xd7\\\\xa1\\\\xd7\\\\x9e\\\\xd7\\\\x95\\\\xd7\\\\x9a \\\\xd7\\\\x9e\\\\xd7\\\\x90\\\\xd7\\\\x93 \\\\xd7\\\\x9c\\\\xd7\\\\xa6\\\\xd7\\\\xa0\\\\xd7\\\\x97\\\\xd7\\\\xa0\\\\xd7\\\\x99\\\\xd7\\\\x9d \\\\xd7\\\\x94\\\\xd7\\\\xa9\\\\xd7\\\\xaa\\\\xd7\\\\x91\\\\xd7\\\\xa9\\\\xd7\\\\x95 \\\\xd7\\\\x94\\\\xd7\\\\xa2\\\\xd7\\\\xa0\\\\xd7\\\\x99\\\\xd7\\\\x99\\\\xd7\\\\xa0\\\\xd7\\\\x99\\\\xd7\\\\x9d: \\\\xd7\\\\x94\\\\xd7\\\\x9e\\\\xd7\\\\x97\\\\xd7\\\\x9c\\\\xd7\\\\xa7\\\\xd7\\\\x94 \\\\xd7\\\\x91\\\\xd7\\\\xa4\\\\xd7\\\\x99\\\\xd7\\\\xa7\\\\xd7\\\\x95\\\\xd7\\\\x93\\\\xd7\\\\x95 \\\\xd7\\\\xa9\\\\xd7\\\\x9c \\\\xd7\\\\x99\\\\xd7\\\\x95\\\\xd7\\\\xa8\\\\xd7\\\\x9d \\\\xd7\\\\x98\\\\xd7\\\\xa2\\\\xd7\\\\xaa\\\\xd7\\\\x94 \\\\xd7\\\\x95\\\\xd7\\\\xa0\\\\xd7\\\\x9b\\\\xd7\\\\xa0\\\\xd7\\\\xa1\\\\xd7\\\\x94 \\\\xd7\\\\x90\\\\xd7\\\\x9c \\\\xd7\\\\x94\\\\xd7\\\\xaa\\\\xd7\\\\xa2\\\\xd7\\\\x9c\\\\xd7\\\\x94 \\\\xd7\\\\x94\\\\xd7\\\\x9e\\\\xd7\\\\xa8\\\\xd7\\\\x9b\\\\xd7\\\\x96\\\\xd7\\\\x99\\\\xd7\\\\xaa, \\\\xd7\\\\xa9\\\\xd7\\\\x94\\\\xd7\\\\x95\\\\xd7\\\\x9c\\\\xd7\\\\x99\\\\xd7\\\\x9b\\\\xd7\\\\x94 \\\\xd7\\\\x90\\\\xd7\\\\x9c \\\\xd7\\\\x9e\\\\xd7\\\\xa8\\\\xd7\\\\x9b\\\\xd7\\\\x96 \\\\xd7\\\\x94\\\\xd7\\\\x92\\\\xd7\\\\x91\\\\xd7\\\\xa2\\\\xd7\\\\x94; \\\\xd7\\\\x93\\\\xd7\\\\x93\\\\xd7\\\\x99, \\\\xd7\\\\x99\\\\xd7\\\\x97\\\\xd7\\\\x93 \\\\xd7\\\\xa2\\\\xd7\\\\x9d \\\\xd7\\\\x9e\\\\xd7\\\\x97\\\\xd7\\\\x9c\\\\xd7\\\\xa7\\\\xd7\\\\xaa\\\\xd7\\\\x95 \\\\xd7\\\\xa9\\\\xd7\\\\x9c \\\\xd7\\\\x9e\\\\xd7\\\\x99\\\\xd7\\\\x9c\\\\xd7\\\\xa8 \\\\xd7\\\\x98\\\\xd7\\\\xa2\\\\xd7\\\\x95 \\\\xd7\\\\x95\\\\xd7\\\\xa0\\\\xd7\\\\x9b\\\\xd7\\\\xa0\\\\xd7\\\\xa1\\\\xd7\\\\x95 \\\\xd7\\\\x9c\\\\xd7\\\\xaa\\\\xd7\\\\xa2\\\\xd7\\\\x9c\\\\xd7\\\\x94 \\\\xd7\\\\x94\\\\xd7\\\\x9e\\\\xd7\\\\x96\\\\xd7\\\\xa8\\\\xd7\\\\x97\\\\xd7\\\\x99\\\\xd7\\\\xaa; \\\\xd7\\\\x95\\\\xd7\\\\x90\\\\xd7\\\\x99\\\\xd7\\\\x9c\\\\xd7\\\\x95 \\\\xd7\\\\x93\\\\xd7\\\\xa0\\\\xd7\\\\x99 \\\\xd7\\\\x94\\\\xd7\\\\x9e\\\\xd7\\\\xa9\\\\xd7\\\\x99\\\\xd7\\\\x9a \\\\xd7\\\\x91\\\\xd7\\\\xa2\\\\xd7\\\\xa7\\\\xd7\\\\x91\\\\xd7\\\\x95\\\\xd7\\\\xaa\\\\xd7\\\\x99\\\\xd7\\\\x95 \\\\xd7\\\\xa9\\\\xd7\\\\x9c \\\\xd7\\\\x99\\\\xd7\\\\x95\\\\xd7\\\\xa8\\\\xd7\\\\x9d \\\\xd7\\\\x90\\\\xd7\\\\x9c \\\\xd7\\\\x9e\\\\xd7\\\\xa8\\\\xd7\\\\x9b\\\\xd7\\\\x96 \\\\xd7\\\\x94\\\\xd7\\\\x92\\\\xd7\\\\x91\\\\xd7\\\\xa2\\\\xd7\\\\x94. \\\\xd7\\\\x9b\\\\xd7\\\\x9a \\\\xd7\\\\x9c\\\\xd7\\\\x90 \\\\xd7\\\\xa0\\\\xd7\\\\x9b\\\\xd7\\\\xa0\\\\xd7\\\\xa1 \\\\xd7\\\\x9b\\\\xd7\\\\x95\\\\xd7\\\\x97 \\\\xd7\\\\x9b\\\\xd7\\\\x9c\\\\xd7\\\\xa9\\\\xd7\\\\x94\\\\xd7\\\\x95 \\\\xd7\\\\x9c\\\\xd7\\\\x97\\\\xd7\\\\x9c\\\\xd7\\\\xa7 \\\\xd7\\\\x94\\\\xd7\\\\x9e\\\\xd7\\\\xa2\\\\xd7\\\\xa8\\\\xd7\\\\x91\\\\xd7\\\\x99 \\\\xd7\\\\xa9\\\\xd7\\\\x9c \\\\xd7\\\\x94\\\\xd7\\\\x92\\\\xd7\\\\x91\\\\xd7\\\\xa2\\\\xd7\\\\x94. \\\\xd7\\\\x97\\\\xd7\\\\x95\\\\xd7\\\\x9c\\\\xd7\\\\x99\\\\xd7\\\\x94 \\\\xd7\\\\x9e\\\\xd7\\\\x9e\\\\xd7\\\\x97\\\\xd7\\\\x9c\\\\xd7\\\\xa7\\\\xd7\\\\xaa\\\\xd7\\\\x95 \\\\xd7\\\\xa9\\\\xd7\\\\x9c \\\\xd7\\\\x99\\\\xd7\\\\x95\\\\xd7\\\\xa8\\\\xd7\\\\x9d, \\\\xd7\\\\x91\\\\xd7\\\\xa4\\\\xd7\\\\x99\\\\xd7\\\\xa7\\\\xd7\\\\x95\\\\xd7\\\\x93\\\\xd7\\\\x95 \\\\xd7\\\\xa9\\\\xd7\\\\x9c \\\\xd7\\\\x9e\\\\xd7\\\\x90\\\\xd7\\\\x99\\\\xd7\\\\xa8 \\\\xd7\\\\x9e\\\\xd7\\\\x9c\\\\xd7\\\\x9e\\\\xd7\\\\x95\\\\xd7\\\\x93\\\\xd7\\\\x99 \\\\xd7\\\\x94\\\\xd7\\\\xa1\\\\xd7\\\\xaa\\\\xd7\\\\xa2\\\\xd7\\\\xa8\\\\xd7\\\\x94 \\\\xd7\\\\x90\\\\xd7\\\\x9c \\\\xd7\\\\xaa\\\\xd7\\\\x95\\\\xd7\\\\x9a \\\\xd7\\\\xa9\\\\xd7\\\\x98\\\\xd7\\\\x97 \\\\xd7\\\\x94\\\\xd7\\\\x94\\\\xd7\\\\xa8\\\\xd7\\\\x99\\\\xd7\\\\x92\\\\xd7\\\\x94 \\\\xd7\\\\xa9\\\\xd7\\\\x9b\\\\xd7\\\\x95\\\\xd7\\\\xa0\\\\xd7\\\\x94 \"\\\\xd7\\\\x9e\\\\xd7\\\\xa9\\\\xd7\\\\x95\\\\xd7\\\\x9c\\\\xd7\\\\xa9 \\\\xd7\\\\x94\\\\xd7\\\\x90\\\\xd7\\\\xa9\", \\\\xd7\\\\x95\\\\xd7\\\\x90\\\\xd7\\\\xa8\\\\xd7\\\\x91\\\\xd7\\\\xa2\\\\xd7\\\\x94 \\\\xd7\\\\x9e\\\\xd7\\\\x90\\\\xd7\\\\xa0\\\\xd7\\\\xa9\\\\xd7\\\\x99\\\\xd7\\\\x94 \\\\xd7\\\\xa0\\\\xd7\\\\x94\\\\xd7\\\\xa8\\\\xd7\\\\x92\\\\xd7\\\\x95 \\\\xd7\\\\x95\\\\xd7\\\\x94\\\\xd7\\\\xa9\\\\xd7\\\\x90\\\\xd7\\\\xa8 \\\\xd7\\\\xa0\\\\xd7\\\\xa4\\\\xd7\\\\xa6\\\\xd7\\\\xa2\\\\xd7\\\\x95. \\\\xd7\\\\x99\\\\xd7\\\\x95\\\\xd7\\\\xa8\\\\xd7\\\\x9d \\\\xd7\\\\x9c\\\\xd7\\\\x90 \\\\xd7\\\\x99\\\\xd7\\\\x93\\\\xd7\\\\xa2 \\\\xd7\\\\xa2\\\\xd7\\\\x9c \\\\xd7\\\\x9b\\\\xd7\\\\x9a \\\\xd7\\\\x95\\\\xd7\\\\x94\\\\xd7\\\\x9e\\\\xd7\\\\xa9\\\\xd7\\\\x99\\\\xd7\\\\x9a \\\\xd7\\\\x9c\\\\xd7\\\\x94\\\\xd7\\\\xaa\\\\xd7\\\\xa7\\\\xd7\\\\x93\\\\xd7\\\\x9d \\\\xd7\\\\x91\\\\xd7\\\\xaa\\\\xd7\\\\xa2\\\\xd7\\\\x9c\\\\xd7\\\\x94 \\\\xd7\\\\x94\\\\xd7\\\\x9e\\\\xd7\\\\xa8\\\\xd7\\\\x9b\\\\xd7\\\\x96\\\\xd7\\\\x99\\\\xd7\\\\xaa, \\\\xd7\\\\x94\\\\xd7\\\\xa6\\\\xd7\\\\x9c\\\\xd7\\\\x99\\\\xd7\\\\x97 \\\\xd7\\\\x9c\\\\xd7\\\\x94\\\\xd7\\\\x92\\\\xd7\\\\x99\\\\xd7\\\\xa2 \\\\xd7\\\\x90\\\\xd7\\\\x9c \\\\xd7\\\\x9e\\\\xd7\\\\xa8\\\\xd7\\\\x9b\\\\xd7\\\\x96 \\\\xd7\\\\x94\\\\xd7\\\\x92\\\\xd7\\\\x91\\\\xd7\\\\xa2\\\\xd7\\\\x94 \\\\xd7\\\\x95\\\\xd7\\\\x9c\\\\xd7\\\\x9b\\\\xd7\\\\x91\\\\xd7\\\\x95\\\\xd7\\\\xa9 \\\\xd7\\\\x90\\\\xd7\\\\xaa \\\\xd7\\\\x94\\\\xd7\\\\x9e\\\\xd7\\\\x91\\\\xd7\\\\xa0\\\\xd7\\\\x99\\\\xd7\\\\x9d \\\\xd7\\\\xa9\\\\xd7\\\\xa2\\\\xd7\\\\x9e\\\\xd7\\\\x93\\\\xd7\\\\x95 \\\\xd7\\\\x91\\\\xd7\\\\x9e\\\\xd7\\\\xa8\\\\xd7\\\\x9b\\\\xd7\\\\x96\\\\xd7\\\\x94._NEWLINE_\\\\xd7\\\\x93\\\\xd7\\\\x93\\\\xd7\\\\x99 \\\\xd7\\\\xa2\\\\xd7\\\\xa6\\\\xd7\\\\x9e\\\\xd7\\\\x95 \\\\xd7\\\\x94\\\\xd7\\\\xaa\\\\xd7\\\\xa7\\\\xd7\\\\x93\\\\xd7\\\\x9d \\\\xd7\\\\x99\\\\xd7\\\\x97\\\\xd7\\\\x93 \\\\xd7\\\\xa2\\\\xd7\\\\x9d \\\\xd7\\\\x9e\\\\xd7\\\\x97\\\\xd7\\\\x9c\\\\xd7\\\\xa7\\\\xd7\\\\x94 \\\\xd7\\\\xa0\\\\xd7\\\\x95\\\\xd7\\\\xa1\\\\xd7\\\\xa4\\\\xd7\\\\xaa \\\\xd7\\\\x91\\\\xd7\\\\xaa\\\\xd7\\\\xa2\\\\xd7\\\\x9c\\\\xd7\\\\x94 \\\\xd7\\\\x94\\\\xd7\\\\x9e\\\\xd7\\\\x96\\\\xd7\\\\xa8\\\\xd7\\\\x97\\\\xd7\\\\x99\\\\xd7\\\\xaa. \\\\xd7\\\\x91\\\\xd7\\\\xaa\\\\xd7\\\\x97\\\\xd7\\\\x99\\\\xd7\\\\x9c\\\\xd7\\\\x94 \\\\xd7\\\\x94\\\\xd7\\\\x99\\\\xd7\\\\x99\\\\xd7\\\\xaa\\\\xd7\\\\x94 \\\\xd7\\\\x94\\\\xd7\\\\x94\\\\xd7\\\\xaa\\\\xd7\\\\xa7\\\\xd7\\\\x93\\\\xd7\\\\x9e\\\\xd7\\\\x95\\\\xd7\\\\xaa \\\\xd7\\\\xa7\\\\xd7\\\\x9c\\\\xd7\\\\x94, \\\\xd7\\\\x95\\\\xd7\\\\x94\\\\xd7\\\\x93\\\\xd7\\\\x99\\\\xd7\\\\x95\\\\xd7\\\\x95\\\\xd7\\\\x97\\\\xd7\\\\x99\\\\xd7\\\\x9d \\\\xd7\\\\x9e\\\\xd7\\\\x94\\\\xd7\\\\x9e\\\\xd7\\\\x97\\\\xd7\\\\x9c\\\\xd7\\\\xa7\\\\xd7\\\\x94 \\\\xd7\\\\x91\\\\xd7\\\\xaa\\\\xd7\\\\xa2\\\\xd7\\\\x9c\\\\xd7\\\\x94 \\\\xd7\\\\x94\\\\xd7\\\\x9e\\\\xd7\\\\xa8\\\\xd7\\\\x9b\\\\xd7\\\\x96\\\\xd7\\\\x99\\\\xd7\\\\xaa \\\\xd7\\\\x99\\\\xd7\\\\xa6\\\\xd7\\\\xa8\\\\xd7\\\\x95 \\\\xd7\\\\x90\\\\xd7\\\\xa6\\\\xd7\\\\x9c \\\\xd7\\\\x9e\\\\xd7\\\\xa4\\\\xd7\\\\xa7\\\\xd7\\\\x93 \\\\xd7\\\\x94\\\\xd7\\\\xa4\\\\xd7\\\\x9c\\\\xd7\\\\x95\\\\xd7\\\\x92\\\\xd7\\\\x94 \\\\xd7\\\\x90\\\\xd7\\\\xaa \\\\xd7\\\\x94\\\\xd7\\\\xa8\\\\xd7\\\\x95\\\\xd7\\\\xa9\\\\xd7\\\\x9d \\\\xd7\\\\x94\\\\xd7\\\\x9e\\\\xd7\\\\x95\\\\xd7\\\\x98\\\\xd7\\\\xa2\\\\xd7\\\\x94 \\\\xd7\\\\xa9\\\\xd7\\\\x94\\\\xd7\\\\x94\\\\xd7\\\\xa9\\\\xd7\\\\xaa\\\\xd7\\\\x9c\\\\xd7\\\\x98\\\\xd7\\\\x95\\\\xd7\\\\xaa \\\\xd7\\\\xa2\\\\xd7\\\\x9c \\\\xd7\\\\x94\\\\xd7\\\\x92\\\\xd7\\\\x91\\\\xd7\\\\xa2\\\\xd7\\\\x94 \\\\xd7\\\\xaa\\\\xd7\\\\x94\\\\xd7\\\\x99\\\\xd7\\\\x94 \\\\xd7\\\\xa7\\\\xd7\\\\x9c\\\\xd7\\\\x94 \\\\xd7\\\\x95\\\\xd7\\\\x9c\\\\xd7\\\\x90 \\\\xd7\\\\x99\\\\xd7\\\\x94\\\\xd7\\\\x99\\\\xd7\\\\x94 \\\\xd7\\\\xa6\\\\xd7\\\\x95\\\\xd7\\\\xa8\\\\xd7\\\\x9a \\\\xd7\\\\x91\\\\xd7\\\\xa1\\\\xd7\\\\x99\\\\xd7\\\\x95\\\\xd7\\\\xa2 \\\\xd7\\\\x9e\\\\xd7\\\\xa4\\\\xd7\\\\x9c\\\\xd7\\\\x95\\\\xd7\\\\x92\\\\xd7\\\\x94 \\\\xd7\\\\x90\\\\xd7\\\\x97\\\\xd7\\\\xa8\\\\xd7\\\\xaa. \\\\xd7\\\\xaa\\\\xd7\\\\x9e\\\\xd7\\\\x95\\\\xd7\\\\xa0\\\\xd7\\\\xaa \\\\xd7\\\\x94\\\\xd7\\\\xa7\\\\xd7\\\\xa8\\\\xd7\\\\x91 \\\\xd7\\\\x94\\\\xd7\\\\x96\\\\xd7\\\\x95 \\\\xd7\\\\x94\\\\xd7\\\\x99\\\\xd7\\\\x99\\\\xd7\\\\xaa\\\\xd7\\\\x94 \\\\xd7\\\\x9e\\\\xd7\\\\x95\\\\xd7\\\\x98\\\\xd7\\\\xa2\\\\xd7\\\\x99\\\\xd7\\\\xaa; \\\\xd7\\\\x93\\\\xd7\\\\x93\\\\xd7\\\\x99 \\\\xd7\\\\x9c\\\\xd7\\\\x90 \\\\xd7\\\\x94\\\\xd7\\\\x91\\\\xd7\\\\x99\\\\xd7\\\\x9f \\\\xd7\\\\xa9\\\\xd7\\\\x98\\\\xd7\\\\xa8\\\\xd7\\\\x9d \\\\xd7\\\\x94\\\\xd7\\\\xaa\\\\xd7\\\\xa8\\\\xd7\\\\x97\\\\xd7\\\\xa9\\\\xd7\\\\x94 \\\\xd7\\\\x94\\\\xd7\\\\x94\\\\xd7\\\\x99\\\\xd7\\\\xaa\\\\xd7\\\\xa7\\\\xd7\\\\x9c\\\\xd7\\\\x95\\\\xd7\\\\xaa \\\\xd7\\\\xa2\\\\xd7\\\\x9d \\\\xd7\\\\x94\\\\xd7\\\\x9b\\\\xd7\\\\x95\\\\xd7\\\\x97 \\\\xd7\\\\x94\\\\xd7\\\\xa2\\\\xd7\\\\x99\\\\xd7\\\\xa7\\\\xd7\\\\xa8\\\\xd7\\\\x99 \\\\xd7\\\\x91\\\\xd7\\\\x9e\\\\xd7\\\\x95\\\\xd7\\\\xa6\\\\xd7\\\\x91, \\\\xd7\\\\x95\\\\xd7\\\\x9c\\\\xd7\\\\xa4\\\\xd7\\\\x99\\\\xd7\\\\x9b\\\\xd7\\\\x9a \\\\xd7\\\\x93\\\\xd7\\\\x99\\\\xd7\\\\x95\\\\xd7\\\\x95\\\\xd7\\\\x97 \\\\xd7\\\\x9c\\\\xd7\\\\x9e\\\\xd7\\\\x92\"\\\\xd7\\\\x93 \\\\xd7\\\\x9b\\\\xd7\\\\x99 \\\\xd7\\\\x93\\\\xd7\\\\x99 \\\\xd7\\\\x91\\\\xd7\\\\x9b\\\\xd7\\\\x95\\\\xd7\\\\x97\\\\xd7\\\\x95 \\\\xd7\\\\xa9\\\\xd7\\\\x9c\\\\xd7\\\\x95 \\\\xd7\\\\x91\\\\xd7\\\\x9c\\\\xd7\\\\x91\\\\xd7\\\\x93 \\\\xd7\\\\x9c\\\\xd7\\\\x94\\\\xd7\\\\x9b\\\\xd7\\\\xa8\\\\xd7\\\\xa2\\\\xd7\\\\x94 \\\\xd7\\\\x9e\\\\xd7\\\\x94\\\\xd7\\\\x99\\\\xd7\\\\xa8\\\\xd7\\\\x94 \\\\xd7\\\\xa9\\\\xd7\\\\x9c \\\\xd7\\\\x9e\\\\xd7\\\\x95\\\\xd7\\\\xa6\\\\xd7\\\\x91 \\\\xd7\\\\x92\\\\xd7\\\\x91\\\\xd7\\\\xa2\\\\xd7\\\\xaa \\\\xd7\\\\x94\\\\xd7\\\\xaa\\\\xd7\\\\x97\\\\xd7\\\\x9e\\\\xd7\\\\x95\\\\xd7\\\\xa9\\\\xd7\\\\xaa, \\\\xd7\\\\x95\\\\xd7\\\\x94\\\\xd7\\\\x9e\\\\xd7\\\\x92\"\\\\xd7\\\\x93 \\\\xd7\\\\x94\\\\xd7\\\\xa1\\\\xd7\\\\x99\\\\xd7\\\\xa7 \\\\xd7\\\\x9e\\\\xd7\\\\x93\\\\xd7\\\\x99\\\\xd7\\\\x95\\\\xd7\\\\x95\\\\xd7\\\\x97 \\\\xd7\\\\x96\\\\xd7\\\\x94 \\\\xd7\\\\x9b\\\\xd7\\\\x99 \\\\xd7\\\\xa0\\\\xd7\\\\x99\\\\xd7\\\\xaa\\\\xd7\\\\x9f \\\\xd7\\\\x9c\\\\xd7\\\\x94\\\\xd7\\\\x9e\\\\xd7\\\\xa9\\\\xd7\\\\x99\\\\xd7\\\\x9a \\\\xd7\\\\x91\\\\xd7\\\\x9e\\\\xd7\\\\xa9\\\\xd7\\\\x99\\\\xd7\\\\x9e\\\\xd7\\\\x94 \\\\xd7\\\\x94\\\\xd7\\\\x91\\\\xd7\\\\x90\\\\xd7\\\\x94 - \\\\xd7\\\\x94\\\\xd7\\\\x99\\\\xd7\\\\x90\\\\xd7\\\\x97\\\\xd7\\\\x96\\\\xd7\\\\x95\\\\xd7\\\\xaa \\\\xd7\\\\x91\\\\xd7\\\\x9e\\\\xd7\\\\x9c\\\\xd7\\\\x95\\\\xd7\\\\x9f \\\\xd7\\\\x90\\\\xd7\\\\x9e\\\\xd7\\\\x91\\\\xd7\\\\xa1\\\\xd7\\\\x93\\\\xd7\\\\x95\\\\xd7\\\\xa8. \\\\xd7\\\\x94\\\\xd7\\\\x95\\\\xd7\\\\x90 \\\\xd7\\\\x94\\\\xd7\\\\x95\\\\xd7\\\\xa8\\\\xd7\\\\x94 \\\\xd7\\\\x9c\\\\xd7\\\\xa4\\\\xd7\\\\x9c\\\\xd7\\\\x95\\\\xd7\\\\x92\\\\xd7\\\\x95\\\\xd7\\\\xaa \\\\xd7\\\\x90\\\\\\' \\\\xd7\\\\x95-\\\\xd7\\\\x93\\\\\\' \\\\xd7\\\\x9c\\\\xd7\\\\x94\\\\xd7\\\\x9e\\\\xd7\\\\xa9\\\\xd7\\\\x99\\\\xd7\\\\x9a \\\\xd7\\\\x9c\\\\xd7\\\\x9b\\\\xd7\\\\x99\\\\xd7\\\\x95\\\\xd7\\\\x95\\\\xd7\\\\x9f \\\\xd7\\\\x94\\\\xd7\\\\x9e\\\\xd7\\\\x9c\\\\xd7\\\\x95\\\\xd7\\\\x9f \\\\xd7\\\\x95\\\\xd7\\\\x90\\\\xd7\\\\x9c\\\\xd7\\\\x95 \\\\xd7\\\\x90\\\\xd7\\\\x9b\\\\xd7\\\\x9f \\\\xd7\\\\x9b\\\\xd7\\\\x91\\\\xd7\\\\xa9\\\\xd7\\\\x95 \\\\xd7\\\\x90\\\\xd7\\\\xaa \\\\xd7\\\\x94\\\\xd7\\\\xa6\\\\xd7\\\\x95\\\\xd7\\\\x9e\\\\xd7\\\\xaa \\\\xd7\\\\x94\\\\xd7\\\\x90\\\\xd7\\\\xa1\\\\xd7\\\\x98\\\\xd7\\\\xa8\\\\xd7\\\\x98\\\\xd7\\\\x92\\\\xd7\\\\x99 \\\\xd7\\\\xa9\\\\xd7\\\\x9c \\\\xd7\\\\xa9\\\\xd7\\\\x99\\\\xd7\\\\x99\\\\xd7\\\\x97\\\\\\' \\\\xd7\\\\x92\\\\\\'\\\\xd7\\\\xa8\\\\xd7\\\\x90\\\\xd7\\\\x97._NEWLINE_\\\\xd7\\\\x95\\\\xd7\\\\x90\\\\xd7\\\\x95\\\\xd7\\\\x9c\\\\xd7\\\\x9d \\\\xd7\\\\x9b\\\\xd7\\\\x90\\\\xd7\\\\xa9\\\\xd7\\\\xa8 \\\\xd7\\\\x94\\\\xd7\\\\x92\\\\xd7\\\\x99\\\\xd7\\\\xa2\\\\xd7\\\\x95 \\\\xd7\\\\x94\\\\xd7\\\\xa6\\\\xd7\\\\xa0\\\\xd7\\\\x97\\\\xd7\\\\xa0\\\\xd7\\\\x99\\\\xd7\\\\x9d \\\\xd7\\\\x9c\\\\xd7\\\\x97\\\\xd7\\\\x9c\\\\xd7\\\\xa7\\\\xd7\\\\x94 \\\\xd7\\\\x94\\\\xd7\\\\xa6\\\\xd7\\\\xa4\\\\xd7\\\\x95\\\\xd7\\\\xa0\\\\xd7\\\\x99 \\\\xd7\\\\xa9\\\\xd7\\\\x9c \\\\xd7\\\\x94\\\\xd7\\\\x92\\\\xd7\\\\x91\\\\xd7\\\\xa2\\\\xd7\\\\x94 \\\\xd7\\\\x94\\\\xd7\\\\x97\\\\xd7\\\\x9c\\\\xd7\\\\x94 \\\\xd7\\\\xaa\\\\xd7\\\\x9e\\\\xd7\\\\x95\\\\xd7\\\\xa0\\\\xd7\\\\xaa \\\\xd7\\\\x94\\\\xd7\\\\xa7\\\\xd7\\\\xa8\\\\xd7\\\\x91 \\\\xd7\\\\x9c\\\\xd7\\\\x94\\\\xd7\\\\xa9\\\\xd7\\\\xaa\\\\xd7\\\\xa0\\\\xd7\\\\x95\\\\xd7\\\\xaa. \\\\xd7\\\\x94\\\\xd7\\\\x9b\\\\xd7\\\\x95\\\\xd7\\\\x97 \\\\xd7\\\\xa9\\\\xd7\\\\x9c\\\\xd7\\\\x97\\\\xd7\\\\x9d \\\\xd7\\\\x91\\\\xd7\\\\xaa\\\\xd7\\\\xa2\\\\xd7\\\\x9c\\\\xd7\\\\x94 \\\\xd7\\\\x94\\\\xd7\\\\x9e\\\\xd7\\\\xa8\\\\xd7\\\\x9b\\\\xd7\\\\x96\\\\xd7\\\\x99\\\\xd7\\\\xaa \\\\xd7\\\\xa0\\\\xd7\\\\xaa\\\\xd7\\\\xa7\\\\xd7\\\\x9c \\\\xd7\\\\x91\\\\xd7\\\\x94\\\\xd7\\\\xaa\\\\xd7\\\\xa0\\\\xd7\\\\x92\\\\xd7\\\\x93\\\\xd7\\\\x95\\\\xd7\\\\xaa \\\\xd7\\\\xa7\\\\xd7\\\\xa9\\\\xd7\\\\x94 \\\\xd7\\\\x9e\\\\xd7\\\\x95\\\\xd7\\\\x9c \\\\xd7\\\\x91\\\\xd7\\\\x99\\\\xd7\\\\xaa \\\\xd7\\\\x94\\\\xd7\\\\x98\\\\xd7\\\\x9c\\\\xd7\\\\x95\\\\xd7\\\\x95\\\\xd7\\\\x99\\\\xd7\\\\x96\\\\xd7\\\\x99\\\\xd7\\\\x94, \\\\xd7\\\\x95\\\\xd7\\\\xa0\\\\xd7\\\\x97\\\\xd7\\\\xa9\\\\xd7\\\\xa3 \\\\xd7\\\\x9c\\\\xd7\\\\x90\\\\xd7\\\\xa9 \\\\xd7\\\\x94\\\\xd7\\\\x9c\\\\xd7\\\\x95\\\\xd7\\\\x97\\\\xd7\\\\x9e\\\\xd7\\\\x99\\\\xd7\\\\x9d \\\\xd7\\\\x94\\\\xd7\\\\x99\\\\xd7\\\\xa8\\\\xd7\\\\x93\\\\xd7\\\\xa0\\\\xd7\\\\x99\\\\xd7\\\\x9d \\\\xd7\\\\xa9\\\\xd7\\\\x91\\\\xd7\\\\x92\\\\xd7\\\\x91\\\\xd7\\\\xa2\\\\xd7\\\\xaa \\\\xd7\\\\x94\\\\xd7\\\\x9e\\\\xd7\\\\x91\\\\xd7\\\\xaa\\\\xd7\\\\xa8 \\\\xd7\\\\x95\\\\xd7\\\\x91\\\\xd7\\\\x97\\\\xd7\\\\x9c\\\\xd7\\\\xa7\\\\xd7\\\\x94 \\\\xd7\\\\x94\\\\xd7\\\\xa6\\\\xd7\\\\xa4\\\\xd7\\\\x95\\\\xd7\\\\xa0\\\\xd7\\\\x99 \\\\xd7\\\\xa9\\\\xd7\\\\x9c \\\\xd7\\\\x94\\\\xd7\\\\x92\\\\xd7\\\\x91\\\\xd7\\\\xa2\\\\xd7\\\\x94 \\\\xd7\\\\xa2\\\\xd7\\\\xa6\\\\xd7\\\\x9e\\\\xd7\\\\x94. \\\\xd7\\\\x94\\\\xd7\\\\x9b\\\\xd7\\\\x95\\\\xd7\\\\x97 \\\\xd7\\\\xa1\\\\xd7\\\\xa4\\\\xd7\\\\x92 \\\\xd7\\\\x90\\\\xd7\\\\x91\\\\xd7\\\\x93\\\\xd7\\\\x95\\\\xd7\\\\xaa \\\\xd7\\\\xa8\\\\xd7\\\\x91\\\\xd7\\\\x95\\\\xd7\\\\xaa, \\\\xd7\\\\x95\\\\xd7\\\\x91\\\\xd7\\\\xa9\\\\xd7\\\\x9c\\\\xd7\\\\x91 \\\\xd7\\\\x9e\\\\xd7\\\\xa1\\\\xd7\\\\x95\\\\xd7\\\\x99\\\\xd7\\\\x9d \\\\xd7\\\\xa0\\\\xd7\\\\x95\\\\xd7\\\\xaa\\\\xd7\\\\xa8 \\\\xd7\\\\x9e\\\\xd7\\\\xa4\\\\xd7\\\\xa7\\\\xd7\\\\x93 \\\\xd7\\\\x94\\\\xd7\\\\xa4\\\\xd7\\\\x9c\\\\xd7\\\\x95\\\\xd7\\\\x92\\\\xd7\\\\x94 \\\\xd7\\\\xa2\\\\xd7\\\\x9d \\\\xd7\\\\xa9\\\\xd7\\\\x9e\\\\xd7\\\\x95\\\\xd7\\\\xa0\\\\xd7\\\\x94 \\\\xd7\\\\x9c\\\\xd7\\\\x95\\\\xd7\\\\x97\\\\xd7\\\\x9e\\\\xd7\\\\x99\\\\xd7\\\\x9d \\\\xd7\\\\x91\\\\xd7\\\\x9c\\\\xd7\\\\x91\\\\xd7\\\\x93. \\\\xd7\\\\x94\\\\xd7\\\\x9b\\\\xd7\\\\x95\\\\xd7\\\\x97 \\\\xd7\\\\x94\\\\xd7\\\\xa9\\\\xd7\\\\x9c\\\\xd7\\\\x99\\\\xd7\\\\xa9\\\\xd7\\\\x99 \\\\xd7\\\\xa9\\\\xd7\\\\xa0\\\\xd7\\\\x95\\\\xd7\\\\xaa\\\\xd7\\\\xa8, \\\\xd7\\\\x9b\\\\xd7\\\\x90\\\\xd7\\\\x9e\\\\xd7\\\\x95\\\\xd7\\\\xa8, \\\\xd7\\\\x91\\\\xd7\\\\xa9\\\\xd7\\\\x9c\\\\xd7\\\\x95\\\\xd7\\\\xa9\\\\xd7\\\\xaa \\\\xd7\\\\x94\\\\xd7\\\\x91\\\\xd7\\\\xaa\\\\xd7\\\\x99\\\\xd7\\\\x9d \\\\xd7\\\\x94\\\\xd7\\\\xa6\\\\xd7\\\\x98\\\\xd7\\\\xa8\\\\xd7\\\\xa3 \\\\xd7\\\\x9c\\\\xd7\\\\x9c\\\\xd7\\\\x97\\\\xd7\\\\x99\\\\xd7\\\\x9e\\\\xd7\\\\x94 \\\\xd7\\\\x95\\\\xd7\\\\x94\\\\xd7\\\\x97\\\\xd7\\\\x9c \\\\xd7\\\\x9c\\\\xd7\\\\xa0\\\\xd7\\\\x95\\\\xd7\\\\xa2 \\\\xd7\\\\x91\\\\xd7\\\\xaa\\\\xd7\\\\xa2\\\\xd7\\\\x9c\\\\xd7\\\\x94 \\\\xd7\\\\x94\\\\xd7\\\\x9e\\\\xd7\\\\xa8\\\\xd7\\\\x9b\\\\xd7\\\\x96\\\\xd7\\\\x99\\\\xd7\\\\xaa, \\\\xd7\\\\x9e\\\\xd7\\\\xa9\\\\xd7\\\\x9d \\\\xd7\\\\xa2\\\\xd7\\\\x91\\\\xd7\\\\xa8 \\\\xd7\\\\x9c\\\\xd7\\\\xaa\\\\xd7\\\\xa2\\\\xd7\\\\x9c\\\\xd7\\\\x94 \\\\xd7\\\\xa7\\\\xd7\\\\xa6\\\\xd7\\\\xa8\\\\xd7\\\\x94 \\\\xd7\\\\xa9\\\\xd7\\\\x94\\\\xd7\\\\x99\\\\xd7\\\\x99\\\\xd7\\\\xaa\\\\xd7\\\\x94 \\\\xd7\\\\x91\\\\xd7\\\\x99\\\\xd7\\\\x9f \\\\xd7\\\\x94\\\\xd7\\\\xaa\\\\xd7\\\\xa2\\\\xd7\\\\x9c\\\\xd7\\\\x94 \\\\xd7\\\\x94\\\\xd7\\\\x94\\\\xd7\\\\x99\\\\xd7\\\\xa7\\\\xd7\\\\xa4\\\\xd7\\\\x99\\\\xd7\\\\xaa \\\\xd7\\\\x94\\\\xd7\\\\x9e\\\\xd7\\\\x96\\\\xd7\\\\xa8\\\\xd7\\\\x97\\\\xd7\\\\x99\\\\xd7\\\\xaa \\\\xd7\\\\x9c\\\\xd7\\\\xaa\\\\xd7\\\\xa2\\\\xd7\\\\x9c\\\\xd7\\\\x94 \\\\xd7\\\\x94\\\\xd7\\\\x9e\\\\xd7\\\\xa8\\\\xd7\\\\x9b\\\\xd7\\\\x96\\\\xd7\\\\x99\\\\xd7\\\\xaa. \\\\xd7\\\\x9b\\\\xd7\\\\x95\\\\xd7\\\\x97 \\\\xd7\\\\x96\\\\xd7\\\\x94, \\\\xd7\\\\x91\\\\xd7\\\\xa4\\\\xd7\\\\x99\\\\xd7\\\\xa7\\\\xd7\\\\x95\\\\xd7\\\\x93\\\\xd7\\\\x95 \\\\xd7\\\\xa9\\\\xd7\\\\x9c \\\\xd7\\\\x90\\\\xd7\\\\x99\\\\xd7\\\\x99\\\\xd7\\\\x9c\\\\xd7\\\\x95\\\\xd7\\\\x9f, \\\\xd7\\\\x9b\\\\xd7\\\\x91\\\\xd7\\\\xa9 \\\\xd7\\\\x90\\\\xd7\\\\xaa \\\\xd7\\\\x91\\\\xd7\\\\x95\\\\xd7\\\\xa0\\\\xd7\\\\xa7\\\\xd7\\\\xa8 \\\\xd7\\\\x94\\\\xd7\\\\xa4\\\\xd7\\\\x99\\\\xd7\\\\xa7\\\\xd7\\\\x95\\\\xd7\\\\x93._NEWLINE_\\\\xd7\\\\x9e\\\\xd7\\\\x97\\\\xd7\\\\x9c\\\\xd7\\\\xa7\\\\xd7\\\\xaa\\\\xd7\\\\x95 \\\\xd7\\\\xa9\\\\xd7\\\\x9c \\\\xd7\\\\x99\\\\xd7\\\\x95\\\\xd7\\\\xa8\\\\xd7\\\\x9d \\\\xd7\\\\xa9\\\\xd7\\\\x94\\\\xd7\\\\x92\\\\xd7\\\\x99\\\\xd7\\\\xa2\\\\xd7\\\\x94 \\\\xd7\\\\x9c\\\\xd7\\\\x9e\\\\xd7\\\\xa8\\\\xd7\\\\x9b\\\\xd7\\\\x96 \\\\xd7\\\\x94\\\\xd7\\\\x92\\\\xd7\\\\x91\\\\xd7\\\\xa2\\\\xd7\\\\x94 \\\\xd7\\\\x9b\\\\xd7\\\\x91\\\\xd7\\\\xa9\\\\xd7\\\\x94 \\\\xd7\\\\x90\\\\xd7\\\\xaa \\\\xd7\\\\x9e\\\\xd7\\\\x91\\\\xd7\\\\xa0\\\\xd7\\\\x99 \\\\xd7\\\\x94\\\\xd7\\\\x9e\\\\xd7\\\\x92\\\\xd7\\\\x95\\\\xd7\\\\xa8\\\\xd7\\\\x99\\\\xd7\\\\x9d \\\\xd7\\\\xa9\\\\xd7\\\\xa2\\\\xd7\\\\x9e\\\\xd7\\\\x93\\\\xd7\\\\x95 \\\\xd7\\\\xa9\\\\xd7\\\\x9d, \\\\xd7\\\\x95\\\\xd7\\\\x94\\\\xd7\\\\x9e\\\\xd7\\\\xa9\\\\xd7\\\\x99\\\\xd7\\\\x9b\\\\xd7\\\\x94 \\\\xd7\\\\xa6\\\\xd7\\\\xa4\\\\xd7\\\\x95\\\\xd7\\\\xa0\\\\xd7\\\\x94, \\\\xd7\\\\xa9\\\\xd7\\\\x9d \\\\xd7\\\\xa0\\\\xd7\\\\x99\\\\xd7\\\\x94\\\\xd7\\\\x9c\\\\xd7\\\\x94 \\\\xd7\\\\xa7\\\\xd7\\\\xa8\\\\xd7\\\\x91 \\\\xd7\\\\xa2\\\\xd7\\\\x9d \\\\xd7\\\\xa2\\\\xd7\\\\x9e\\\\xd7\\\\x93\\\\xd7\\\\xaa \\\\xd7\\\\xaa\\\\xd7\\\\x95\\\\xd7\\\\xaa\\\\xd7\\\\x97 \\\\xd7\\\\x9c\\\\xd7\\\\x9c\\\\xd7\\\\x90 \\\\xd7\\\\xa8\\\\xd7\\\\xaa\\\\xd7\\\\xa2 (\\\\xd7\\\\xaa\\\\xd7\\\\x95\\\\xd7\\\\x9c\"\\\\xd7\\\\xa8), \\\\xd7\\\\x91\\\\xd7\\\\x95 \\\\xd7\\\\xa0\\\\xd7\\\\x94\\\\xd7\\\\xa8\\\\xd7\\\\x92 \\\\xd7\\\\x94\\\\xd7\\\\x9e\"\\\\xd7\\\\x9e \\\\xd7\\\\x99\\\\xd7\\\\x95\\\\xd7\\\\xa8\\\\xd7\\\\x9d. \\\\xd7\\\\x9e\"\\\\xd7\\\\x9e \\\\xd7\\\\xa0\\\\xd7\\\\x95\\\\xd7\\\\xa1\\\\xd7\\\\xa3 \\\\xd7\\\\xa9\\\\xd7\\\\x94\\\\xd7\\\\x99\\\\xd7\\\\x94 \\\\xd7\\\\x91\\\\xd7\\\\x9e\\\\xd7\\\\xa7\\\\xd7\\\\x95\\\\xd7\\\\x9d, \\\\xd7\\\\xa6\\\\xd7\\\\x91\\\\xd7\\\\x99\\\\xd7\\\\xa7\\\\xd7\\\\x94 \\\\xd7\\\\x9e\\\\xd7\\\\x92\\\\xd7\\\\x9f, \\\\xd7\\\\xa0\\\\xd7\\\\x98\\\\xd7\\\\x9c \\\\xd7\\\\x90\\\\xd7\\\\xaa \\\\xd7\\\\x94\\\\xd7\\\\xa4\\\\xd7\\\\x99\\\\xd7\\\\xa7\\\\xd7\\\\x95\\\\xd7\\\\x93 \\\\xd7\\\\x95\\\\xd7\\\\x94\\\\xd7\\\\xa6\\\\xd7\\\\x9c\\\\xd7\\\\x99\\\\xd7\\\\x97 \\\\xd7\\\\x9c\\\\xd7\\\\x94\\\\xd7\\\\xa9\\\\xd7\\\\x9e\\\\xd7\\\\x99\\\\xd7\\\\x93 \\\\xd7\\\\x90\\\\xd7\\\\xaa \\\\xd7\\\\x94\\\\xd7\\\\xaa\\\\xd7\\\\x95\\\\xd7\\\\x9c\"\\\\xd7\\\\xa8, \\\\xd7\\\\x95\\\\xd7\\\\x9e\\\\xd7\\\\xa9\\\\xd7\\\\x9d \\\\xd7\\\\x9c\\\\xd7\\\\x94\\\\xd7\\\\x92\\\\xd7\\\\x99\\\\xd7\\\\xa2 \\\\xd7\\\\x90\\\\xd7\\\\x9c \\\\xd7\\\\x94\\\\xd7\\\\xa7\\\\xd7\\\\x98\\\\xd7\\\\xa2 \\\\xd7\\\\x94\\\\xd7\\\\xa6\\\\xd7\\\\xa4\\\\xd7\\\\x95\\\\xd7\\\\xa0\\\\xd7\\\\x99 \\\\xd7\\\\xa9\\\\xd7\\\\x9c \\\\xd7\\\\x94\\\\xd7\\\\xaa\\\\xd7\\\\xa2\\\\xd7\\\\x9c\\\\xd7\\\\x94 \\\\xd7\\\\x94\\\\xd7\\\\x94\\\\xd7\\\\x99\\\\xd7\\\\xa7\\\\xd7\\\\xa4\\\\xd7\\\\x99\\\\xd7\\\\xaa. \\\\xd7\\\\x9b\\\\xd7\\\\x9a \\\\xd7\\\\x94\\\\xd7\\\\x99\\\\xd7\\\\x95 \\\\xd7\\\\xa9\\\\xd7\\\\x9c\\\\xd7\\\\x95\\\\xd7\\\\xa9 \\\\xd7\\\\x94\\\\xd7\\\\x9e\\\\xd7\\\\x97\\\\xd7\\\\x9c\\\\xd7\\\\xa7\\\\xd7\\\\x95\\\\xd7\\\\xaa \\\\xd7\\\\xa9\\\\xd7\\\\x9c \\\\xd7\\\\xa4\\\\xd7\\\\x9c\\\\xd7\\\\x95\\\\xd7\\\\x92\\\\xd7\\\\x94 \\\\xd7\\\\x92\\\\\\' \\\\xd7\\\\x9b\\\\xd7\\\\x9c \\\\xd7\\\\x90\\\\xd7\\\\x97\\\\xd7\\\\xaa \\\\xd7\\\\xa2\\\\xd7\\\\x9c \\\\xd7\\\\xa6\\\\xd7\\\\x99\\\\xd7\\\\xa8 \\\\xd7\\\\xa0\\\\xd7\\\\xa4\\\\xd7\\\\xa8\\\\xd7\\\\x93: \\\\xd7\\\\x99\\\\xd7\\\\x97\\\\xd7\\\\x99\\\\xd7\\\\x93\\\\xd7\\\\x94 \\\\xd7\\\\x90\\\\xd7\\\\x97\\\\xd7\\\\xaa \\\\xd7\\\\x9c\\\\xd7\\\\x99\\\\xd7\\\\x93 \\\\xd7\\\\x91\\\\xd7\\\\x99\\\\xd7\\\\xaa \\\\xd7\\\\x94\\\\xd7\\\\x98\\\\xd7\\\\x9c\\\\xd7\\\\x95\\\\xd7\\\\x95\\\\xd7\\\\x99\\\\xd7\\\\x96\\\\xd7\\\\x99\\\\xd7\\\\x94, \\\\xd7\\\\x99\\\\xd7\\\\x97\\\\xd7\\\\x99\\\\xd7\\\\x93\\\\xd7\\\\x94 \\\\xd7\\\\xa9\\\\xd7\\\\xa0\\\\xd7\\\\x99\\\\xd7\\\\x99\\\\xd7\\\\x94 \\\\xd7\\\\x9c\\\\xd7\\\\x99\\\\xd7\\\\x93 \\\\xd7\\\\xa6\\\\xd7\\\\xa8\\\\xd7\\\\x99\\\\xd7\\\\xa4\\\\xd7\\\\x99 \\\\xd7\\\\x94\\\\xd7\\\\x9e\\\\xd7\\\\x92\\\\xd7\\\\x95\\\\xd7\\\\xa8\\\\xd7\\\\x99\\\\xd7\\\\x9d \\\\xd7\\\\x95\\\\xd7\\\\x99\\\\xd7\\\\x97\\\\xd7\\\\x99\\\\xd7\\\\x93\\\\xd7\\\\x94 \\\\xd7\\\\xa9\\\\xd7\\\\x9c\\\\xd7\\\\x99\\\\xd7\\\\xa9\\\\xd7\\\\x99\\\\xd7\\\\xaa \\\\xd7\\\\x91\\\\xd7\\\\xa7\\\\xd7\\\\xa8\\\\xd7\\\\x91 \\\\xd7\\\\x9e\\\\xd7\\\\xa8 \\\\xd7\\\\x9c\\\\xd7\\\\x9b\\\\xd7\\\\x99\\\\xd7\\\\x91\\\\xd7\\\\x95\\\\xd7\\\\xa9 \\\\xd7\\\\xaa\\\\xd7\\\\xa2\\\\xd7\\\\x9c\\\\xd7\\\\x95\\\\xd7\\\\xaa \\\\xd7\\\\x94\\\\xd7\\\\xa7\\\\xd7\\\\xa9\\\\xd7\\\\xa8 \\\\xd7\\\\x94\\\\xd7\\\\x9e\\\\xd7\\\\xa8\\\\xd7\\\\x9b\\\\xd7\\\\x96\\\\xd7\\\\x99\\\\xd7\\\\x95\\\\xd7\\\\xaa. \\\\xd7\\\\x93\\\\xd7\\\\x93\\\\xd7\\\\x99 \\\\xd7\\\\x94\\\\xd7\\\\x91\\\\xd7\\\\x99\\\\xd7\\\\x9f \\\\xd7\\\\xa9\\\\xd7\\\\x9e\\\\xd7\\\\xa6\\\\xd7\\\\x91 \\\\xd7\\\\xa4\\\\xd7\\\\x9c\\\\xd7\\\\x95\\\\xd7\\\\x92\\\\xd7\\\\xaa\\\\xd7\\\\x95 \\\\xd7\\\\x97\\\\xd7\\\\x9e\\\\xd7\\\\x95\\\\xd7\\\\xa8, \\\\xd7\\\\x95\\\\xd7\\\\xa9\\\\xd7\\\\x9c\\\\xd7\\\\x9c\\\\xd7\\\\x90 \\\\xd7\\\\xaa\\\\xd7\\\\x92\\\\xd7\\\\x91\\\\xd7\\\\x95\\\\xd7\\\\xa8\\\\xd7\\\\xaa \\\\xd7\\\\x9c\\\\xd7\\\\x90 \\\\xd7\\\\x99\\\\xd7\\\\xa6\\\\xd7\\\\x9c\\\\xd7\\\\x99\\\\xd7\\\\x97 \\\\xd7\\\\x9c\\\\xd7\\\\x94\\\\xd7\\\\xa9\\\\xd7\\\\xaa\\\\xd7\\\\x9c\\\\xd7\\\\x98 \\\\xd7\\\\xa2\\\\xd7\\\\x9c \\\\xd7\\\\x94\\\\xd7\\\\x92\\\\xd7\\\\x91\\\\xd7\\\\xa2\\\\xd7\\\\x94; \\\\xd7\\\\x94\\\\xd7\\\\x95\\\\xd7\\\\x90 \\\\xd7\\\\x94\\\\xd7\\\\x97\\\\xd7\\\\x9c\\\\xd7\\\\x99\\\\xd7\\\\x98 \\\\xd7\\\\x9c\\\\xd7\\\\x94\\\\xd7\\\\x96\\\\xd7\\\\xa2\\\\xd7\\\\x99\\\\xd7\\\\xa7 \\\\xd7\\\\x90\\\\xd7\\\\xaa \\\\xd7\\\\xa4\\\\xd7\\\\x9c\\\\xd7\\\\x95\\\\xd7\\\\x92\\\\xd7\\\\x94 \\\\xd7\\\\x91\\\\\\', \\\\xd7\\\\x91\\\\xd7\\\\xa4\\\\xd7\\\\x99\\\\xd7\\\\xa7\\\\xd7\\\\x95\\\\xd7\\\\x93 \\\\xd7\\\\x93\\\\xd7\\\\x95\\\\xd7\\\\x93\\\\xd7\\\\x99\\\\xd7\\\\xa7, \\\\xd7\\\\x9c\\\\xd7\\\\xa2\\\\xd7\\\\x96\\\\xd7\\\\xa8\\\\xd7\\\\x94.\\\\n_START_SECTION_\\\\n\\\\xd7\\\\xa9\\\\xd7\\\\x9c\\\\xd7\\\\x91 \\\\xd7\\\\xa9\\\\xd7\\\\xa0\\\\xd7\\\\x99: \\\\xd7\\\\x9b\\\\xd7\\\\xa0\\\\xd7\\\\x99\\\\xd7\\\\xa1\\\\xd7\\\\xaa \\\\xd7\\\\xa4\\\\xd7\\\\x9c\\\\xd7\\\\x95\\\\xd7\\\\x92\\\\xd7\\\\x94 \\\\xd7\\\\x91\\\\\\' \\\\xd7\\\\x9c\\\\xd7\\\\xa7\\\\xd7\\\\xa8\\\\xd7\\\\x91\\\\n_START_PARAGRAPH_\\\\n\\\\xd7\\\\x94\\\\xd7\\\\x9c\\\\xd7\\\\x97\\\\xd7\\\\x99\\\\xd7\\\\x9e\\\\xd7\\\\x94 \\\\xd7\\\\x91\\\\xd7\\\\x92\\\\xd7\\\\x91\\\\xd7\\\\xa2\\\\xd7\\\\xaa \\\\xd7\\\\x94\\\\xd7\\\\xaa\\\\xd7\\\\x97\\\\xd7\\\\x9e\\\\xd7\\\\x95\\\\xd7\\\\xa9\\\\xd7\\\\xaa \\\\xd7\\\\xa0\\\\xd7\\\\x9b\\\\xd7\\\\xa0\\\\xd7\\\\xa1\\\\xd7\\\\x94 \\\\xd7\\\\x9c\\\\xd7\\\\xa9\\\\xd7\\\\x9c\\\\xd7\\\\x91 \\\\xd7\\\\x94\\\\xd7\\\\x90\\\\xd7\\\\x99\\\\xd7\\\\xa0\\\\xd7\\\\x98\\\\xd7\\\\xa0\\\\xd7\\\\xa1\\\\xd7\\\\x99\\\\xd7\\\\x91\\\\xd7\\\\x99 \\\\xd7\\\\x91\\\\xd7\\\\x99\\\\xd7\\\\x95\\\\xd7\\\\xaa\\\\xd7\\\\xa8. \\\\xd7\\\\xaa\\\\xd7\\\\x92\\\\xd7\\\\x91\\\\xd7\\\\x95\\\\xd7\\\\xa8\\\\xd7\\\\xaa \\\\xd7\\\\xa8\\\\xd7\\\\x90\\\\xd7\\\\xa9\\\\xd7\\\\x95\\\\xd7\\\\xa0\\\\xd7\\\\x94 \\\\xd7\\\\xa9\\\\xd7\\\\xa0\\\\xd7\\\\xa9\\\\xd7\\\\x9c\\\\xd7\\\\x97\\\\xd7\\\\x94 \\\\xd7\\\\x9c\\\\xd7\\\\x92\\\\xd7\\\\x91\\\\xd7\\\\xa2\\\\xd7\\\\x94 \\\\xd7\\\\x94\\\\xd7\\\\x99\\\\xd7\\\\x99\\\\xd7\\\\xaa\\\\xd7\\\\x94 \\\\xd7\\\\x9e\\\\xd7\\\\x97\\\\xd7\\\\x9c\\\\xd7\\\\xa7\\\\xd7\\\\x94 \\\\xd7\\\\x9e\\\\xd7\\\\xa4\\\\xd7\\\\x9c\\\\xd7\\\\x95\\\\xd7\\\\x92\\\\xd7\\\\x94 \\\\xd7\\\\x90\\\\\\', \\\\xd7\\\\xa9\\\\xd7\\\\x9b\\\\xd7\\\\x96\\\\xd7\\\\x9b\\\\xd7\\\\x95\\\\xd7\\\\xa8 \\\\xd7\\\\x94\\\\xd7\\\\x9e\\\\xd7\\\\xa9\\\\xd7\\\\x99\\\\xd7\\\\x9b\\\\xd7\\\\x94 \\\\xd7\\\\x94\\\\xd7\\\\x9c\\\\xd7\\\\x90\\\\xd7\\\\x94 \\\\xd7\\\\x9c\\\\xd7\\\\x9b\\\\xd7\\\\x99\\\\xd7\\\\x95\\\\xd7\\\\x95\\\\xd7\\\\x9f \\\\xd7\\\\xa9\\\\xd7\\\\x99\\\\xd7\\\\x99\\\\xd7\\\\x97\\\\\\' \\\\xd7\\\\x92\\\\\\'\\\\xd7\\\\xa8\\\\xd7\\\\x90\\\\xd7\\\\x97. \\\\xd7\\\\x9e\\\\xd7\\\\x97\\\\xd7\\\\x9c\\\\xd7\\\\xa7\\\\xd7\\\\x94 \\\\xd7\\\\x90\\\\xd7\\\\x97\\\\xd7\\\\xaa, \\\\xd7\\\\x91\\\\xd7\\\\xa4\\\\xd7\\\\x99\\\\xd7\\\\xa7\\\\xd7\\\\x95\\\\xd7\\\\x93\\\\xd7\\\\x95 \\\\xd7\\\\xa9\\\\xd7\\\\x9c \\\\xd7\\\\xa2\\\\xd7\\\\x95\\\\xd7\\\\xa4\\\\xd7\\\\xa8 \\\\xd7\\\\xa4\\\\xd7\\\\xa0\\\\xd7\\\\x99\\\\xd7\\\\x92\\\\xd7\\\\xa8, \\\\xd7\\\\xa9\\\\xd7\\\\x94\\\\xd7\\\\x99\\\\xd7\\\\x99\\\\xd7\\\\xaa\\\\xd7\\\\x94 \\\\xd7\\\\xa2\\\\xd7\\\\xa1\\\\xd7\\\\x95\\\\xd7\\\\xa7\\\\xd7\\\\x94 \\\\xd7\\\\x91\\\\xd7\\\\x9b\\\\xd7\\\\x99\\\\xd7\\\\x91\\\\xd7\\\\x95\\\\xd7\\\\xa9 \\\\xd7\\\\x91\\\\xd7\\\\xaa\\\\xd7\\\\x99\\\\xd7\\\\x9d \\\\xd7\\\\x9e\\\\xd7\\\\x9e\\\\xd7\\\\x96\\\\xd7\\\\xa8\\\\xd7\\\\x97 \\\\xd7\\\\x9c\\\\xd7\\\\x92\\\\xd7\\\\x91\\\\xd7\\\\xa2\\\\xd7\\\\x94, \\\\xd7\\\\xa0\\\\xd7\\\\xa9\\\\xd7\\\\x9c\\\\xd7\\\\x97\\\\xd7\\\\x94 \\\\xd7\\\\x9c\\\\xd7\\\\xa1\\\\xd7\\\\x99\\\\xd7\\\\x95\\\\xd7\\\\xa2 \\\\xd7\\\\x9c\\\\xd7\\\\xa4\\\\xd7\\\\x9c\\\\xd7\\\\x95\\\\xd7\\\\x92\\\\xd7\\\\x94 \\\\xd7\\\\x92\\\\\\'. \\\\xd7\\\\x94\\\\xd7\\\\x9e\\\\xd7\\\\x97\\\\xd7\\\\x9c\\\\xd7\\\\xa7\\\\xd7\\\\x94 \\\\xd7\\\\xa0\\\\xd7\\\\x9b\\\\xd7\\\\xa0\\\\xd7\\\\xa1\\\\xd7\\\\x94 \\\\xd7\\\\x9c\\\\xd7\\\\xaa\\\\xd7\\\\xa2\\\\xd7\\\\x9c\\\\xd7\\\\x94 \\\\xd7\\\\x94\\\\xd7\\\\x9e\\\\xd7\\\\x96\\\\xd7\\\\xa8\\\\xd7\\\\x97\\\\xd7\\\\x99\\\\xd7\\\\xaa \\\\xd7\\\\x95\\\\xd7\\\\x94\\\\xd7\\\\x9e\\\\xd7\\\\xa9\\\\xd7\\\\x99\\\\xd7\\\\x9b\\\\xd7\\\\x94 \\\\xd7\\\\x91\\\\xd7\\\\xa2\\\\xd7\\\\xa7\\\\xd7\\\\x91\\\\xd7\\\\x95\\\\xd7\\\\xaa \\\\xd7\\\\x9e\\\\xd7\\\\x97\\\\xd7\\\\x9c\\\\xd7\\\\xa7\\\\xd7\\\\xaa\\\\xd7\\\\x95 \\\\xd7\\\\xa9\\\\xd7\\\\x9c \\\\xd7\\\\x9e\\\\xd7\\\\x99\\\\xd7\\\\x9c\\\\xd7\\\\xa8, \\\\xd7\\\\xa9\\\\xd7\\\\xa0\\\\xd7\\\\x91\\\\xd7\\\\x9c\\\\xd7\\\\x9e\\\\xd7\\\\x94 \\\\xd7\\\\x9b\\\\xd7\\\\x90\\\\xd7\\\\x9e\\\\xd7\\\\x95\\\\xd7\\\\xa8 \\\\xd7\\\\x9e\\\\xd7\\\\x95\\\\xd7\\\\x9c \"\\\\xd7\\\\x91\\\\xd7\\\\x99\\\\xd7\\\\xaa \\\\xd7\\\\x94\\\\xd7\\\\x98\\\\xd7\\\\x9c\\\\xd7\\\\x95\\\\xd7\\\\x95\\\\xd7\\\\x99\\\\xd7\\\\x96\\\\xd7\\\\x99\\\\xd7\\\\x94\". \\\\xd7\\\\x9e\\\\xd7\\\\x97\\\\xd7\\\\x9c\\\\xd7\\\\xa7\\\\xd7\\\\x94 \\\\xd7\\\\x96\\\\xd7\\\\x95 \\\\xd7\\\\x94\\\\xd7\\\\xa6\\\\xd7\\\\x9c\\\\xd7\\\\x99\\\\xd7\\\\x97\\\\xd7\\\\x94 \\\\xd7\\\\x9c\\\\xd7\\\\x94\\\\xd7\\\\x9e\\\\xd7\\\\xa9\\\\xd7\\\\x99\\\\xd7\\\\x9a \\\\xd7\\\\xa6\\\\xd7\\\\xa4\\\\xd7\\\\x95\\\\xd7\\\\xa0\\\\xd7\\\\x94 \\\\xd7\\\\x95\\\\xd7\\\\x9c\\\\xd7\\\\x97\\\\xd7\\\\x9e\\\\xd7\\\\x94 \\\\xd7\\\\x91\\\\xd7\\\\x90\\\\xd7\\\\x99\\\\xd7\\\\x98\\\\xd7\\\\x99\\\\xd7\\\\x95\\\\xd7\\\\xaa \\\\xd7\\\\x91\\\\xd7\\\\x97\\\\xd7\\\\x9c\\\\xd7\\\\xa7\\\\xd7\\\\x94 \\\\xd7\\\\x94\\\\xd7\\\\xa6\\\\xd7\\\\xa4\\\\xd7\\\\x95\\\\xd7\\\\xa0\\\\xd7\\\\x99 \\\\xd7\\\\xa9\\\\xd7\\\\x9c \\\\xd7\\\\x94\\\\xd7\\\\xaa\\\\xd7\\\\xa2\\\\xd7\\\\x9c\\\\xd7\\\\x94 \\\\xd7\\\\x94\\\\xd7\\\\x94\\\\xd7\\\\x99\\\\xd7\\\\xa7\\\\xd7\\\\xa4\\\\xd7\\\\x99\\\\xd7\\\\xaa, \\\\xd7\\\\x9e\\\\xd7\\\\x95\\\\xd7\\\\x9c \\\\xd7\\\\x94\\\\xd7\\\\xaa\\\\xd7\\\\xa0\\\\xd7\\\\x92\\\\xd7\\\\x93\\\\xd7\\\\x95\\\\xd7\\\\xaa \\\\xd7\\\\xa2\\\\xd7\\\\x96\\\\xd7\\\\x94. \\\\xd7\\\\x94\\\\xd7\\\\x9b\\\\xd7\\\\x95\\\\xd7\\\\x97 \\\\xd7\\\\x91\\\\xd7\\\\xa4\\\\xd7\\\\x99\\\\xd7\\\\xa7\\\\xd7\\\\x95\\\\xd7\\\\x93\\\\xd7\\\\x95 \\\\xd7\\\\xa9\\\\xd7\\\\x9c \\\\xd7\\\\xa6\\\\xd7\\\\x91\\\\xd7\\\\x99\\\\xd7\\\\xa7\\\\xd7\\\\x94 \\\\xd7\\\\x97\\\\xd7\\\\x91\\\\xd7\\\\xa8 \\\\xd7\\\\x90\\\\xd7\\\\x9c\\\\xd7\\\\x99\\\\xd7\\\\x94 \\\\xd7\\\\x9e\\\\xd7\\\\x90\\\\xd7\\\\x95\\\\xd7\\\\x97\\\\xd7\\\\xa8 \\\\xd7\\\\x99\\\\xd7\\\\x95\\\\xd7\\\\xaa\\\\xd7\\\\xa8, \\\\xd7\\\\x95\\\\xd7\\\\x9b\\\\xd7\\\\x9a \\\\xd7\\\\x92\\\\xd7\\\\x9d \\\\xd7\\\\x94\\\\xd7\\\\x9b\\\\xd7\\\\x95\\\\xd7\\\\x97 \\\\xd7\\\\x91\\\\xd7\\\\xa4\\\\xd7\\\\x99\\\\xd7\\\\xa7\\\\xd7\\\\x95\\\\xd7\\\\x93 \\\\xd7\\\\xa9\\\\xd7\\\\x9c \\\\xd7\\\\x90\\\\xd7\\\\x99\\\\xd7\\\\x9c\\\\xd7\\\\x95\\\\xd7\\\\x9f \\\\xd7\\\\xa9\\\\xd7\\\\x9b\\\\xd7\\\\x91\\\\xd7\\\\xa9 \\\\xd7\\\\x90\\\\xd7\\\\xaa \\\\xd7\\\\x91\\\\xd7\\\\x95\\\\xd7\\\\xa0\\\\xd7\\\\xa7\\\\xd7\\\\xa8 \\\\xd7\\\\x94\\\\xd7\\\\xa4\\\\xd7\\\\x99\\\\xd7\\\\xa7\\\\xd7\\\\x95\\\\xd7\\\\x93; \\\\xd7\\\\x9b\\\\xd7\\\\x95\\\\xd7\\\\x97\\\\xd7\\\\x95\\\\xd7\\\\xaa \\\\xd7\\\\x90\\\\xd7\\\\x9c\\\\xd7\\\\x94 \\\\xd7\\\\x94\\\\xd7\\\\xaa\\\\xd7\\\\xa7\\\\xd7\\\\x93\\\\xd7\\\\x9e\\\\xd7\\\\x95 \\\\xd7\\\\x91\\\\xd7\\\\xaa\\\\xd7\\\\xa2\\\\xd7\\\\x9c\\\\xd7\\\\x95\\\\xd7\\\\xaa \\\\xd7\\\\x9c\\\\xd7\\\\x9b\\\\xd7\\\\x95\\\\xd7\\\\x95\\\\xd7\\\\x9f \\\\xd7\\\\x94\\\\xd7\\\\xaa\\\\xd7\\\\xa2\\\\xd7\\\\x9c\\\\xd7\\\\x94 \\\\xd7\\\\x94\\\\xd7\\\\x9e\\\\xd7\\\\xa2\\\\xd7\\\\xa8\\\\xd7\\\\x91\\\\xd7\\\\x99\\\\xd7\\\\xaa \\\\xd7\\\\x95\\\\xd7\\\\x94\\\\xd7\\\\x91\\\\xd7\\\\x95\\\\xd7\\\\xa0\\\\xd7\\\\xa7\\\\xd7\\\\xa8 \\\\xd7\\\\x94\\\\xd7\\\\x92\\\\xd7\\\\x93\\\\xd7\\\\x95\\\\xd7\\\\x9c \\\\xd7\\\\xa9\\\\xd7\\\\x94\\\\xd7\\\\x99\\\\xd7\\\\x94 \\\\xd7\\\\x91\\\\xd7\\\\x9e\\\\xd7\\\\xa8\\\\xd7\\\\x9b\\\\xd7\\\\x96\\\\xd7\\\\x94. \\\\xd7\\\\x91\\\\xd7\\\\xa9\\\\xd7\\\\x9c\\\\xd7\\\\x91 \\\\xd7\\\\x96\\\\xd7\\\\x94 \\\\xd7\\\\xa2\\\\xd7\\\\x9c\\\\xd7\\\\x94 \\\\xd7\\\\x94\\\\xd7\\\\xa9\\\\xd7\\\\x97\\\\xd7\\\\xa8, \\\\xd7\\\\x95\\\\xd7\\\\x9c\\\\xd7\\\\x90\\\\xd7\\\\x95\\\\xd7\\\\xa8\\\\xd7\\\\x95 \\\\xd7\\\\xa0\\\\xd7\\\\x97\\\\xd7\\\\xa9\\\\xd7\\\\xa4\\\\xd7\\\\x95 \\\\xd7\\\\x94\\\\xd7\\\\xa6\\\\xd7\\\\xa0\\\\xd7\\\\x97\\\\xd7\\\\xa0\\\\xd7\\\\x99\\\\xd7\\\\x9d \\\\xd7\\\\x9c\\\\xd7\\\\xa2\\\\xd7\\\\x99\\\\xd7\\\\xa0\\\\xd7\\\\x99 \\\\xd7\\\\x94\\\\xd7\\\\x97\\\\xd7\\\\x99\\\\xd7\\\\x99\\\\xd7\\\\x9c\\\\xd7\\\\x99\\\\xd7\\\\x9d \\\\xd7\\\\x94\\\\xd7\\\\x99\\\\xd7\\\\xa8\\\\xd7\\\\x93\\\\xd7\\\\xa0\\\\xd7\\\\x99\\\\xd7\\\\x9d \\\\xd7\\\\x94\\\\xd7\\\\x9f \\\\xd7\\\\x91\\\\xd7\\\\x91\\\\xd7\\\\x95\\\\xd7\\\\xa0\\\\xd7\\\\xa7\\\\xd7\\\\xa8\\\\xd7\\\\x99\\\\xd7\\\\x9d \\\\xd7\\\\xa9\\\\xd7\\\\x9c \\\\xd7\\\\x94\\\\xd7\\\\x92\\\\xd7\\\\x91\\\\xd7\\\\xa2\\\\xd7\\\\x94 \\\\xd7\\\\x95\\\\xd7\\\\x94\\\\xd7\\\\x9f \\\\xd7\\\\x9c\\\\xd7\\\\x97\\\\xd7\\\\x99\\\\xd7\\\\x99\\\\xd7\\\\x9c\\\\xd7\\\\x99\\\\xd7\\\\x9d \\\\xd7\\\\x99\\\\xd7\\\\xa8\\\\xd7\\\\x93\\\\xd7\\\\xa0\\\\xd7\\\\x99\\\\xd7\\\\x99\\\\xd7\\\\x9d \\\\xd7\\\\xa9\\\\xd7\\\\x99\\\\xd7\\\\xa9\\\\xd7\\\\x91\\\\xd7\\\\x95 \\\\xd7\\\\x91\\\\xd7\\\\x9e\\\\xd7\\\\x95\\\\xd7\\\\xa6\\\\xd7\\\\x91 \\\\xd7\\\\x92\\\\xd7\\\\x91\\\\xd7\\\\xa2\\\\xd7\\\\xaa \\\\xd7\\\\x94\\\\xd7\\\\x9e\\\\xd7\\\\x91\\\\xd7\\\\xaa\\\\xd7\\\\xa8. \\\\xd7\\\\xa8\\\\xd7\\\\x95\\\\xd7\\\\x91 \\\\xd7\\\\x94\\\\xd7\\\\x9c\\\\xd7\\\\x95\\\\xd7\\\\x97\\\\xd7\\\\x9e\\\\xd7\\\\x99\\\\xd7\\\\x9d \\\\xd7\\\\xa0\\\\xd7\\\\xa4\\\\xd7\\\\x92\\\\xd7\\\\xa2\\\\xd7\\\\x95 \\\\xd7\\\\x95\\\\xd7\\\\x9e\\\\xd7\\\\x9e\\\\xd7\\\\x97\\\\xd7\\\\x9c\\\\xd7\\\\xa7\\\\xd7\\\\x95\\\\xd7\\\\xaa \\\\xd7\\\\xa9\\\\xd7\\\\x9c\\\\xd7\\\\x9e\\\\xd7\\\\x95\\\\xd7\\\\xaa \\\\xd7\\\\xa0\\\\xd7\\\\x95\\\\xd7\\\\xaa\\\\xd7\\\\xa8\\\\xd7\\\\x95 \\\\xd7\\\\xa8\\\\xd7\\\\xa7 \\\\xd7\\\\xa7\\\\xd7\\\\x95\\\\xd7\\\\x9e\\\\xd7\\\\xa5 \\\\xd7\\\\xa9\\\\xd7\\\\x9c \\\\xd7\\\\x9c\\\\xd7\\\\x95\\\\xd7\\\\x97\\\\xd7\\\\x9e\\\\xd7\\\\x99\\\\xd7\\\\x9d._NEWLINE_\\\\xd7\\\\x9e\\\\xd7\\\\xa9\\\\xd7\\\\xa0\\\\xd7\\\\x95\\\\xd7\\\\x93\\\\xd7\\\\xa2 \\\\xd7\\\\x9c\\\\xd7\\\\x9e\\\\xd7\\\\x92\"\\\\xd7\\\\x93 \\\\xd7\\\\xa2\\\\xd7\\\\x9c \\\\xd7\\\\x94\\\\xd7\\\\x9e\\\\xd7\\\\xa6\\\\xd7\\\\x91 \\\\xd7\\\\x94\\\\xd7\\\\xa7\\\\xd7\\\\xa9\\\\xd7\\\\x94 \\\\xd7\\\\x91\\\\xd7\\\\x92\\\\xd7\\\\x91\\\\xd7\\\\xa2\\\\xd7\\\\xaa \\\\xd7\\\\x94\\\\xd7\\\\xaa\\\\xd7\\\\x97\\\\xd7\\\\x9e\\\\xd7\\\\x95\\\\xd7\\\\xa9\\\\xd7\\\\xaa \\\\xd7\\\\x94\\\\xd7\\\\x95\\\\xd7\\\\x90 \\\\xd7\\\\x94\\\\xd7\\\\x95\\\\xd7\\\\xa8\\\\xd7\\\\x94 \\\\xd7\\\\x9c\\\\xd7\\\\x9e\\\\xd7\\\\xa4\\\\xd7\\\\xa7\\\\xd7\\\\x93 \\\\xd7\\\\xa4\\\\xd7\\\\x9c\\\\xd7\\\\x95\\\\xd7\\\\x92\\\\xd7\\\\x94 \\\\xd7\\\\x91\\\\\\' \\\\xd7\\\\x9c\\\\xd7\\\\x94\\\\xd7\\\\x99\\\\xd7\\\\x9b\\\\xd7\\\\xa0\\\\xd7\\\\xa1 \\\\xd7\\\\x9c\\\\xd7\\\\x92\\\\xd7\\\\x91\\\\xd7\\\\xa2\\\\xd7\\\\x94. \\\\xd7\\\\x9e\\\\xd7\\\\xa4\\\\xd7\\\\xa7\\\\xd7\\\\x93 \\\\xd7\\\\x94\\\\xd7\\\\xa4\\\\xd7\\\\x9c\\\\xd7\\\\x95\\\\xd7\\\\x92\\\\xd7\\\\x94, \\\\xd7\\\\x93\\\\xd7\\\\x95\\\\xd7\\\\x93\\\\xd7\\\\x99\\\\xd7\\\\xa7, \\\\xd7\\\\x94\\\\xd7\\\\x95\\\\xd7\\\\xa8\\\\xd7\\\\x94 \\\\xd7\\\\x9c\\\\xd7\\\\xa1\\\\xd7\\\\x92\\\\xd7\\\\xa0\\\\xd7\\\\x95 \\\\xd7\\\\xa0\\\\xd7\\\\x99\\\\xd7\\\\xa8 \\\\xd7\\\\xa0\\\\xd7\\\\x99\\\\xd7\\\\xa6\\\\xd7\\\\x9f \\\\xd7\\\\x9c\\\\xd7\\\\xa0\\\\xd7\\\\x95\\\\xd7\\\\xa2 \\\\xd7\\\\x91\\\\xd7\\\\xaa\\\\xd7\\\\xa2\\\\xd7\\\\x9c\\\\xd7\\\\x94 \\\\xd7\\\\x94\\\\xd7\\\\x9e\\\\xd7\\\\xa2\\\\xd7\\\\xa8\\\\xd7\\\\x91\\\\xd7\\\\x99\\\\xd7\\\\xaa, \\\\xd7\\\\x95\\\\xd7\\\\x94\\\\xd7\\\\x95\\\\xd7\\\\x90 \\\\xd7\\\\x94\\\\xd7\\\\x9e\\\\xd7\\\\xa9\\\\xd7\\\\x99\\\\xd7\\\\x9a \\\\xd7\\\\x9c\\\\xd7\\\\x9b\\\\xd7\\\\x99\\\\xd7\\\\x95\\\\xd7\\\\x95\\\\xd7\\\\x9f \\\\xd7\\\\x94\\\\xd7\\\\xaa\\\\xd7\\\\xa2\\\\xd7\\\\x9c\\\\xd7\\\\x94 \\\\xd7\\\\x94\\\\xd7\\\\x9e\\\\xd7\\\\xa8\\\\xd7\\\\x9b\\\\xd7\\\\x96\\\\xd7\\\\x99\\\\xd7\\\\xaa. \\\\xd7\\\\xa2\\\\xd7\\\\x9d \\\\xd7\\\\xaa\\\\xd7\\\\xa0\\\\xd7\\\\x95\\\\xd7\\\\xa2\\\\xd7\\\\xaa\\\\xd7\\\\x94 \\\\xd7\\\\x90\\\\xd7\\\\x9c \\\\xd7\\\\xaa\\\\xd7\\\\xa2\\\\xd7\\\\x9c\\\\xd7\\\\x95\\\\xd7\\\\xaa \\\\xd7\\\\x94\\\\xd7\\\\xa7\\\\xd7\\\\xa9\\\\xd7\\\\xa8 \\\\xd7\\\\xa0\\\\xd7\\\\x9b\\\\xd7\\\\xa0\\\\xd7\\\\xa1\\\\xd7\\\\x94 \\\\xd7\\\\x94\\\\xd7\\\\xa4\\\\xd7\\\\x9c\\\\xd7\\\\x95\\\\xd7\\\\x92\\\\xd7\\\\x94 \\\\xd7\\\\x9c\\\\xd7\\\\xa9\\\\xd7\\\\x98\\\\xd7\\\\x97 \\\\xd7\\\\x94\\\\xd7\\\\x94\\\\xd7\\\\xa8\\\\xd7\\\\x99\\\\xd7\\\\x92\\\\xd7\\\\x94 \\\\xd7\\\\xa9\\\\xd7\\\\xa0\\\\xd7\\\\xa7\\\\xd7\\\\xa8\\\\xd7\\\\x90, \\\\xd7\\\\x9b\\\\xd7\\\\x90\\\\xd7\\\\x9e\\\\xd7\\\\x95\\\\xd7\\\\xa8, \\\\xd7\\\\x9e\\\\xd7\\\\xa9\\\\xd7\\\\x95\\\\xd7\\\\x9c\\\\xd7\\\\xa9 \\\\xd7\\\\x94\\\\xd7\\\\x90\\\\xd7\\\\xa9; \\\\xd7\\\\x9e\\\\xd7\\\\x99\\\\xd7\\\\x93 \\\\xd7\\\\xa0\\\\xd7\\\\xa4\\\\xd7\\\\x92\\\\xd7\\\\xa2\\\\xd7\\\\x95 \\\\xd7\\\\x9e\\\\xd7\\\\xa4\\\\xd7\\\\xa7\\\\xd7\\\\x93\\\\xd7\\\\x99\\\\xd7\\\\x9d \\\\xd7\\\\x95\\\\xd7\\\\x9c\\\\xd7\\\\x95\\\\xd7\\\\x97\\\\xd7\\\\x9e\\\\xd7\\\\x99\\\\xd7\\\\x9d \\\\xd7\\\\xa0\\\\xd7\\\\x95\\\\xd7\\\\xa1\\\\xd7\\\\xa4\\\\xd7\\\\x99\\\\xd7\\\\x9d. \\\\xd7\\\\x93\\\\xd7\\\\x95\\\\xd7\\\\x93\\\\xd7\\\\x99\\\\xd7\\\\xa7 \\\\xd7\\\\x94\\\\xd7\\\\xa6\\\\xd7\\\\x9c\\\\xd7\\\\x99\\\\xd7\\\\x97 \\\\xd7\\\\x9c\\\\xd7\\\\x94\\\\xd7\\\\x9e\\\\xd7\\\\xa9\\\\xd7\\\\x99\\\\xd7\\\\x9a \\\\xd7\\\\x91\\\\xd7\\\\x94\\\\xd7\\\\xaa\\\\xd7\\\\xa7\\\\xd7\\\\x93\\\\xd7\\\\x9e\\\\xd7\\\\x95\\\\xd7\\\\xaa\\\\xd7\\\\x95 \\\\xd7\\\\x90\\\\xd7\\\\x9c \\\\xd7\\\\x94\\\\xd7\\\\xaa\\\\xd7\\\\xa2\\\\xd7\\\\x9c\\\\xd7\\\\x94 \\\\xd7\\\\x94\\\\xd7\\\\x9e\\\\xd7\\\\xa8\\\\xd7\\\\x9b\\\\xd7\\\\x96\\\\xd7\\\\x99\\\\xd7\\\\xaa \\\\xd7\\\\x95\\\\xd7\\\\x91\\\\xd7\\\\x9e\\\\xd7\\\\x94\\\\xd7\\\\x9c\\\\xd7\\\\x9a \\\\xd7\\\\x94\\\\xd7\\\\x94\\\\xd7\\\\xaa\\\\xd7\\\\xa7\\\\xd7\\\\x93\\\\xd7\\\\x9e\\\\xd7\\\\x95\\\\xd7\\\\xaa \\\\xd7\\\\x95\\\\xd7\\\\x94\\\\xd7\\\\x94\\\\xd7\\\\xa9\\\\xd7\\\\xaa\\\\xd7\\\\x9c\\\\xd7\\\\x98\\\\xd7\\\\x95\\\\xd7\\\\xaa \\\\xd7\\\\xa2\\\\xd7\\\\x9c \\\\xd7\\\\x94\\\\xd7\\\\xaa\\\\xd7\\\\xa2\\\\xd7\\\\x9c\\\\xd7\\\\x94 \\\\xd7\\\\xa4\\\\xd7\\\\x92\\\\xd7\\\\xa9 \\\\xd7\\\\x9c\\\\xd7\\\\x99\\\\xd7\\\\x93 \\\\xd7\\\\x91\\\\xd7\\\\xaa\\\\xd7\\\\x99 \\\\xd7\\\\x94\\\\xd7\\\\x9e\\\\xd7\\\\x92\\\\xd7\\\\x95\\\\xd7\\\\xa8\\\\xd7\\\\x99\\\\xd7\\\\x9d \\\\xd7\\\\x90\\\\xd7\\\\xaa \\\\xd7\\\\x93\\\\xd7\\\\x93\\\\xd7\\\\x99, \\\\xd7\\\\x9e\"\\\\xd7\\\\xa4 \\\\xd7\\\\x92\\\\\\', \\\\xd7\\\\xa9\\\\xd7\\\\x93\\\\xd7\\\\x95\\\\xd7\\\\x95\\\\xd7\\\\x97 \\\\xd7\\\\x9c\\\\xd7\\\\x95 \\\\xd7\\\\xa2\\\\xd7\\\\x9c \\\\xd7\\\\x9e\\\\xd7\\\\xa6\\\\xd7\\\\x91\\\\xd7\\\\x94 \\\\xd7\\\\x94\\\\xd7\\\\xa7\\\\xd7\\\\xa9\\\\xd7\\\\x94 \\\\xd7\\\\xa9\\\\xd7\\\\x9c \\\\xd7\\\\xa4\\\\xd7\\\\x9c\\\\xd7\\\\x95\\\\xd7\\\\x92\\\\xd7\\\\xaa\\\\xd7\\\\x95. \\\\xd7\\\\x93\\\\xd7\\\\x93\\\\xd7\\\\x99 \\\\xd7\\\\xa1\\\\xd7\\\\x99\\\\xd7\\\\xa4\\\\xd7\\\\xa8 \\\\xd7\\\\xa9\\\\xd7\\\\x99\\\\xd7\\\\xa9 \\\\xd7\\\\x9c\\\\xd7\\\\x95 \\\\xd7\\\\xa0\\\\xd7\\\\xa4\\\\xd7\\\\x92\\\\xd7\\\\xa2\\\\xd7\\\\x99\\\\xd7\\\\x9d \\\\xd7\\\\xa8\\\\xd7\\\\x91\\\\xd7\\\\x99\\\\xd7\\\\x9d \\\\xd7\\\\x95\\\\xd7\\\\x9b\\\\xd7\\\\x99 \\\\xd7\\\\x94\\\\xd7\\\\x9c\\\\xd7\\\\x95\\\\xd7\\\\x97\\\\xd7\\\\x9e\\\\xd7\\\\x99\\\\xd7\\\\x9d \\\\xd7\\\\x94\\\\xd7\\\\x9e\\\\xd7\\\\xa2\\\\xd7\\\\x98\\\\xd7\\\\x99\\\\xd7\\\\x9d \\\\xd7\\\\x9e\\\\xd7\\\\xa4\\\\xd7\\\\x95\\\\xd7\\\\x96\\\\xd7\\\\xa8\\\\xd7\\\\x99\\\\xd7\\\\x9d \\\\xd7\\\\x91\\\\xd7\\\\xa8\\\\xd7\\\\x97\\\\xd7\\\\x91\\\\xd7\\\\x99 \\\\xd7\\\\x94\\\\xd7\\\\x9e\\\\xd7\\\\x95\\\\xd7\\\\xa6\\\\xd7\\\\x91. \\\\xd7\\\\x94\\\\xd7\\\\x9c\\\\xd7\\\\x97\\\\xd7\\\\x99\\\\xd7\\\\x9e\\\\xd7\\\\x94 \\\\xd7\\\\x91\\\\xd7\\\\xaa\\\\xd7\\\\xa2\\\\xd7\\\\x9c\\\\xd7\\\\x95\\\\xd7\\\\xaa \\\\xd7\\\\x94\\\\xd7\\\\xa7\\\\xd7\\\\xa9\\\\xd7\\\\xa8 \\\\xd7\\\\xa0\\\\xd7\\\\x9e\\\\xd7\\\\xa9\\\\xd7\\\\x9b\\\\xd7\\\\x94, \\\\xd7\\\\x9e\\\\xd7\\\\xa1\\\\xd7\\\\xa4\\\\xd7\\\\xa8 \\\\xd7\\\\x94\\\\xd7\\\\xa4\\\\xd7\\\\xa6\\\\xd7\\\\x95\\\\xd7\\\\xa2\\\\xd7\\\\x99\\\\xd7\\\\x9d \\\\xd7\\\\x95\\\\xd7\\\\x94\\\\xd7\\\\x94\\\\xd7\\\\xa8\\\\xd7\\\\x95\\\\xd7\\\\x92\\\\xd7\\\\x99\\\\xd7\\\\x9d \\\\xd7\\\\x94\\\\xd7\\\\x9e\\\\xd7\\\\xa9\\\\xd7\\\\x99\\\\xd7\\\\x9a \\\\xd7\\\\x9c\\\\xd7\\\\xa2\\\\xd7\\\\x9c\\\\xd7\\\\x95\\\\xd7\\\\xaa \\\\xd7\\\\x95\\\\xd7\\\\x9c\\\\xd7\\\\x90 \\\\xd7\\\\x94\\\\xd7\\\\x95\\\\xd7\\\\xa9\\\\xd7\\\\x92\\\\xd7\\\\x94 \\\\xd7\\\\x94\\\\xd7\\\\x9b\\\\xd7\\\\xa8\\\\xd7\\\\xa2\\\\xd7\\\\x94._NEWLINE_\\\\xd7\\\\xa4\\\\xd7\\\\x9c\\\\xd7\\\\x95\\\\xd7\\\\x92\\\\xd7\\\\x94 \\\\xd7\\\\x91\\\\\\' \\\\xd7\\\\x94\\\\xd7\\\\x99\\\\xd7\\\\x99\\\\xd7\\\\xaa\\\\xd7\\\\x94 \\\\xd7\\\\x9e\\\\xd7\\\\xa4\\\\xd7\\\\x95\\\\xd7\\\\xa6\\\\xd7\\\\x9c\\\\xd7\\\\xaa \\\\xd7\\\\x91\\\\xd7\\\\xa9\\\\xd7\\\\x9c\\\\xd7\\\\x91 \\\\xd7\\\\x96\\\\xd7\\\\x94 \\\\xd7\\\\x9c\\\\xd7\\\\xa9\\\\xd7\\\\xa0\\\\xd7\\\\x99 \\\\xd7\\\\x9b\\\\xd7\\\\x95\\\\xd7\\\\x97\\\\xd7\\\\x95\\\\xd7\\\\xaa: \\\\xd7\\\\x9b\\\\xd7\\\\x95\\\\xd7\\\\x97 \\\\xd7\\\\x90\\\\xd7\\\\x97\\\\xd7\\\\x93, \\\\xd7\\\\x91\\\\xd7\\\\xa4\\\\xd7\\\\x99\\\\xd7\\\\xa7\\\\xd7\\\\x95\\\\xd7\\\\x93 \\\\xd7\\\\x94\\\\xd7\\\\x9e\"\\\\xd7\\\\xa4 \\\\xd7\\\\x93\\\\xd7\\\\x95\\\\xd7\\\\x93\\\\xd7\\\\x99\\\\xd7\\\\xa7, \\\\xd7\\\\xa9\\\\xd7\\\\x9c\\\\xd7\\\\x97\\\\xd7\\\\x9d \\\\xd7\\\\x91\\\\xd7\\\\xaa\\\\xd7\\\\xa2\\\\xd7\\\\x9c\\\\xd7\\\\x94 \\\\xd7\\\\x94\\\\xd7\\\\x9e\\\\xd7\\\\xa8\\\\xd7\\\\x9b\\\\xd7\\\\x96\\\\xd7\\\\x99\\\\xd7\\\\xaa, \\\\xd7\\\\x95\\\\xd7\\\\x9b\\\\xd7\\\\x95\\\\xd7\\\\x97 \\\\xd7\\\\xa9\\\\xd7\\\\xa0\\\\xd7\\\\x99, \\\\xd7\\\\x91\\\\xd7\\\\xa4\\\\xd7\\\\x99\\\\xd7\\\\xa7\\\\xd7\\\\x95\\\\xd7\\\\x93 \\\\xd7\\\\x94\\\\xd7\\\\xa1\\\\xd7\\\\x9e\"\\\\xd7\\\\xa4 \\\\xd7\\\\xa0\\\\xd7\\\\x99\\\\xd7\\\\xa8, \\\\xd7\\\\xa9\\\\xd7\\\\x9c\\\\xd7\\\\x97\\\\xd7\\\\x9d \\\\xd7\\\\x91\\\\xd7\\\\xaa\\\\xd7\\\\xa2\\\\xd7\\\\x9c\\\\xd7\\\\x94 \\\\xd7\\\\x9e\\\\xd7\\\\xa2\\\\xd7\\\\xa8\\\\xd7\\\\x91\\\\xd7\\\\x99\\\\xd7\\\\xaa. \\\\xd7\\\\x91\\\\xd7\\\\x99\\\\xd7\\\\x9f \\\\xd7\\\\xa9\\\\xd7\\\\xa0\\\\xd7\\\\x99 \\\\xd7\\\\x94\\\\xd7\\\\x9b\\\\xd7\\\\x95\\\\xd7\\\\x97\\\\xd7\\\\x95\\\\xd7\\\\xaa \\\\xd7\\\\xa4\\\\xd7\\\\xa2\\\\xd7\\\\x9c\\\\xd7\\\\x94 \\\\xd7\\\\x9e\\\\xd7\\\\x97\\\\xd7\\\\x9c\\\\xd7\\\\xa7\\\\xd7\\\\xaa\\\\xd7\\\\x95 \\\\xd7\\\\xa9\\\\xd7\\\\x9c \\\\xd7\\\\x94\\\\xd7\\\\x9e\"\\\\xd7\\\\x9e \\\\xd7\\\\x99\\\\xd7\\\\x95\\\\xd7\\\\x90\\\\xd7\\\\x91 \\\\xd7\\\\xa6\\\\xd7\\\\x95\\\\xd7\\\\xa8\\\\xd7\\\\x99, \\\\xd7\\\\xa9\\\\xd7\\\\x94\\\\xd7\\\\xa1\\\\xd7\\\\xaa\\\\xd7\\\\xa2\\\\xd7\\\\xa8\\\\xd7\\\\x94 \\\\xd7\\\\xa2\\\\xd7\\\\x9c \\\\xd7\\\\x9e\\\\xd7\\\\xa9\\\\xd7\\\\x95\\\\xd7\\\\x9c\\\\xd7\\\\xa9 \\\\xd7\\\\x94\\\\xd7\\\\x90\\\\xd7\\\\xa9. \\\\xd7\\\\x91\\\\xd7\\\\xa9\\\\xd7\\\\x9c\\\\xd7\\\\x91 \\\\xd7\\\\x96\\\\xd7\\\\x94 \\\\xd7\\\\x94\\\\xd7\\\\x92\\\\xd7\\\\x99\\\\xd7\\\\xa2\\\\xd7\\\\x95 \\\\xd7\\\\xa9\\\\xd7\\\\xa0\\\\xd7\\\\x99 \\\\xd7\\\\x98\\\\xd7\\\\xa0\\\\xd7\\\\xa7\\\\xd7\\\\x99\\\\xd7\\\\x9d \\\\xd7\\\\x9c\\\\xd7\\\\x92\\\\xd7\\\\x91\\\\xd7\\\\xa2\\\\xd7\\\\x94. \\\\xd7\\\\x94\\\\xd7\\\\x99\\\\xd7\\\\x95 \\\\xd7\\\\x90\\\\xd7\\\\x9c\\\\xd7\\\\x94 \\\\xd7\\\\x94\\\\xd7\\\\x98\\\\xd7\\\\xa0\\\\xd7\\\\xa7\\\\xd7\\\\x99\\\\xd7\\\\x9d \\\\xd7\\\\x90\\\\xd7\\\\xa9\\\\xd7\\\\xa8 \\\\xd7\\\\xa8\\\\xd7\\\\x99\\\\xd7\\\\xaa\\\\xd7\\\\xa7\\\\xd7\\\\x95 \\\\xd7\\\\xa7\\\\xd7\\\\x95\\\\xd7\\\\x93\\\\xd7\\\\x9d \\\\xd7\\\\x9c\\\\xd7\\\\x9b\\\\xd7\\\\x9f \\\\xd7\\\\x91\\\\xd7\\\\x90\\\\xd7\\\\xa9 \\\\xd7\\\\x90\\\\xd7\\\\xaa \\\\xd7\\\\x9e\\\\xd7\\\\x95\\\\xd7\\\\xa6\\\\xd7\\\\x91 \\\\xd7\\\\x92\\\\xd7\\\\x91\\\\xd7\\\\xa2\\\\xd7\\\\xaa \\\\xd7\\\\x94\\\\xd7\\\\x9e\\\\xd7\\\\x91\\\\xd7\\\\xaa\\\\xd7\\\\xa8 \\\\xd7\\\\x95\\\\xd7\\\\x94\\\\xd7\\\\x95\\\\xd7\\\\xa4\\\\xd7\\\\xa0\\\\xd7\\\\x95 \\\\xd7\\\\xa2\\\\xd7\\\\xaa\\\\xd7\\\\x94 \\\\xd7\\\\xa2\\\\xd7\\\\x9c \\\\xd7\\\\x99\\\\xd7\\\\x93\\\\xd7\\\\x99 \\\\xd7\\\\x94\\\\xd7\\\\xa1\\\\xd7\\\\x9e\\\\xd7\\\\x92\"\\\\xd7\\\\x93 \\\\xd7\\\\x93\\\\xd7\\\\x95\\\\xd7\\\\xa8\\\\xd7\\\\x95\\\\xd7\\\\x9f \\\\xd7\\\\x9c\\\\xd7\\\\x92\\\\xd7\\\\x91\\\\xd7\\\\xa2\\\\xd7\\\\xaa \\\\xd7\\\\x94\\\\xd7\\\\xaa\\\\xd7\\\\x97\\\\xd7\\\\x9e\\\\xd7\\\\x95\\\\xd7\\\\xa9\\\\xd7\\\\xaa. \\\\xd7\\\\x99\\\\xd7\\\\x95\\\\xd7\\\\x90\\\\xd7\\\\x91 \\\\xd7\\\\x91\\\\xd7\\\\x99\\\\xd7\\\\xa7\\\\xd7\\\\xa9 \\\\xd7\\\\x90\\\\xd7\\\\xaa \\\\xd7\\\\x97\\\\xd7\\\\x99\\\\xd7\\\\xa4\\\\xd7\\\\x95\\\\xd7\\\\x99 \\\\xd7\\\\x94\\\\xd7\\\\x98\\\\xd7\\\\xa0\\\\xd7\\\\xa7\\\\xd7\\\\x99\\\\xd7\\\\x9d, \\\\xd7\\\\x95\\\\xd7\\\\x91\\\\xd7\\\\xa2\\\\xd7\\\\x96\\\\xd7\\\\xa8\\\\xd7\\\\xaa\\\\xd7\\\\x9d \\\\xd7\\\\x94\\\\xd7\\\\xa6\\\\xd7\\\\x9c\\\\xd7\\\\x99\\\\xd7\\\\x97\\\\xd7\\\\x95 \\\\xd7\\\\x9c\\\\xd7\\\\x9e\\\\xd7\\\\x95\\\\xd7\\\\x98\\\\xd7\\\\x98 \\\\xd7\\\\x90\\\\xd7\\\\xaa \\\\xd7\\\\x94\\\\xd7\\\\x91\\\\xd7\\\\x95\\\\xd7\\\\xa0\\\\xd7\\\\xa7\\\\xd7\\\\xa8\\\\xd7\\\\x99\\\\xd7\\\\x9d \\\\xd7\\\\x94\\\\xd7\\\\x99\\\\xd7\\\\xa8\\\\xd7\\\\x93\\\\xd7\\\\xa0\\\\xd7\\\\x99\\\\xd7\\\\x99\\\\xd7\\\\x9d \\\\xd7\\\\x91\\\\xd7\\\\xa9\\\\xd7\\\\x98\\\\xd7\\\\x97 \\\\xd7\\\\x94\\\\xd7\\\\x94\\\\xd7\\\\xa8\\\\xd7\\\\x99\\\\xd7\\\\x92\\\\xd7\\\\x94 \\\\xd7\\\\x95\\\\xd7\\\\x9c\\\\xd7\\\\x9b\\\\xd7\\\\x91\\\\xd7\\\\x95\\\\xd7\\\\xa9 \\\\xd7\\\\x90\\\\xd7\\\\xaa \\\\xd7\\\\x94\\\\xd7\\\\xaa\\\\xd7\\\\xa2\\\\xd7\\\\x9c\\\\xd7\\\\x94 \\\\xd7\\\\x94\\\\xd7\\\\xa8\\\\xd7\\\\x95\\\\xd7\\\\x97\\\\xd7\\\\x91\\\\xd7\\\\x99\\\\xd7\\\\xaa. \\\\xd7\\\\x99\\\\xd7\\\\x95\\\\xd7\\\\x90\\\\xd7\\\\x91 \\\\xd7\\\\xa2\\\\xd7\\\\xa6\\\\xd7\\\\x9e\\\\xd7\\\\x95 \\\\xd7\\\\xa0\\\\xd7\\\\x94\\\\xd7\\\\xa8\\\\xd7\\\\x92 \\\\xd7\\\\x91\\\\xd7\\\\x9e\\\\xd7\\\\x94\\\\xd7\\\\x9c\\\\xd7\\\\x9a \\\\xd7\\\\x94\\\\xd7\\\\x94\\\\xd7\\\\xa1\\\\xd7\\\\xaa\\\\xd7\\\\xa2\\\\xd7\\\\xa8\\\\xd7\\\\x95\\\\xd7\\\\xaa \\\\xd7\\\\x94\\\\xd7\\\\x90\\\\xd7\\\\x97\\\\xd7\\\\xa8\\\\xd7\\\\x95\\\\xd7\\\\xa0\\\\xd7\\\\x94 \\\\xd7\\\\xa2\\\\xd7\\\\x9c \\\\xd7\\\\x94\\\\xd7\\\\x91\\\\xd7\\\\x95\\\\xd7\\\\xa0\\\\xd7\\\\xa7\\\\xd7\\\\xa8\\\\xd7\\\\x99\\\\xd7\\\\x9d. \\\\xd7\\\\x94\\\\xd7\\\\x9c\\\\xd7\\\\x95\\\\xd7\\\\x97\\\\xd7\\\\x9e\\\\xd7\\\\x99\\\\xd7\\\\x9d \\\\xd7\\\\x94\\\\xd7\\\\xa0\\\\xd7\\\\x95\\\\xd7\\\\xaa\\\\xd7\\\\xa8\\\\xd7\\\\x99\\\\xd7\\\\x9d \\\\xd7\\\\x94\\\\xd7\\\\x9e\\\\xd7\\\\xa9\\\\xd7\\\\x99\\\\xd7\\\\x9b\\\\xd7\\\\x95 \\\\xd7\\\\x91\\\\xd7\\\\x94\\\\xd7\\\\xaa\\\\xd7\\\\xa7\\\\xd7\\\\x93\\\\xd7\\\\x9e\\\\xd7\\\\x95\\\\xd7\\\\xaa\\\\xd7\\\\x9d \\\\xd7\\\\xa2\\\\xd7\\\\x93 \\\\xd7\\\\x90\\\\xd7\\\\xa9\\\\xd7\\\\xa8 \\\\xd7\\\\x94\\\\xd7\\\\x92\\\\xd7\\\\x99\\\\xd7\\\\xa2\\\\xd7\\\\x95 \\\\xd7\\\\x9c\\\\xd7\\\\x9e\\\\xd7\\\\xa7\\\\xd7\\\\x95\\\\xd7\\\\x9d \\\\xd7\\\\x91\\\\xd7\\\\x95 \\\\xd7\\\\x94\\\\xd7\\\\xaa\\\\xd7\\\\x97\\\\xd7\\\\x91\\\\xd7\\\\xa8\\\\xd7\\\\x94 \\\\xd7\\\\x94\\\\xd7\\\\xaa\\\\xd7\\\\xa2\\\\xd7\\\\x9c\\\\xd7\\\\x94 \\\\xd7\\\\x94\\\\xd7\\\\xa8\\\\xd7\\\\x95\\\\xd7\\\\x97\\\\xd7\\\\x91\\\\xd7\\\\x99\\\\xd7\\\\xaa \\\\xd7\\\\xa2\\\\xd7\\\\x9d \\\\xd7\\\\x94\\\\xd7\\\\xa7\\\\xd7\\\\x98\\\\xd7\\\\xa2 \\\\xd7\\\\x94\\\\xd7\\\\x9e\\\\xd7\\\\xa2\\\\xd7\\\\xa8\\\\xd7\\\\x91\\\\xd7\\\\x99 \\\\xd7\\\\xa9\\\\xd7\\\\x9c \\\\xd7\\\\x94\\\\xd7\\\\xaa\\\\xd7\\\\xa2\\\\xd7\\\\x9c\\\\xd7\\\\x94 \\\\xd7\\\\x94\\\\xd7\\\\x94\\\\xd7\\\\x99\\\\xd7\\\\xa7\\\\xd7\\\\xa4\\\\xd7\\\\x99\\\\xd7\\\\xaa, \\\\xd7\\\\x9e\\\\xd7\\\\xa7\\\\xd7\\\\x95\\\\xd7\\\\x9d \\\\xd7\\\\x90\\\\xd7\\\\xa9\\\\xd7\\\\xa8 \\\\xd7\\\\x9b\\\\xd7\\\\x95\\\\xd7\\\\xa0\\\\xd7\\\\x94 \\\\xd7\\\\x9e\\\\xd7\\\\x90\\\\xd7\\\\x95\\\\xd7\\\\x97\\\\xd7\\\\xa8 \\\\xd7\\\\x99\\\\xd7\\\\x95\\\\xd7\\\\xaa\\\\xd7\\\\xa8 \"\\\\xd7\\\\xa6\\\\xd7\\\\x95\\\\xd7\\\\x9e\\\\xd7\\\\xaa \\\\xd7\\\\x94\\\\xd7\\\\xa4\\\\xd7\\\\xa6\\\\xd7\\\\x95\\\\xd7\\\\xa2\\\\xd7\\\\x99\\\\xd7\\\\x9d\"._NEWLINE_\\\\xd7\\\\x91\\\\xd7\\\\x9e\\\\xd7\\\\xa7\\\\xd7\\\\x91\\\\xd7\\\\x99\\\\xd7\\\\x9c \\\\xd7\\\\x94\\\\xd7\\\\x9e\\\\xd7\\\\xa9\\\\xd7\\\\x99\\\\xd7\\\\x9a \\\\xd7\\\\x94\\\\xd7\\\\xa1\\\\xd7\\\\x9e\"\\\\xd7\\\\xa4 \\\\xd7\\\\xa0\\\\xd7\\\\x99\\\\xd7\\\\xa8 \\\\xd7\\\\xa0\\\\xd7\\\\x99\\\\xd7\\\\xa6\\\\xd7\\\\x9f, \\\\xd7\\\\x9c\\\\xd7\\\\x94\\\\xd7\\\\xaa\\\\xd7\\\\xa7\\\\xd7\\\\x93\\\\xd7\\\\x9d, \\\\xd7\\\\x91\\\\xd7\\\\xa8\\\\xd7\\\\x90\\\\xd7\\\\xa9 \\\\xd7\\\\xa2\\\\xd7\\\\xa9\\\\xd7\\\\xa8\\\\xd7\\\\x94 \\\\xd7\\\\x9c\\\\xd7\\\\x95\\\\xd7\\\\x97\\\\xd7\\\\x9e\\\\xd7\\\\x99\\\\xd7\\\\x9d, \\\\xd7\\\\x91\\\\xd7\\\\xaa\\\\xd7\\\\xa2\\\\xd7\\\\x9c\\\\xd7\\\\x94 \\\\xd7\\\\x94\\\\xd7\\\\x94\\\\xd7\\\\x99\\\\xd7\\\\xa7\\\\xd7\\\\xa4\\\\xd7\\\\x99\\\\xd7\\\\xaa \\\\xd7\\\\x94\\\\xd7\\\\x9e\\\\xd7\\\\xa2\\\\xd7\\\\xa8\\\\xd7\\\\x91\\\\xd7\\\\x99\\\\xd7\\\\xaa. \\\\xd7\\\\x94\\\\xd7\\\\x94\\\\xd7\\\\xaa\\\\xd7\\\\xa7\\\\xd7\\\\x93\\\\xd7\\\\x9e\\\\xd7\\\\x95\\\\xd7\\\\xaa \\\\xd7\\\\x94\\\\xd7\\\\x99\\\\xd7\\\\x99\\\\xd7\\\\xaa\\\\xd7\\\\x94 \\\\xd7\\\\x90\\\\xd7\\\\x99\\\\xd7\\\\x98\\\\xd7\\\\x99\\\\xd7\\\\xaa \\\\xd7\\\\x95\\\\xd7\\\\xa7\\\\xd7\\\\xa9\\\\xd7\\\\x94. \\\\xd7\\\\x9b\\\\xd7\\\\x9c \\\\xd7\\\\xa9\\\\xd7\\\\x9c\\\\xd7\\\\x95\\\\xd7\\\\xa9\\\\xd7\\\\x94 \\\\xd7\\\\x9e\\\\xd7\\\\x98\\\\xd7\\\\xa8\\\\xd7\\\\x99\\\\xd7\\\\x9d \\\\xd7\\\\xa0\\\\xd7\\\\x99\\\\xd7\\\\xa6\\\\xd7\\\\x91 \\\\xd7\\\\x91\\\\xd7\\\\x95\\\\xd7\\\\xa0\\\\xd7\\\\xa7\\\\xd7\\\\xa8, \\\\xd7\\\\xa9\\\\xd7\\\\x94\\\\xd7\\\\x99\\\\xd7\\\\x94 \\\\xd7\\\\x9e\\\\xd7\\\\x90\\\\xd7\\\\x95\\\\xd7\\\\x99\\\\xd7\\\\xa9 \\\\xd7\\\\x91\\\\xd7\\\\x9c\\\\xd7\\\\x92\\\\xd7\\\\x99\\\\xd7\\\\x95\\\\xd7\\\\xa0\\\\xd7\\\\xa8\\\\xd7\\\\x99\\\\xd7\\\\x9d \\\\xd7\\\\xa9\\\\xd7\\\\x99\\\\xd7\\\\xa8\\\\xd7\\\\x95 \\\\xd7\\\\x90\\\\xd7\\\\xa9 \\\\xd7\\\\x9b\\\\xd7\\\\x91\\\\xd7\\\\x93\\\\xd7\\\\x94 \\\\xd7\\\\x95\\\\xd7\\\\x94\\\\xd7\\\\xa9\\\\xd7\\\\x9c\\\\xd7\\\\x99\\\\xd7\\\\x9b\\\\xd7\\\\x95 \\\\xd7\\\\xa8\\\\xd7\\\\x99\\\\xd7\\\\x9e\\\\xd7\\\\x95\\\\xd7\\\\xa0\\\\xd7\\\\x99 \\\\xd7\\\\x99\\\\xd7\\\\x93. \\\\xd7\\\\x9e\\\\xd7\\\\xa2\\\\xd7\\\\x91\\\\xd7\\\\xa8 \\\\xd7\\\\x9c\\\\xd7\\\\x91\\\\xd7\\\\x95\\\\xd7\\\\xa0\\\\xd7\\\\xa7\\\\xd7\\\\xa8\\\\xd7\\\\x99\\\\xd7\\\\x9d, \\\\xd7\\\\x94\\\\xd7\\\\x99\\\\xd7\\\\x95 \\\\xd7\\\\x9e\\\\xd7\\\\x97\\\\xd7\\\\x95\\\\xd7\\\\xa5 \\\\xd7\\\\x9c\\\\xd7\\\\xaa\\\\xd7\\\\xa2\\\\xd7\\\\x9c\\\\xd7\\\\x94 \\\\xd7\\\\x9c\\\\xd7\\\\x99\\\\xd7\\\\x92\\\\xd7\\\\x99\\\\xd7\\\\x95\\\\xd7\\\\xa0\\\\xd7\\\\xa8\\\\xd7\\\\x99\\\\xd7\\\\x9d \\\\xd7\\\\xa8\\\\xd7\\\\x91\\\\xd7\\\\x99\\\\xd7\\\\x9d, \\\\xd7\\\\xa9\\\\xd7\\\\xa0\\\\xd7\\\\x9e\\\\xd7\\\\x9c\\\\xd7\\\\x98\\\\xd7\\\\x95 \\\\xd7\\\\x9e\\\\xd7\\\\xa2\\\\xd7\\\\x9e\\\\xd7\\\\x93\\\\xd7\\\\x95\\\\xd7\\\\xaa\\\\xd7\\\\x99\\\\xd7\\\\x94\\\\xd7\\\\x9d \\\\xd7\\\\x95\\\\xd7\\\\x99\\\\xd7\\\\xa8\\\\xd7\\\\x95 \\\\xd7\\\\x9e\\\\xd7\\\\x91\\\\xd7\\\\x97\\\\xd7\\\\x95\\\\xd7\\\\xa5 \\\\xd7\\\\x90\\\\xd7\\\\x9c \\\\xd7\\\\x94\\\\xd7\\\\x97\\\\xd7\\\\x99\\\\xd7\\\\x99\\\\xd7\\\\x9c\\\\xd7\\\\x99\\\\xd7\\\\x9d \\\\xd7\\\\x94\\\\xd7\\\\x99\\\\xd7\\\\xa9\\\\xd7\\\\xa8\\\\xd7\\\\x90\\\\xd7\\\\x9c\\\\xd7\\\\x99\\\\xd7\\\\x99\\\\xd7\\\\x9d \\\\xd7\\\\xa9\\\\xd7\\\\x94\\\\xd7\\\\x99\\\\xd7\\\\x95 \\\\xd7\\\\x91\\\\xd7\\\\xaa\\\\xd7\\\\x95\\\\xd7\\\\x9a \\\\xd7\\\\x94\\\\xd7\\\\xaa\\\\xd7\\\\xa2\\\\xd7\\\\x9c\\\\xd7\\\\x95\\\\xd7\\\\xaa. \\\\xd7\\\\xa0\\\\xd7\\\\x99\\\\xd7\\\\xa8 \\\\xd7\\\\x97\\\\xd7\\\\xa9\\\\xd7\\\\xa9 \\\\xd7\\\\xa9\\\\xd7\\\\x94\\\\xd7\\\\x9b\\\\xd7\\\\x95\\\\xd7\\\\x97 \\\\xd7\\\\x91\\\\xd7\\\\xa4\\\\xd7\\\\x99\\\\xd7\\\\xa7\\\\xd7\\\\x95\\\\xd7\\\\x93\\\\xd7\\\\x95, \\\\xd7\\\\xa9\\\\xd7\\\\x94\\\\xd7\\\\x99\\\\xd7\\\\x94 \\\\xd7\\\\x91\\\\xd7\\\\xa2\\\\xd7\\\\x9e\\\\xd7\\\\x93\\\\xd7\\\\xaa \\\\xd7\\\\xa0\\\\xd7\\\\x97\\\\xd7\\\\x99\\\\xd7\\\\xaa\\\\xd7\\\\x95\\\\xd7\\\\xaa \\\\xd7\\\\x91\\\\xd7\\\\xaa\\\\xd7\\\\x95\\\\xd7\\\\x9a \\\\xd7\\\\x94\\\\xd7\\\\xaa\\\\xd7\\\\xa2\\\\xd7\\\\x9c\\\\xd7\\\\x94, \\\\xd7\\\\x99\\\\xd7\\\\x99\\\\xd7\\\\xa4\\\\xd7\\\\x92\\\\xd7\\\\xa2 \\\\xd7\\\\x9e\\\\xd7\\\\x90\\\\xd7\\\\xa9 \\\\xd7\\\\x96\\\\xd7\\\\x95. \\\\xd7\\\\x94\\\\xd7\\\\x95\\\\xd7\\\\x90 \\\\xd7\\\\x94\\\\xd7\\\\x97\\\\xd7\\\\x9c\\\\xd7\\\\x99\\\\xd7\\\\x98 \\\\xd7\\\\x9c\\\\xd7\\\\xa9\\\\xd7\\\\x9c\\\\xd7\\\\x95\\\\xd7\\\\x97 \\\\xd7\\\\x9e\\\\xd7\\\\xa7\\\\xd7\\\\x9c\\\\xd7\\\\xa2\\\\xd7\\\\xa0\\\\xd7\\\\x99\\\\xd7\\\\x9d \\\\xd7\\\\x90\\\\xd7\\\\x9c \\\\xd7\\\\x9e\\\\xd7\\\\x97\\\\xd7\\\\x95\\\\xd7\\\\xa5 \\\\xd7\\\\x9c\\\\xd7\\\\xaa\\\\xd7\\\\xa2\\\\xd7\\\\x9c\\\\xd7\\\\x94 \\\\xd7\\\\x9b\\\\xd7\\\\x93\\\\xd7\\\\x99 \\\\xd7\\\\x9c\\\\xd7\\\\x97\\\\xd7\\\\xa4\\\\xd7\\\\x95\\\\xd7\\\\xaa \\\\xd7\\\\xa2\\\\xd7\\\\x9c \\\\xd7\\\\x94\\\\xd7\\\\x9b\\\\xd7\\\\x95\\\\xd7\\\\x97. \\\\xd7\\\\xa8\\\\xd7\\\\x90\\\\xd7\\\\xa9\\\\xd7\\\\x95\\\\xd7\\\\x9f \\\\xd7\\\\x99\\\\xd7\\\\xa6\\\\xd7\\\\x90 \\\\xd7\\\\x94\\\\xd7\\\\x9e\\\\xd7\\\\xa7\\\\xd7\\\\x9c\\\\xd7\\\\xa2\\\\xd7\\\\x9f \\\\xd7\\\\x99\\\\xd7\\\\xa9\\\\xd7\\\\xa8\\\\xd7\\\\x90\\\\xd7\\\\x9c \\\\xd7\\\\xa6\\\\xd7\\\\x95\\\\xd7\\\\xa8\\\\xd7\\\\x99\\\\xd7\\\\x90\\\\xd7\\\\x9c, \\\\xd7\\\\xa9\\\\xd7\\\\x97\\\\xd7\\\\x99\\\\xd7\\\\xa4\\\\xd7\\\\x94 \\\\xd7\\\\x9e\\\\xd7\\\\x91\\\\xd7\\\\x97\\\\xd7\\\\x95\\\\xd7\\\\xa5 \\\\xd7\\\\xa2\\\\xd7\\\\x93 \\\\xd7\\\\xa9\\\\xd7\\\\x90\\\\xd7\\\\x96\\\\xd7\\\\x9c\\\\xd7\\\\x94 \\\\xd7\\\\xaa\\\\xd7\\\\x97\\\\xd7\\\\x9e\\\\xd7\\\\x95\\\\xd7\\\\xa9\\\\xd7\\\\xaa\\\\xd7\\\\x95 \\\\xd7\\\\x95\\\\xd7\\\\x94\\\\xd7\\\\x95\\\\xd7\\\\x90 \\\\xd7\\\\x97\\\\xd7\\\\x96\\\\xd7\\\\xa8 \\\\xd7\\\\xa4\\\\xd7\\\\xa0\\\\xd7\\\\x99\\\\xd7\\\\x9e\\\\xd7\\\\x94. \\\\xd7\\\\x90\\\\xd7\\\\x97\\\\xd7\\\\xa8\\\\xd7\\\\x99\\\\xd7\\\\x95 \\\\xd7\\\\x99\\\\xd7\\\\xa6\\\\xd7\\\\x90 \\\\xd7\\\\xa0\\\\xd7\\\\xa4\\\\xd7\\\\xaa\\\\xd7\\\\x9c\\\\xd7\\\\x99 \\\\xd7\\\\x9b\\\\xd7\\\\x94\\\\xd7\\\\x9f, \\\\xd7\\\\xa9\\\\xd7\\\\x97\\\\xd7\\\\x99\\\\xd7\\\\xa4\\\\xd7\\\\x94 \\\\xd7\\\\x9e\\\\xd7\\\\x91\\\\xd7\\\\x97\\\\xd7\\\\x95\\\\xd7\\\\xa5 \\\\xd7\\\\x91\\\\xd7\\\\xa8\\\\xd7\\\\x95\\\\xd7\\\\x91\\\\xd7\\\\x94\\\\xd7\\\\x95 \\\\xd7\\\\xa2\\\\xd7\\\\x93 \\\\xd7\\\\xa9\\\\xd7\\\\xa0\\\\xd7\\\\xa4\\\\xd7\\\\xa6\\\\xd7\\\\xa2 \\\\xd7\\\\x95\\\\xd7\\\\x97\\\\xd7\\\\x99\\\\xd7\\\\x9c\\\\xd7\\\\xa5 \\\\xd7\\\\x90\\\\xd7\\\\xaa \\\\xd7\\\\xa2\\\\xd7\\\\xa6\\\\xd7\\\\x9e\\\\xd7\\\\x95 \\\\xd7\\\\x9c\\\\xd7\\\\x90\\\\xd7\\\\x97\\\\xd7\\\\x95\\\\xd7\\\\xa8. \\\\xd7\\\\xa0\\\\xd7\\\\x99\\\\xd7\\\\xa8 \\\\xd7\\\\xa4\\\\xd7\\\\xa7\\\\xd7\\\\x93 \\\\xd7\\\\x9b\\\\xd7\\\\xa2\\\\xd7\\\\xaa \\\\xd7\\\\xa2\\\\xd7\\\\x9c \\\\xd7\\\\x94\\\\xd7\\\\x9e\\\\xd7\\\\xa7\\\\xd7\\\\x9c\\\\xd7\\\\xa2\\\\xd7\\\\x9f \\\\xd7\\\\x90\\\\xd7\\\\x99\\\\xd7\\\\xaa\\\\xd7\\\\x9f \\\\xd7\\\\xa0\\\\xd7\\\\x90\\\\xd7\\\\x95\\\\xd7\\\\x94 \\\\xd7\\\\x9c\\\\xd7\\\\xa6\\\\xd7\\\\x90\\\\xd7\\\\xaa \\\\xd7\\\\x9e\\\\xd7\\\\x97\\\\xd7\\\\x95\\\\xd7\\\\xa5 \\\\xd7\\\\x9c\\\\xd7\\\\xaa\\\\xd7\\\\xa2\\\\xd7\\\\x9c\\\\xd7\\\\x94. \\\\xd7\\\\x9e\\\\xd7\\\\xa2\\\\xd7\\\\xa9\\\\xd7\\\\x94 \\\\xd7\\\\x94\\\\xd7\\\\x92\\\\xd7\\\\x91\\\\xd7\\\\x95\\\\xd7\\\\xa8\\\\xd7\\\\x94 \\\\xd7\\\\xa9\\\\xd7\\\\x9c \\\\xd7\\\\x90\\\\xd7\\\\x99\\\\xd7\\\\xaa\\\\xd7\\\\x9f \\\\xd7\\\\x94\\\\xd7\\\\x95\\\\xd7\\\\xa0\\\\xd7\\\\xa6\\\\xd7\\\\x97 \\\\xd7\\\\x91\\\\xd7\\\\xa9\\\\xd7\\\\x99\\\\xd7\\\\xa8\\\\xd7\\\\x95 \\\\xd7\\\\xa9\\\\xd7\\\\x9c \\\\xd7\\\\x99\\\\xd7\\\\x95\\\\xd7\\\\xa8\\\\xd7\\\\x9d \\\\xd7\\\\x98\\\\xd7\\\\x94\\\\xd7\\\\xa8\\\\xd7\\\\x9c\\\\xd7\\\\x91, \\\\xd7\\\\x92\\\\xd7\\\\x91\\\\xd7\\\\xa2\\\\xd7\\\\xaa \\\\xd7\\\\x94\\\\xd7\\\\xaa\\\\xd7\\\\x97\\\\xd7\\\\x9e\\\\xd7\\\\x95\\\\xd7\\\\xa9\\\\xd7\\\\xaa, \\\\xd7\\\\x91\\\\xd7\\\\x9e\\\\xd7\\\\x99\\\\xd7\\\\x9c\\\\xd7\\\\x99\\\\xd7\\\\x9d \\\\xd7\\\\xa9\\\\xd7\\\\xa6\\\\xd7\\\\x95\\\\xd7\\\\x98\\\\xd7\\\\x98\\\\xd7\\\\x95 \\\\xd7\\\\x9e\\\\xd7\\\\xa4\\\\xd7\\\\x99\\\\xd7\\\\x95 \\\\xd7\\\\xa9\\\\xd7\\\\x9c \\\\xd7\\\\x94\\\\xd7\\\\xa1\\\\xd7\\\\x9e\"\\\\xd7\\\\xa4, \\\\xd7\\\\xa0\\\\xd7\\\\x99\\\\xd7\\\\xa8 \\\\xd7\\\\xa0\\\\xd7\\\\x99\\\\xd7\\\\xa6\\\\xd7\\\\x9f:_NEWLINE_\\\\xd7\\\\x9c\\\\xd7\\\\x90 \\\\xd7\\\\x94\\\\xd7\\\\x99\\\\xd7\\\\x94 \\\\xd7\\\\x9c\\\\xd7\\\\x99 \\\\xd7\\\\x96\\\\xd7\\\\x9e\\\\xd7\\\\x9f \\\\xd7\\\\x9c\\\\xd7\\\\xa9\\\\xd7\\\\x90\\\\xd7\\\\x95\\\\xd7\\\\x9c \\\\xd7\\\\x9e\\\\xd7\\\\x99 \\\\xd7\\\\x9e\\\\xd7\\\\xaa\\\\xd7\\\\xa0\\\\xd7\\\\x93\\\\xd7\\\\x91, \\\\xd7\\\\xa9\\\\xd7\\\\x9c\\\\xd7\\\\x97\\\\xd7\\\\xaa\\\\xd7\\\\x99 \\\\xd7\\\\x90\\\\xd7\\\\xaa \\\\xd7\\\\x90\\\\xd7\\\\x99\\\\xd7\\\\xaa\\\\xd7\\\\x9f._NEWLINE_\\\\xd7\\\\x90\\\\xd7\\\\x99\\\\xd7\\\\xaa\\\\xd7\\\\x9f \\\\xd7\\\\x9c\\\\xd7\\\\x90 \\\\xd7\\\\x94\\\\xd7\\\\x99\\\\xd7\\\\xa1\\\\xd7\\\\xa1 \\\\xd7\\\\x9c\\\\xd7\\\\xa8\\\\xd7\\\\x92\\\\xd7\\\\xa2, \\\\xd7\\\\xa2\\\\xd7\\\\x9c\\\\xd7\\\\x94 \\\\xd7\\\\x9c\\\\xd7\\\\x9e\\\\xd7\\\\xa2\\\\xd7\\\\x9c\\\\xd7\\\\x94 \\\\xd7\\\\x95\\\\xd7\\\\x94\\\\xd7\\\\xaa\\\\xd7\\\\x97\\\\xd7\\\\x99\\\\xd7\\\\x9c \\\\xd7\\\\x9c\\\\xd7\\\\x94\\\\xd7\\\\xa4\\\\xd7\\\\xa2\\\\xd7\\\\x99\\\\xd7\\\\x9c \\\\xd7\\\\x90\\\\xd7\\\\xaa \\\\xd7\\\\x94\\\\xd7\\\\x9e\\\\xd7\\\\xa7\\\\xd7\\\\x9c\\\\xd7\\\\xa2\\\\xd7\\\\x95\\\\xd7\\\\x9f._NEWLINE_\\\\xd7\\\\x9c\\\\xd7\\\\xa4\\\\xd7\\\\xa2\\\\xd7\\\\x9e\\\\xd7\\\\x99\\\\xd7\\\\x9d \\\\xd7\\\\x94\\\\xd7\\\\x99\\\\xd7\\\\x94 \\\\xd7\\\\xa2\\\\xd7\\\\x95\\\\xd7\\\\x91\\\\xd7\\\\xa8 \\\\xd7\\\\x90\\\\xd7\\\\x95\\\\xd7\\\\xaa\\\\xd7\\\\x99 \\\\xd7\\\\x95\\\\xd7\\\\x94\\\\xd7\\\\x99\\\\xd7\\\\x99\\\\xd7\\\\xaa\\\\xd7\\\\x99 \\\\xd7\\\\xa6\\\\xd7\\\\xa8\\\\xd7\\\\x99\\\\xd7\\\\x9a \\\\xd7\\\\x9c\\\\xd7\\\\xa6\\\\xd7\\\\xa2\\\\xd7\\\\x95\\\\xd7\\\\xa7 \\\\xd7\\\\x9c\\\\xd7\\\\x95 \\\\xd7\\\\xa9\\\\xd7\\\\x99\\\\xd7\\\\x99\\\\xd7\\\\xa9\\\\xd7\\\\x90\\\\xd7\\\\xa8 \\\\xd7\\\\x91\\\\xd7\\\\xa7\\\\xd7\\\\x95 \\\\xd7\\\\xa9\\\\xd7\\\\x9c\\\\xd7\\\\x99._NEWLINE_\\\\xd7\\\\x9b\\\\xd7\\\\x9b\\\\xd7\\\\x94 \\\\xd7\\\\xa2\\\\xd7\\\\x91\\\\xd7\\\\xa8\\\\xd7\\\\xa0\\\\xd7\\\\x95 \\\\xd7\\\\x90\\\\xd7\\\\x99\\\\xd7\\\\x96\\\\xd7\\\\x94 \\\\xd7\\\\xa9\\\\xd7\\\\x9c\\\\xd7\\\\x95\\\\xd7\\\\xa9\\\\xd7\\\\x99\\\\xd7\\\\x9d \\\\xd7\\\\x9e\\\\xd7\\\\x98\\\\xd7\\\\xa8._NEWLINE_\\\\xd7\\\\x90\\\\xd7\\\\x99\\\\xd7\\\\xaa\\\\xd7\\\\x9f \\\\xd7\\\\x94\\\\xd7\\\\x99\\\\xd7\\\\x94 \\\\xd7\\\\x9e\\\\xd7\\\\x97\\\\xd7\\\\xa4\\\\xd7\\\\x94 \\\\xd7\\\\x9e\\\\xd7\\\\x9c\\\\xd7\\\\x9e\\\\xd7\\\\xa2\\\\xd7\\\\x9c\\\\xd7\\\\x94 \\\\xd7\\\\x95\\\\xd7\\\\x90\\\\xd7\\\\xa0\\\\xd7\\\\x97\\\\xd7\\\\xa0\\\\xd7\\\\x95 \\\\xd7\\\\x98\\\\xd7\\\\x99\\\\xd7\\\\x94\\\\xd7\\\\xa8\\\\xd7\\\\xa0\\\\xd7\\\\x95 \\\\xd7\\\\x90\\\\xd7\\\\xaa \\\\xd7\\\\x94\\\\xd7\\\\x91\\\\xd7\\\\x95\\\\xd7\\\\xa0\\\\xd7\\\\xa7\\\\xd7\\\\xa8\\\\xd7\\\\x99\\\\xd7\\\\x9d \\\\xd7\\\\x9e\\\\xd7\\\\x91\\\\xd7\\\\xa4\\\\xd7\\\\xa0\\\\xd7\\\\x99\\\\xd7\\\\x9d,_NEWLINE_\\\\xd7\\\\xa2\\\\xd7\\\\x93 \\\\xd7\\\\xa9\\\\xd7\\\\xa0\\\\xd7\\\\xa4\\\\xd7\\\\x92\\\\xd7\\\\xa2 \\\\xd7\\\\x91\\\\xd7\\\\xa8\\\\xd7\\\\x90\\\\xd7\\\\xa9\\\\xd7\\\\x95 \\\\xd7\\\\x95\\\\xd7\\\\xa0\\\\xd7\\\\xa4\\\\xd7\\\\x9c \\\\xd7\\\\xa4\\\\xd7\\\\xa0\\\\xd7\\\\x99\\\\xd7\\\\x9e\\\\xd7\\\\x94._NEWLINE_\\\\xd7\\\\xa2\\\\xd7\\\\x9d \\\\xd7\\\\xa0\\\\xd7\\\\xa4\\\\xd7\\\\x99\\\\xd7\\\\x9c\\\\xd7\\\\xaa\\\\xd7\\\\x95 \\\\xd7\\\\xa9\\\\xd7\\\\x9c \\\\xd7\\\\x90\\\\xd7\\\\x99\\\\xd7\\\\xaa\\\\xd7\\\\x9f \\\\xd7\\\\xa2\\\\xd7\\\\x9c\\\\xd7\\\\x94 \\\\xd7\\\\xa9\\\\xd7\\\\x95\\\\xd7\\\\x91 \\\\xd7\\\\x94\\\\xd7\\\\x9e\\\\xd7\\\\xa7\\\\xd7\\\\x9c\\\\xd7\\\\xa2\\\\xd7\\\\x9f \\\\xd7\\\\xa6\\\\xd7\\\\x95\\\\xd7\\\\xa8\\\\xd7\\\\x99\\\\xd7\\\\x90\\\\xd7\\\\x9c \\\\xd7\\\\x91\\\\xd7\\\\x9e\\\\xd7\\\\xa7\\\\xd7\\\\x95\\\\xd7\\\\x9e\\\\xd7\\\\x95; \\\\xd7\\\\x94\\\\xd7\\\\xa6\\\\xd7\\\\xa0\\\\xd7\\\\x97\\\\xd7\\\\xa0\\\\xd7\\\\x99\\\\xd7\\\\x9d \\\\xd7\\\\x94\\\\xd7\\\\x9e\\\\xd7\\\\xa9\\\\xd7\\\\x99\\\\xd7\\\\x9b\\\\xd7\\\\x95 \\\\xd7\\\\x94\\\\xd7\\\\x9c\\\\xd7\\\\x90\\\\xd7\\\\x94 \\\\xd7\\\\x91\\\\xd7\\\\x97\\\\xd7\\\\x99\\\\xd7\\\\xa4\\\\xd7\\\\x95\\\\xd7\\\\x99 \\\\xd7\\\\xa9\\\\xd7\\\\x9c\\\\xd7\\\\x95 \\\\xd7\\\\x9e\\\\xd7\\\\x91\\\\xd7\\\\x97\\\\xd7\\\\x95\\\\xd7\\\\xa5, \\\\xd7\\\\x95\\\\xd7\\\\x94\\\\xd7\\\\xa9\\\\xd7\\\\x90\\\\xd7\\\\xa8 \\\\xd7\\\\x9b\\\\xd7\\\\x91\\\\xd7\\\\xa9\\\\xd7\\\\x95 \\\\xd7\\\\x90\\\\xd7\\\\xaa \\\\xd7\\\\x94\\\\xd7\\\\xaa\\\\xd7\\\\xa2\\\\xd7\\\\x9c\\\\xd7\\\\x95\\\\xd7\\\\xaa \\\\xd7\\\\xa2\\\\xd7\\\\x93 \\\\xd7\\\\xa9\\\\xd7\\\\x94\\\\xd7\\\\x92\\\\xd7\\\\x99\\\\xd7\\\\xa2\\\\xd7\\\\x95 \\\\xd7\\\\x91\\\\xd7\\\\xa1\\\\xd7\\\\x9e\\\\xd7\\\\x95\\\\xd7\\\\x9a \\\\xd7\\\\x9c\\\\xd7\\\\x91\\\\xd7\\\\x95\\\\xd7\\\\xa0\\\\xd7\\\\xa7\\\\xd7\\\\xa8 \\\\xd7\\\\x94\\\\xd7\\\\x92\\\\xd7\\\\x93\\\\xd7\\\\x95\\\\xd7\\\\x9c. \\\\xd7\\\\xa2\\\\xd7\\\\xaa\\\\xd7\\\\x94 \\\\xd7\\\\x99\\\\xd7\\\\x93\\\\xd7\\\\x95\\\\xd7\\\\xa2 \\\\xd7\\\\x9b\\\\xd7\\\\x99 \\\\xd7\\\\x91\\\\xd7\\\\xa9\\\\xd7\\\\x9c\\\\xd7\\\\x91 \\\\xd7\\\\x96\\\\xd7\\\\x94 \\\\xd7\\\\xa0\\\\xd7\\\\x95\\\\xd7\\\\xaa\\\\xd7\\\\xa8\\\\xd7\\\\x95 \\\\xd7\\\\x91\\\\xd7\\\\xa6\\\\xd7\\\\xa4\\\\xd7\\\\x95\\\\xd7\\\\x9f \\\\xd7\\\\x94\\\\xd7\\\\x92\\\\xd7\\\\x91\\\\xd7\\\\xa2\\\\xd7\\\\x94 11 \\\\xd7\\\\x9c\\\\xd7\\\\x95\\\\xd7\\\\x97\\\\xd7\\\\x9e\\\\xd7\\\\x99\\\\xd7\\\\x9d \\\\xd7\\\\x99\\\\xd7\\\\xa8\\\\xd7\\\\x93\\\\xd7\\\\xa0\\\\xd7\\\\x99\\\\xd7\\\\x99\\\\xd7\\\\x9d, \\\\xd7\\\\xa9\\\\xd7\\\\x9c\\\\xd7\\\\x95\\\\xd7\\\\xa9\\\\xd7\\\\x94 \\\\xd7\\\\x9e\\\\xd7\\\\x94\\\\xd7\\\\x9d \\\\xd7\\\\x91\\\\xd7\\\\x91\\\\xd7\\\\x95\\\\xd7\\\\xa0\\\\xd7\\\\xa7\\\\xd7\\\\xa8 \\\\xd7\\\\x94\\\\xd7\\\\x92\\\\xd7\\\\x93\\\\xd7\\\\x95\\\\xd7\\\\x9c. \\\\xd7\\\\x94\\\\xd7\\\\xa9\\\\xd7\\\\x90\\\\xd7\\\\xa8 \\\\xd7\\\\x94\\\\xd7\\\\xa6\\\\xd7\\\\x9c\\\\xd7\\\\x99\\\\xd7\\\\x97\\\\xd7\\\\x95 \\\\xd7\\\\x9c\\\\xd7\\\\x91\\\\xd7\\\\xa8\\\\xd7\\\\x95\\\\xd7\\\\x97 \\\\xd7\\\\x95\\\\xd7\\\\x9c\\\\xd7\\\\xa1\\\\xd7\\\\x92\\\\xd7\\\\xaa \\\\xd7\\\\x9c\\\\xd7\\\\xa2\\\\xd7\\\\x91\\\\xd7\\\\xa8 \\\\xd7\\\\xaa\\\\xd7\\\\x9c \\\\xd7\\\\xa9\\\\xd7\\\\x95\\\\xd7\\\\xa2\\\\xd7\\\\xa4\\\\xd7\\\\x98.\\\\n_START_SECTION_\\\\n\\\\xd7\\\\xa9\\\\xd7\\\\x9c\\\\xd7\\\\x91 \\\\xd7\\\\xa9\\\\xd7\\\\x9c\\\\xd7\\\\x99\\\\xd7\\\\xa9\\\\xd7\\\\x99: \\\\xd7\\\\x94\\\\xd7\\\\x91\\\\xd7\\\\x95\\\\xd7\\\\xa0\\\\xd7\\\\xa7\\\\xd7\\\\xa8 \\\\xd7\\\\x94\\\\xd7\\\\x92\\\\xd7\\\\x93\\\\xd7\\\\x95\\\\xd7\\\\x9c \\\\xd7\\\\x95\\\\xd7\\\\xa1\\\\xd7\\\\x99\\\\xd7\\\\x95\\\\xd7\\\\x9d \\\\xd7\\\\x94\\\\xd7\\\\xa7\\\\xd7\\\\xa8\\\\xd7\\\\x91\\\\n_START_PARAGRAPH_\\\\n\\\\xd7\\\\x94\\\\xd7\\\\x91\\\\xd7\\\\x95\\\\xd7\\\\xa0\\\\xd7\\\\xa7\\\\xd7\\\\xa8 \\\\xd7\\\\x94\\\\xd7\\\\x92\\\\xd7\\\\x93\\\\xd7\\\\x95\\\\xd7\\\\x9c \\\\xd7\\\\x94\\\\xd7\\\\x99\\\\xd7\\\\x94 \\\\xd7\\\\xa2\\\\xd7\\\\x9e\\\\xd7\\\\x93\\\\xd7\\\\xaa \\\\xd7\\\\x9e\\\\xd7\\\\xa7\\\\xd7\\\\x9c\\\\xd7\\\\xa2 \\\\xd7\\\\x9b\\\\xd7\\\\x91\\\\xd7\\\\x93, \\\\xd7\\\\x99\\\\xd7\\\\xa6\\\\xd7\\\\x95\\\\xd7\\\\xa7\\\\xd7\\\\x94 \\\\xd7\\\\x91\\\\xd7\\\\x98\\\\xd7\\\\x95\\\\xd7\\\\x9f \\\\xd7\\\\x9e\\\\xd7\\\\x96\\\\xd7\\\\x95\\\\xd7\\\\x99\\\\xd7\\\\x9f \\\\xd7\\\\x91\\\\xd7\\\\xa2\\\\xd7\\\\x95\\\\xd7\\\\x91\\\\xd7\\\\x99 40 \\\\xd7\\\\xa1\"\\\\xd7\\\\x9e \\\\xd7\\\\x95\\\\xd7\\\\x9e\\\\xd7\\\\x97\\\\xd7\\\\x95\\\\xd7\\\\xa4\\\\xd7\\\\xa8\\\\xd7\\\\xaa \\\\xd7\\\\x94\\\\xd7\\\\x99\\\\xd7\\\\x98\\\\xd7\\\\x91 \\\\xd7\\\\x91\\\\xd7\\\\x9e\\\\xd7\\\\xa8\\\\xd7\\\\x9b\\\\xd7\\\\x96 \\\\xd7\\\\x94\\\\xd7\\\\xaa\\\\xd7\\\\xa2\\\\xd7\\\\x9c\\\\xd7\\\\x94 \\\\xd7\\\\x94\\\\xd7\\\\x94\\\\xd7\\\\x99\\\\xd7\\\\xa7\\\\xd7\\\\xa4\\\\xd7\\\\x99\\\\xd7\\\\xaa \\\\xd7\\\\x94\\\\xd7\\\\x9e\\\\xd7\\\\xa2\\\\xd7\\\\xa8\\\\xd7\\\\x91\\\\xd7\\\\x99\\\\xd7\\\\xaa. \\\\xd7\\\\x94\\\\xd7\\\\x91\\\\xd7\\\\x95\\\\xd7\\\\xa0\\\\xd7\\\\xa7\\\\xd7\\\\xa8 \\\\xd7\\\\x94\\\\xd7\\\\x99\\\\xd7\\\\x94 \\\\xd7\\\\x91\\\\xd7\\\\xa0\\\\xd7\\\\x95\\\\xd7\\\\x99 \\\\xd7\\\\x97\\\\xd7\\\\x93\\\\xd7\\\\xa8 \\\\xd7\\\\x91\\\\xd7\\\\xaa\\\\xd7\\\\x95\\\\xd7\\\\x9a \\\\xd7\\\\x97\\\\xd7\\\\x93\\\\xd7\\\\xa8. \\\\xd7\\\\x94\\\\xd7\\\\x97\\\\xd7\\\\x99\\\\xd7\\\\x99\\\\xd7\\\\x9c\\\\xd7\\\\x99\\\\xd7\\\\x9d \\\\xd7\\\\x94\\\\xd7\\\\x99\\\\xd7\\\\xa8\\\\xd7\\\\x93\\\\xd7\\\\xa0\\\\xd7\\\\x99\\\\xd7\\\\x99\\\\xd7\\\\x9d \\\\xd7\\\\xa9\\\\xd7\\\\x94\\\\xd7\\\\x99\\\\xd7\\\\x95 \\\\xd7\\\\x9e\\\\xd7\\\\x91\\\\xd7\\\\x95\\\\xd7\\\\xa6\\\\xd7\\\\xa8\\\\xd7\\\\x99\\\\xd7\\\\x9d \\\\xd7\\\\x91\\\\xd7\\\\xa2\\\\xd7\\\\x9e\\\\xd7\\\\x93\\\\xd7\\\\x94, \\\\xd7\\\\x99\\\\xd7\\\\xa9\\\\xd7\\\\x91\\\\xd7\\\\x95 \\\\xd7\\\\x9c\\\\xd7\\\\x9e\\\\xd7\\\\xa2\\\\xd7\\\\xa9\\\\xd7\\\\x94 \\\\xd7\\\\x91\\\\xd7\\\\xaa\\\\xd7\\\\x95\\\\xd7\\\\x9a \\\\xd7\\\\x91\\\\xd7\\\\x95\\\\xd7\\\\xa0\\\\xd7\\\\xa7\\\\xd7\\\\xa8 \\\\xd7\\\\x94\\\\xd7\\\\xa0\\\\xd7\\\\x9e\\\\xd7\\\\xa6\\\\xd7\\\\x90 \\\\xd7\\\\x91\\\\xd7\\\\xaa\\\\xd7\\\\x95\\\\xd7\\\\x9a \\\\xd7\\\\x91\\\\xd7\\\\x95\\\\xd7\\\\xa0\\\\xd7\\\\xa7\\\\xd7\\\\xa8, \\\\xd7\\\\x95\\\\xd7\\\\x9c\\\\xd7\\\\x94\\\\xd7\\\\x9d \\\\xd7\\\\xaa\\\\xd7\\\\x97\\\\xd7\\\\x9e\\\\xd7\\\\x95\\\\xd7\\\\xa9\\\\xd7\\\\xaa \\\\xd7\\\\x95\\\\xd7\\\\xa0\\\\xd7\\\\xa9\\\\xd7\\\\xa7 \\\\xd7\\\\x9c\\\\xd7\\\\xa8\\\\xd7\\\\x95\\\\xd7\\\\x91. \\\\xd7\\\\x94\\\\xd7\\\\x91\\\\xd7\\\\x95\\\\xd7\\\\xa0\\\\xd7\\\\xa7\\\\xd7\\\\xa8 \\\\xd7\\\\xa0\\\\xd7\\\\x9e\\\\xd7\\\\xa6\\\\xd7\\\\x90 \\\\xd7\\\\x91\\\\xd7\\\\xa0\\\\xd7\\\\xa7\\\\xd7\\\\x95\\\\xd7\\\\x93\\\\xd7\\\\x94 \\\\xd7\\\\xa7\\\\xd7\\\\xa8\\\\xd7\\\\x99\\\\xd7\\\\x98\\\\xd7\\\\x99\\\\xd7\\\\xaa: \\\\xd7\\\\x9b\\\\xd7\\\\x9c \\\\xd7\\\\x94\\\\xd7\\\\x9b\\\\xd7\\\\x95\\\\xd7\\\\x97\\\\xd7\\\\x95\\\\xd7\\\\xaa \\\\xd7\\\\xa9\\\\xd7\\\\xa4\\\\xd7\\\\xa2\\\\xd7\\\\x9c\\\\xd7\\\\x95 \\\\xd7\\\\x91\\\\xd7\\\\x92\\\\xd7\\\\x91\\\\xd7\\\\xa2\\\\xd7\\\\x94 \\\\xd7\\\\x94\\\\xd7\\\\xaa\\\\xd7\\\\x9b\\\\xd7\\\\xa0\\\\xd7\\\\xa1\\\\xd7\\\\x95 \\\\xd7\\\\x9c\\\\xd7\\\\x9b\\\\xd7\\\\x99\\\\xd7\\\\x95\\\\xd7\\\\x95\\\\xd7\\\\xa0\\\\xd7\\\\x95, \\\\xd7\\\\x9e\\\\xd7\\\\x9f \\\\xd7\\\\x94\\\\xd7\\\\xaa\\\\xd7\\\\xa2\\\\xd7\\\\x9c\\\\xd7\\\\x94 \\\\xd7\\\\x94\\\\xd7\\\\x94\\\\xd7\\\\x99\\\\xd7\\\\xa7\\\\xd7\\\\xa4\\\\xd7\\\\x99\\\\xd7\\\\xaa \\\\xd7\\\\x9e\\\\xd7\\\\xa6\\\\xd7\\\\xa4\\\\xd7\\\\x95\\\\xd7\\\\x9f (\\\\xd7\\\\x9e\\\\xd7\\\\x97\\\\xd7\\\\x9c\\\\xd7\\\\xa7\\\\xd7\\\\xaa \\\\xd7\\\\xa2\\\\xd7\\\\x95\\\\xd7\\\\xa4\\\\xd7\\\\xa8 \\\\xd7\\\\x95\\\\xd7\\\\x94\\\\xd7\\\\x9b\\\\xd7\\\\x95\\\\xd7\\\\x97 \\\\xd7\\\\xa9\\\\xd7\\\\x9c \\\\xd7\\\\xa6\\\\xd7\\\\x91\\\\xd7\\\\x99\\\\xd7\\\\xa7\\\\xd7\\\\x94) \\\\xd7\\\\x9e\\\\xd7\\\\x9f \\\\xd7\\\\x94\\\\xd7\\\\xaa\\\\xd7\\\\xa2\\\\xd7\\\\x9c\\\\xd7\\\\x94 \\\\xd7\\\\x94\\\\xd7\\\\x94\\\\xd7\\\\x99\\\\xd7\\\\xa7\\\\xd7\\\\xa4\\\\xd7\\\\x99\\\\xd7\\\\xaa \\\\xd7\\\\x9e\\\\xd7\\\\x93\\\\xd7\\\\xa8\\\\xd7\\\\x95\\\\xd7\\\\x9d (\\\\xd7\\\\x94\\\\xd7\\\\x9b\\\\xd7\\\\x95\\\\xd7\\\\x97 \\\\xd7\\\\xa9\\\\xd7\\\\x9c \\\\xd7\\\\xa0\\\\xd7\\\\x99\\\\xd7\\\\xa8) \\\\xd7\\\\x95\\\\xd7\\\\x9e\\\\xd7\\\\x9e\\\\xd7\\\\xa8\\\\xd7\\\\x9b\\\\xd7\\\\x96 \\\\xd7\\\\x94\\\\xd7\\\\x92\\\\xd7\\\\x91\\\\xd7\\\\xa2\\\\xd7\\\\x94 (\\\\xd7\\\\x94\\\\xd7\\\\x9b\\\\xd7\\\\x95\\\\xd7\\\\x97\\\\xd7\\\\x95\\\\xd7\\\\xaa \\\\xd7\\\\xa9\\\\xd7\\\\x9c \\\\xd7\\\\xa4\\\\xd7\\\\x9c\\\\xd7\\\\x95\\\\xd7\\\\x92\\\\xd7\\\\x94 \\\\xd7\\\\x92\\\\\\'). \\\\xd7\\\\x99\\\\xd7\\\\xa7\\\\xd7\\\\x99 \\\\xd7\\\\x97\\\\xd7\\\\xa5 (\\\\xd7\\\\x97\\\\xd7\\\\x99\\\\xd7\\\\x99\\\\xd7\\\\x9e\\\\xd7\\\\x95\\\\xd7\\\\x91\\\\xd7\\\\x99\\\\xd7\\\\xa5) \\\\xd7\\\\xa9\\\\xd7\\\\x94\\\\xd7\\\\xa4\\\\xd7\\\\x9a \\\\xd7\\\\x9c\\\\xd7\\\\x94\\\\xd7\\\\x99\\\\xd7\\\\x95\\\\xd7\\\\xaa \\\\xd7\\\\x97\\\\xd7\\\\x99\\\\xd7\\\\x9c \\\\xd7\\\\x94\\\\xd7\\\\x97\\\\xd7\\\\x95\\\\xd7\\\\x93 \\\\xd7\\\\xa9\\\\xd7\\\\x9c \\\\xd7\\\\x94\\\\xd7\\\\x9b\\\\xd7\\\\x95\\\\xd7\\\\x97 \\\\xd7\\\\x9e\\\\xd7\\\\xa4\\\\xd7\\\\x9c\\\\xd7\\\\x95\\\\xd7\\\\x92\\\\xd7\\\\x94 \\\\xd7\\\\x91\\\\\\' \\\\xd7\\\\xa9\\\\xd7\\\\x94\\\\xd7\\\\x92\\\\xd7\\\\x99\\\\xd7\\\\xa2 \\\\xd7\\\\x9e\\\\xd7\\\\xa6\\\\xd7\\\\xa4\\\\xd7\\\\x95\\\\xd7\\\\x9f, \\\\xd7\\\\x9e\\\\xd7\\\\xa6\\\\xd7\\\\x90 \\\\xd7\\\\xa2\\\\xd7\\\\xa6\\\\xd7\\\\x9e\\\\xd7\\\\x95 \\\\xd7\\\\x9e\\\\xd7\\\\x95\\\\xd7\\\\x9c \\\\xd7\\\\xa4\\\\xd7\\\\xaa\\\\xd7\\\\x97 \\\\xd7\\\\x94\\\\xd7\\\\x91\\\\xd7\\\\x95\\\\xd7\\\\xa0\\\\xd7\\\\xa7\\\\xd7\\\\xa8 \\\\xd7\\\\x95\\\\xd7\\\\x94\\\\xd7\\\\xa9\\\\xd7\\\\x9c\\\\xd7\\\\x99\\\\xd7\\\\x9a \\\\xd7\\\\xa4\\\\xd7\\\\xa0\\\\xd7\\\\x99\\\\xd7\\\\x9e\\\\xd7\\\\x94 \\\\xd7\\\\xa8\\\\xd7\\\\x99\\\\xd7\\\\x9e\\\\xd7\\\\x95\\\\xd7\\\\x9f. \\\\xd7\\\\x9c\\\\xd7\\\\x90\\\\xd7\\\\x97\\\\xd7\\\\xa8 \\\\xd7\\\\xa7\\\\xd7\\\\xa8\\\\xd7\\\\x91 \\\\xd7\\\\x99\\\\xd7\\\\xa8\\\\xd7\\\\x99\\\\xd7\\\\x95\\\\xd7\\\\xaa \\\\xd7\\\\x95\\\\xd7\\\\xa8\\\\xd7\\\\x99\\\\xd7\\\\x9e\\\\xd7\\\\x95\\\\xd7\\\\xa0\\\\xd7\\\\x99\\\\xd7\\\\x9d \\\\xd7\\\\x94\\\\xd7\\\\x97\\\\xd7\\\\x9c\\\\xd7\\\\x99\\\\xd7\\\\x98 \\\\xd7\\\\x99\\\\xd7\\\\xa7\\\\xd7\\\\x99 \\\\xd7\\\\x9c\\\\xd7\\\\x94\\\\xd7\\\\x99\\\\xd7\\\\x9b\\\\xd7\\\\xa0\\\\xd7\\\\xa1 \\\\xd7\\\\x91\\\\xd7\\\\x96\\\\xd7\\\\x94\\\\xd7\\\\x99\\\\xd7\\\\xa8\\\\xd7\\\\x95\\\\xd7\\\\xaa \\\\xd7\\\\x9c\\\\xd7\\\\xaa\\\\xd7\\\\x95\\\\xd7\\\\x9a \\\\xd7\\\\x94\\\\xd7\\\\x91\\\\xd7\\\\x95\\\\xd7\\\\xa0\\\\xd7\\\\xa7\\\\xd7\\\\xa8, \\\\xd7\\\\xa0\\\\xd7\\\\xaa\\\\xd7\\\\xa7\\\\xd7\\\\x9c \\\\xd7\\\\x91\\\\xd7\\\\x97\\\\xd7\\\\x99\\\\xd7\\\\x99\\\\xd7\\\\x9c \\\\xd7\\\\x99\\\\xd7\\\\xa8\\\\xd7\\\\x93\\\\xd7\\\\xa0\\\\xd7\\\\x99 \\\\xd7\\\\x95\\\\xd7\\\\x94\\\\xd7\\\\xa6\\\\xd7\\\\x9c\\\\xd7\\\\x99\\\\xd7\\\\x97 \\\\xd7\\\\x9c\\\\xd7\\\\xa4\\\\xd7\\\\x92\\\\xd7\\\\x95\\\\xd7\\\\xa2 \\\\xd7\\\\x91\\\\xd7\\\\x95._NEWLINE_\\\\xd7\\\\x94\\\\xd7\\\\xa6\\\\xd7\\\\xa0\\\\xd7\\\\x97\\\\xd7\\\\xa0\\\\xd7\\\\x99\\\\xd7\\\\x9d, \\\\xd7\\\\xa9\\\\xd7\\\\x94\\\\xd7\\\\x91\\\\xd7\\\\x99\\\\xd7\\\\xa0\\\\xd7\\\\x95 \\\\xd7\\\\x90\\\\xd7\\\\xaa \\\\xd7\\\\x9e\\\\xd7\\\\x91\\\\xd7\\\\xa0\\\\xd7\\\\x94\\\\xd7\\\\x95 \\\\xd7\\\\xa9\\\\xd7\\\\x9c \\\\xd7\\\\x94\\\\xd7\\\\x91\\\\xd7\\\\x95\\\\xd7\\\\xa0\\\\xd7\\\\xa7\\\\xd7\\\\xa8, \\\\xd7\\\\xa0\\\\xd7\\\\x99\\\\xd7\\\\xa1\\\\xd7\\\\x95 \\\\xd7\\\\x9c\\\\xd7\\\\xa9\\\\xd7\\\\xaa\\\\xd7\\\\xa7 \\\\xd7\\\\x90\\\\xd7\\\\x95\\\\xd7\\\\xaa\\\\xd7\\\\x95 \\\\xd7\\\\x91\\\\xd7\\\\xa2\\\\xd7\\\\x96\\\\xd7\\\\xa8\\\\xd7\\\\xaa \\\\xd7\\\\x9e\\\\xd7\\\\x98\\\\xd7\\\\x95\\\\xd7\\\\x9c \\\\xd7\\\\xa8\\\\xd7\\\\xa7\\\\xd7\\\\x98\\\\xd7\\\\x95\\\\xd7\\\\xaa \\\\xd7\\\\xa0\\\\xd7\\\\x92\\\\xd7\\\\x93 \\\\xd7\\\\x98\\\\xd7\\\\xa0\\\\xd7\\\\xa7\\\\xd7\\\\x99\\\\xd7\\\\x9d, \"\\\\xd7\\\\x91\\\\xd7\\\\x96\\\\xd7\\\\x95\\\\xd7\\\\xa7\\\\xd7\\\\x94\". \\\\xd7\\\\x95\\\\xd7\\\\x90\\\\xd7\\\\x95\\\\xd7\\\\x9c\\\\xd7\\\\x9d, \\\\xd7\\\\xa9\\\\xd7\\\\xaa\\\\xd7\\\\x99 \\\\xd7\\\\xa4\\\\xd7\\\\xa6\\\\xd7\\\\xa6\\\\xd7\\\\x95\\\\xd7\\\\xaa \\\\xd7\\\\xa9\\\\xd7\\\\xa0\\\\xd7\\\\x95\\\\xd7\\\\xa8\\\\xd7\\\\x95 \\\\xd7\\\\x92\\\\xd7\\\\xa8\\\\xd7\\\\x9e\\\\xd7\\\\x95 \\\\xd7\\\\xa0\\\\xd7\\\\x96\\\\xd7\\\\xa7 \\\\xd7\\\\x9e\\\\xd7\\\\x95\\\\xd7\\\\xa2\\\\xd7\\\\x98 \\\\xd7\\\\x91\\\\xd7\\\\x9c\\\\xd7\\\\x91\\\\xd7\\\\x93 \\\\xd7\\\\x9c\\\\xd7\\\\x91\\\\xd7\\\\x95\\\\xd7\\\\xa0\\\\xd7\\\\xa7\\\\xd7\\\\xa8 \\\\xd7\\\\x94\\\\xd7\\\\x9e\\\\xd7\\\\x91\\\\xd7\\\\x95\\\\xd7\\\\xa6\\\\xd7\\\\xa8 \\\\xd7\\\\x94\\\\xd7\\\\x99\\\\xd7\\\\x98\\\\xd7\\\\x91. \\\\xd7\\\\x9c\\\\xd7\\\\x90\\\\xd7\\\\x97\\\\xd7\\\\xa8 \\\\xd7\\\\xa9\\\\xd7\\\\x92\\\\xd7\\\\x9d \\\\xd7\\\\xa0\\\\xd7\\\\x99\\\\xd7\\\\xa1\\\\xd7\\\\x99\\\\xd7\\\\x95\\\\xd7\\\\x9f \\\\xd7\\\\x96\\\\xd7\\\\x94 \\\\xd7\\\\x9c\\\\xd7\\\\x90 \\\\xd7\\\\x94\\\\xd7\\\\xa6\\\\xd7\\\\x9c\\\\xd7\\\\x99\\\\xd7\\\\x97 \\\\xd7\\\\x9c\\\\xd7\\\\xa9\\\\xd7\\\\xaa\\\\xd7\\\\xa7 \\\\xd7\\\\x90\\\\xd7\\\\xaa \\\\xd7\\\\x94\\\\xd7\\\\xa2\\\\xd7\\\\x9e\\\\xd7\\\\x93\\\\xd7\\\\x94 \\\\xd7\\\\xa0\\\\xd7\\\\xa2\\\\xd7\\\\xa9\\\\xd7\\\\x94 \\\\xd7\\\\xa0\\\\xd7\\\\x99\\\\xd7\\\\xa1\\\\xd7\\\\x99\\\\xd7\\\\x95\\\\xd7\\\\x9f \\\\xd7\\\\x9c\\\\xd7\\\\xa4\\\\xd7\\\\x92\\\\xd7\\\\x95\\\\xd7\\\\xa2 \\\\xd7\\\\x91\\\\xd7\\\\xa2\\\\xd7\\\\x9e\\\\xd7\\\\x93\\\\xd7\\\\x94 \\\\xd7\\\\x91\\\\xd7\\\\xa2\\\\xd7\\\\x96\\\\xd7\\\\xa8\\\\xd7\\\\xaa \\\\xd7\\\\x90\\\\xd7\\\\x97\\\\xd7\\\\x93 \\\\xd7\\\\x9e\\\\xd7\\\\xa9\\\\xd7\\\\xa0\\\\xd7\\\\x99 \\\\xd7\\\\x94\\\\xd7\\\\x98\\\\xd7\\\\xa0\\\\xd7\\\\xa7\\\\xd7\\\\x99\\\\xd7\\\\x9d \\\\xd7\\\\xa9\\\\xd7\\\\xa4\\\\xd7\\\\xa2\\\\xd7\\\\x9c\\\\xd7\\\\x95 \\\\xd7\\\\xa2\\\\xd7\\\\x9c \\\\xd7\\\\x94\\\\xd7\\\\x92\\\\xd7\\\\x91\\\\xd7\\\\xa2\\\\xd7\\\\x94, \\\\xd7\\\\x90\\\\xd7\\\\x9a \\\\xd7\\\\x94\\\\xd7\\\\x98\\\\xd7\\\\xa0\\\\xd7\\\\xa7 \\\\xd7\\\\x9c\\\\xd7\\\\x90 \\\\xd7\\\\x99\\\\xd7\\\\x9b\\\\xd7\\\\x95\\\\xd7\\\\x9c \\\\xd7\\\\x94\\\\xd7\\\\x99\\\\xd7\\\\x94 \\\\xd7\\\\x9c\\\\xd7\\\\x94\\\\xd7\\\\xa0\\\\xd7\\\\x9e\\\\xd7\\\\x99\\\\xd7\\\\x9a \\\\xd7\\\\x93\\\\xd7\\\\x99 \\\\xd7\\\\x94\\\\xd7\\\\xa6\\\\xd7\\\\x95\\\\xd7\\\\xa8\\\\xd7\\\\x9a \\\\xd7\\\\x90\\\\xd7\\\\xaa \\\\xd7\\\\xaa\\\\xd7\\\\x95\\\\xd7\\\\xaa\\\\xd7\\\\x97\\\\xd7\\\\x95 \\\\xd7\\\\x9b\\\\xd7\\\\x93\\\\xd7\\\\x99 \\\\xd7\\\\x9c\\\\xd7\\\\xa4\\\\xd7\\\\x92\\\\xd7\\\\x95\\\\xd7\\\\xa2 \\\\xd7\\\\x91\\\\xd7\\\\x91\\\\xd7\\\\x95\\\\xd7\\\\xa0\\\\xd7\\\\xa7\\\\xd7\\\\xa8. \\\\xd7\\\\x99\\\\xd7\\\\x94\\\\xd7\\\\x95\\\\xd7\\\\x93\\\\xd7\\\\x94 \\\\xd7\\\\xa7\\\\xd7\\\\xa0\\\\xd7\\\\x93\\\\xd7\\\\x9c \\\\xd7\\\\x99\\\\xd7\\\\xa6\\\\xd7\\\\x90 \\\\xd7\\\\x9e\\\\xd7\\\\x94\\\\xd7\\\\xaa\\\\xd7\\\\xa2\\\\xd7\\\\x9c\\\\xd7\\\\x94, \\\\xd7\\\\x96\\\\xd7\\\\x97\\\\xd7\\\\x9c \\\\xd7\\\\x9c\\\\xd7\\\\x9b\\\\xd7\\\\x99\\\\xd7\\\\x95\\\\xd7\\\\x95\\\\xd7\\\\x9f \\\\xd7\\\\x94\\\\xd7\\\\x91\\\\xd7\\\\x95\\\\xd7\\\\xa0\\\\xd7\\\\xa7\\\\xd7\\\\xa8, \\\\xd7\\\\x98\\\\xd7\\\\x99\\\\xd7\\\\xa4\\\\xd7\\\\xa1 \\\\xd7\\\\xa2\\\\xd7\\\\x9c \\\\xd7\\\\x92\\\\xd7\\\\x92 \\\\xd7\\\\x94\\\\xd7\\\\xa2\\\\xd7\\\\x9e\\\\xd7\\\\x93\\\\xd7\\\\x94, \\\\xd7\\\\x94\\\\xd7\\\\xaa\\\\xd7\\\\x9b\\\\xd7\\\\x95\\\\xd7\\\\xa4\\\\xd7\\\\xa3 \\\\xd7\\\\x95\\\\xd7\\\\xa9\\\\xd7\\\\x99\\\\xd7\\\\x9c\\\\xd7\\\\xa9\\\\xd7\\\\x9c \\\\xd7\\\\x9c\\\\xd7\\\\xaa\\\\xd7\\\\x95\\\\xd7\\\\x9b\\\\xd7\\\\x94 \\\\xd7\\\\xa8\\\\xd7\\\\x99\\\\xd7\\\\x9e\\\\xd7\\\\x95\\\\xd7\\\\x9f. \\\\xd7\\\\x91\\\\xd7\\\\x9b\\\\xd7\\\\x9a \\\\xd7\\\\x90\\\\xd7\\\\x99\\\\xd7\\\\xa4\\\\xd7\\\\xa9\\\\xd7\\\\xa8 \\\\xd7\\\\x9c\\\\xd7\\\\x97\\\\xd7\\\\x99\\\\xd7\\\\x99\\\\xd7\\\\x9c\\\\xd7\\\\x99\\\\xd7\\\\x9d \\\\xd7\\\\x90\\\\xd7\\\\x97\\\\xd7\\\\xa8\\\\xd7\\\\x99\\\\xd7\\\\x9d \\\\xd7\\\\x9c\\\\xd7\\\\x94\\\\xd7\\\\x92\\\\xd7\\\\x99\\\\xd7\\\\xa2 \\\\xd7\\\\x9c\\\\xd7\\\\x91\\\\xd7\\\\x95\\\\xd7\\\\xa0\\\\xd7\\\\xa7\\\\xd7\\\\xa8 \\\\xd7\\\\x95\\\\xd7\\\\x9c\\\\xd7\\\\x94\\\\xd7\\\\xa0\\\\xd7\\\\x99\\\\xd7\\\\x97 \\\\xd7\\\\x9e\\\\xd7\\\\x98\\\\xd7\\\\xa2\\\\xd7\\\\xa0\\\\xd7\\\\x99 \\\\xd7\\\\x97\\\\xd7\\\\x95\\\\xd7\\\\x9e\\\\xd7\\\\xa8 \\\\xd7\\\\xa0\\\\xd7\\\\xa4\\\\xd7\\\\xa5. \\\\xd7\\\\x9b\\\\xd7\\\\x95\\\\xd7\\\\x97 \\\\xd7\\\\xa0\\\\xd7\\\\x95\\\\xd7\\\\xa1\\\\xd7\\\\xa3 \\\\xd7\\\\xa9\\\\xd7\\\\x94\\\\xd7\\\\x92\\\\xd7\\\\x99\\\\xd7\\\\xa2 \\\\xd7\\\\x94\\\\xd7\\\\x91\\\\xd7\\\\x99\\\\xd7\\\\x90 \\\\xd7\\\\x97\\\\xd7\\\\x95\\\\xd7\\\\x9e\\\\xd7\\\\xa8 \\\\xd7\\\\xa0\\\\xd7\\\\xa4\\\\xd7\\\\xa5 \\\\xd7\\\\xa9\\\\xd7\\\\x94\\\\xd7\\\\x95\\\\xd7\\\\xa0\\\\xd7\\\\x97 \\\\xd7\\\\xa2\\\\xd7\\\\x9c \\\\xd7\\\\x94\\\\xd7\\\\x91\\\\xd7\\\\x95\\\\xd7\\\\xa0\\\\xd7\\\\xa7\\\\xd7\\\\xa8; 16 \\\\xd7\\\\xa7\"\\\\xd7\\\\x92 \\\\xd7\\\\xa9\\\\xd7\\\\x9c \\\\xd7\\\\x97\\\\xd7\\\\x95\\\\xd7\\\\x9e\\\\xd7\\\\xa8-\\\\xd7\\\\xa0\\\\xd7\\\\xa4\\\\xd7\\\\xa5 \\\\xd7\\\\x94\\\\xd7\\\\x95\\\\xd7\\\\xa4\\\\xd7\\\\xa2\\\\xd7\\\\x9c\\\\xd7\\\\x95 \\\\xd7\\\\x95\\\\xd7\\\\x94\\\\xd7\\\\x91\\\\xd7\\\\x95\\\\xd7\\\\xa0\\\\xd7\\\\xa7\\\\xd7\\\\xa8 \\\\xd7\\\\x94\\\\xd7\\\\x95\\\\xd7\\\\xa9\\\\xd7\\\\x9e\\\\xd7\\\\x93 \\\\xd7\\\\x91\\\\xd7\\\\x91\\\\xd7\\\\x95\\\\xd7\\\\xa7\\\\xd7\\\\xa8 \\\\xd7\\\\x94-6 \\\\xd7\\\\x91\\\\xd7\\\\x99\\\\xd7\\\\x95\\\\xd7\\\\xa0\\\\xd7\\\\x99. \\\\xd7\\\\x96\\\\xd7\\\\x94 \\\\xd7\\\\x94\\\\xd7\\\\x99\\\\xd7\\\\x94 \\\\xd7\\\\xa1\\\\xd7\\\\x99\\\\xd7\\\\x95\\\\xd7\\\\x9e\\\\xd7\\\\x95 \\\\xd7\\\\xa9\\\\xd7\\\\x9c \\\\xd7\\\\x94\\\\xd7\\\\xa7\\\\xd7\\\\xa8\\\\xd7\\\\x91._NEWLINE_\\\\xd7\\\\x94\\\\xd7\\\\x9c\\\\xd7\\\\x95\\\\xd7\\\\x97\\\\xd7\\\\x9e\\\\xd7\\\\x99\\\\xd7\\\\x9d \\\\xd7\\\\xa9\\\\xd7\\\\xa0\\\\xd7\\\\x95\\\\xd7\\\\xaa\\\\xd7\\\\xa8\\\\xd7\\\\x95 \\\\xd7\\\\x91\\\\xd7\\\\x97\\\\xd7\\\\x99\\\\xd7\\\\x99\\\\xd7\\\\x9d \\\\xd7\\\\x94\\\\xd7\\\\xaa\\\\xd7\\\\x90\\\\xd7\\\\xa8\\\\xd7\\\\x92\\\\xd7\\\\xa0\\\\xd7\\\\x95 \\\\xd7\\\\x9c\\\\xd7\\\\xa4\\\\xd7\\\\x99\\\\xd7\\\\xa0\\\\xd7\\\\x95\\\\xd7\\\\x99 \\\\xd7\\\\x94\\\\xd7\\\\xa0\\\\xd7\\\\xa4\\\\xd7\\\\x92\\\\xd7\\\\xa2\\\\xd7\\\\x99\\\\xd7\\\\x9d, \\\\xd7\\\\x95\\\\xd7\\\\x97\\\\xd7\\\\x95\\\\xd7\\\\x9c\\\\xd7\\\\x99\\\\xd7\\\\x95\\\\xd7\\\\xaa \\\\xd7\\\\xa0\\\\xd7\\\\x95\\\\xd7\\\\xa1\\\\xd7\\\\xa4\\\\xd7\\\\x95\\\\xd7\\\\xaa \\\\xd7\\\\xa1\\\\xd7\\\\xa8\\\\xd7\\\\xa7\\\\xd7\\\\x95 \\\\xd7\\\\x90\\\\xd7\\\\xaa \\\\xd7\\\\x94\\\\xd7\\\\xaa\\\\xd7\\\\xa2\\\\xd7\\\\x9c\\\\xd7\\\\x95\\\\xd7\\\\xaa \\\\xd7\\\\x95\\\\xd7\\\\xa8\\\\xd7\\\\x99\\\\xd7\\\\x9b\\\\xd7\\\\x96\\\\xd7\\\\x95 \\\\xd7\\\\x90\\\\xd7\\\\xaa \\\\xd7\\\\x94\\\\xd7\\\\xa4\\\\xd7\\\\xa6\\\\xd7\\\\x95\\\\xd7\\\\xa2\\\\xd7\\\\x99\\\\xd7\\\\x9d. \\\\xd7\\\\x94\\\\xd7\\\\x9b\\\\xd7\\\\x95\\\\xd7\\\\x97\\\\xd7\\\\x95\\\\xd7\\\\xaa \\\\xd7\\\\xa2\\\\xd7\\\\x93\\\\xd7\\\\x99\\\\xd7\\\\x99\\\\xd7\\\\x9f \\\\xd7\\\\x94\\\\xd7\\\\x99\\\\xd7\\\\x95 \\\\xd7\\\\xaa\\\\xd7\\\\x97\\\\xd7\\\\xaa \\\\xd7\\\\x90\\\\xd7\\\\xa9 \\\\xd7\\\\x9e\\\\xd7\\\\x92\\\\xd7\\\\x91\\\\xd7\\\\xa2\\\\xd7\\\\xaa \\\\xd7\\\\x94\\\\xd7\\\\x9e\\\\xd7\\\\x91\\\\xd7\\\\xaa\\\\xd7\\\\xa8, \\\\xd7\\\\xa7\\\\xd7\\\\xa8\\\\xd7\\\\x91 \\\\xd7\\\\x99\\\\xd7\\\\xa8\\\\xd7\\\\x99\\\\xd7\\\\x95\\\\xd7\\\\xaa \\\\xd7\\\\xa9\\\\xd7\\\\xa0\\\\xd7\\\\x9e\\\\xd7\\\\xa9\\\\xd7\\\\x9a \\\\xd7\\\\xa2\\\\xd7\\\\x93 \\\\xd7\\\\x9c\\\\xd7\\\\xa9\\\\xd7\\\\xa2\\\\xd7\\\\x94 12:00, \\\\xd7\\\\x91\\\\xd7\\\\x94 \\\\xd7\\\\x9b\\\\xd7\\\\x91\\\\xd7\\\\xa9\\\\xd7\\\\x95 \\\\xd7\\\\x9b\\\\xd7\\\\x95\\\\xd7\\\\x97\\\\xd7\\\\x95\\\\xd7\\\\xaa \\\\xd7\\\\x9e\\\\xd7\\\\x97\\\\xd7\\\\x98\\\\xd7\\\\x99\\\\xd7\\\\x91\\\\xd7\\\\x94 10 \\\\xd7\\\\x90\\\\xd7\\\\xaa \\\\xd7\\\\x9e\\\\xd7\\\\x95\\\\xd7\\\\xa6\\\\xd7\\\\x91 \\\\xd7\\\\x92\\\\xd7\\\\x91\\\\xd7\\\\xa2\\\\xd7\\\\xaa \\\\xd7\\\\x94\\\\xd7\\\\x9e\\\\xd7\\\\x91\\\\xd7\\\\xaa\\\\xd7\\\\xa8._NEWLINE_\\\\xd7\\\\x99\\\\xd7\\\\x95\\\\xd7\\\\x9d \\\\xd7\\\\x9c\\\\xd7\\\\x9e\\\\xd7\\\\x97\\\\xd7\\\\xa8\\\\xd7\\\\xaa \\\\xd7\\\\x94\\\\xd7\\\\xa7\\\\xd7\\\\xa8\\\\xd7\\\\x91, \\\\xd7\\\\xa0\\\\xd7\\\\x9b\\\\xd7\\\\xa0\\\\xd7\\\\xa1 \\\\xd7\\\\x9b\\\\xd7\\\\x95\\\\xd7\\\\x97 \\\\xd7\\\\x9e\\\\xd7\\\\xa4\\\\xd7\\\\x9c\\\\xd7\\\\x95\\\\xd7\\\\x92\\\\xd7\\\\x94 \\\\xd7\\\\x91\\\\\\' \\\\xd7\\\\xa9\\\\xd7\\\\x9c \\\\xd7\\\\x9e\\\\xd7\\\\xa9\\\\xd7\\\\x9e\\\\xd7\\\\xa8 \\\\xd7\\\\x94\\\\xd7\\\\x92\\\\xd7\\\\x91\\\\xd7\\\\x95\\\\xd7\\\\x9c, \\\\xd7\\\\x91\\\\xd7\\\\xa4\\\\xd7\\\\x99\\\\xd7\\\\xa7\\\\xd7\\\\x95\\\\xd7\\\\x93 \\\\xd7\\\\x9e\\\\xd7\\\\xa4\\\\xd7\\\\xa7\\\\xd7\\\\x93 \\\\xd7\\\\x94\\\\xd7\\\\xa4\\\\xd7\\\\x9c\\\\xd7\\\\x95\\\\xd7\\\\x92\\\\xd7\\\\x94 \\\\xd7\\\\xa6\\\\xd7\\\\x91\\\\xd7\\\\x99 \\\\xd7\\\\x91\\\\xd7\\\\x9f \\\\xd7\\\\x90\\\\xd7\\\\x9c\\\\xd7\\\\x99\\\\xd7\\\\x94\\\\xd7\\\\x95, \\\\xd7\\\\x95\\\\xd7\\\\x94\\\\xd7\\\\xa9\\\\xd7\\\\xaa\\\\xd7\\\\x9c\\\\xd7\\\\x98 \\\\xd7\\\\x91\\\\xd7\\\\xa4\\\\xd7\\\\xa2\\\\xd7\\\\x9d \\\\xd7\\\\x94\\\\xd7\\\\xa9\\\\xd7\\\\xa0\\\\xd7\\\\x99\\\\xd7\\\\x99\\\\xd7\\\\x94 \\\\xd7\\\\xa2\\\\xd7\\\\x9c \\\\xd7\\\\x92\\\\xd7\\\\x91\\\\xd7\\\\xa2\\\\xd7\\\\xaa \\\\xd7\\\\x94\\\\xd7\\\\xaa\\\\xd7\\\\x97\\\\xd7\\\\x9e\\\\xd7\\\\x95\\\\xd7\\\\xa9\\\\xd7\\\\xaa. \\\\xd7\\\\x94\\\\xd7\\\\x94\\\\xd7\\\\xa9\\\\xd7\\\\xaa\\\\xd7\\\\x9c\\\\xd7\\\\x98\\\\xd7\\\\x95\\\\xd7\\\\xaa \\\\xd7\\\\x90\\\\xd7\\\\xa8\\\\xd7\\\\x9b\\\\xd7\\\\x94 \\\\xd7\\\\x9b-8 \\\\xd7\\\\xa9\\\\xd7\\\\xa2\\\\xd7\\\\x95\\\\xd7\\\\xaa \\\\xd7\\\\x95\\\\xd7\\\\x91\\\\xd7\\\\x9e\\\\xd7\\\\x94\\\\xd7\\\\x9c\\\\xd7\\\\x9b\\\\xd7\\\\x94 \\\\xd7\\\\xa0\\\\xd7\\\\x90\\\\xd7\\\\xa1\\\\xd7\\\\xa4\\\\xd7\\\\x95 \\\\xd7\\\\x9b-60 \\\\xd7\\\\xa9\\\\xd7\\\\x91\\\\xd7\\\\x95\\\\xd7\\\\x99\\\\xd7\\\\x99\\\\xd7\\\\x9d \\\\xd7\\\\x99\\\\xd7\\\\xa8\\\\xd7\\\\x93\\\\xd7\\\\xa0\\\\xd7\\\\x99\\\\xd7\\\\x99\\\\xd7\\\\x9d._NEWLINE_36 \\\\xd7\\\\xa6\\\\xd7\\\\xa0\\\\xd7\\\\x97\\\\xd7\\\\xa0\\\\xd7\\\\x99\\\\xd7\\\\x9d \\\\xd7\\\\xa0\\\\xd7\\\\x94\\\\xd7\\\\xa8\\\\xd7\\\\x92\\\\xd7\\\\x95 \\\\xd7\\\\x91\\\\xd7\\\\xa7\\\\xd7\\\\xa8\\\\xd7\\\\x91 \\\\xd7\\\\x96\\\\xd7\\\\x94 - 21 \\\\xd7\\\\x91\\\\xd7\\\\x92\\\\xd7\\\\x91\\\\xd7\\\\xa2\\\\xd7\\\\xaa \\\\xd7\\\\x94\\\\xd7\\\\xaa\\\\xd7\\\\x97\\\\xd7\\\\x9e\\\\xd7\\\\x95\\\\xd7\\\\xa9\\\\xd7\\\\xaa \\\\xd7\\\\x95- 12 \\\\xd7\\\\x91\\\\xd7\\\\xaa\\\\xd7\\\\xa2\\\\xd7\\\\x9c\\\\xd7\\\\x95\\\\xd7\\\\xaa \\\\xd7\\\\x94\\\\xd7\\\\xa7\\\\xd7\\\\xa9\\\\xd7\\\\xa8 \\\\xd7\\\\x94\\\\xd7\\\\x9e\\\\xd7\\\\xaa\\\\xd7\\\\x97\\\\xd7\\\\x91\\\\xd7\\\\xa8\\\\xd7\\\\x95\\\\xd7\\\\xaa \\\\xd7\\\\x90\\\\xd7\\\\x9c \\\\xd7\\\\x94\\\\xd7\\\\x92\\\\xd7\\\\x91\\\\xd7\\\\xa2\\\\xd7\\\\x94. \\\\xd7\\\\x9b-70 \\\\xd7\\\\x97\\\\xd7\\\\x99\\\\xd7\\\\x99\\\\xd7\\\\x9c\\\\xd7\\\\x99\\\\xd7\\\\x9d \\\\xd7\\\\x99\\\\xd7\\\\xa8\\\\xd7\\\\x93\\\\xd7\\\\xa0\\\\xd7\\\\x99\\\\xd7\\\\x99\\\\xd7\\\\x9d \\\\xd7\\\\xa0\\\\xd7\\\\x94\\\\xd7\\\\xa8\\\\xd7\\\\x92\\\\xd7\\\\x95 \\\\xd7\\\\x91\\\\xd7\\\\x94\\\\xd7\\\\x92\\\\xd7\\\\xa0\\\\xd7\\\\x94 \\\\xd7\\\\xa2\\\\xd7\\\\x9c \\\\xd7\\\\x92\\\\xd7\\\\x91\\\\xd7\\\\xa2\\\\xd7\\\\xaa \\\\xd7\\\\x94\\\\xd7\\\\xaa\\\\xd7\\\\x97\\\\xd7\\\\x9e\\\\xd7\\\\x95\\\\xd7\\\\xa9\\\\xd7\\\\xaa - \\\\xd7\\\\x9b\\\\xd7\\\\x9e\\\\xd7\\\\x97\\\\xd7\\\\xa6\\\\xd7\\\\x99\\\\xd7\\\\xaa \\\\xd7\\\\x94\\\\xd7\\\\x9b\\\\xd7\\\\x95\\\\xd7\\\\x97 \\\\xd7\\\\xa9\\\\xd7\\\\x94\\\\xd7\\\\x99\\\\xd7\\\\x94 \\\\xd7\\\\x91\\\\xd7\\\\x9e\\\\xd7\\\\x95\\\\xd7\\\\xa6\\\\xd7\\\\x91.\\\\n_START_SECTION_\\\\n\\\\xd7\\\\x91\\\\xd7\\\\x99\\\\xd7\\\\xa7\\\\xd7\\\\x95\\\\xd7\\\\xa8\\\\xd7\\\\xaa \\\\xd7\\\\x95\\\\xd7\\\\x9e\\\\xd7\\\\x97\\\\xd7\\\\x9c\\\\xd7\\\\x95\\\\xd7\\\\xa7\\\\xd7\\\\xaa\\\\n_START_PARAGRAPH_\\\\n\\\\xd7\\\\x91\\\\xd7\\\\x9e\\\\xd7\\\\x94\\\\xd7\\\\x9c\\\\xd7\\\\x9a \\\\xd7\\\\x94\\\\xd7\\\\xa9\\\\xd7\\\\xa0\\\\xd7\\\\x99\\\\xd7\\\\x9d \\\\xd7\\\\xa0\\\\xd7\\\\xa9\\\\xd7\\\\x9e\\\\xd7\\\\xa2\\\\xd7\\\\x95 \\\\xd7\\\\x91\\\\xd7\\\\x99\\\\xd7\\\\xa7\\\\xd7\\\\x95\\\\xd7\\\\xa8\\\\xd7\\\\x95\\\\xd7\\\\xaa \\\\xd7\\\\xa2\\\\xd7\\\\x9c \\\\xd7\\\\x94\\\\xd7\\\\xa7\\\\xd7\\\\xa8\\\\xd7\\\\x91 \\\\xd7\\\\x95\\\\xd7\\\\x93\\\\xd7\\\\xa8\\\\xd7\\\\x9a \\\\xd7\\\\xa0\\\\xd7\\\\x99\\\\xd7\\\\x94\\\\xd7\\\\x95\\\\xd7\\\\x9c\\\\xd7\\\\x95, \\\\xd7\\\\x91\\\\xd7\\\\xa7\\\\xd7\\\\xa8\\\\xd7\\\\x91 \\\\xd7\\\\x9c\\\\xd7\\\\x95\\\\xd7\\\\x97\\\\xd7\\\\x9e\\\\xd7\\\\x99 \\\\xd7\\\\x94\\\\xd7\\\\x97\\\\xd7\\\\x98\\\\xd7\\\\x99\\\\xd7\\\\x91\\\\xd7\\\\x94 \\\\xd7\\\\x95\\\\xd7\\\\x91\\\\xd7\\\\x99\\\\xd7\\\\x9f \\\\xd7\\\\x94\\\\xd7\\\\x99\\\\xd7\\\\xa1\\\\xd7\\\\x98\\\\xd7\\\\x95\\\\xd7\\\\xa8\\\\xd7\\\\x99\\\\xd7\\\\x95\\\\xd7\\\\xa0\\\\xd7\\\\x99\\\\xd7\\\\x9d \\\\xd7\\\\xa6\\\\xd7\\\\x91\\\\xd7\\\\x90\\\\xd7\\\\x99\\\\xd7\\\\x99\\\\xd7\\\\x9d, \\\\xd7\\\\x9b\\\\xd7\\\\x9e\\\\xd7\\\\x95 \\\\xd7\\\\x90\\\\xd7\\\\x95\\\\xd7\\\\xa8\\\\xd7\\\\x99 \\\\xd7\\\\x9e\\\\xd7\\\\x99\\\\xd7\\\\x9c\\\\xd7\\\\xa9\\\\xd7\\\\x98\\\\xd7\\\\x99\\\\xd7\\\\x99\\\\xd7\\\\x9f. \\\\xd7\\\\x9e\\\\xd7\\\\xa1\\\\xd7\\\\xa4\\\\xd7\\\\xa8 \\\\xd7\\\\x94\\\\xd7\\\\xa0\\\\xd7\\\\x95\\\\xd7\\\\xa4\\\\xd7\\\\x9c\\\\xd7\\\\x99\\\\xd7\\\\x9d \\\\xd7\\\\x94\\\\xd7\\\\x92\\\\xd7\\\\x91\\\\xd7\\\\x95\\\\xd7\\\\x94, \\\\xd7\\\\x95\\\\xd7\\\\x94\\\\xd7\\\\x94\\\\xd7\\\\xa8\\\\xd7\\\\x92\\\\xd7\\\\xa9\\\\xd7\\\\x94 \\\\xd7\\\\x9b\\\\xd7\\\\x99 \\\\xd7\\\\x94\\\\xd7\\\\xa7\\\\xd7\\\\xa8\\\\xd7\\\\x91 \\\\xd7\\\\xa2\\\\xd7\\\\xa6\\\\xd7\\\\x9e\\\\xd7\\\\x95 \\\\xd7\\\\x9c\\\\xd7\\\\x90 \\\\xd7\\\\x94\\\\xd7\\\\x99\\\\xd7\\\\x94 \\\\xd7\\\\x94\\\\xd7\\\\x9b\\\\xd7\\\\xa8\\\\xd7\\\\x97\\\\xd7\\\\x99, \\\\xd7\\\\x94\\\\xd7\\\\x9c\\\\xd7\\\\x94\\\\xd7\\\\x99\\\\xd7\\\\x98\\\\xd7\\\\x95 \\\\xd7\\\\x90\\\\xd7\\\\xaa \\\\xd7\\\\x94\\\\xd7\\\\x95\\\\xd7\\\\x95\\\\xd7\\\\x99\\\\xd7\\\\x9b\\\\xd7\\\\x95\\\\xd7\\\\x97. \\\\xd7\\\\x94\\\\xd7\\\\x98\\\\xd7\\\\xa2\\\\xd7\\\\xa0\\\\xd7\\\\x95\\\\xd7\\\\xaa \\\\xd7\\\\xa0\\\\xd7\\\\x92\\\\xd7\\\\xa2\\\\xd7\\\\x95 \\\\xd7\\\\x9c\\\\xd7\\\\xa0\\\\xd7\\\\xa9\\\\xd7\\\\xa7 \\\\xd7\\\\xa9\\\\xd7\\\\x90\\\\xd7\\\\x95\\\\xd7\\\\xaa\\\\xd7\\\\x95 \\\\xd7\\\\xa0\\\\xd7\\\\xa9\\\\xd7\\\\x90\\\\xd7\\\\x95 \\\\xd7\\\\x94\\\\xd7\\\\x9c\\\\xd7\\\\x95\\\\xd7\\\\x97\\\\xd7\\\\x9e\\\\xd7\\\\x99\\\\xd7\\\\x9d - \\\\xd7\\\\xa0\\\\xd7\\\\xa9\\\\xd7\\\\xa7 \\\\xd7\\\\x90\\\\xd7\\\\xa8\\\\xd7\\\\x95\\\\xd7\\\\x9a \\\\xd7\\\\xa7\\\\xd7\\\\xa0\\\\xd7\\\\x94 (\\\\xd7\\\\xa8\\\\xd7\\\\x95\\\\xd7\\\\x91\\\\xd7\\\\x99\\\\xd7\\\\x9d \\\\xd7\\\\x9e\\\\xd7\\\\x93\\\\xd7\\\\x92\\\\xd7\\\\x9d FN), \\\\xd7\\\\xa9\\\\xd7\\\\x9c\\\\xd7\\\\x90 \\\\xd7\\\\x94\\\\xd7\\\\xaa\\\\xd7\\\\x90\\\\xd7\\\\x99\\\\xd7\\\\x9d \\\\xd7\\\\x9c\\\\xd7\\\\x9c\\\\xd7\\\\x97\\\\xd7\\\\x99\\\\xd7\\\\x9e\\\\xd7\\\\xaa \\\\xd7\\\\xaa\\\\xd7\\\\xa2\\\\xd7\\\\x9c\\\\xd7\\\\x95\\\\xd7\\\\xaa; \\\\xd7\\\\x9c\\\\xd7\\\\x9e\\\\xd7\\\\x99\\\\xd7\\\\x93\\\\xd7\\\\xa2 \\\\xd7\\\\x95\\\\xd7\\\\x9c\\\\xd7\\\\x90\\\\xd7\\\\x99\\\\xd7\\\\x9e\\\\xd7\\\\x95\\\\xd7\\\\x9f - \\\\xd7\\\\x94\\\\xd7\\\\xa6\\\\xd7\\\\xa0\\\\xd7\\\\x97\\\\xd7\\\\xa0\\\\xd7\\\\x99\\\\xd7\\\\x9d \\\\xd7\\\\x9c\\\\xd7\\\\x90 \\\\xd7\\\\x99\\\\xd7\\\\x93\\\\xd7\\\\xa2\\\\xd7\\\\x95 \\\\xd7\\\\x93\\\\xd7\\\\x91\\\\xd7\\\\xa8 \\\\xd7\\\\x9b\\\\xd7\\\\x9e\\\\xd7\\\\xa2\\\\xd7\\\\x98 \\\\xd7\\\\xa2\\\\xd7\\\\x9c \\\\xd7\\\\x92\\\\xd7\\\\x91\\\\xd7\\\\xa2\\\\xd7\\\\xaa \\\\xd7\\\\x94\\\\xd7\\\\xaa\\\\xd7\\\\x97\\\\xd7\\\\x9e\\\\xd7\\\\x95\\\\xd7\\\\xa9\\\\xd7\\\\xaa; \\\\xd7\\\\x95\\\\xd7\\\\x9b\\\\xd7\\\\x9f \\\\xd7\\\\x9c\\\\xd7\\\\xa2\\\\xd7\\\\xa6\\\\xd7\\\\x9d \\\\xd7\\\\xa0\\\\xd7\\\\x97\\\\xd7\\\\x99\\\\xd7\\\\xa6\\\\xd7\\\\x95\\\\xd7\\\\xaa \\\\xd7\\\\x94\\\\xd7\\\\xa7\\\\xd7\\\\xa8\\\\xd7\\\\x91 - \\\\xd7\\\\x92\\\\xd7\\\\x91\\\\xd7\\\\xa2\\\\xd7\\\\xaa \\\\xd7\\\\x94\\\\xd7\\\\xaa\\\\xd7\\\\x97\\\\xd7\\\\x9e\\\\xd7\\\\x95\\\\xd7\\\\xa9\\\\xd7\\\\xaa \\\\xd7\\\\xa2\\\\xd7\\\\x9c \\\\xd7\\\\x9e\\\\xd7\\\\x92\\\\xd7\\\\x99\\\\xd7\\\\xa0\\\\xd7\\\\x99\\\\xd7\\\\x94 \\\\xd7\\\\x94\\\\xd7\\\\x99\\\\xd7\\\\xa8\\\\xd7\\\\x93\\\\xd7\\\\xa0\\\\xd7\\\\x99\\\\xd7\\\\x99\\\\xd7\\\\x9d \\\\xd7\\\\x94\\\\xd7\\\\x9e\\\\xd7\\\\x97\\\\xd7\\\\x95\\\\xd7\\\\xa4\\\\xd7\\\\xa8\\\\xd7\\\\x99\\\\xd7\\\\x9d \\\\xd7\\\\x91\\\\xd7\\\\x91\\\\xd7\\\\x95\\\\xd7\\\\xa0\\\\xd7\\\\xa7\\\\xd7\\\\xa8\\\\xd7\\\\x99\\\\xd7\\\\x9d \\\\xd7\\\\x9c\\\\xd7\\\\x90 \\\\xd7\\\\x94\\\\xd7\\\\x99\\\\xd7\\\\x95\\\\xd7\\\\x95\\\\xd7\\\\xaa\\\\xd7\\\\x94 \\\\xd7\\\\x90\\\\xd7\\\\x99\\\\xd7\\\\x95\\\\xd7\\\\x9d \\\\xd7\\\\xa2\\\\xd7\\\\x9c \\\\xd7\\\\x9b\\\\xd7\\\\x99\\\\xd7\\\\x91\\\\xd7\\\\x95\\\\xd7\\\\xa9 \\\\xd7\\\\x95\\\\xd7\\\\xa9\\\\xd7\\\\x9c\\\\xd7\\\\x99\\\\xd7\\\\x98\\\\xd7\\\\x94 \\\\xd7\\\\x9e\\\\xd7\\\\x9c\\\\xd7\\\\x90\\\\xd7\\\\x99\\\\xd7\\\\x9d \\\\xd7\\\\x91\\\\xd7\\\\x99\\\\xd7\\\\xa8\\\\xd7\\\\x95\\\\xd7\\\\xa9\\\\xd7\\\\x9c\\\\xd7\\\\x99\\\\xd7\\\\x9d, \\\\xd7\\\\x95\\\\xd7\\\\xa0\\\\xd7\\\\x99\\\\xd7\\\\xaa\\\\xd7\\\\x9f \\\\xd7\\\\x94\\\\xd7\\\\x99\\\\xd7\\\\x94 - \\\\xd7\\\\xa2\\\\xd7\\\\x9c \\\\xd7\\\\xa4\\\\xd7\\\\x99 \\\\xd7\\\\x94\\\\xd7\\\\x9e\\\\xd7\\\\x91\\\\xd7\\\\xa7\\\\xd7\\\\xa8\\\\xd7\\\\x99\\\\xd7\\\\x9d - \\\\xd7\\\\x9c\\\\xd7\\\\x9b\\\\xd7\\\\xaa\\\\xd7\\\\xa8 \\\\xd7\\\\x90\\\\xd7\\\\xaa \\\\xd7\\\\x94\\\\xd7\\\\x92\\\\xd7\\\\x91\\\\xd7\\\\xa2\\\\xd7\\\\x94 \\\\xd7\\\\x9e\\\\xd7\\\\x91\\\\xd7\\\\x9c\\\\xd7\\\\x99 \\\\xd7\\\\x9c\\\\xd7\\\\x9b\\\\xd7\\\\x91\\\\xd7\\\\xa9\\\\xd7\\\\x94 \\\\xd7\\\\x95\\\\xd7\\\\x9c\\\\xd7\\\\x94\\\\xd7\\\\xa0\\\\xd7\\\\x99\\\\xd7\\\\x97 \\\\xd7\\\\x9c\\\\xd7\\\\x9c\\\\xd7\\\\x95\\\\xd7\\\\x97\\\\xd7\\\\x9e\\\\xd7\\\\x99\\\\xd7\\\\x9d \\\\xd7\\\\x94\\\\xd7\\\\x99\\\\xd7\\\\xa8\\\\xd7\\\\x93\\\\xd7\\\\xa0\\\\xd7\\\\x99\\\\xd7\\\\x99\\\\xd7\\\\x9d \\\\xd7\\\\x9c\\\\xd7\\\\x94\\\\xd7\\\\x99\\\\xd7\\\\x9b\\\\xd7\\\\xa0\\\\xd7\\\\xa2 \\\\xd7\\\\xa2\\\\xd7\\\\x9d \\\\xd7\\\\xa0\\\\xd7\\\\x99\\\\xd7\\\\xaa\\\\xd7\\\\x95\\\\xd7\\\\xa7\\\\xd7\\\\x9d \\\\xd7\\\\x9e\\\\xd7\\\\x94\\\\xd7\\\\xa6\\\\xd7\\\\x91\\\\xd7\\\\x90 \\\\xd7\\\\x94\\\\xd7\\\\x99\\\\xd7\\\\xa8\\\\xd7\\\\x93\\\\xd7\\\\xa0\\\\xd7\\\\x99._NEWLINE_\\\\xd7\\\\x99\\\\xd7\\\\x95\\\\xd7\\\\x93\\\\xd7\\\\x92\\\\xd7\\\\xa9 \\\\xd7\\\\x9b\\\\xd7\\\\x99 \\\\xd7\\\\x94\\\\xd7\\\\x91\\\\xd7\\\\x99\\\\xd7\\\\xa7\\\\xd7\\\\x95\\\\xd7\\\\xa8\\\\xd7\\\\xaa \\\\xd7\\\\x9c\\\\xd7\\\\x90 \\\\xd7\\\\x94\\\\xd7\\\\x99\\\\xd7\\\\x99\\\\xd7\\\\xaa\\\\xd7\\\\x94 \\\\xd7\\\\xa2\\\\xd7\\\\x9c \\\\xd7\\\\x94\\\\xd7\\\\x9c\\\\xd7\\\\x95\\\\xd7\\\\x97\\\\xd7\\\\x9e\\\\xd7\\\\x99\\\\xd7\\\\x9d \\\\xd7\\\\xa9\\\\xd7\\\\x9c\\\\xd7\\\\x97\\\\xd7\\\\x9e\\\\xd7\\\\x95 \\\\xd7\\\\xa2\\\\xd7\\\\x9c \\\\xd7\\\\x94\\\\xd7\\\\x92\\\\xd7\\\\x91\\\\xd7\\\\xa2\\\\xd7\\\\x94, \\\\xd7\\\\x90\\\\xd7\\\\x9c\\\\xd7\\\\x90 \\\\xd7\\\\x94\\\\xd7\\\\xaa\\\\xd7\\\\x9e\\\\xd7\\\\xa7\\\\xd7\\\\x93\\\\xd7\\\\x94 \\\\xd7\\\\x91\\\\xd7\\\\xa4\\\\xd7\\\\x99\\\\xd7\\\\xa7\\\\xd7\\\\x95\\\\xd7\\\\x93 \\\\xd7\\\\x94\\\\xd7\\\\x97\\\\xd7\\\\x98\\\\xd7\\\\x99\\\\xd7\\\\x91\\\\xd7\\\\x94 \\\\xd7\\\\x95\\\\xd7\\\\xa4\\\\xd7\\\\x99\\\\xd7\\\\xa7\\\\xd7\\\\x95\\\\xd7\\\\x93 \\\\xd7\\\\x9e\\\\xd7\\\\xa8\\\\xd7\\\\x9b\\\\xd7\\\\x96.\\\\n_START_SECTION_\\\\n\\\\xd7\\\\x9e\\\\xd7\\\\x95\\\\xd7\\\\x93\\\\xd7\\\\x99\\\\xd7\\\\xa2\\\\xd7\\\\x99\\\\xd7\\\\x9f\\\\n_START_PARAGRAPH_\\\\n\\\\xd7\\\\x9c\\\\xd7\\\\xa4\\\\xd7\\\\xa0\\\\xd7\\\\x99 \\\\xd7\\\\x9e\\\\xd7\\\\x9c\\\\xd7\\\\x97\\\\xd7\\\\x9e\\\\xd7\\\\xaa \\\\xd7\\\\xa9\\\\xd7\\\\xa9\\\\xd7\\\\xaa \\\\xd7\\\\x94\\\\xd7\\\\x99\\\\xd7\\\\x9e\\\\xd7\\\\x99\\\\xd7\\\\x9d, \\\\xd7\\\\xa0\\\\xd7\\\\x90\\\\xd7\\\\xa1\\\\xd7\\\\xa3 \\\\xd7\\\\x9e\\\\xd7\\\\x99\\\\xd7\\\\x93\\\\xd7\\\\xa2 \\\\xd7\\\\x9e\\\\xd7\\\\x95\\\\xd7\\\\x93\\\\xd7\\\\x99\\\\xd7\\\\xa2\\\\xd7\\\\x99\\\\xd7\\\\xa0\\\\xd7\\\\x99 \\\\xd7\\\\xa8\\\\xd7\\\\x91 \\\\xd7\\\\xa2\\\\xd7\\\\x9c \\\\xd7\\\\x94\\\\xd7\\\\x9e\\\\xd7\\\\xa2\\\\xd7\\\\xa8\\\\xd7\\\\x9a \\\\xd7\\\\x94\\\\xd7\\\\x99\\\\xd7\\\\xa8\\\\xd7\\\\x93\\\\xd7\\\\xa0\\\\xd7\\\\x99, \\\\xd7\\\\x90\\\\xd7\\\\x9a \\\\xd7\\\\x9c\\\\xd7\\\\xa7\\\\xd7\\\\xa8\\\\xd7\\\\x90\\\\xd7\\\\xaa \\\\xd7\\\\x94\\\\xd7\\\\x94\\\\xd7\\\\xaa\\\\xd7\\\\xa7\\\\xd7\\\\xa4\\\\xd7\\\\x94 \\\\xd7\\\\xa7\\\\xd7\\\\x99\\\\xd7\\\\x91\\\\xd7\\\\x9c\\\\xd7\\\\x95 \\\\xd7\\\\xa7\\\\xd7\\\\xa6\\\\xd7\\\\x99\\\\xd7\\\\xa0\\\\xd7\\\\x99 \\\\xd7\\\\x94\\\\xd7\\\\x9e\\\\xd7\\\\x95\\\\xd7\\\\x93\\\\xd7\\\\x99\\\\xd7\\\\xa2\\\\xd7\\\\x99\\\\xd7\\\\x9f \\\\xd7\\\\xa9\\\\xd7\\\\x9c \\\\xd7\\\\x94\\\\xd7\\\\xa6\\\\xd7\\\\xa0\\\\xd7\\\\x97\\\\xd7\\\\xa0\\\\xd7\\\\x99\\\\xd7\\\\x9d \\\\xd7\\\\xa9\\\\xd7\\\\xa0\\\\xd7\\\\x99 \\\\xd7\\\\xaa\\\\xd7\\\\xa6\\\\xd7\\\\x9c\\\\xd7\\\\x95\\\\xd7\\\\x9e\\\\xd7\\\\x99\\\\xd7\\\\x9d \\\\xd7\\\\xa9\\\\xd7\\\\x9c \\\\xd7\\\\x94\\\\xd7\\\\x99\\\\xd7\\\\xa2\\\\xd7\\\\x93 \\\\xd7\\\\x91\\\\xd7\\\\x9c\\\\xd7\\\\x91\\\\xd7\\\\x93. \\\\xd7\\\\x91\\\\xd7\\\\x9b\\\\xd7\\\\xaa\\\\xd7\\\\x91\\\\xd7\\\\xaa\\\\xd7\\\\x95 \\\\xd7\\\\x94\\\\xd7\\\\xa7\\\\xd7\\\\xa8\\\\xd7\\\\x91 \\\\xd7\\\\xa2\\\\xd7\\\\x9c \\\\xd7\\\\x94\\\\xd7\\\\xa7\\\\xd7\\\\xa8\\\\xd7\\\\x91 \\\\xd7\\\\xa2\\\\xd7\\\\x9c \\\\xd7\\\\x99\\\\xd7\\\\xa8\\\\xd7\\\\x95\\\\xd7\\\\xa9\\\\xd7\\\\x9c\\\\xd7\\\\x99\\\\xd7\\\\x9d \\\\xd7\\\\xa9\\\\xd7\\\\xa4\\\\xd7\\\\x95\\\\xd7\\\\xa8\\\\xd7\\\\xa1\\\\xd7\\\\x9e\\\\xd7\\\\x94 \\\\xd7\\\\x91\\\\xd7\\\\xa2\\\\xd7\\\\x99\\\\xd7\\\\xaa\\\\xd7\\\\x95\\\\xd7\\\\x9f \\\\xd7\\\\x94\\\\xd7\\\\x90\\\\xd7\\\\xa8\\\\xd7\\\\xa5 \\\\xd7\\\\x9e\\\\xd7\\\\xa6\\\\xd7\\\\x98\\\\xd7\\\\x98 \\\\xd7\\\\x94\\\\xd7\\\\x9b\\\\xd7\\\\xaa\\\\xd7\\\\x91 \\\\xd7\\\\x90\\\\xd7\\\\xa0\\\\xd7\\\\xa9\\\\xd7\\\\x99\\\\xd7\\\\x9c \\\\xd7\\\\xa4\\\\xd7\\\\xa4\\\\xd7\\\\xa8 \\\\xd7\\\\x90\\\\xd7\\\\xaa \\\\xd7\\\\x9e\\\\xd7\\\\x99\\\\xd7\\\\x9b\\\\xd7\\\\x94 \\\\xd7\\\\xa2\\\\xd7\\\\xa9\\\\xd7\\\\xaa \\\\xd7\\\\xa7\\\\xd7\\\\x9e\\\\xd7\\\\x91\"\\\\xd7\\\\xa5 \\\\xd7\\\\x92\\\\xd7\\\\x93\\\\xd7\\\\x95\\\\xd7\\\\x93 66, \\\\xd7\\\\xa9\\\\xd7\\\\xa1\\\\xd7\\\\x99\\\\xd7\\\\xa4\\\\xd7\\\\xa8: \"...\\\\xd7\\\\x90\\\\xd7\\\\xa4\\\\xd7\\\\xa1 \\\\xd7\\\\x97\\\\xd7\\\\x95\\\\xd7\\\\x9e\\\\xd7\\\\xa8 \\\\xd7\\\\x9e\\\\xd7\\\\x95\\\\xd7\\\\x93\\\\xd7\\\\x99\\\\xd7\\\\xa2\\\\xd7\\\\x99\\\\xd7\\\\xa0\\\\xd7\\\\x99. \\\\xd7\\\\x9e\\\\xd7\\\\x95\\\\xd7\\\\x98\\\\xd7\\\\x94 \\\\xd7\\\\x9c\\\\xd7\\\\xa7\\\\xd7\\\\x97 \\\\xd7\\\\x90\\\\xd7\\\\xaa \\\\xd7\\\\x94\\\\xd7\\\\x9e\\\\xd7\\\\x92\"\\\\xd7\\\\x93\\\\xd7\\\\x99\\\\xd7\\\\x9d \\\\xd7\\\\x9c\\\\xd7\\\\xa1\\\\xd7\\\\x99\\\\xd7\\\\x95\\\\xd7\\\\xa8 \\\\xd7\\\\x90\\\\xd7\\\\x91\\\\xd7\\\\x9c \\\\xd7\\\\x9b\\\\xd7\\\\x9c \\\\xd7\\\\x9e\\\\xd7\\\\x94 \\\\xd7\\\\xa9\\\\xd7\\\\x94\\\\xd7\\\\x99\\\\xd7\\\\x94 \\\\xd7\\\\x96\\\\xd7\\\\x94 \\\\xd7\\\\xaa\\\\xd7\\\\xa6\\\\xd7\\\\xa4\\\\xd7\\\\x99\\\\xd7\\\\xaa \\\\xd7\\\\xa9\\\\xd7\\\\xa8\\\\xd7\\\\x90\\\\xd7\\\\x95 \\\\xd7\\\\x91\\\\xd7\\\\xa2\\\\xd7\\\\x99\\\\xd7\\\\x9f, \\\\xd7\\\\x9c\\\\xd7\\\\x97\\\\xd7\\\\x9c\\\\xd7\\\\xa7\\\\xd7\\\\xa0\\\\xd7\\\\x95 \\\\xd7\\\\x94\\\\xd7\\\\x99\\\\xd7\\\\x99\\\\xd7\\\\xaa\\\\xd7\\\\x94 \\\\xd7\\\\x94\\\\xd7\\\\x99\\\\xd7\\\\x9b\\\\xd7\\\\xa8\\\\xd7\\\\x95\\\\xd7\\\\xaa \\\\xd7\\\\xa2\\\\xd7\\\\x9d \\\\xd7\\\\x94\\\\xd7\\\\xa7\\\\xd7\\\\x95 \\\\xd7\\\\x94\\\\xd7\\\\xa2\\\\xd7\\\\x99\\\\xd7\\\\xa8\\\\xd7\\\\x95\\\\xd7\\\\xa0\\\\xd7\\\\x99 \\\\xd7\\\\x9e\\\\xd7\\\\xa7\\\\xd7\\\\x95\\\\xd7\\\\xa8\\\\xd7\\\\xa1 \\\\xd7\\\\x9e\"\\\\xd7\\\\xa4\\\\xd7\\\\x99\\\\xd7\\\\x9d \\\\xd7\\\\x90\\\\xd7\\\\x91\\\\xd7\\\\x9c \\\\xd7\\\\xa9\\\\xd7\\\\x95\\\\xd7\\\\x9d \\\\xd7\\\\xaa\\\\xd7\\\\x95\\\\xd7\\\\x9b\\\\xd7\\\\xa0\\\\xd7\\\\x99\\\\xd7\\\\x95\\\\xd7\\\\xaa \\\\xd7\\\\x9c\\\\xd7\\\\x94\\\\xd7\\\\xaa\\\\xd7\\\\xa7\\\\xd7\\\\xa4\\\\xd7\\\\x94. \\\\xd7\\\\x9c\\\\xd7\\\\xa4\\\\xd7\\\\xa0\\\\xd7\\\\x99 \\\\xd7\\\\x94\\\\xd7\\\\xa7\\\\xd7\\\\xa8\\\\xd7\\\\x91 \\\\xd7\\\\xa8\\\\xd7\\\\x90\\\\xd7\\\\x99\\\\xd7\\\\xa0\\\\xd7\\\\x95 \\\\xd7\\\\x91\\\\xd7\\\\xa7\\\\xd7\\\\x95\\\\xd7\\\\xa9\\\\xd7\\\\x99 \\\\xd7\\\\x90\\\\xd7\\\\xaa \\\\xd7\\\\x94\\\\xd7\\\\xa6\\\\xd7\\\\x9c\\\\xd7\\\\x9c\\\\xd7\\\\x99\\\\xd7\\\\xaa \\\\xd7\\\\xa9\\\\xd7\\\\x9c \\\\xd7\\\\x91\\\\xd7\\\\x99\\\\xd7\\\\xaa \\\\xd7\\\\x94\\\\xd7\\\\xa1\\\\xd7\\\\xa4\\\\xd7\\\\xa8 \\\\xd7\\\\x9c\\\\xd7\\\\xa9\\\\xd7\\\\x95\\\\xd7\\\\x98\\\\xd7\\\\xa8\\\\xd7\\\\x99\\\\xd7\\\\x9d\". \\\\xd7\\\\x9b\\\\xd7\\\\x9f \\\\xd7\\\\x9e\\\\xd7\\\\xa6\\\\xd7\\\\x95\\\\xd7\\\\x98\\\\xd7\\\\x98 \\\\xd7\\\\x91\\\\xd7\\\\x9b\\\\xd7\\\\xaa\\\\xd7\\\\x91\\\\xd7\\\\x94 \\\\xd7\\\\xa2\\\\xd7\\\\x9e\\\\xd7\\\\x95\\\\xd7\\\\xa1 \\\\xd7\\\\xa0\\\\xd7\\\\x90\\\\xd7\\\\x9e\\\\xd7\\\\x9f \\\\xd7\\\\xa7\\\\xd7\\\\xa6\\\\xd7\\\\x99\\\\xd7\\\\x9f \\\\xd7\\\\x94\\\\xd7\\\\x90\\\\xd7\\\\x92\"\\\\xd7\\\\x9e \\\\xd7\\\\x91\\\\xd7\\\\x97\\\\xd7\\\\x98\\\\xd7\\\\x99\\\\xd7\\\\x91\\\\xd7\\\\x94 \\\\xd7\\\\x94\\\\xd7\\\\x99\\\\xd7\\\\xa8\\\\xd7\\\\x95\\\\xd7\\\\xa9\\\\xd7\\\\x9c\\\\xd7\\\\x9e\\\\xd7\\\\x99\\\\xd7\\\\xaa \\\\xd7\\\\xa9\\\\xd7\\\\x9e\\\\xd7\\\\xa1\\\\xd7\\\\xa4\\\\xd7\\\\xa8 \\\\xd7\\\\x9b\\\\xd7\\\\x99 \\\\xd7\\\\x94\\\\xd7\\\\x95\\\\xd7\\\\x90 \\\\xd7\\\\x94\\\\xd7\\\\xa2\\\\xd7\\\\x91\\\\xd7\\\\x99\\\\xd7\\\\xa8 \\\\xd7\\\\x9c\\\\xd7\\\\xa7\\\\xd7\\\\xa6\\\\xd7\\\\x99\\\\xd7\\\\xa0\\\\xd7\\\\x99 \\\\xd7\\\\x94\\\\xd7\\\\xa6\\\\xd7\\\\xa0\\\\xd7\\\\x97\\\\xd7\\\\xa0\\\\xd7\\\\x99\\\\xd7\\\\x9d \\\\xd7\\\\x90\\\\xd7\\\\xaa \\\\xd7\\\\x9b\\\\xd7\\\\x9c \\\\xd7\\\\x94\\\\xd7\\\\x9e\\\\xd7\\\\xa4\\\\xd7\\\\x95\\\\xd7\\\\xaa \\\\xd7\\\\x95\\\\xd7\\\\xaa\\\\xd7\\\\xa6\\\\xd7\\\\x9c\\\\xd7\\\\x95\\\\xd7\\\\x9e\\\\xd7\\\\x99 \\\\xd7\\\\x90\\\\xd7\\\\x95\\\\xd7\\\\x95\\\\xd7\\\\x99\\\\xd7\\\\xa8 \\\\xd7\\\\xa9\\\\xd7\\\\x94\\\\xd7\\\\x99\\\\xd7\\\\x95 \\\\xd7\\\\xa2\\\\xd7\\\\x9c \\\\xd7\\\\xa7\\\\xd7\\\\x99\\\\xd7\\\\xa8\\\\xd7\\\\x95\\\\xd7\\\\xaa \\\\xd7\\\\x94\\\\xd7\\\\x9e\\\\xd7\\\\xa4\\\\xd7\\\\xa7\\\\xd7\\\\x93\\\\xd7\\\\x94.\\\\n_START_SECTION_\\\\n\\\\xd7\\\\x90\\\\xd7\\\\xaa\\\\xd7\\\\xa8 \\\\xd7\\\\x94\\\\xd7\\\\xa0\\\\xd7\\\\xa6\\\\xd7\\\\x97\\\\xd7\\\\x94\\\\n_START_PARAGRAPH_\\\\n\\\\xd7\\\\x94\\\\xd7\\\\xa7\\\\xd7\\\\x9e\\\\xd7\\\\xaa\\\\xd7\\\\x95 \\\\xd7\\\\xa9\\\\xd7\\\\x9c \\\\xd7\\\\x90\\\\xd7\\\\xaa\\\\xd7\\\\xa8 \\\\xd7\\\\x94\\\\xd7\\\\x94\\\\xd7\\\\xa0\\\\xd7\\\\xa6\\\\xd7\\\\x97\\\\xd7\\\\x94 \\\\xd7\\\\x91\\\\xd7\\\\x92\\\\xd7\\\\x91\\\\xd7\\\\xa2\\\\xd7\\\\xaa \\\\xd7\\\\x94\\\\xd7\\\\xaa\\\\xd7\\\\x97\\\\xd7\\\\x9e\\\\xd7\\\\x95\\\\xd7\\\\xa9\\\\xd7\\\\xaa \\\\xd7\\\\x94\\\\xd7\\\\x99\\\\xd7\\\\x99\\\\xd7\\\\xaa\\\\xd7\\\\x94 \\\\xd7\\\\x91\\\\xd7\\\\x99\\\\xd7\\\\x95\\\\xd7\\\\x96\\\\xd7\\\\x9e\\\\xd7\\\\xaa \\\\xd7\\\\x94\\\\xd7\\\\x94\\\\xd7\\\\x95\\\\xd7\\\\xa8\\\\xd7\\\\x99\\\\xd7\\\\x9d \\\\xd7\\\\x94\\\\xd7\\\\xa9\\\\xd7\\\\x9b\\\\xd7\\\\x95\\\\xd7\\\\x9c\\\\xd7\\\\x99\\\\xd7\\\\x9d. \\\\xd7\\\\x9c\\\\xd7\\\\x90\\\\xd7\\\\x97\\\\xd7\\\\xa8 \\\\xd7\\\\x9e\\\\xd7\\\\x9c\\\\xd7\\\\x97\\\\xd7\\\\x9e\\\\xd7\\\\xaa \\\\xd7\\\\xa9\\\\xd7\\\\xa9\\\\xd7\\\\xaa \\\\xd7\\\\x94\\\\xd7\\\\x99\\\\xd7\\\\x9e\\\\xd7\\\\x99\\\\xd7\\\\x9d, \\\\xd7\\\\x9b\\\\xd7\\\\x90\\\\xd7\\\\xa9\\\\xd7\\\\xa8 \\\\xd7\\\\x94\\\\xd7\\\\x97\\\\xd7\\\\x9c\\\\xd7\\\\x95 \\\\xd7\\\\xa2\\\\xd7\\\\x91\\\\xd7\\\\x95\\\\xd7\\\\x93\\\\xd7\\\\x95\\\\xd7\\\\xaa \\\\xd7\\\\x9c\\\\xd7\\\\x94\\\\xd7\\\\x9b\\\\xd7\\\\xa9\\\\xd7\\\\xa8\\\\xd7\\\\xaa \\\\xd7\\\\x94\\\\xd7\\\\x92\\\\xd7\\\\x91\\\\xd7\\\\xa2\\\\xd7\\\\x95\\\\xd7\\\\xaa \\\\xd7\\\\x94\\\\xd7\\\\x97\\\\xd7\\\\xa9\\\\xd7\\\\x95\\\\xd7\\\\xa4\\\\xd7\\\\x95\\\\xd7\\\\xaa \\\\xd7\\\\xa9\\\\xd7\\\\x91\\\\xd7\\\\xa6\\\\xd7\\\\xa4\\\\xd7\\\\x95\\\\xd7\\\\x9f-\\\\xd7\\\\x9e\\\\xd7\\\\x96\\\\xd7\\\\xa8\\\\xd7\\\\x97 \\\\xd7\\\\x99\\\\xd7\\\\xa8\\\\xd7\\\\x95\\\\xd7\\\\xa9\\\\xd7\\\\x9c\\\\xd7\\\\x99\\\\xd7\\\\x9d \\\\xd7\\\\xa9\\\\xd7\\\\xa2\\\\xd7\\\\x93 \\\\xd7\\\\x94\\\\xd7\\\\x9e\\\\xd7\\\\x9c\\\\xd7\\\\x97\\\\xd7\\\\x9e\\\\xd7\\\\x94 \\\\xd7\\\\x94\\\\xd7\\\\x99\\\\xd7\\\\x95 \\\\xd7\\\\xa9\\\\xd7\\\\x98\\\\xd7\\\\x97 \\\\xd7\\\\x94\\\\xd7\\\\xa4\\\\xd7\\\\xa7\\\\xd7\\\\xa8 \\\\xd7\\\\x9c\\\\xd7\\\\x94\\\\xd7\\\\xa7\\\\xd7\\\\x9e\\\\xd7\\\\xaa \\\\xd7\\\\xa9\\\\xd7\\\\x9b\\\\xd7\\\\x95\\\\xd7\\\\xa0\\\\xd7\\\\x95\\\\xd7\\\\xaa \\\\xd7\\\\x9e\\\\xd7\\\\x92\\\\xd7\\\\x95\\\\xd7\\\\xa8\\\\xd7\\\\x99\\\\xd7\\\\x9d, \\\\xd7\\\\xa4\\\\xd7\\\\xa0\\\\xd7\\\\x94 \\\\xd7\\\\x9e\\\\xd7\\\\x92\"\\\\xd7\\\\x93 66, \\\\xd7\\\\x99\\\\xd7\\\\x95\\\\xd7\\\\xa1\\\\xd7\\\\x99 \\\\xd7\\\\x99\\\\xd7\\\\xa4\\\\xd7\\\\x94, \\\\xd7\\\\x9c\\\\xd7\\\\x99\\\\xd7\\\\xa6\\\\xd7\\\\x97\\\\xd7\\\\xa7 \\\\xd7\\\\xa4\\\\xd7\\\\xa0\\\\xd7\\\\x99\\\\xd7\\\\x92\\\\xd7\\\\xa8, \\\\xd7\\\\x90\\\\xd7\\\\x91\\\\xd7\\\\x99\\\\xd7\\\\x95 \\\\xd7\\\\xa9\\\\xd7\\\\x9c \\\\xd7\\\\xa2\\\\xd7\\\\x95\\\\xd7\\\\xa4\\\\xd7\\\\xa8 \\\\xd7\\\\xa4\\\\xd7\\\\xa0\\\\xd7\\\\x99\\\\xd7\\\\x92\\\\xd7\\\\xa8, \\\\xd7\\\\x90\\\\xd7\\\\x97\\\\xd7\\\\xa8\\\\xd7\\\\x95\\\\xd7\\\\x9f \\\\xd7\\\\x94\\\\xd7\\\\xa0\\\\xd7\\\\x95\\\\xd7\\\\xa4\\\\xd7\\\\x9c\\\\xd7\\\\x99\\\\xd7\\\\x9d \\\\xd7\\\\x91\\\\xd7\\\\xa7\\\\xd7\\\\xa8\\\\xd7\\\\x91, \\\\xd7\\\\x95\\\\xd7\\\\x96\\\\xd7\\\\x94 \\\\xd7\\\\x94\\\\xd7\\\\x90\\\\xd7\\\\x97\\\\xd7\\\\xa8\\\\xd7\\\\x95\\\\xd7\\\\x9f \\\\xd7\\\\x9b\\\\xd7\\\\x99\\\\xd7\\\\xa0\\\\xd7\\\\xa1 \\\\xd7\\\\x9b\\\\xd7\\\\x9e\\\\xd7\\\\x94 \\\\xd7\\\\x94\\\\xd7\\\\x95\\\\xd7\\\\xa8\\\\xd7\\\\x99\\\\xd7\\\\x9d \\\\xd7\\\\xa9\\\\xd7\\\\x9b\\\\xd7\\\\x95\\\\xd7\\\\x9c\\\\xd7\\\\x99\\\\xd7\\\\x9d \\\\xd7\\\\xa9\\\\xd7\\\\x91\\\\xd7\\\\x99\\\\xd7\\\\xa7\\\\xd7\\\\xa9\\\\xd7\\\\x95 \\\\xd7\\\\x9c\\\\xd7\\\\xa9\\\\xd7\\\\x9e\\\\xd7\\\\xa8 \\\\xd7\\\\x90\\\\xd7\\\\xaa \\\\xd7\\\\x9e\\\\xd7\\\\x95\\\\xd7\\\\xa6\\\\xd7\\\\x91 \\\\xd7\\\\x92\\\\xd7\\\\x91\\\\xd7\\\\xa2\\\\xd7\\\\xaa \\\\xd7\\\\x94\\\\xd7\\\\xaa\\\\xd7\\\\x97\\\\xd7\\\\x9e\\\\xd7\\\\x95\\\\xd7\\\\xa9\\\\xd7\\\\xaa \\\\xd7\\\\x95\\\\xd7\\\\x9c\\\\xd7\\\\x94\\\\xd7\\\\xa7\\\\xd7\\\\x99\\\\xd7\\\\x9d \\\\xd7\\\\x91\\\\xd7\\\\x95 \\\\xd7\\\\x90\\\\xd7\\\\xaa\\\\xd7\\\\xa8 \\\\xd7\\\\x94\\\\xd7\\\\xa0\\\\xd7\\\\xa6\\\\xd7\\\\x97\\\\xd7\\\\x94 \\\\xd7\\\\x9e\\\\xd7\\\\xa8\\\\xd7\\\\x9b\\\\xd7\\\\x96\\\\xd7\\\\x99 \\\\xd7\\\\x9c\\\\xd7\\\\xa0\\\\xd7\\\\x95\\\\xd7\\\\xa4\\\\xd7\\\\x9c\\\\xd7\\\\x99\\\\xd7\\\\x9d._NEWLINE_\\\\xd7\\\\x91\\\\xd7\\\\xa9\\\\xd7\\\\xa0\\\\xd7\\\\xaa 1968 \\\\xd7\\\\x94\\\\xd7\\\\x95\\\\xd7\\\\x97\\\\xd7\\\\x9c \\\\xd7\\\\x91\\\\xd7\\\\xaa\\\\xd7\\\\x9b\\\\xd7\\\\xa0\\\\xd7\\\\x95\\\\xd7\\\\x9f \\\\xd7\\\\x90\\\\xd7\\\\xaa\\\\xd7\\\\xa8 \\\\xd7\\\\x94\\\\xd7\\\\x94\\\\xd7\\\\xa0\\\\xd7\\\\xa6\\\\xd7\\\\x97\\\\xd7\\\\x94 \\\\xd7\\\\x91\\\\xd7\\\\x9e\\\\xd7\\\\xa7\\\\xd7\\\\x95\\\\xd7\\\\x9d. \\\\xd7\\\\x90\\\\xd7\\\\xaa \\\\xd7\\\\x94\\\\xd7\\\\xaa\\\\xd7\\\\x9b\\\\xd7\\\\xa0\\\\xd7\\\\x95\\\\xd7\\\\x9f \\\\xd7\\\\x91\\\\xd7\\\\x99\\\\xd7\\\\xa6\\\\xd7\\\\xa2 \\\\xd7\\\\x9e\\\\xd7\\\\xa9\\\\xd7\\\\xa8\\\\xd7\\\\x93 \\\\xd7\\\\x94\\\\xd7\\\\x90\\\\xd7\\\\x93\\\\xd7\\\\xa8\\\\xd7\\\\x99\\\\xd7\\\\x9b\\\\xd7\\\\x9c\\\\xd7\\\\x99\\\\xd7\\\\x9d \\\\xd7\\\\x91\\\\xd7\\\\xa0\\\\xd7\\\\x99\\\\xd7\\\\x9e\\\\xd7\\\\x99\\\\xd7\\\\x9f \\\\xd7\\\\x90\\\\xd7\\\\x99\\\\xd7\\\\x93\\\\xd7\\\\x9c\\\\xd7\\\\xa1\\\\xd7\\\\x95\\\\xd7\\\\x9f \\\\xe2\\\\x80\\\\x93 \\\\xd7\\\\x92\\\\xd7\\\\xa8\\\\xd7\\\\xa9\\\\xd7\\\\x95\\\\xd7\\\\x9f \\\\xd7\\\\xa6\\\\xd7\\\\xa4\\\\xd7\\\\x95\\\\xd7\\\\xa8 \\\\xd7\\\\x9b\\\\xd7\\\\xa9\\\\xd7\\\\xa2\\\\xd7\\\\x9c \\\\xd7\\\\xa2\\\\xd7\\\\x99\\\\xd7\\\\xa6\\\\xd7\\\\x95\\\\xd7\\\\x91 \\\\xd7\\\\x94\\\\xd7\\\\xa4\\\\xd7\\\\xa0\\\\xd7\\\\x99\\\\xd7\\\\x9d \\\\xd7\\\\x95\\\\xd7\\\\x94\\\\xd7\\\\xaa\\\\xd7\\\\xa6\\\\xd7\\\\x95\\\\xd7\\\\x92\\\\xd7\\\\x94 \\\\xd7\\\\x94\\\\xd7\\\\x95\\\\xd7\\\\xa4\\\\xd7\\\\xa7\\\\xd7\\\\x93 \\\\xd7\\\\xa8\\\\xd7\\\\xa4\\\\xd7\\\\x99 \\\\xd7\\\\x91\\\\xd7\\\\x9c\\\\xd7\\\\x95\\\\xd7\\\\x9e\\\\xd7\\\\xa0\\\\xd7\\\\xa4\\\\xd7\\\\x9c\\\\xd7\\\\x93._NEWLINE_\\\\xd7\\\\x91\\\\xd7\\\\xa9\\\\xd7\\\\xa0\\\\xd7\\\\xaa 1975 \\\\xd7\\\\xa0\\\\xd7\\\\x97\\\\xd7\\\\xa0\\\\xd7\\\\x9a \\\\xd7\\\\x91\\\\xd7\\\\x92\\\\xd7\\\\x91\\\\xd7\\\\xa2\\\\xd7\\\\xaa \\\\xd7\\\\x94\\\\xd7\\\\xaa\\\\xd7\\\\x97\\\\xd7\\\\x9e\\\\xd7\\\\x95\\\\xd7\\\\xa9\\\\xd7\\\\xaa \\\\xd7\\\\x90\\\\xd7\\\\xaa\\\\xd7\\\\xa8 \\\\xd7\\\\x94\\\\xd7\\\\x94\\\\xd7\\\\xa0\\\\xd7\\\\xa6\\\\xd7\\\\x97\\\\xd7\\\\x94, \\\\xd7\\\\xa9\\\\xd7\\\\x91\\\\xd7\\\\x95 \\\\xd7\\\\xa0\\\\xd7\\\\xa9\\\\xd7\\\\x9e\\\\xd7\\\\xa8 \\\\xd7\\\\x97\\\\xd7\\\\x9c\\\\xd7\\\\xa7 \\\\xd7\\\\x9e\\\\xd7\\\\x94\\\\xd7\\\\x9e\\\\xd7\\\\x95\\\\xd7\\\\xa6\\\\xd7\\\\x91 \\\\xd7\\\\xa9\\\\xd7\\\\x94\\\\xd7\\\\x99\\\\xd7\\\\x94 \\\\xd7\\\\x91\\\\xd7\\\\x9e\\\\xd7\\\\xa7\\\\xd7\\\\x95\\\\xd7\\\\x9d, \\\\xd7\\\\x95\\\\xd7\\\\x94\\\\xd7\\\\x95\\\\xd7\\\\xa7\\\\xd7\\\\x9d \\\\xd7\\\\x91\\\\xd7\\\\x95 \\\\xd7\\\\x9e\\\\xd7\\\\x95\\\\xd7\\\\x96\\\\xd7\\\\x99\\\\xd7\\\\x90\\\\xd7\\\\x95\\\\xd7\\\\x9f \\\\xd7\\\\x9c\\\\xd7\\\\x94\\\\xd7\\\\xa0\\\\xd7\\\\xa6\\\\xd7\\\\x97\\\\xd7\\\\xaa \\\\xd7\\\\x94\\\\xd7\\\\x9c\\\\xd7\\\\x95\\\\xd7\\\\x97\\\\xd7\\\\x9e\\\\xd7\\\\x99\\\\xd7\\\\x9d. \\\\xd7\\\\xa2\\\\xd7\\\\x9c \\\\xd7\\\\xa7\\\\xd7\\\\x99\\\\xd7\\\\xa8 \\\\xd7\\\\x91\\\\xd7\\\\x9e\\\\xd7\\\\x95\\\\xd7\\\\x96\\\\xd7\\\\x99\\\\xd7\\\\x90\\\\xd7\\\\x95\\\\xd7\\\\x9f \\\\xd7\\\\x97\\\\xd7\\\\xa7\\\\xd7\\\\x95\\\\xd7\\\\xa7\\\\xd7\\\\x99\\\\xd7\\\\x9d \\\\xd7\\\\xa9\\\\xd7\\\\x9e\\\\xd7\\\\x95\\\\xd7\\\\xaa 182 \\\\xd7\\\\x94\\\\xd7\\\\xa0\\\\xd7\\\\x95\\\\xd7\\\\xa4\\\\xd7\\\\x9c\\\\xd7\\\\x99\\\\xd7\\\\x9d \\\\xd7\\\\x91\\\\xd7\\\\x9e\\\\xd7\\\\xa2\\\\xd7\\\\xa8\\\\xd7\\\\x9b\\\\xd7\\\\x94 \\\\xd7\\\\xa2\\\\xd7\\\\x9c \\\\xd7\\\\x99\\\\xd7\\\\xa8\\\\xd7\\\\x95\\\\xd7\\\\xa9\\\\xd7\\\\x9c\\\\xd7\\\\x99\\\\xd7\\\\x9d \\\\xd7\\\\x91\\\\xd7\\\\x9e\\\\xd7\\\\x9c\\\\xd7\\\\x97\\\\xd7\\\\x9e\\\\xd7\\\\xaa \\\\xd7\\\\xa9\\\\xd7\\\\xa9\\\\xd7\\\\xaa \\\\xd7\\\\x94\\\\xd7\\\\x99\\\\xd7\\\\x9e\\\\xd7\\\\x99\\\\xd7\\\\x9d. \\\\xd7\\\\x91\\\\xd7\\\\x9e\\\\xd7\\\\xa7\\\\xd7\\\\x95\\\\xd7\\\\x9d \\\\xd7\\\\xa0\\\\xd7\\\\x99\\\\xd7\\\\x98\\\\xd7\\\\xa2\\\\xd7\\\\x95 182 \\\\xd7\\\\xa2\\\\xd7\\\\xa6\\\\xd7\\\\x99 \\\\xd7\\\\x96\\\\xd7\\\\x99\\\\xd7\\\\xaa \\\\xd7\\\\x9c\\\\xd7\\\\x96\\\\xd7\\\\x9b\\\\xd7\\\\xa8 \\\\xd7\\\\x94\\\\xd7\\\\xa0\\\\xd7\\\\x95\\\\xd7\\\\xa4\\\\xd7\\\\x9c\\\\xd7\\\\x99\\\\xd7\\\\x9d \\\\xd7\\\\x91\\\\xd7\\\\xa7\\\\xd7\\\\xa8\\\\xd7\\\\x91 \\\\xd7\\\\xa2\\\\xd7\\\\x9c \\\\xd7\\\\x99\\\\xd7\\\\xa8\\\\xd7\\\\x95\\\\xd7\\\\xa9\\\\xd7\\\\x9c\\\\xd7\\\\x99\\\\xd7\\\\x9d. \\\\xd7\\\\x97\\\\xd7\\\\x9c\\\\xd7\\\\xa7 \\\\xd7\\\\x9e\\\\xd7\\\\x9f \\\\xd7\\\\x94\\\\xd7\\\\x9e\\\\xd7\\\\x95\\\\xd7\\\\xa6\\\\xd7\\\\x91 \\\\xd7\\\\xa0\\\\xd7\\\\x94\\\\xd7\\\\xa8\\\\xd7\\\\xa1, \\\\xd7\\\\x90\\\\xd7\\\\x9a \\\\xd7\\\\x97\\\\xd7\\\\x9c\\\\xd7\\\\xa7\\\\xd7\\\\x99\\\\xd7\\\\x95 \\\\xd7\\\\x94\\\\xd7\\\\x9e\\\\xd7\\\\xa8\\\\xd7\\\\x9b\\\\xd7\\\\x96\\\\xd7\\\\x99\\\\xd7\\\\x99\\\\xd7\\\\x9d \\\\xd7\\\\x95\\\\xd7\\\\x94\\\\xd7\\\\x9e\\\\xd7\\\\xa2\\\\xd7\\\\xa8\\\\xd7\\\\x91\\\\xd7\\\\x99\\\\xd7\\\\x99\\\\xd7\\\\x9d \\\\xd7\\\\xa0\\\\xd7\\\\x95\\\\xd7\\\\xaa\\\\xd7\\\\xa8\\\\xd7\\\\x95 \\\\xd7\\\\x9b\\\\xd7\\\\xa9\\\\xd7\\\\x94\\\\xd7\\\\x99\\\\xd7\\\\x95 \\\\xd7\\\\x91\\\\xd7\\\\xa2\\\\xd7\\\\xaa \\\\xd7\\\\x94\\\\xd7\\\\x9c\\\\xd7\\\\x97\\\\xd7\\\\x99\\\\xd7\\\\x9e\\\\xd7\\\\x94. \\\\xd7\\\\x91\\\\xd7\\\\xa9\\\\xd7\\\\xa0\\\\xd7\\\\xaa 1990 \\\\xd7\\\\x94\\\\xd7\\\\x95\\\\xd7\\\\x9b\\\\xd7\\\\xa8 \\\\xd7\\\\x94\\\\xd7\\\\x90\\\\xd7\\\\xaa\\\\xd7\\\\xa8 \\\\xd7\\\\x9b\\\\xd7\\\\x90\\\\xd7\\\\xaa\\\\xd7\\\\xa8 \\\\xd7\\\\x94\\\\xd7\\\\xa0\\\\xd7\\\\xa6\\\\xd7\\\\x97\\\\xd7\\\\x94 \\\\xd7\\\\x9e\\\\xd7\\\\x9e\\\\xd7\\\\x9c\\\\xd7\\\\x9b\\\\xd7\\\\xaa\\\\xd7\\\\x99._NEWLINE_\\\\xd7\\\\x9b\\\\xd7\\\\x9a \\\\xd7\\\\x9e\\\\xd7\\\\xaa\\\\xd7\\\\x90\\\\xd7\\\\xa8 \\\\xd7\\\\x94\\\\xd7\\\\x90\\\\xd7\\\\x93\\\\xd7\\\\xa8\\\\xd7\\\\x99\\\\xd7\\\\x9b\\\\xd7\\\\x9c \\\\xd7\\\\x92\\\\xd7\\\\xa8\\\\xd7\\\\xa9\\\\xd7\\\\x95\\\\xd7\\\\x9f \\\\xd7\\\\xa6\\\\xd7\\\\xa4\\\\xd7\\\\x95\\\\xd7\\\\xa8 \\\\xd7\\\\x90\\\\xd7\\\\xaa \\\\xd7\\\\x90\\\\xd7\\\\xaa\\\\xd7\\\\xa8 \\\\xd7\\\\x94\\\\xd7\\\\x94\\\\xd7\\\\xa0\\\\xd7\\\\xa6\\\\xd7\\\\x97\\\\xd7\\\\x94:_NEWLINE_\\\\xd7\\\\x91\\\\xd7\\\\x90\\\\xd7\\\\xaa\\\\xd7\\\\xa8 \\\\xd7\\\\x94\\\\xd7\\\\x94\\\\xd7\\\\xa0\\\\xd7\\\\xa6\\\\xd7\\\\x97\\\\xd7\\\\x94 \\\\xd7\\\\xa9\\\\xd7\\\\xa0\\\\xd7\\\\x99 \\\\xd7\\\\x97\\\\xd7\\\\x9c\\\\xd7\\\\xa7\\\\xd7\\\\x99\\\\xd7\\\\x9d \\\\xd7\\\\xa2\\\\xd7\\\\x99\\\\xd7\\\\xa7\\\\xd7\\\\xa8\\\\xd7\\\\x99\\\\xd7\\\\x99\\\\xd7\\\\x9d: \\\\xd7\\\\x94\\\\xd7\\\\x9e\\\\xd7\\\\x91\\\\xd7\\\\xa0\\\\xd7\\\\x99\\\\xd7\\\\x9d \\\\xd7\\\\x9e\\\\xd7\\\\xaa\\\\xd7\\\\x97\\\\xd7\\\\xaa \\\\xd7\\\\x9c\\\\xd7\\\\xa7\\\\xd7\\\\xa8\\\\xd7\\\\xa7\\\\xd7\\\\xa2, \\\\xd7\\\\xa9\\\\xd7\\\\x94\\\\xd7\\\\x99\\\\xd7\\\\xa0\\\\xd7\\\\x9d \\\\\\'\\\\xd7\\\\x91\\\\xd7\\\\x95\\\\xd7\\\\xa0\\\\xd7\\\\xa7\\\\xd7\\\\xa8\\\\xd7\\\\x99\\\\xd7\\\\x9d\\\\\\' \\\\xd7\\\\x95\\\\\\'\\\\xd7\\\\xaa\\\\xd7\\\\xa2\\\\xd7\\\\x9c\\\\xd7\\\\x95\\\\xd7\\\\xaa\\\\\\'. \\\\xd7\\\\x90\\\\xd7\\\\x9c\\\\xd7\\\\x94 \\\\xd7\\\\x9e\\\\xd7\\\\x94\\\\xd7\\\\x95\\\\xd7\\\\x95\\\\xd7\\\\x99\\\\xd7\\\\x9d \\\\xd7\\\\xa8\\\\xd7\\\\xa7\\\\xd7\\\\xa2 \\\\xd7\\\\x9c\\\\xd7\\\\xa7\\\\xd7\\\\xa8\\\\xd7\\\\x91\\\\xd7\\\\x95\\\\xd7\\\\xaa \\\\xd7\\\\x94\\\\xd7\\\\x9e\\\\xd7\\\\xa8\\\\xd7\\\\x99\\\\xd7\\\\x9d, \\\\xd7\\\\xa9\\\\xd7\\\\xa0\\\\xd7\\\\xa2\\\\xd7\\\\xa8\\\\xd7\\\\x9b\\\\xd7\\\\x95 \\\\xd7\\\\x91\\\\xd7\\\\x92\\\\xd7\\\\x91\\\\xd7\\\\xa2\\\\xd7\\\\xaa \\\\xd7\\\\x94\\\\xd7\\\\xaa\\\\xd7\\\\x97\\\\xd7\\\\x9e\\\\xd7\\\\x95\\\\xd7\\\\xa9\\\\xd7\\\\xaa; \\\\xd7\\\\x95\\\\xd7\\\\x94\\\\xd7\\\\x9e\\\\xd7\\\\x91\\\\xd7\\\\xa0\\\\xd7\\\\x99\\\\xd7\\\\x9d \\\\xd7\\\\xa9\\\\xd7\\\\x9e\\\\xd7\\\\xa2\\\\xd7\\\\x9c \\\\xd7\\\\x94\\\\xd7\\\\xa7\\\\xd7\\\\xa8\\\\xd7\\\\xa7\\\\xd7\\\\xa2, \\\\xd7\\\\x94\\\\xd7\\\\x9e\\\\xd7\\\\xa9\\\\xd7\\\\x9e\\\\xd7\\\\xa9\\\\xd7\\\\x99\\\\xd7\\\\x9d \\\\xd7\\\\x9c\\\\xd7\\\\x9c\\\\xd7\\\\x99\\\\xd7\\\\x9e\\\\xd7\\\\x95\\\\xd7\\\\x93 \\\\xd7\\\\x94\\\\xd7\\\\x9c\\\\xd7\\\\x97\\\\xd7\\\\x99\\\\xd7\\\\x9e\\\\xd7\\\\x94 \\\\xd7\\\\xa9\\\\xd7\\\\x9c \\\\xd7\\\\x99\\\\xd7\\\\x97\\\\xd7\\\\x99\\\\xd7\\\\x93\\\\xd7\\\\x95\\\\xd7\\\\xaa \\\\xd7\\\\xa6\\\\xd7\\\\x94\"\\\\xd7\\\\x9c \\\\xd7\\\\x91\\\\xd7\\\\xa7\\\\xd7\\\\xa8\\\\xd7\\\\x91 \\\\xd7\\\\xa2\\\\xd7\\\\x9c \\\\xd7\\\\x99\\\\xd7\\\\xa8\\\\xd7\\\\x95\\\\xd7\\\\xa9\\\\xd7\\\\x9c\\\\xd7\\\\x99\\\\xd7\\\\x9d \\\\xd7\\\\x95\\\\xd7\\\\x9e\\\\xd7\\\\x95\\\\xd7\\\\xa7\\\\xd7\\\\x93 \\\\xd7\\\\x9c\\\\xd7\\\\x96\\\\xd7\\\\x99\\\\xd7\\\\x9b\\\\xd7\\\\xa8\\\\xd7\\\\x95\\\\xd7\\\\x9f \\\\xd7\\\\x95\\\\xd7\\\\x9c\\\\xd7\\\\x94\\\\xd7\\\\xaa\\\\xd7\\\\x99\\\\xd7\\\\x99\\\\xd7\\\\x97\\\\xd7\\\\x93\\\\xd7\\\\x95\\\\xd7\\\\xaa._NEWLINE_\\\\xd7\\\\x94\\\\xd7\\\\x92\\\\xd7\\\\x99\\\\xd7\\\\xa9\\\\xd7\\\\x94 \\\\xd7\\\\x90\\\\xd7\\\\x9c \\\\xd7\\\\x94\\\\xd7\\\\x90\\\\xd7\\\\xaa\\\\xd7\\\\xa8 \\\\xd7\\\\x94\\\\xd7\\\\x99\\\\xd7\\\\x90 \\\\xd7\\\\x9e\\\\xd7\\\\x9e\\\\xd7\\\\xa4\\\\xd7\\\\x9c\\\\xd7\\\\xa1 \\\\xd7\\\\xa0\\\\xd7\\\\x9e\\\\xd7\\\\x95\\\\xd7\\\\x9a, \\\\xd7\\\\x94\\\\xd7\\\\x93\\\\xd7\\\\x95\\\\xd7\\\\x9e\\\\xd7\\\\x94 \\\\xd7\\\\x9c\\\\xd7\\\\x9b\\\\xd7\\\\xa0\\\\xd7\\\\x99\\\\xd7\\\\xa1\\\\xd7\\\\x95\\\\xd7\\\\xaa \\\\xd7\\\\x90\\\\xd7\\\\x9c \\\\xd7\\\\x94\\\\xd7\\\\x91\\\\xd7\\\\x95\\\\xd7\\\\xa0\\\\xd7\\\\xa7\\\\xd7\\\\xa8\\\\xd7\\\\x99\\\\xd7\\\\x9d. \\\\xd7\\\\x9e\\\\xd7\\\\x97\\\\xd7\\\\x9c\\\\xd7\\\\x9c \\\\xd7\\\\x94\\\\xd7\\\\x9b\\\\xd7\\\\xa0\\\\xd7\\\\x99\\\\xd7\\\\xa1\\\\xd7\\\\x94 \\\\xd7\\\\x99\\\\xd7\\\\xa9 \\\\xd7\\\\x9e\\\\xd7\\\\xa2\\\\xd7\\\\x91\\\\xd7\\\\xa8 \\\\xd7\\\\x9c\\\\xd7\\\\x9e\\\\xd7\\\\xa1\\\\xd7\\\\x93\\\\xd7\\\\xa8\\\\xd7\\\\x95\\\\xd7\\\\x9f \\\\xd7\\\\x9e\\\\xd7\\\\xa7\\\\xd7\\\\x95\\\\xd7\\\\xa8\\\\xd7\\\\x94, \\\\xd7\\\\x94\\\\xd7\\\\x91\\\\xd7\\\\xa0\\\\xd7\\\\x95\\\\xd7\\\\x99 \\\\xd7\\\\x91\\\\xd7\\\\x97\\\\xd7\\\\x9c\\\\xd7\\\\xa7\\\\xd7\\\\x95 \\\\xd7\\\\x91\\\\xd7\\\\x98\\\\xd7\\\\x95\\\\xd7\\\\x9f \\\\xd7\\\\x97\\\\xd7\\\\xa9\\\\xd7\\\\x95\\\\xd7\\\\xa3 \\\\xd7\\\\x95\\\\xd7\\\\x91\\\\xd7\\\\x97\\\\xd7\\\\x9c\\\\xd7\\\\xa7\\\\xd7\\\\x95 \\\\xd7\\\\x90\\\\xd7\\\\x91\\\\xd7\\\\x9f \\\\xd7\\\\x92\\\\xd7\\\\xa1\\\\xd7\\\\x94, \\\\xd7\\\\x94\\\\xd7\\\\x9e\\\\xd7\\\\xa9\\\\xd7\\\\xa8\\\\xd7\\\\x94 \\\\xd7\\\\xaa\\\\xd7\\\\x97\\\\xd7\\\\x95\\\\xd7\\\\xa9\\\\xd7\\\\x94 \\\\xd7\\\\xa9\\\\xd7\\\\x9c \\\\xd7\\\\x9e\\\\xd7\\\\xa2\\\\xd7\\\\x91\\\\xd7\\\\xa8 \\\\xd7\\\\x91\\\\xd7\\\\xaa\\\\xd7\\\\xa2\\\\xd7\\\\x9c\\\\xd7\\\\x95\\\\xd7\\\\xaa \\\\xd7\\\\xa7\\\\xd7\\\\xa9\\\\xd7\\\\xa8 \\\\xd7\\\\x91\\\\xd7\\\\x99\\\\xd7\\\\x9f \\\\xd7\\\\x94\\\\xd7\\\\x91\\\\xd7\\\\x95\\\\xd7\\\\xa0\\\\xd7\\\\xa7\\\\xd7\\\\xa8\\\\xd7\\\\x99\\\\xd7\\\\x9d \\\\xd7\\\\x9c\\\\xd7\\\\xa0\\\\xd7\\\\xa7\\\\xd7\\\\x95\\\\xd7\\\\x93\\\\xd7\\\\x95\\\\xd7\\\\xaa \\\\xd7\\\\x94\\\\xd7\\\\x90\\\\xd7\\\\x99\\\\xd7\\\\xa1\\\\xd7\\\\x95\\\\xd7\\\\xa3. \\\\xd7\\\\x9c\\\\xd7\\\\x90\\\\xd7\\\\x95\\\\xd7\\\\xa8\\\\xd7\\\\x9a \\\\xd7\\\\xa7\\\\xd7\\\\x99\\\\xd7\\\\xa8\\\\xd7\\\\x95\\\\xd7\\\\xaa \\\\xd7\\\\x94\\\\xd7\\\\x9e\\\\xd7\\\\xa1\\\\xd7\\\\x93\\\\xd7\\\\xa8\\\\xd7\\\\x95\\\\xd7\\\\x9f \\\\xd7\\\\xa0\\\\xd7\\\\x97\\\\xd7\\\\xa6\\\\xd7\\\\x91\\\\xd7\\\\x95 \\\\xd7\\\\x92\\\\xd7\\\\x95\\\\xd7\\\\x9e\\\\xd7\\\\x97\\\\xd7\\\\x95\\\\xd7\\\\xaa, \\\\xd7\\\\x95\\\\xd7\\\\x91\\\\xd7\\\\x94\\\\xd7\\\\x9f \\\\xd7\\\\x9e\\\\xd7\\\\x95\\\\xd7\\\\xa6\\\\xd7\\\\x92\\\\xd7\\\\x99\\\\xd7\\\\x9d \\\\xd7\\\\x9b\\\\xd7\\\\x9c\\\\xd7\\\\x99 \\\\xd7\\\\xa0\\\\xd7\\\\xa9\\\\xd7\\\\xa7 \\\\xd7\\\\xa9\\\\xd7\\\\x94\\\\xd7\\\\x95\\\\xd7\\\\xa0\\\\xd7\\\\x97\\\\xd7\\\\x95 \\\\xd7\\\\x91\\\\xd7\\\\x90\\\\xd7\\\\x95\\\\xd7\\\\xa4\\\\xd7\\\\x9f \\\\xd7\\\\xa4\\\\xd7\\\\x99\\\\xd7\\\\xa1\\\\xd7\\\\x95\\\\xd7\\\\x9c\\\\xd7\\\\x99, \\\\xd7\\\\x90\\\\xd7\\\\x95\\\\xd7\\\\xaa \\\\xd7\\\\x95\\\\xd7\\\\xa2\\\\xd7\\\\x93\\\\xd7\\\\x95\\\\xd7\\\\xaa \\\\xd7\\\\x9c\\\\xd7\\\\x9b\\\\xd7\\\\x9c\\\\xd7\\\\x99 \\\\xd7\\\\x94\\\\xd7\\\\x9e\\\\xd7\\\\x9c\\\\xd7\\\\x97\\\\xd7\\\\x9e\\\\xd7\\\\x94, \\\\xd7\\\\xa9\\\\xd7\\\\x91\\\\xd7\\\\x94\\\\xd7\\\\x9d \\\\xd7\\\\x94\\\\xd7\\\\xa9\\\\xd7\\\\xaa\\\\xd7\\\\x9e\\\\xd7\\\\xa9\\\\xd7\\\\x95 \\\\xd7\\\\x94\\\\xd7\\\\x9c\\\\xd7\\\\x95\\\\xd7\\\\x97\\\\xd7\\\\x9e\\\\xd7\\\\x99\\\\xd7\\\\x9d. \\\\xd7\\\\x91\\\\xd7\\\\x90\\\\xd7\\\\x95\\\\xd7\\\\x9c\\\\xd7\\\\x9e\\\\xd7\\\\x95\\\\xd7\\\\xaa \\\\xd7\\\\x95\\\\xd7\\\\x91\\\\xd7\\\\x9e\\\\xd7\\\\x91\\\\xd7\\\\x95\\\\xd7\\\\x90\\\\xd7\\\\x95\\\\xd7\\\\xaa \\\\xd7\\\\xa0\\\\xd7\\\\xa4\\\\xd7\\\\xa8\\\\xd7\\\\xa6\\\\xd7\\\\x95 \\\\xd7\\\\xa4\\\\xd7\\\\xaa\\\\xd7\\\\x97\\\\xd7\\\\x99 \\\\xd7\\\\x94\\\\xd7\\\\xaa\\\\xd7\\\\x91\\\\xd7\\\\x95\\\\xd7\\\\xa0\\\\xd7\\\\xa0\\\\xd7\\\\x95\\\\xd7\\\\xaa \\\\xd7\\\\x95\\\\xd7\\\\xaa\\\\xd7\\\\xa6\\\\xd7\\\\xa4\\\\xd7\\\\x99\\\\xd7\\\\xaa \\\\xd7\\\\x90\\\\xd7\\\\x9c \\\\xd7\\\\x99\\\\xd7\\\\xa8\\\\xd7\\\\x95\\\\xd7\\\\xa9\\\\xd7\\\\x9c\\\\xd7\\\\x99\\\\xd7\\\\x9d, \\\\xd7\\\\x95\\\\xd7\\\\x9e\\\\xd7\\\\x94\\\\xd7\\\\x9d \\\\xd7\\\\xa0\\\\xd7\\\\x99\\\\xd7\\\\xaa\\\\xd7\\\\x9f \\\\xd7\\\\x9c\\\\xd7\\\\xa8\\\\xd7\\\\x90\\\\xd7\\\\x95\\\\xd7\\\\xaa \\\\xd7\\\\x90\\\\xd7\\\\xaa \\\\xd7\\\\xa0\\\\xd7\\\\x95\\\\xd7\\\\xa4\\\\xd7\\\\x99 \\\\xd7\\\\x94\\\\xd7\\\\xa2\\\\xd7\\\\x99\\\\xd7\\\\xa8. \\\\xd7\\\\xa7\\\\xd7\\\\x99\\\\xd7\\\\x99\\\\xd7\\\\x9e\\\\xd7\\\\x99\\\\xd7\\\\x9d \\\\xd7\\\\x92\\\\xd7\\\\x9d \\\\xd7\\\\xa4\\\\xd7\\\\xaa\\\\xd7\\\\x97\\\\xd7\\\\x99\\\\xd7\\\\x9d \\\\xd7\\\\x95\\\\xd7\\\\x93\\\\xd7\\\\x9c\\\\xd7\\\\xaa\\\\xd7\\\\x95\\\\xd7\\\\xaa \\\\xd7\\\\x90\\\\xd7\\\\x9c \\\\xd7\\\\xaa\\\\xd7\\\\xa2\\\\xd7\\\\x9c\\\\xd7\\\\x95\\\\xd7\\\\xaa \\\\xd7\\\\x94\\\\xd7\\\\xa7\\\\xd7\\\\xa9\\\\xd7\\\\xa8, \\\\xd7\\\\x94\\\\xd7\\\\xa0\\\\xd7\\\\x9e\\\\xd7\\\\xa6\\\\xd7\\\\x90\\\\xd7\\\\x95\\\\xd7\\\\xaa \\\\xd7\\\\x9e\\\\xd7\\\\x97\\\\xd7\\\\x95\\\\xd7\\\\xa5 \\\\xd7\\\\x9c\\\\xd7\\\\x9e\\\\xd7\\\\x91\\\\xd7\\\\xa0\\\\xd7\\\\x94 \\\\xd7\\\\x95\\\\xd7\\\\x94\\\\xd7\\\\x9e\\\\xd7\\\\xa7\\\\xd7\\\\x99\\\\xd7\\\\xa4\\\\xd7\\\\x95\\\\xd7\\\\xaa \\\\xd7\\\\x90\\\\xd7\\\\xaa \\\\xd7\\\\x94\\\\xd7\\\\x92\\\\xd7\\\\x91\\\\xd7\\\\xa2\\\\xd7\\\\x94 \\\\xd7\\\\x9b\\\\xd7\\\\x95\\\\xd7\\\\x9c\\\\xd7\\\\x94._NEWLINE_\\\\xd7\\\\x94\\\\xd7\\\\x9e\\\\xd7\\\\xa8\\\\xd7\\\\x90\\\\xd7\\\\x94, \\\\xd7\\\\xa9\\\\xd7\\\\xa0\\\\xd7\\\\xa6\\\\xd7\\\\xa4\\\\xd7\\\\x94 \\\\xd7\\\\xa2\\\\xd7\\\\x9c \\\\xd7\\\\x92\\\\xd7\\\\x91\\\\xd7\\\\xa2\\\\xd7\\\\xaa \\\\xd7\\\\x94\\\\xd7\\\\xaa\\\\xd7\\\\x97\\\\xd7\\\\x9e\\\\xd7\\\\x95\\\\xd7\\\\xa9\\\\xd7\\\\xaa \\\\xd7\\\\x9c\\\\xd7\\\\xa4\\\\xd7\\\\xa0\\\\xd7\\\\x99 \\\\xd7\\\\x9e\\\\xd7\\\\x9c\\\\xd7\\\\x97\\\\xd7\\\\x9e\\\\xd7\\\\xaa \\\\xd7\\\\xa9\\\\xd7\\\\xa9\\\\xd7\\\\xaa \\\\xd7\\\\x94\\\\xd7\\\\x99\\\\xd7\\\\x9e\\\\xd7\\\\x99\\\\xd7\\\\x9d, \\\\xd7\\\\x94\\\\xd7\\\\x99\\\\xd7\\\\x94 \\\\xd7\\\\xa9\\\\xd7\\\\x9c \\\\xd7\\\\xa2\\\\xd7\\\\xa6\\\\xd7\\\\x99 \\\\xd7\\\\x90\\\\xd7\\\\x95\\\\xd7\\\\xa8\\\\xd7\\\\x9f \\\\xd7\\\\x95\\\\xd7\\\\x91\\\\xd7\\\\x99\\\\xd7\\\\xa0\\\\xd7\\\\x99\\\\xd7\\\\x94\\\\xd7\\\\x9d \\\\xd7\\\\x94\\\\xd7\\\\x99\\\\xd7\\\\x95 \\\\xd7\\\\xa4\\\\xd7\\\\x96\\\\xd7\\\\x95\\\\xd7\\\\xa8\\\\xd7\\\\x99\\\\xd7\\\\x9d \\\\xd7\\\\x9e\\\\xd7\\\\x91\\\\xd7\\\\xa0\\\\xd7\\\\x99\\\\xd7\\\\x9d \\\\xd7\\\\xa2\\\\xd7\\\\x9d \\\\xd7\\\\xa7\\\\xd7\\\\xa9\\\\xd7\\\\xaa\\\\xd7\\\\x95\\\\xd7\\\\xaa \\\\xd7\\\\x95\\\\xd7\\\\x92\\\\xd7\\\\x92\\\\xd7\\\\x95\\\\xd7\\\\xaa \\\\xd7\\\\xa4\\\\xd7\\\\x97 \\\\xd7\\\\xa2\\\\xd7\\\\x92\\\\xd7\\\\x95\\\\xd7\\\\x9c\\\\xd7\\\\x99\\\\xd7\\\\x9d. \\\\xd7\\\\x9c\\\\xd7\\\\x9b\\\\xd7\\\\x9f \\\\xd7\\\\xaa\\\\xd7\\\\x95\\\\xd7\\\\x9b\\\\xd7\\\\xa0\\\\xd7\\\\x9f \\\\xd7\\\\x94\\\\xd7\\\\x9e\\\\xd7\\\\x91\\\\xd7\\\\xa0\\\\xd7\\\\x94 \\\\xd7\\\\xa9\\\\xd7\\\\x9e\\\\xd7\\\\xa2\\\\xd7\\\\x9c \\\\xd7\\\\x94\\\\xd7\\\\xa7\\\\xd7\\\\xa8\\\\xd7\\\\xa7\\\\xd7\\\\xa2 \\\\xd7\\\\x91\\\\xd7\\\\x90\\\\xd7\\\\x95\\\\xd7\\\\xa4\\\\xd7\\\\x9f \\\\xd7\\\\x93\\\\xd7\\\\x95\\\\xd7\\\\x9e\\\\xd7\\\\x94. \\\\xd7\\\\x94\\\\xd7\\\\x95\\\\xd7\\\\x90 \\\\xd7\\\\xa2\\\\xd7\\\\xa9\\\\xd7\\\\x95\\\\xd7\\\\x99 \\\\xd7\\\\x9e\\\\xd7\\\\x91\\\\xd7\\\\x98\\\\xd7\\\\x95\\\\xd7\\\\x9f \\\\xd7\\\\x91\\\\xd7\\\\x94\\\\xd7\\\\x99\\\\xd7\\\\xa8 \\\\xd7\\\\x95\\\\xd7\\\\x9e\\\\xd7\\\\xa7\\\\xd7\\\\xa9\\\\xd7\\\\xaa\\\\xd7\\\\x95\\\\xd7\\\\xaa \\\\xd7\\\\x94\\\\xd7\\\\x9e\\\\xd7\\\\xa9\\\\xd7\\\\xaa\\\\xd7\\\\x96\\\\xd7\\\\xa8\\\\xd7\\\\x95\\\\xd7\\\\xaa \\\\xd7\\\\x90\\\\xd7\\\\x97\\\\xd7\\\\xaa \\\\xd7\\\\x91\\\\xd7\\\\xa9\\\\xd7\\\\xa0\\\\xd7\\\\x99\\\\xd7\\\\x99\\\\xd7\\\\x94. \\\\xd7\\\\x91\\\\xd7\\\\x93\\\\xd7\\\\xa8\\\\xd7\\\\x9a \\\\xd7\\\\x96\\\\xd7\\\\x95 \\\\xd7\\\\x9e\\\\xd7\\\\xaa\\\\xd7\\\\x94\\\\xd7\\\\x95\\\\xd7\\\\x95\\\\xd7\\\\x99\\\\xd7\\\\x9d \\\\xd7\\\\x97\\\\xd7\\\\x9c\\\\xd7\\\\x9c\\\\xd7\\\\x99\\\\xd7\\\\x9d \\\\xd7\\\\x94\\\\xd7\\\\x9e\\\\xd7\\\\xa9\\\\xd7\\\\xaa\\\\xd7\\\\x9c\\\\xd7\\\\x91\\\\xd7\\\\x99\\\\xd7\\\\x9d \\\\xd7\\\\x95\\\\xd7\\\\x94\\\\xd7\\\\x9e\\\\xd7\\\\xaa\\\\xd7\\\\x90\\\\xd7\\\\x97\\\\xd7\\\\x93\\\\xd7\\\\x99\\\\xd7\\\\x9d \\\\xd7\\\\x9e\\\\xd7\\\\x93\\\\xd7\\\\x99 \\\\xd7\\\\xa4\\\\xd7\\\\xa2\\\\xd7\\\\x9d, \\\\xd7\\\\x9b\\\\xd7\\\\x90\\\\xd7\\\\xa9\\\\xd7\\\\xa8 \\\\xd7\\\\xa2\\\\xd7\\\\x95\\\\xd7\\\\xa6\\\\xd7\\\\x9e\\\\xd7\\\\xaa \\\\xd7\\\\x94\\\\xd7\\\\xaa\\\\xd7\\\\x90\\\\xd7\\\\x95\\\\xd7\\\\xa8\\\\xd7\\\\x94 \\\\xd7\\\\x95\\\\xd7\\\\x94\\\\xd7\\\\x9e\\\\xd7\\\\x91\\\\xd7\\\\x98\\\\xd7\\\\x99\\\\xd7\\\\x9d \\\\xd7\\\\x9e\\\\xd7\\\\xa9\\\\xd7\\\\xaa\\\\xd7\\\\xa0\\\\xd7\\\\x99\\\\xd7\\\\x9d \\\\xd7\\\\x95\\\\xd7\\\\x9e\\\\xd7\\\\xa4\\\\xd7\\\\xaa\\\\xd7\\\\x99\\\\xd7\\\\xa2\\\\xd7\\\\x99\\\\xd7\\\\x9d. \\\\xd7\\\\x94\\\\xd7\\\\xa7\\\\xd7\\\\xa9\\\\xd7\\\\xaa\\\\xd7\\\\x95\\\\xd7\\\\xaa \\\\xd7\\\\x9e\\\\xd7\\\\x97\\\\xd7\\\\x95\\\\xd7\\\\x93\\\\xd7\\\\x93\\\\xd7\\\\x95\\\\xd7\\\\xaa \\\\xd7\\\\x9e\\\\xd7\\\\xa2\\\\xd7\\\\x98 \\\\xd7\\\\x95\\\\xd7\\\\x92\\\\xd7\\\\x91\\\\xd7\\\\x95\\\\xd7\\\\x94\\\\xd7\\\\x95\\\\xd7\\\\xaa, \\\\xd7\\\\x95\\\\xd7\\\\x94\\\\xd7\\\\x9f \\\\xd7\\\\x99\\\\xd7\\\\x95\\\\xd7\\\\xa6\\\\xd7\\\\xa8\\\\xd7\\\\x95\\\\xd7\\\\xaa \\\\xd7\\\\xa0\\\\xd7\\\\x99\\\\xd7\\\\x92\\\\xd7\\\\x95\\\\xd7\\\\x93 \\\\xd7\\\\x9c\\\\xd7\\\\x91\\\\xd7\\\\x95\\\\xd7\\\\xa0\\\\xd7\\\\xa7\\\\xd7\\\\xa8\\\\xd7\\\\x99\\\\xd7\\\\x9d \\\\xd7\\\\x95\\\\xd7\\\\x9c\\\\xd7\\\\xaa\\\\xd7\\\\xa2\\\\xd7\\\\x9c\\\\xd7\\\\x95\\\\xd7\\\\xaa. \\\\xd7\\\\x9b\\\\xd7\\\\x9a \\\\xd7\\\\x9e\\\\xd7\\\\x95\\\\xd7\\\\x93\\\\xd7\\\\x92\\\\xd7\\\\xa9 \\\\xd7\\\\x94\\\\xd7\\\\x9e\\\\xd7\\\\xa2\\\\xd7\\\\x91\\\\xd7\\\\xa8 \\\\xd7\\\\x9e\\\\xd7\\\\x97\\\\xd7\\\\xa9\\\\xd7\\\\x99\\\\xd7\\\\x9b\\\\xd7\\\\x94 \\\\xd7\\\\x90\\\\xd7\\\\x9c \\\\xd7\\\\x94\\\\xd7\\\\x90\\\\xd7\\\\x95\\\\xd7\\\\xa8, \\\\xd7\\\\x9e\\\\xd7\\\\x94\\\\xd7\\\\x9c\\\\xd7\\\\x97\\\\xd7\\\\x99\\\\xd7\\\\x9e\\\\xd7\\\\x94 \\\\xd7\\\\x9c\\\\xd7\\\\xa0\\\\xd7\\\\x99\\\\xd7\\\\xa6\\\\xd7\\\\x97\\\\xd7\\\\x95\\\\xd7\\\\x9f._NEWLINE_\\\\xd7\\\\xa2\\\\xd7\\\\x9c \\\\xd7\\\\xa7\\\\xd7\\\\x99\\\\xd7\\\\xa8 \\\\xd7\\\\x9e\\\\xd7\\\\xa8\\\\xd7\\\\x95\\\\xd7\\\\xa7\\\\xd7\\\\xa2 \\\\xd7\\\\x96\\\\xd7\\\\x94\\\\xd7\\\\x91 \\\\xd7\\\\x91\\\\xd7\\\\x90\\\\xd7\\\\x95\\\\xd7\\\\x9c\\\\xd7\\\\x9d \\\\xd7\\\\x94\\\\xd7\\\\x96\\\\xd7\\\\x99\\\\xd7\\\\x9b\\\\xd7\\\\xa8\\\\xd7\\\\x95\\\\xd7\\\\x9f \\\\xd7\\\\x95\\\\xd7\\\\x94\\\\xd7\\\\x94\\\\xd7\\\\xaa\\\\xd7\\\\x99\\\\xd7\\\\x99\\\\xd7\\\\x97\\\\xd7\\\\x93\\\\xd7\\\\x95\\\\xd7\\\\xaa \\\\xd7\\\\x97\\\\xd7\\\\xa7\\\\xd7\\\\x95\\\\xd7\\\\xa7\\\\xd7\\\\x99\\\\xd7\\\\x9d \\\\xd7\\\\xa9\\\\xd7\\\\x9e\\\\xd7\\\\x95\\\\xd7\\\\xaa 183 \\\\xd7\\\\x94\\\\xd7\\\\x97\\\\xd7\\\\x9c\\\\xd7\\\\x9c\\\\xd7\\\\x99\\\\xd7\\\\x9d, \\\\xd7\\\\xa1\\\\xd7\\\\x93\\\\xd7\\\\x95\\\\xd7\\\\xa8\\\\xd7\\\\x99\\\\xd7\\\\x9d \\\\xd7\\\\x9c\\\\xd7\\\\xa4\\\\xd7\\\\x99 \\\\xd7\\\\x97\\\\xd7\\\\x98\\\\xd7\\\\x99\\\\xd7\\\\x91\\\\xd7\\\\x95\\\\xd7\\\\xaa\\\\xd7\\\\x99\\\\xd7\\\\x94\\\\xd7\\\\x9d: \\\\xd7\\\\xa6\\\\xd7\\\\xa0\\\\xd7\\\\x97\\\\xd7\\\\xa0\\\\xd7\\\\x99\\\\xd7\\\\x9d, \\\\xd7\\\\x99\\\\xd7\\\\xa8\\\\xd7\\\\x95\\\\xd7\\\\xa9\\\\xd7\\\\x9c\\\\xd7\\\\x99\\\\xd7\\\\x9d, \\\\xd7\\\\xa9\\\\xd7\\\\xa8\\\\xd7\\\\x99\\\\xd7\\\\x95\\\\xd7\\\\x9f \\\\xd7\\\\x95\\\\xd7\\\\x97\\\\xd7\\\\x99\\\\xd7\\\\x9c \\\\xd7\\\\x90\\\\xd7\\\\x95\\\\xd7\\\\x95\\\\xd7\\\\x99\\\\xd7\\\\xa8. \\\\xd7\\\\xa7\\\\xd7\\\\x99\\\\xd7\\\\xa8 \\\\xd7\\\\x96\\\\xd7\\\\x94 \\\\xd7\\\\x94\\\\xd7\\\\xa0\\\\xd7\\\\x95 \\\\xd7\\\\x9e\\\\xd7\\\\x95\\\\xd7\\\\xa7\\\\xd7\\\\x93 \\\\xd7\\\\x97\\\\xd7\\\\x93\\\\xd7\\\\xa8 \\\\xd7\\\\x94\\\\xd7\\\\x94\\\\xd7\\\\xaa\\\\xd7\\\\x99\\\\xd7\\\\x99\\\\xd7\\\\x97\\\\xd7\\\\x93\\\\xd7\\\\x95\\\\xd7\\\\xaa. \\\\xd7\\\\xa0\\\\xd7\\\\xa8 \\\\xd7\\\\xaa\\\\xd7\\\\x9e\\\\xd7\\\\x99\\\\xd7\\\\x93 \\\\xd7\\\\x9e\\\\xd7\\\\x94\\\\xd7\\\\x91\\\\xd7\\\\x94\\\\xd7\\\\x91 \\\\xd7\\\\x91\\\\xd7\\\\xa4\\\\xd7\\\\x99\\\\xd7\\\\xa0\\\\xd7\\\\x94. \\\\xd7\\\\x9e\\\\xd7\\\\x90\\\\xd7\\\\x95\\\\xd7\\\\x9c\\\\xd7\\\\x9d \\\\xd7\\\\x96\\\\xd7\\\\x94 \\\\xd7\\\\x99\\\\xd7\\\\xa9\\\\xd7\\\\xa0\\\\xd7\\\\x94 \\\\xd7\\\\x99\\\\xd7\\\\xa6\\\\xd7\\\\x99\\\\xd7\\\\x90\\\\xd7\\\\x94 \\\\xd7\\\\x90\\\\xd7\\\\x9c \\\\xd7\\\\x9e\\\\xd7\\\\xa9\\\\xd7\\\\x98\\\\xd7\\\\x97 \\\\xd7\\\\x94\\\\xd7\\\\x9e\\\\xd7\\\\xa1\\\\xd7\\\\x93\\\\xd7\\\\xa8\\\\xd7\\\\x99\\\\xd7\\\\x9d \\\\xd7\\\\x95\\\\xd7\\\\x90\\\\xd7\\\\x9c \\\\xd7\\\\x94\\\\xd7\\\\xa0\\\\xd7\\\\x95\\\\xd7\\\\xa3 \\\\xd7\\\\xa9\\\\xd7\\\\x9c \\\\xd7\\\\x99\\\\xd7\\\\xa8\\\\xd7\\\\x95\\\\xd7\\\\xa9\\\\xd7\\\\x9c\\\\xd7\\\\x99\\\\xd7\\\\x9d \\\\xd7\\\\x95\\\\xd7\\\\xa1\\\\xd7\\\\x91\\\\xd7\\\\x99\\\\xd7\\\\x91\\\\xd7\\\\xaa\\\\xd7\\\\x94. \\\\xd7\\\\x94\\\\xd7\\\\x92\\\\xd7\\\\x91\\\\xd7\\\\xa2\\\\xd7\\\\x94 \\\\xd7\\\\xa2\\\\xd7\\\\xa6\\\\xd7\\\\x9e\\\\xd7\\\\x94 \\\\xd7\\\\xa0\\\\xd7\\\\xa9\\\\xd7\\\\x90\\\\xd7\\\\xa8\\\\xd7\\\\x94 \\\\xd7\\\\x9b\\\\xd7\\\\xa4\\\\xd7\\\\x99 \\\\xd7\\\\xa9\\\\xd7\\\\x94\\\\xd7\\\\x99\\\\xd7\\\\x99\\\\xd7\\\\xaa\\\\xd7\\\\x94 \\\\xd7\\\\x9c\\\\xd7\\\\xa4\\\\xd7\\\\xa0\\\\xd7\\\\x99 \\\\xd7\\\\x94\\\\xd7\\\\xa7\\\\xd7\\\\x9e\\\\xd7\\\\xaa \\\\xd7\\\\x94\\\\xd7\\\\x90\\\\xd7\\\\xaa\\\\xd7\\\\xa8, \\\\xd7\\\\x95\\\\xd7\\\\x9c\\\\xd7\\\\x90 \\\\xd7\\\\xa0\\\\xd7\\\\xa2\\\\xd7\\\\xa9\\\\xd7\\\\x95 \\\\xd7\\\\x91\\\\xd7\\\\x94 \\\\xd7\\\\xa9\\\\xd7\\\\x99\\\\xd7\\\\xa0\\\\xd7\\\\x95\\\\xd7\\\\x99\\\\xd7\\\\x99\\\\xd7\\\\x9d \\\\xd7\\\\x97\\\\xd7\\\\x96\\\\xd7\\\\x95\\\\xd7\\\\xaa\\\\xd7\\\\x99\\\\xd7\\\\x99\\\\xd7\\\\x9d \\\\xd7\\\\xa0\\\\xd7\\\\x99\\\\xd7\\\\x9b\\\\xd7\\\\xa8\\\\xd7\\\\x99\\\\xd7\\\\x9d_NEWLINE_\\\\xd7\\\\x9e\\\\xd7\\\\xa7\\\\xd7\\\\x95\\\\xd7\\\\x9e\\\\xd7\\\\x95 \\\\xd7\\\\x94\\\\xd7\\\\x9e\\\\xd7\\\\xa8\\\\xd7\\\\x9b\\\\xd7\\\\x96\\\\xd7\\\\x99 \\\\xd7\\\\xa9\\\\xd7\\\\x9c \\\\xd7\\\\xa9\\\\xd7\\\\x93\\\\xd7\\\\x94 \\\\xd7\\\\x94\\\\xd7\\\\xa7\\\\xd7\\\\xa8\\\\xd7\\\\x91 \\\\xd7\\\\x92\\\\xd7\\\\x91\\\\xd7\\\\xa2\\\\xd7\\\\xaa \\\\xd7\\\\x94\\\\xd7\\\\xaa\\\\xd7\\\\x97\\\\xd7\\\\x9e\\\\xd7\\\\x95\\\\xd7\\\\xa9\\\\xd7\\\\xaa \\\\xd7\\\\x91\\\\xd7\\\\x9e\\\\xd7\\\\x99\\\\xd7\\\\xaa\\\\xd7\\\\x95\\\\xd7\\\\xa1 \\\\xd7\\\\x94\\\\xd7\\\\x92\\\\xd7\\\\x91\\\\xd7\\\\x95\\\\xd7\\\\xa8\\\\xd7\\\\x94 \\\\xd7\\\\x91\\\\xd7\\\\x99\\\\xd7\\\\xa9\\\\xd7\\\\xa8\\\\xd7\\\\x90\\\\xd7\\\\x9c, \\\\xd7\\\\x95\\\\xd7\\\\x94\\\\xd7\\\\xa7\\\\xd7\\\\xa9\\\\xd7\\\\xa8 \\\\xd7\\\\x94\\\\xd7\\\\x99\\\\xd7\\\\xa9\\\\xd7\\\\x99\\\\xd7\\\\xa8 \\\\xd7\\\\xa9\\\\xd7\\\\x99\\\\xd7\\\\xa9 \\\\xd7\\\\x9c\\\\xd7\\\\x95 \\\\xd7\\\\x9c\\\\xd7\\\\x9e\\\\xd7\\\\xa2\\\\xd7\\\\xa8\\\\xd7\\\\x9b\\\\xd7\\\\x94 \\\\xd7\\\\xa2\\\\xd7\\\\x9c \\\\xd7\\\\x99\\\\xd7\\\\xa8\\\\xd7\\\\x95\\\\xd7\\\\xa9\\\\xd7\\\\x9c\\\\xd7\\\\x99\\\\xd7\\\\x9d, \\\\xd7\\\\x94\\\\xd7\\\\xa4\\\\xd7\\\\x9b\\\\xd7\\\\x95 \\\\xd7\\\\x90\\\\xd7\\\\xaa \\\\xd7\\\\x90\\\\xd7\\\\xaa\\\\xd7\\\\xa8 \\\\xd7\\\\x94\\\\xd7\\\\x94\\\\xd7\\\\xa0\\\\xd7\\\\xa6\\\\xd7\\\\x97\\\\xd7\\\\x94 \\\\xd7\\\\x9c\\\\xd7\\\\xa0\\\\xd7\\\\xa7\\\\xd7\\\\x95\\\\xd7\\\\x93\\\\xd7\\\\xaa \\\\xd7\\\\x9e\\\\xd7\\\\x95\\\\xd7\\\\xa7\\\\xd7\\\\x93 \\\\xd7\\\\x98\\\\xd7\\\\xa7\\\\xd7\\\\xa1\\\\xd7\\\\x99\\\\xd7\\\\xaa \\\\xd7\\\\x91\\\\xd7\\\\xa2\\\\xd7\\\\x9c\\\\xd7\\\\xaa \\\\xd7\\\\x9e\\\\xd7\\\\xa9\\\\xd7\\\\x9e\\\\xd7\\\\xa2\\\\xd7\\\\x95\\\\xd7\\\\xaa \\\\xd7\\\\x9c\\\\xd7\\\\x90\\\\xd7\\\\x95\\\\xd7\\\\x9e\\\\xd7\\\\x99\\\\xd7\\\\xaa. \\\\xd7\\\\x91\\\\xd7\\\\x9e\\\\xd7\\\\xa7\\\\xd7\\\\x95\\\\xd7\\\\x9d \\\\xd7\\\\xa0\\\\xd7\\\\xa2\\\\xd7\\\\xa8\\\\xd7\\\\x9a \\\\xd7\\\\x9e\\\\xd7\\\\x93\\\\xd7\\\\x99 \\\\xd7\\\\xa9\\\\xd7\\\\xa0\\\\xd7\\\\x94 \\\\xd7\\\\x91\\\\xd7\\\\x99\\\\xd7\\\\x95\\\\xd7\\\\x9d \\\\xd7\\\\x99\\\\xd7\\\\xa8\\\\xd7\\\\x95\\\\xd7\\\\xa9\\\\xd7\\\\x9c\\\\xd7\\\\x99\\\\xd7\\\\x9d \\\\xd7\\\\x98\\\\xd7\\\\xa7\\\\xd7\\\\xa1 \\\\xd7\\\\x94\\\\xd7\\\\x96\\\\xd7\\\\x99\\\\xd7\\\\x9b\\\\xd7\\\\xa8\\\\xd7\\\\x95\\\\xd7\\\\x9f \\\\xd7\\\\x94\\\\xd7\\\\x9e\\\\xd7\\\\x9e\\\\xd7\\\\x9c\\\\xd7\\\\x9b\\\\xd7\\\\xaa\\\\xd7\\\\x99 \\\\xd7\\\\x94\\\\xd7\\\\x9e\\\\xd7\\\\xa8\\\\xd7\\\\x9b\\\\xd7\\\\x96\\\\xd7\\\\x99._NEWLINE_\\\\xd7\\\\x91\\\\xd7\\\\x90\\\\xd7\\\\xaa\\\\xd7\\\\xa8 \\\\xd7\\\\x94\\\\xd7\\\\x94\\\\xd7\\\\xa0\\\\xd7\\\\xa6\\\\xd7\\\\x97\\\\xd7\\\\x94 \\\\xd7\\\\x9e\\\\xd7\\\\x95\\\\xd7\\\\xa6\\\\xd7\\\\x91\\\\xd7\\\\x99\\\\xd7\\\\x9d \\\\xd7\\\\x96\\\\xd7\\\\x97\\\\xd7\\\\x9c\"\\\\xd7\\\\x9e \\\\xd7\\\\x94\\\\xd7\\\\xa4\\\\xd7\\\\x99\\\\xd7\\\\xa7\\\\xd7\\\\x95\\\\xd7\\\\x93 \\\\xd7\\\\xa9\\\\xd7\\\\x9c \\\\xd7\\\\x9e\\\\xd7\\\\x95\\\\xd7\\\\x98\\\\xd7\\\\x94 \\\\xd7\\\\x92\\\\xd7\\\\x95\\\\xd7\\\\xa8, \\\\xd7\\\\x98\\\\xd7\\\\xa0\\\\xd7\\\\xa7 \\\\xd7\\\\x94\\\\xd7\\\\xa9\\\\xd7\\\\xa8\\\\xd7\\\\x9e\\\\xd7\\\\x9f \\\\xd7\\\\xa9\\\\xd7\\\\x9c \\\\xd7\\\\x94\\\\xd7\\\\xa4\\\\xd7\\\\x9c\\\\xd7\\\\x95\\\\xd7\\\\x92\\\\xd7\\\\x94 \\\\xd7\\\\x94\\\\xd7\\\\x99\\\\xd7\\\\xa8\\\\xd7\\\\x95\\\\xd7\\\\xa9\\\\xd7\\\\x9c\\\\xd7\\\\x9e\\\\xd7\\\\x99\\\\xd7\\\\xaa \\\\xd7\\\\x95\\\\xd7\\\\x92\\\\\\'\\\\xd7\\\\x99\\\\xd7\\\\xa4 \\\\xd7\\\\x94\\\\xd7\\\\xaa\\\\xd7\\\\x95\\\\xd7\\\\x9c\"\\\\xd7\\\\xa8 \\\\xd7\\\\x95\\\\xd7\\\\x9e\\\\xd7\\\\xa9\\\\xd7\\\\x95\\\\xd7\\\\xa8\\\\xd7\\\\x99\\\\xd7\\\\x99\\\\xd7\\\\x9f \\\\xd7\\\\xa9\\\\xd7\\\\x9c \\\\xd7\\\\x9e\\\\xd7\\\\x92\\\\xd7\\\\x99\\\\xd7\\\\xa0\\\\xd7\\\\x99 \\\\xd7\\\\x94\\\\xd7\\\\xa8 \\\\xd7\\\\x94\\\\xd7\\\\xa6\\\\xd7\\\\x95\\\\xd7\\\\xa4\\\\xd7\\\\x99\\\\xd7\\\\x9d._NEWLINE_\\\\xd7\\\\x91 29 \\\\xd7\\\\xa0\\\\xd7\\\\x95\\\\xd7\\\\x91\\\\xd7\\\\x9e\\\\xd7\\\\x91\\\\xd7\\\\xa8 2017 \\\\xd7\\\\xa2\\\\xd7\\\\x9e\\\\xd7\\\\x95\\\\xd7\\\\xaa\\\\xd7\\\\xaa \\\\xd7\\\\x92\\\\xd7\\\\x91\\\\xd7\\\\xa2\\\\xd7\\\\xaa \\\\xd7\\\\x94\\\\xd7\\\\xaa\\\\xd7\\\\x97\\\\xd7\\\\x9e\\\\xd7\\\\x95\\\\xd7\\\\xa9\\\\xd7\\\\xaa \\\\xd7\\\\xa9\\\\xd7\\\\x94\\\\xd7\\\\xa4\\\\xd7\\\\xa2\\\\xd7\\\\x99\\\\xd7\\\\x9c\\\\xd7\\\\x94 \\\\xd7\\\\x90\\\\xd7\\\\xaa \\\\xd7\\\\x94\\\\xd7\\\\x9e\\\\xd7\\\\xa7\\\\xd7\\\\x95\\\\xd7\\\\x9d \\\\xd7\\\\x9b\\\\xd7\\\\x9c \\\\xd7\\\\x94\\\\xd7\\\\xa9\\\\xd7\\\\xa0\\\\xd7\\\\x99\\\\xd7\\\\x9d, \\\\xd7\\\\x94\\\\xd7\\\\xa4\\\\xd7\\\\x9b\\\\xd7\\\\x94 \\\\xd7\\\\x9c\\\\xd7\\\\x94\\\\xd7\\\\x99\\\\xd7\\\\x95\\\\xd7\\\\xaa \\\\xd7\\\\xaa\\\\xd7\\\\x90\\\\xd7\\\\x92\\\\xd7\\\\x99\\\\xd7\\\\x93 \\\\xd7\\\\x9e\\\\xd7\\\\x9e\\\\xd7\\\\xa9\\\\xd7\\\\x9c\\\\xd7\\\\xaa\\\\xd7\\\\x99, \\\\xd7\\\\x94\\\\xd7\\\\x9e\\\\xd7\\\\x93\\\\xd7\\\\x99\\\\xd7\\\\xa0\\\\xd7\\\\x94 \\\\xd7\\\\x9c\\\\xd7\\\\xa7\\\\xd7\\\\x97\\\\xd7\\\\x94 \\\\xd7\\\\x90\\\\xd7\\\\x97\\\\xd7\\\\xa8\\\\xd7\\\\x99\\\\xd7\\\\x95\\\\xd7\\\\xaa \\\\xd7\\\\xa2\\\\xd7\\\\x9c \\\\xd7\\\\x94\\\\xd7\\\\x9e\\\\xd7\\\\xa7\\\\xd7\\\\x95\\\\xd7\\\\x9d \\\\xd7\\\\x95\\\\xd7\\\\x9e\\\\xd7\\\\x9e\\\\xd7\\\\x9e\\\\xd7\\\\xa0\\\\xd7\\\\xaa \\\\xd7\\\\x90\\\\xd7\\\\xaa \\\\xd7\\\\x94\\\\xd7\\\\xaa\\\\xd7\\\\xa4\\\\xd7\\\\xa2\\\\xd7\\\\x95\\\\xd7\\\\x9c \\\\xd7\\\\x94\\\\xd7\\\\xa9\\\\xd7\\\\x95\\\\xd7\\\\x98\\\\xd7\\\\xa3 \\\\xd7\\\\xa9\\\\xd7\\\\x9c \\\\xd7\\\\x94\\\\xd7\\\\x90\\\\xd7\\\\xaa\\\\xd7\\\\xa8. \\\\xd7\\\\x91\\\\xd7\\\\x97\\\\xd7\\\\x9e\\\\xd7\\\\xa9 \\\\xd7\\\\x94\\\\xd7\\\\xa9\\\\xd7\\\\xa0\\\\xd7\\\\x99\\\\xd7\\\\x9d \\\\xd7\\\\x94\\\\xd7\\\\x90\\\\xd7\\\\x97\\\\xd7\\\\xa8\\\\xd7\\\\x95\\\\xd7\\\\xa0\\\\xd7\\\\x95\\\\xd7\\\\xaa \\\\xd7\\\\x94\\\\xd7\\\\x95\\\\xd7\\\\xa9\\\\xd7\\\\xa7\\\\xd7\\\\xa2\\\\xd7\\\\x95 \\\\xd7\\\\x91\\\\xd7\\\\x90\\\\xd7\\\\xaa\\\\xd7\\\\xa8 \\\\xd7\\\\x9b 25 \\\\xd7\\\\x9e\\\\xd7\\\\x99\\\\xd7\\\\x9c\\\\xd7\\\\x99\\\\xd7\\\\x95\\\\xd7\\\\x9f \\\\xd7\\\\xa9\\\\xd7\\\\xb4\\\\xd7\\\\x97 ,\\\\xd7\\\\x91\\\\xd7\\\\x9e\\\\xd7\\\\xa1\\\\xd7\\\\x92\\\\xd7\\\\xa8\\\\xd7\\\\xaa \\\\xd7\\\\xa4\\\\xd7\\\\xa8\\\\xd7\\\\x95\\\\xd7\\\\x99\\\\xd7\\\\xa7\\\\xd7\\\\x98 \\\\xd7\\\\x9e\\\\xd7\\\\x95\\\\xd7\\\\xa8\\\\xd7\\\\xa9\\\\xd7\\\\xaa \\\\xd7\\\\xa9\\\\xd7\\\\xa1\\\\xd7\\\\x99\\\\xd7\\\\x99\\\\xd7\\\\xa2\\\\xd7\\\\x95 \\\\xd7\\\\x9c\\\\xd7\\\\x94\\\\xd7\\\\xa7\\\\xd7\\\\x99\\\\xd7\\\\x9d \\\\xd7\\\\x91\\\\xd7\\\\x9e\\\\xd7\\\\xa7\\\\xd7\\\\x95\\\\xd7\\\\x9d \\\\xd7\\\\x9e\\\\xd7\\\\x95\\\\xd7\\\\x96\\\\xd7\\\\x99\\\\xd7\\\\x90\\\\xd7\\\\x95\\\\xd7\\\\x9f \\\\xd7\\\\x97\\\\xd7\\\\x93\\\\xd7\\\\xa9 \\\\xd7\\\\x95\\\\xd7\\\\x99\\\\xd7\\\\x99\\\\xd7\\\\x97\\\\xd7\\\\x95\\\\xd7\\\\x93\\\\xd7\\\\x99 ,\\\\xd7\\\\x94\\\\xd7\\\\x99\\\\xd7\\\\x9b\\\\xd7\\\\x9c \\\\xd7\\\\x94\\\\xd7\\\\xa0\\\\xd7\\\\xa6\\\\xd7\\\\x97\\\\xd7\\\\x94 \\\\xd7\\\\x97\\\\xd7\\\\x93\\\\xd7\\\\xa9 \\\\xd7\\\\x92\\\\xd7\\\\x9d \\\\xd7\\\\x94\\\\xd7\\\\x95\\\\xd7\\\\x90 \\\\xd7\\\\x99\\\\xd7\\\\x99\\\\xd7\\\\x97\\\\xd7\\\\x95\\\\xd7\\\\x93\\\\xd7\\\\x99,\\\\xd7\\\\x90\\\\xd7\\\\xaa\\\\xd7\\\\xa8 \\\\xd7\\\\x94\\\\xd7\\\\xa7\\\\xd7\\\\xa8\\\\xd7\\\\x91 \\\\xd7\\\\xa2\\\\xd7\\\\x91\\\\xd7\\\\xa8 \\\\xd7\\\\xaa\\\\xd7\\\\x94\\\\xd7\\\\x9c\\\\xd7\\\\x99\\\\xd7\\\\x9a \\\\xd7\\\\xa9\\\\xd7\\\\x99\\\\xd7\\\\x9e\\\\xd7\\\\x95\\\\xd7\\\\xa8 \\\\xd7\\\\x95\\\\xd7\\\\x94\\\\xd7\\\\x95\\\\xd7\\\\xa7\\\\xd7\\\\x9d \\\\xd7\\\\x9e\\\\xd7\\\\xa1\\\\xd7\\\\x91\\\\xd7\\\\x99\\\\xd7\\\\x91 \\\\xd7\\\\x94\\\\xd7\\\\x90\\\\xd7\\\\xaa\\\\xd7\\\\xa8 \\\\xd7\\\\x92\\\\xd7\\\\x9f \\\\xd7\\\\x95\\\\xd7\\\\x91\\\\xd7\\\\xaa\\\\xd7\\\\x95\\\\xd7\\\\x9b\\\\xd7\\\\x95 \\\\xd7\\\\xa9\\\\xd7\\\\x91\\\\xd7\\\\x99\\\\xd7\\\\x9c \\\\xd7\\\\xaa\\\\xd7\\\\x95\\\\xd7\\\\x9b\\\\xd7\\\\x9f \\\\xd7\\\\x94\\\\xd7\\\\x9e\\\\xd7\\\\xaa\\\\xd7\\\\x90\\\\xd7\\\\xa8 \\\\xd7\\\\x90\\\\xd7\\\\xaa \\\\xd7\\\\xaa\\\\xd7\\\\x95\\\\xd7\\\\x9c\\\\xd7\\\\x93\\\\xd7\\\\x95\\\\xd7\\\\xaa \\\\xd7\\\\x99\\\\xd7\\\\xa8\\\\xd7\\\\x95\\\\xd7\\\\xa9\\\\xd7\\\\x9c\\\\xd7\\\\x99\\\\xd7\\\\x9d \\\\xd7\\\\x91\\\\xd7\\\\x9e\\\\xd7\\\\x9c\\\\xd7\\\\x9c \\\\xd7\\\\x95\\\\xd7\\\\xaa\\\\xd7\\\\x9e\\\\xd7\\\\x95\\\\xd7\\\\xa0\\\\xd7\\\\x95\\\\xd7\\\\xaa,\\\\xd7\\\\x9e\\\\xd7\\\\xaa\\\\xd7\\\\xa7\\\\xd7\\\\x95\\\\xd7\\\\xa4\\\\xd7\\\\xaa \\\\xd7\\\\x94\\\\xd7\\\\xa9\\\\xd7\\\\x9c\\\\xd7\\\\x98\\\\xd7\\\\x95\\\\xd7\\\\x9f \\\\xd7\\\\x94\\\\xd7\\\\xa2\\\\xd7\\\\x95\\\\xd7\\\\xaa\\\\\\'\\\\xd7\\\\x9e\\\\xd7\\\\x90\\\\xd7\\\\xa0\\\\xd7\\\\x99 \\\\xd7\\\\x95\\\\xd7\\\\xa2\\\\xd7\\\\x93 \\\\xd7\\\\x9e\\\\xd7\\\\x9c\\\\xd7\\\\x97\\\\xd7\\\\x9e\\\\xd7\\\\xaa \\\\xd7\\\\xa9\\\\xd7\\\\xa9\\\\xd7\\\\xaa \\\\xd7\\\\x94\\\\xd7\\\\x99\\\\xd7\\\\x9e\\\\xd7\\\\x99\\\\xd7\\\\x9d._NEWLINE_\\\\xd7\\\\x91\\\\xd7\\\\xa0\\\\xd7\\\\x95\\\\xd7\\\\xa1\\\\xd7\\\\xa3 \\\\xd7\\\\xa2\\\\xd7\\\\x9e\\\\xd7\\\\x95\\\\xd7\\\\xaa\\\\xd7\\\\xaa \\\\xd7\\\\x92\\\\xd7\\\\x91\\\\xd7\\\\xa2\\\\xd7\\\\xaa \\\\xd7\\\\x94\\\\xd7\\\\xaa\\\\xd7\\\\x97\\\\xd7\\\\x9e\\\\xd7\\\\x95\\\\xd7\\\\xa9\\\\xd7\\\\xaa \\\\xd7\\\\x99\\\\xd7\\\\x96\\\\xd7\\\\x9e\\\\xd7\\\\x94 \\\\xd7\\\\x9e\\\\xd7\\\\x97\\\\xd7\\\\xa7\\\\xd7\\\\xa8 \\\\xd7\\\\x9e\\\\xd7\\\\xa7\\\\xd7\\\\x99\\\\xd7\\\\xa3 \\\\xd7\\\\x94\\\\xd7\\\\x9e\\\\xd7\\\\xaa\\\\xd7\\\\x90\\\\xd7\\\\xa8 \\\\xd7\\\\x90\\\\xd7\\\\xaa \\\\xd7\\\\x9b\\\\xd7\\\\x9c \\\\xd7\\\\x94\\\\xd7\\\\xa7\\\\xd7\\\\xa8\\\\xd7\\\\x91\\\\xd7\\\\x95\\\\xd7\\\\xaa \\\\xd7\\\\x91\\\\xd7\\\\x99\\\\xd7\\\\xa8\\\\xd7\\\\x95\\\\xd7\\\\xa9\\\\xd7\\\\x9c\\\\xd7\\\\x99\\\\xd7\\\\x9d,\\\\xd7\\\\xa9\\\\xd7\\\\x9c \\\\xd7\\\\x9b\\\\xd7\\\\x9c \\\\xd7\\\\x94\\\\xd7\\\\x97\\\\xd7\\\\x98\\\\xd7\\\\x99\\\\xd7\\\\x91\\\\xd7\\\\x95\\\\xd7\\\\xaa \\\\xd7\\\\x95\\\\xd7\\\\x94\\\\xd7\\\\x99\\\\xd7\\\\x97\\\\xd7\\\\x99\\\\xd7\\\\x93\\\\xd7\\\\x95\\\\xd7\\\\xaa \\\\xd7\\\\xa9\\\\xd7\\\\x9c\\\\xd7\\\\x97\\\\xd7\\\\x9e\\\\xd7\\\\x95 \\\\xd7\\\\x91\\\\xd7\\\\xa2\\\\xd7\\\\x99\\\\xd7\\\\xa8 \\\\xd7\\\\x91\\\\xd7\\\\x9e\\\\xd7\\\\x9c\\\\xd7\\\\x97\\\\xd7\\\\x9e\\\\xd7\\\\xaa \\\\xd7\\\\xa9\\\\xd7\\\\xa9\\\\xd7\\\\xaa \\\\xd7\\\\x94\\\\xd7\\\\x99\\\\xd7\\\\x9e\\\\xd7\\\\x99\\\\xd7\\\\x9d,\\\\xd7\\\\x94\\\\xd7\\\\x9e\\\\xd7\\\\x97\\\\xd7\\\\xa7\\\\xd7\\\\xa8 \\\\xd7\\\\x99\\\\xd7\\\\xa6\\\\xd7\\\\x90 \\\\xd7\\\\x9b\\\\xd7\\\\xa1\\\\xd7\\\\xa4\\\\xd7\\\\xa8 \\\\xd7\\\\x9c\\\\xd7\\\\x90\\\\xd7\\\\x97\\\\xd7\\\\xa8\\\\xd7\\\\x95\\\\xd7\\\\xa0\\\\xd7\\\\x94 \\\\xd7\\\\x95\\\\xd7\\\\xa9\\\\xd7\\\\x9e\\\\xd7\\\\x95-67, \\\\xd7\\\\x99\\\\xd7\\\\xa8\\\\xd7\\\\x95\\\\xd7\\\\xa9\\\\xd7\\\\x9c\\\\xd7\\\\x99\\\\xd7\\\\x9d \\\\xd7\\\\x9e\\\\xd7\\\\x9c\\\\xd7\\\\x97\\\\xd7\\\\x9e\\\\xd7\\\\x94.\\\\n_START_SECTION_\\\\n\\\\xd7\\\\x94\\\\xd7\\\\xa0\\\\xd7\\\\xa6\\\\xd7\\\\x97\\\\xd7\\\\xaa \\\\xd7\\\\x94\\\\xd7\\\\x9c\\\\xd7\\\\x95\\\\xd7\\\\x97\\\\xd7\\\\x9d \\\\xd7\\\\x94\\\\xd7\\\\x99\\\\xd7\\\\x94\\\\xd7\\\\x95\\\\xd7\\\\x93\\\\xd7\\\\x99\\\\n_START_PARAGRAPH_\\\\n\\\\xd7\\\\x90\\\\xd7\\\\xa8\\\\xd7\\\\x92\\\\xd7\\\\x95\\\\xd7\\\\x9f \\\\xd7\\\\x94\\\\xd7\\\\x95\\\\xd7\\\\x95\\\\xd7\\\\x98\\\\xd7\\\\xa8\\\\xd7\\\\xa0\\\\xd7\\\\x99\\\\xd7\\\\x9d \\\\xd7\\\\x94\\\\xd7\\\\x99\\\\xd7\\\\x94\\\\xd7\\\\x95\\\\xd7\\\\x93\\\\xd7\\\\x99\\\\xd7\\\\x9d \\\\xd7\\\\x94\\\\xd7\\\\xa2\\\\xd7\\\\x95\\\\xd7\\\\x9c\\\\xd7\\\\x9e\\\\xd7\\\\x99: International Council of jewish war veterans \\\\xd7\\\\x94\\\\xd7\\\\x97\\\\xd7\\\\x9c\\\\xd7\\\\x99\\\\xd7\\\\x98 \\\\xd7\\\\x9c\\\\xd7\\\\x94\\\\xd7\\\\xa7\\\\xd7\\\\x99\\\\xd7\\\\x9d \\\\xd7\\\\x90\\\\xd7\\\\xaa \\\\xd7\\\\x9e\\\\xd7\\\\xa8\\\\xd7\\\\x9b\\\\xd7\\\\x96\\\\xd7\\\\x95 \\\\xd7\\\\x91\\\\xd7\\\\x99\\\\xd7\\\\xa8\\\\xd7\\\\x95\\\\xd7\\\\xa9\\\\xd7\\\\x9c\\\\xd7\\\\x99\\\\xd7\\\\x9d \\\\xd7\\\\x91\\\\xd7\\\\x92\\\\xd7\\\\x91\\\\xd7\\\\xa2\\\\xd7\\\\xaa \\\\xd7\\\\x94\\\\xd7\\\\xaa\\\\xd7\\\\x97\\\\xd7\\\\x9e\\\\xd7\\\\x95\\\\xd7\\\\xa9\\\\xd7\\\\xaa._NEWLINE_\\\\xd7\\\\x90\\\\xd7\\\\xaa\\\\xd7\\\\xa8 \\\\xd7\\\\x94\\\\xd7\\\\x94\\\\xd7\\\\xa0\\\\xd7\\\\xa6\\\\xd7\\\\x97\\\\xd7\\\\x94 \\\\xd7\\\\x91\\\\xd7\\\\xa1\\\\xd7\\\\x99\\\\xd7\\\\x95\\\\xd7\\\\xa2 \\\\xd7\\\\xa7\\\\xd7\\\\xa8\\\\xd7\\\\x9f \\\\xd7\\\\xa7\\\\xd7\\\\x99\\\\xd7\\\\x99\\\\xd7\\\\x9e\\\\xd7\\\\xaa \\\\xd7\\\\x9c\\\\xd7\\\\x99\\\\xd7\\\\xa9\\\\xd7\\\\xa8\\\\xd7\\\\x90\\\\xd7\\\\x9c \\\\xe2\\\\x80\\\\x93 J.N.F \\\\xd7\\\\x90\\\\xd7\\\\xa8\\\\xd7\\\\xa6\\\\xd7\\\\x95\\\\xd7\\\\xaa \\\\xd7\\\\x94\\\\xd7\\\\x91\\\\xd7\\\\xa8\\\\xd7\\\\x99\\\\xd7\\\\xaa \\\\xd7\\\\xa7\\\\xd7\\\\x99\\\\xd7\\\\x91\\\\xd7\\\\x9c\\\\xd7\\\\x95 \\\\xd7\\\\xa2\\\\xd7\\\\x9c \\\\xd7\\\\xa2\\\\xd7\\\\xa6\\\\xd7\\\\x9e\\\\xd7\\\\x9d \\\\xd7\\\\x9c\\\\xd7\\\\x9e\\\\xd7\\\\x9e\\\\xd7\\\\xa9 \\\\xd7\\\\x90\\\\xd7\\\\xaa \\\\xd7\\\\xa4\\\\xd7\\\\xa8\\\\xd7\\\\x95\\\\xd7\\\\x99\\\\xd7\\\\xa7\\\\xd7\\\\x98: \"\\\\xd7\\\\x9b\\\\xd7\\\\x91\\\\xd7\\\\x95\\\\xd7\\\\x93 \\\\xd7\\\\x95\\\\xd7\\\\xaa\\\\xd7\\\\x94\\\\xd7\\\\x99\\\\xd7\\\\x9c\\\\xd7\\\\x94 \\\\xd7\\\\x9c\\\\xd7\\\\x9c\\\\xd7\\\\x95\\\\xd7\\\\x97\\\\xd7\\\\x9e\\\\xd7\\\\x99\\\\xd7\\\\x9d \\\\xd7\\\\x94\\\\xd7\\\\x99\\\\xd7\\\\x94\\\\xd7\\\\x95\\\\xd7\\\\x93\\\\xd7\\\\x99\\\\xd7\\\\x9d\". \\\\xd7\\\\x91\\\\xd7\\\\x9e\\\\xd7\\\\x98\\\\xd7\\\\xa8\\\\xd7\\\\x94 \\\\xd7\\\\x9c\\\\xd7\\\\xa8\\\\xd7\\\\x9b\\\\xd7\\\\x96 \\\\xd7\\\\x9e\\\\xd7\\\\x99\\\\xd7\\\\x93\\\\xd7\\\\xa2 \\\\xd7\\\\x95\\\\xd7\\\\xa0\\\\xd7\\\\xaa\\\\xd7\\\\x95\\\\xd7\\\\xa0\\\\xd7\\\\x99\\\\xd7\\\\x9d \\\\xd7\\\\xa2\\\\xd7\\\\x9c \\\\xd7\\\\xa4\\\\xd7\\\\x95\\\\xd7\\\\xa2\\\\xd7\\\\x9c\\\\xd7\\\\x9d \\\\xd7\\\\xa9\\\\xd7\\\\x9c \\\\xd7\\\\x94\\\\xd7\\\\x9c\\\\xd7\\\\x95\\\\xd7\\\\x97\\\\xd7\\\\x9e\\\\xd7\\\\x99\\\\xd7\\\\x9d \\\\xd7\\\\x94\\\\xd7\\\\x99\\\\xd7\\\\x94\\\\xd7\\\\x95\\\\xd7\\\\x93\\\\xd7\\\\x99\\\\xd7\\\\x9d \\\\xd7\\\\x9c\\\\xd7\\\\x93\\\\xd7\\\\x95\\\\xd7\\\\xa8\\\\xd7\\\\x95\\\\xd7\\\\xaa\\\\xd7\\\\x99\\\\xd7\\\\x94\\\\xd7\\\\x9d, \\\\xd7\\\\xa9\\\\xd7\\\\x9e\\\\xd7\\\\x95\\\\xd7\\\\xaa\\\\xd7\\\\x99\\\\xd7\\\\x94\\\\xd7\\\\x9d \\\\xd7\\\\x95\\\\xd7\\\\xa4\\\\xd7\\\\xa8\\\\xd7\\\\x98\\\\xd7\\\\x99\\\\xd7\\\\x9d \\\\xd7\\\\x90\\\\xd7\\\\x99\\\\xd7\\\\xa9\\\\xd7\\\\x99\\\\xd7\\\\x99\\\\xd7\\\\x9d, \\\\xd7\\\\x95\\\\xd7\\\\x9b\\\\xd7\\\\x9f \\\\xd7\\\\x9c\\\\xd7\\\\x94\\\\xd7\\\\xa0\\\\xd7\\\\xa6\\\\xd7\\\\x99\\\\xd7\\\\x97\\\\xd7\\\\x9d \\\\xd7\\\\xa2\\\\xd7\\\\x9c \"\\\\xd7\\\\xa7\\\\xd7\\\\x99\\\\xd7\\\\xa8 \\\\xd7\\\\x94\\\\xd7\\\\xa0\\\\xd7\\\\xa6\\\\xd7\\\\x97\\\\xd7\\\\x94 \\\\xd7\\\\x9c\\\\xd7\\\\x9c\\\\xd7\\\\x95\\\\xd7\\\\x97\\\\xd7\\\\x9d \\\\xd7\\\\x94\\\\xd7\\\\x99\\\\xd7\\\\x94\\\\xd7\\\\x95\\\\xd7\\\\x93\\\\xd7\\\\x99\"._NEWLINE_\\\\xd7\\\\xa9\\\\xd7\\\\xa8\\\\xd7\\\\x95\\\\xd7\\\\xaa\\\\xd7\\\\x9d, \\\\xd7\\\\xa9\\\\xd7\\\\x9c \\\\xd7\\\\x94\\\\xd7\\\\x9c\\\\xd7\\\\x95\\\\xd7\\\\x97\\\\xd7\\\\x9e\\\\xd7\\\\x99\\\\xd7\\\\x9d \\\\xd7\\\\x94\\\\xd7\\\\x99\\\\xd7\\\\x94\\\\xd7\\\\x95\\\\xd7\\\\x93\\\\xd7\\\\x99\\\\xd7\\\\x9d \\\\xd7\\\\x91\\\\xd7\\\\xa6\\\\xd7\\\\x91\\\\xd7\\\\x90\\\\xd7\\\\x95\\\\xd7\\\\xaa \\\\xd7\\\\x95\\\\xd7\\\\x9e\\\\xd7\\\\xa1\\\\xd7\\\\x92\\\\xd7\\\\xa8\\\\xd7\\\\x95\\\\xd7\\\\xaa \\\\xd7\\\\x90\\\\xd7\\\\x97\\\\xd7\\\\xa8\\\\xd7\\\\x95\\\\xd7\\\\xaa (\\\\xd7\\\\x9e\\\\xd7\\\\x97\\\\xd7\\\\xaa\\\\xd7\\\\xa8\\\\xd7\\\\x95\\\\xd7\\\\xaa, \\\\xd7\\\\xa4\\\\xd7\\\\xa8\\\\xd7\\\\x98\\\\xd7\\\\x99\\\\xd7\\\\x96\\\\xd7\\\\xa0\\\\xd7\\\\x99\\\\xd7\\\\x9d, \\\\xd7\\\\x9e\\\\xd7\\\\xa9\\\\xd7\\\\x98\\\\xd7\\\\xa8\\\\xd7\\\\x94 \\\\xd7\\\\x95\\\\xd7\\\\x9b\\\\xd7\\\\x9c \\\\xd7\\\\xa9\\\\xd7\\\\xa8\\\\xd7\\\\x95\\\\xd7\\\\xaa \\\\xd7\\\\x91\\\\xd7\\\\x99\\\\xd7\\\\x98\\\\xd7\\\\x97\\\\xd7\\\\x95\\\\xd7\\\\xa0\\\\xd7\\\\x99 \\\\xd7\\\\x90\\\\xd7\\\\x97\\\\xd7\\\\xa8) \\\\xd7\\\\x91\\\\xd7\\\\x90\\\\xd7\\\\xa8\\\\xd7\\\\xa6\\\\xd7\\\\x95\\\\xd7\\\\xaa\\\\xd7\\\\x99\\\\xd7\\\\x94\\\\xd7\\\\x9d \\\\xd7\\\\x91\\\\xd7\\\\x9e\\\\xd7\\\\x9c\\\\xd7\\\\x97\\\\xd7\\\\x9e\\\\xd7\\\\x95\\\\xd7\\\\xaa \\\\xd7\\\\x94\\\\xd7\\\\xa2\\\\xd7\\\\x95\\\\xd7\\\\x9c\\\\xd7\\\\x9d, \\\\xd7\\\\x91\\\\xd7\\\\x99\\\\xd7\\\\xa0\\\\xd7\\\\x99\\\\xd7\\\\x94\\\\xd7\\\\x9f, \\\\xd7\\\\x9c\\\\xd7\\\\xa4\\\\xd7\\\\xa0\\\\xd7\\\\x99\\\\xd7\\\\x94\\\\xd7\\\\x9f \\\\xd7\\\\x95\\\\xd7\\\\x90\\\\xd7\\\\x97\\\\xd7\\\\xa8\\\\xd7\\\\x99\\\\xd7\\\\x94\\\\xd7\\\\x9f \\\\xd7\\\\x9b\\\\xd7\\\\x95\\\\xd7\\\\x9c\\\\xd7\\\\x9c \\\\xd7\\\\x9c\\\\xd7\\\\x9e\\\\xd7\\\\xa2\\\\xd7\\\\x9c\\\\xd7\\\\x94 \\\\xd7\\\\x9e-3 \\\\xd7\\\\x9e\\\\xd7\\\\x99\\\\xd7\\\\x9c\\\\xd7\\\\x99\\\\xd7\\\\x95\\\\xd7\\\\x9f \\\\xd7\\\\x9c\\\\xd7\\\\x95\\\\xd7\\\\x97\\\\xd7\\\\x9e\\\\xd7\\\\x99\\\\xd7\\\\x9d \\\\xd7\\\\x99\\\\xd7\\\\x94\\\\xd7\\\\x95\\\\xd7\\\\x93\\\\xd7\\\\x99\\\\xd7\\\\x9d.\\'',\n",
       " 'version_id': \"b'7275818517328639782'\"}"
      ]
     },
     "execution_count": 41,
     "metadata": {},
     "output_type": "execute_result"
    }
   ],
   "execution_count": 41
  },
  {
   "metadata": {
    "ExecuteTime": {
     "end_time": "2024-12-24T21:16:46.476707Z",
     "start_time": "2024-12-24T21:16:46.089943Z"
    }
   },
   "cell_type": "code",
   "source": "pd.read_parquet('valid.parquet')",
   "id": "a755d6cc8b5b2ded",
   "outputs": [
    {
     "data": {
      "text/plain": [
       "                                              sentence1 lang1 lang2   guid  \\\n",
       "0        ما أدّى إلى قيام الكنيسة الكاثوليكية بمعارضته.    ar    he  11092   \n",
       "1     من المفيد أن نعرف أنواع الثعابين التي هي مشترك...    ar    he   8785   \n",
       "2                                      996 - أمن الطرق.    ar    he  11754   \n",
       "3     هذه اللقطات وضعت في فيلم الخطة 9 من الفضاء الخ...    ar    he  17066   \n",
       "4               نضيف القليل من الماء والزيت حسب الرغبة.    ar    he  16678   \n",
       "...                                                 ...   ...   ...    ...   \n",
       "2495  توفي لين بسبب مرض القلب في عيادة مايو في روتشي...    ar    he  23720   \n",
       "2496  كان نيوتن صديقًا وطيدًا مع عالم الرياضيات السو...    ar    he   3559   \n",
       "2497      هنودٌ حمرٌ آخرون في نفس المنطقة قاوموا أيضاً.    ar    he  19254   \n",
       "2498                                            الذهبي.    ar    he   5111   \n",
       "2499  لحضور المدرسة L' DE L' Armee، يجب أن يكون الجن...    ar    he  24253   \n",
       "\n",
       "                                              sentence2  \n",
       "0       כבר עם חקיקתה נמצאו בכנסייה הקתולית מתנגדים לה.  \n",
       "1     מומלץ לדעת את מיני הנחשים הנפוצים באזור המגורי...  \n",
       "2                                5.     הביטחון בדרכים.  \n",
       "3     הסרט התפתח לימים ל\"תוכנית 9 מהחלל החיצון\", כשה...  \n",
       "4                 להוסיף מעט מיץ למים, כך שיהיו עכורים.  \n",
       "...                                                 ...  \n",
       "2495  ליין מת ממחלת לב במאיו קליניק שברוצ'סטר, מינסו...  \n",
       "2496  הייתה לו ידידות קרובה עם המתמטיקאי השווייצרי נ...  \n",
       "2497           גם רבנים מתנגדים חשובים נקטו בעמדה דומה.  \n",
       "2498                                              מזהב.  \n",
       "2499  השירות כולל השתתפות בבית הספר הצבאי, על מנת לה...  \n",
       "\n",
       "[2500 rows x 5 columns]"
      ],
      "text/html": [
       "<div>\n",
       "<style scoped>\n",
       "    .dataframe tbody tr th:only-of-type {\n",
       "        vertical-align: middle;\n",
       "    }\n",
       "\n",
       "    .dataframe tbody tr th {\n",
       "        vertical-align: top;\n",
       "    }\n",
       "\n",
       "    .dataframe thead th {\n",
       "        text-align: right;\n",
       "    }\n",
       "</style>\n",
       "<table border=\"1\" class=\"dataframe\">\n",
       "  <thead>\n",
       "    <tr style=\"text-align: right;\">\n",
       "      <th></th>\n",
       "      <th>sentence1</th>\n",
       "      <th>lang1</th>\n",
       "      <th>lang2</th>\n",
       "      <th>guid</th>\n",
       "      <th>sentence2</th>\n",
       "    </tr>\n",
       "  </thead>\n",
       "  <tbody>\n",
       "    <tr>\n",
       "      <th>0</th>\n",
       "      <td>ما أدّى إلى قيام الكنيسة الكاثوليكية بمعارضته.</td>\n",
       "      <td>ar</td>\n",
       "      <td>he</td>\n",
       "      <td>11092</td>\n",
       "      <td>כבר עם חקיקתה נמצאו בכנסייה הקתולית מתנגדים לה.</td>\n",
       "    </tr>\n",
       "    <tr>\n",
       "      <th>1</th>\n",
       "      <td>من المفيد أن نعرف أنواع الثعابين التي هي مشترك...</td>\n",
       "      <td>ar</td>\n",
       "      <td>he</td>\n",
       "      <td>8785</td>\n",
       "      <td>מומלץ לדעת את מיני הנחשים הנפוצים באזור המגורי...</td>\n",
       "    </tr>\n",
       "    <tr>\n",
       "      <th>2</th>\n",
       "      <td>996 - أمن الطرق.</td>\n",
       "      <td>ar</td>\n",
       "      <td>he</td>\n",
       "      <td>11754</td>\n",
       "      <td>5.     הביטחון בדרכים.</td>\n",
       "    </tr>\n",
       "    <tr>\n",
       "      <th>3</th>\n",
       "      <td>هذه اللقطات وضعت في فيلم الخطة 9 من الفضاء الخ...</td>\n",
       "      <td>ar</td>\n",
       "      <td>he</td>\n",
       "      <td>17066</td>\n",
       "      <td>הסרט התפתח לימים ל\"תוכנית 9 מהחלל החיצון\", כשה...</td>\n",
       "    </tr>\n",
       "    <tr>\n",
       "      <th>4</th>\n",
       "      <td>نضيف القليل من الماء والزيت حسب الرغبة.</td>\n",
       "      <td>ar</td>\n",
       "      <td>he</td>\n",
       "      <td>16678</td>\n",
       "      <td>להוסיף מעט מיץ למים, כך שיהיו עכורים.</td>\n",
       "    </tr>\n",
       "    <tr>\n",
       "      <th>...</th>\n",
       "      <td>...</td>\n",
       "      <td>...</td>\n",
       "      <td>...</td>\n",
       "      <td>...</td>\n",
       "      <td>...</td>\n",
       "    </tr>\n",
       "    <tr>\n",
       "      <th>2495</th>\n",
       "      <td>توفي لين بسبب مرض القلب في عيادة مايو في روتشي...</td>\n",
       "      <td>ar</td>\n",
       "      <td>he</td>\n",
       "      <td>23720</td>\n",
       "      <td>ליין מת ממחלת לב במאיו קליניק שברוצ'סטר, מינסו...</td>\n",
       "    </tr>\n",
       "    <tr>\n",
       "      <th>2496</th>\n",
       "      <td>كان نيوتن صديقًا وطيدًا مع عالم الرياضيات السو...</td>\n",
       "      <td>ar</td>\n",
       "      <td>he</td>\n",
       "      <td>3559</td>\n",
       "      <td>הייתה לו ידידות קרובה עם המתמטיקאי השווייצרי נ...</td>\n",
       "    </tr>\n",
       "    <tr>\n",
       "      <th>2497</th>\n",
       "      <td>هنودٌ حمرٌ آخرون في نفس المنطقة قاوموا أيضاً.</td>\n",
       "      <td>ar</td>\n",
       "      <td>he</td>\n",
       "      <td>19254</td>\n",
       "      <td>גם רבנים מתנגדים חשובים נקטו בעמדה דומה.</td>\n",
       "    </tr>\n",
       "    <tr>\n",
       "      <th>2498</th>\n",
       "      <td>الذهبي.</td>\n",
       "      <td>ar</td>\n",
       "      <td>he</td>\n",
       "      <td>5111</td>\n",
       "      <td>מזהב.</td>\n",
       "    </tr>\n",
       "    <tr>\n",
       "      <th>2499</th>\n",
       "      <td>لحضور المدرسة L' DE L' Armee، يجب أن يكون الجن...</td>\n",
       "      <td>ar</td>\n",
       "      <td>he</td>\n",
       "      <td>24253</td>\n",
       "      <td>השירות כולל השתתפות בבית הספר הצבאי, על מנת לה...</td>\n",
       "    </tr>\n",
       "  </tbody>\n",
       "</table>\n",
       "<p>2500 rows × 5 columns</p>\n",
       "</div>"
      ]
     },
     "execution_count": 62,
     "metadata": {},
     "output_type": "execute_result"
    }
   ],
   "execution_count": 62
  },
  {
   "metadata": {
    "ExecuteTime": {
     "end_time": "2024-12-24T21:48:49.772196Z",
     "start_time": "2024-12-24T21:48:49.320300Z"
    }
   },
   "cell_type": "code",
   "source": [
    "import requests\n",
    "\n",
    "def get_all_properties(wikidata_id):\n",
    "    \"\"\"\n",
    "    Retrieve all properties for a given Wikidata ID using the Wikidata API.\n",
    "\n",
    "    :param wikidata_id: Wikidata ID (e.g., Q2336243)\n",
    "    :return: Dictionary of properties with their values\n",
    "    \"\"\"\n",
    "    url = f\"https://www.wikidata.org/w/api.php\"\n",
    "    params = {\n",
    "        \"action\": \"wbgetentities\",\n",
    "        \"ids\": wikidata_id,\n",
    "        \"props\": \"claims\",\n",
    "        \"format\": \"json\"\n",
    "    }\n",
    "\n",
    "    response = requests.get(url, params=params)\n",
    "    \n",
    "    if response.status_code == 200:\n",
    "        data = response.json()\n",
    "        claims = data.get(\"entities\", {}).get(wikidata_id, {}).get(\"claims\", {})\n",
    "        properties = {}\n",
    "\n",
    "        for prop_id, claim_list in claims.items():\n",
    "            values = []\n",
    "            for claim in claim_list:\n",
    "                if \"datavalue\" in claim[\"mainsnak\"]:\n",
    "                    datavalue = claim[\"mainsnak\"][\"datavalue\"]\n",
    "                    # Extract specific value based on datatype\n",
    "                    value = datavalue.get(\"value\")\n",
    "                    if isinstance(value, dict) and \"id\" in value:  # Entity references\n",
    "                        values.append(value[\"id\"])\n",
    "                    else:  # Other datatypes (string, time, etc.)\n",
    "                        values.append(value)\n",
    "            properties[prop_id] = values\n",
    "\n",
    "        return properties\n",
    "    else:\n",
    "        print(f\"Error: {response.status_code}\")\n",
    "        return {}\n",
    "\n",
    "# Example usage\n",
    "wikidata_id = \"Q2336243\"\n",
    "properties = get_all_properties(wikidata_id)\n",
    "print(f\"Properties for {wikidata_id}:\")\n",
    "for prop, values in properties.items():\n",
    "    print(f\"  {prop}: {values}\")\n"
   ],
   "id": "bbd4970c07fae21e",
   "outputs": [
    {
     "name": "stdout",
     "output_type": "stream",
     "text": [
      "Properties for Q2336243:\n",
      "  P646: ['/m/060k48']\n",
      "  P625: [{'latitude': 31.7994, 'longitude': 35.2281, 'altitude': None, 'precision': 0.1056968084263, 'globe': 'http://www.wikidata.org/entity/Q2'}]\n",
      "  P31: ['Q178561', 'Q486972']\n",
      "  P276: ['Q28726967']\n",
      "  P361: ['Q49077']\n",
      "  P373: ['Ammunition Hill']\n",
      "  P585: [{'time': '+1967-06-06T00:00:00Z', 'timezone': 0, 'before': 0, 'after': 0, 'precision': 11, 'calendarmodel': 'http://www.wikidata.org/entity/Q1985727'}]\n",
      "  P2186: ['IL-2-3000-585']\n",
      "  P17: ['Q801', 'Q810']\n",
      "  P8933: ['Q104437271']\n",
      "  P18: ['Ammunition Hill P1000932.JPG']\n"
     ]
    }
   ],
   "execution_count": 73
  },
  {
   "metadata": {
    "ExecuteTime": {
     "end_time": "2024-12-24T21:56:55.226949Z",
     "start_time": "2024-12-24T21:56:54.713019Z"
    }
   },
   "cell_type": "code",
   "source": [
    "import requests\n",
    "\n",
    "def get_instance_of(wikidata_id):\n",
    "    \"\"\"\n",
    "    Retrieve the 'instance of' (P31) values for a given Wikidata ID.\n",
    "    \n",
    "    :param wikidata_id: Wikidata ID (e.g., Q2336243)\n",
    "    :return: List of 'instance of' values (Q-IDs)\n",
    "    \"\"\"\n",
    "    url = \"https://www.wikidata.org/w/api.php\"\n",
    "    params = {\n",
    "        \"action\": \"wbgetentities\",\n",
    "        \"ids\": wikidata_id,\n",
    "        \"props\": \"claims\",\n",
    "        \"format\": \"json\"\n",
    "    }\n",
    "\n",
    "    response = requests.get(url, params=params)\n",
    "\n",
    "    if response.status_code == 200:\n",
    "        data = response.json()\n",
    "        claims = data.get(\"entities\", {}).get(wikidata_id, {}).get(\"claims\", {})\n",
    "        instance_of = []\n",
    "\n",
    "        if \"P31\" in claims:  # Check if P31 exists\n",
    "            for claim in claims[\"P31\"]:\n",
    "                if \"datavalue\" in claim[\"mainsnak\"]:\n",
    "                    value = claim[\"mainsnak\"][\"datavalue\"][\"value\"]\n",
    "                    if isinstance(value, dict) and \"id\" in value:\n",
    "                        instance_of.append(value[\"id\"])\n",
    "        \n",
    "        return instance_of\n",
    "    else:\n",
    "        print(f\"Error: {response.status_code}\")\n",
    "        return []\n",
    "\n",
    "# Example usage\n",
    "wikidata_id = \"Q2336243\"\n",
    "instances = get_instance_of(wikidata_id)\n",
    "print(f\"'Instance of' for {wikidata_id}: {instances}\")\n"
   ],
   "id": "d855ad743041720c",
   "outputs": [
    {
     "name": "stdout",
     "output_type": "stream",
     "text": [
      "'Instance of' for Q2336243: ['Q178561', 'Q486972']\n"
     ]
    }
   ],
   "execution_count": 74
  },
  {
   "metadata": {},
   "cell_type": "code",
   "outputs": [],
   "execution_count": null,
   "source": "",
   "id": "e8cc8df87541c51d"
  }
 ],
 "metadata": {
  "kernelspec": {
   "display_name": "Python 3",
   "language": "python",
   "name": "python3"
  },
  "language_info": {
   "codemirror_mode": {
    "name": "ipython",
    "version": 2
   },
   "file_extension": ".py",
   "mimetype": "text/x-python",
   "name": "python",
   "nbconvert_exporter": "python",
   "pygments_lexer": "ipython2",
   "version": "2.7.6"
  }
 },
 "nbformat": 4,
 "nbformat_minor": 5
}
